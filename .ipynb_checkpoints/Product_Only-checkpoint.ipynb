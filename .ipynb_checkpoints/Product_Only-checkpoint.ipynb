{
 "cells": [
  {
   "cell_type": "markdown",
   "id": "3036c813",
   "metadata": {},
   "source": [
    "# Business Understanding"
   ]
  },
  {
   "cell_type": "markdown",
   "id": "b4ae32d7",
   "metadata": {},
   "source": [
    "Dataset ini berisikan data penjualan E-commerce dari tahun 2016-2017, detail produk yang terjual, geografi customer dan informasi pembayaran.\n",
    "\n",
    "Pada tahun 2017-2018 mengalami penurunan peningkatan penjualan daripada tahun 2016-2017. Penurunan tersebut sampai `$751.050.560`. Oleh karena itu perusahaan ingin meningkatkan penjualan dengan membuat strategi marketing yang lebih efektif dan efisien. Sebagai tim data scientist saya akan membuat customer segmentasi berdasarkan shopping behavior : `product_category`,`recency`, `frequency` dan `monetary` untuk membantu tim marketing mengklasifikasikan customer."
   ]
  },
  {
   "cell_type": "markdown",
   "id": "59f46137-736e-433e-81f0-d1b37868bb5f",
   "metadata": {
    "jp-MarkdownHeadingCollapsed": true,
    "tags": []
   },
   "source": [
    "# Import Libraries"
   ]
  },
  {
   "cell_type": "code",
   "execution_count": 128,
   "id": "4c9f37ea-833e-4984-b358-1ccd0256fd4b",
   "metadata": {},
   "outputs": [],
   "source": [
    "import pandas as pd\n",
    "import numpy as np\n",
    "import matplotlib.pyplot as plt\n",
    "import seaborn as sns"
   ]
  },
  {
   "cell_type": "code",
   "execution_count": 129,
   "id": "87b5f1a0-4add-444b-ac2b-425c9fbd3147",
   "metadata": {},
   "outputs": [],
   "source": [
    "customer = pd.read_csv('customers_dataset.csv')\n",
    "geolocation = pd.read_csv('geolocation_dataset.csv')\n",
    "order_items = pd.read_csv('order_items_dataset.csv')\n",
    "order_payments = pd.read_csv('order_payments_dataset.csv')\n",
    "orders = pd.read_csv('orders_dataset.csv')\n",
    "product_cat_name = pd.read_csv('product_category_name_translation.csv')\n",
    "products = pd.read_csv('products_dataset.csv')\n",
    "sellers = pd.read_csv('sellers_dataset.csv')\n",
    "order_review = pd.read_csv('order_reviews_dataset.csv')"
   ]
  },
  {
   "cell_type": "markdown",
   "id": "327739f0-b506-42e2-9171-e7d1f600fced",
   "metadata": {
    "jp-MarkdownHeadingCollapsed": true,
    "tags": []
   },
   "source": [
    "# Create Table Aggregate"
   ]
  },
  {
   "cell_type": "markdown",
   "id": "594fcf8d-7c1a-4334-b10e-c35e9d23ee48",
   "metadata": {
    "jp-MarkdownHeadingCollapsed": true,
    "tags": []
   },
   "source": [
    "## Join Required Table"
   ]
  },
  {
   "cell_type": "code",
   "execution_count": 130,
   "id": "230e331e-1452-4ce7-a3d4-234e6833ad7a",
   "metadata": {},
   "outputs": [],
   "source": [
    "import warnings\n",
    "warnings.filterwarnings(\"ignore\")"
   ]
  },
  {
   "cell_type": "code",
   "execution_count": 131,
   "id": "6881cfc6-d741-4d12-8a1e-e456db9eae70",
   "metadata": {},
   "outputs": [],
   "source": [
    "agg_table = orders[['order_id','order_purchase_timestamp','customer_id']].merge(order_items[['order_id','price','product_id','freight_value','order_item_id']],how='right',on='order_id')"
   ]
  },
  {
   "cell_type": "code",
   "execution_count": 132,
   "id": "c7393de2-000f-487f-8ae1-453051bb25f2",
   "metadata": {},
   "outputs": [],
   "source": [
    "agg_table = agg_table.merge(products[['product_id','product_category_name']],how='left',on='product_id')"
   ]
  },
  {
   "cell_type": "code",
   "execution_count": 133,
   "id": "60d77610-49df-4995-8bff-87d01b10e058",
   "metadata": {},
   "outputs": [],
   "source": [
    "agg_table = agg_table.merge(product_cat_name,how='left',on='product_category_name')"
   ]
  },
  {
   "cell_type": "code",
   "execution_count": 134,
   "id": "7f88ba7f-91f9-4424-a3a1-1423f0223b90",
   "metadata": {},
   "outputs": [],
   "source": [
    "agg_table = agg_table.merge(customer,how='left',on='customer_id')"
   ]
  },
  {
   "cell_type": "code",
   "execution_count": 135,
   "id": "330081df-6736-440f-8f02-5d65f41aebae",
   "metadata": {},
   "outputs": [],
   "source": [
    "agg_table = agg_table.merge(order_payments[['payment_type','payment_installments','payment_value','order_id']],how='left',on='order_id')"
   ]
  },
  {
   "cell_type": "code",
   "execution_count": 136,
   "id": "5054c3f7-279f-45b2-a6c0-56d461ab234a",
   "metadata": {},
   "outputs": [
    {
     "name": "stdout",
     "output_type": "stream",
     "text": [
      "<class 'pandas.core.frame.DataFrame'>\n",
      "Int64Index: 117604 entries, 0 to 117603\n",
      "Data columns (total 16 columns):\n",
      " #   Column                         Non-Null Count   Dtype  \n",
      "---  ------                         --------------   -----  \n",
      " 0   order_id                       117604 non-null  object \n",
      " 1   order_purchase_timestamp       117604 non-null  object \n",
      " 2   customer_id                    117604 non-null  object \n",
      " 3   price                          117604 non-null  float64\n",
      " 4   product_id                     117604 non-null  object \n",
      " 5   freight_value                  117604 non-null  float64\n",
      " 6   order_item_id                  117604 non-null  int64  \n",
      " 7   product_category_name          115906 non-null  object \n",
      " 8   product_category_name_english  115881 non-null  object \n",
      " 9   customer_unique_id             117604 non-null  object \n",
      " 10  customer_zip_code_prefix       117604 non-null  int64  \n",
      " 11  customer_city                  117604 non-null  object \n",
      " 12  customer_state                 117604 non-null  object \n",
      " 13  payment_type                   117601 non-null  object \n",
      " 14  payment_installments           117601 non-null  float64\n",
      " 15  payment_value                  117601 non-null  float64\n",
      "dtypes: float64(4), int64(2), object(10)\n",
      "memory usage: 15.3+ MB\n"
     ]
    }
   ],
   "source": [
    "agg_table.info()"
   ]
  },
  {
   "cell_type": "code",
   "execution_count": 137,
   "id": "39634f3a-cb28-4db4-982c-066e9e5853de",
   "metadata": {},
   "outputs": [
    {
     "data": {
      "text/plain": [
       "Index(['order_id', 'order_purchase_timestamp', 'customer_id', 'price',\n",
       "       'product_id', 'freight_value', 'order_item_id', 'product_category_name',\n",
       "       'product_category_name_english', 'customer_unique_id',\n",
       "       'customer_zip_code_prefix', 'customer_city', 'customer_state',\n",
       "       'payment_type', 'payment_installments', 'payment_value'],\n",
       "      dtype='object')"
      ]
     },
     "execution_count": 137,
     "metadata": {},
     "output_type": "execute_result"
    }
   ],
   "source": [
    "agg_table.columns"
   ]
  },
  {
   "cell_type": "markdown",
   "id": "5f2b9e0c-aaff-4b3a-9d93-9a3b14e29063",
   "metadata": {
    "jp-MarkdownHeadingCollapsed": true,
    "tags": []
   },
   "source": [
    "## Determine Unique Key for Customer"
   ]
  },
  {
   "cell_type": "code",
   "execution_count": 138,
   "id": "e662121b-0a9f-4470-be14-c20019e5c640",
   "metadata": {},
   "outputs": [
    {
     "data": {
      "text/html": [
       "<div>\n",
       "<style scoped>\n",
       "    .dataframe tbody tr th:only-of-type {\n",
       "        vertical-align: middle;\n",
       "    }\n",
       "\n",
       "    .dataframe tbody tr th {\n",
       "        vertical-align: top;\n",
       "    }\n",
       "\n",
       "    .dataframe thead th {\n",
       "        text-align: right;\n",
       "    }\n",
       "</style>\n",
       "<table border=\"1\" class=\"dataframe\">\n",
       "  <thead>\n",
       "    <tr style=\"text-align: right;\">\n",
       "      <th></th>\n",
       "      <th>customer_id</th>\n",
       "      <th>customer_unique_id</th>\n",
       "    </tr>\n",
       "  </thead>\n",
       "  <tbody>\n",
       "    <tr>\n",
       "      <th>0</th>\n",
       "      <td>00012a2ce6f8dcda20d059ce98491703</td>\n",
       "      <td>1</td>\n",
       "    </tr>\n",
       "    <tr>\n",
       "      <th>65713</th>\n",
       "      <td>aa33d697a2f5ee04aae5e9a8227e913e</td>\n",
       "      <td>1</td>\n",
       "    </tr>\n",
       "    <tr>\n",
       "      <th>65783</th>\n",
       "      <td>aa5f8aa4c21fe89a04e8d221d4cd8ac1</td>\n",
       "      <td>1</td>\n",
       "    </tr>\n",
       "    <tr>\n",
       "      <th>65782</th>\n",
       "      <td>aa5f87b79875f43b90b310decb62356e</td>\n",
       "      <td>1</td>\n",
       "    </tr>\n",
       "    <tr>\n",
       "      <th>65781</th>\n",
       "      <td>aa5f5931b8901ae1ca4b8302f9b94c02</td>\n",
       "      <td>1</td>\n",
       "    </tr>\n",
       "    <tr>\n",
       "      <th>...</th>\n",
       "      <td>...</td>\n",
       "      <td>...</td>\n",
       "    </tr>\n",
       "    <tr>\n",
       "      <th>32886</th>\n",
       "      <td>5582a1c42a6723f0fdbb6dccb54693ae</td>\n",
       "      <td>1</td>\n",
       "    </tr>\n",
       "    <tr>\n",
       "      <th>32885</th>\n",
       "      <td>5581f26ba2dcb90e8c250e0850c66172</td>\n",
       "      <td>1</td>\n",
       "    </tr>\n",
       "    <tr>\n",
       "      <th>32884</th>\n",
       "      <td>55814b1c0dcf038f760c8f30b1b1d430</td>\n",
       "      <td>1</td>\n",
       "    </tr>\n",
       "    <tr>\n",
       "      <th>32883</th>\n",
       "      <td>5581302de852c09823ec2e0fd3c46d82</td>\n",
       "      <td>1</td>\n",
       "    </tr>\n",
       "    <tr>\n",
       "      <th>98665</th>\n",
       "      <td>ffffa3172527f765de70084a7e53aae8</td>\n",
       "      <td>1</td>\n",
       "    </tr>\n",
       "  </tbody>\n",
       "</table>\n",
       "<p>98666 rows × 2 columns</p>\n",
       "</div>"
      ],
      "text/plain": [
       "                            customer_id  customer_unique_id\n",
       "0      00012a2ce6f8dcda20d059ce98491703                   1\n",
       "65713  aa33d697a2f5ee04aae5e9a8227e913e                   1\n",
       "65783  aa5f8aa4c21fe89a04e8d221d4cd8ac1                   1\n",
       "65782  aa5f87b79875f43b90b310decb62356e                   1\n",
       "65781  aa5f5931b8901ae1ca4b8302f9b94c02                   1\n",
       "...                                 ...                 ...\n",
       "32886  5582a1c42a6723f0fdbb6dccb54693ae                   1\n",
       "32885  5581f26ba2dcb90e8c250e0850c66172                   1\n",
       "32884  55814b1c0dcf038f760c8f30b1b1d430                   1\n",
       "32883  5581302de852c09823ec2e0fd3c46d82                   1\n",
       "98665  ffffa3172527f765de70084a7e53aae8                   1\n",
       "\n",
       "[98666 rows x 2 columns]"
      ]
     },
     "execution_count": 138,
     "metadata": {},
     "output_type": "execute_result"
    }
   ],
   "source": [
    "agg_table.groupby('customer_id')['customer_unique_id'].nunique().reset_index().sort_values('customer_unique_id',ascending=False)"
   ]
  },
  {
   "cell_type": "code",
   "execution_count": 139,
   "id": "d2944bee-6eba-427c-8a2c-1769d571df92",
   "metadata": {},
   "outputs": [
    {
     "data": {
      "text/html": [
       "<div>\n",
       "<style scoped>\n",
       "    .dataframe tbody tr th:only-of-type {\n",
       "        vertical-align: middle;\n",
       "    }\n",
       "\n",
       "    .dataframe tbody tr th {\n",
       "        vertical-align: top;\n",
       "    }\n",
       "\n",
       "    .dataframe thead th {\n",
       "        text-align: right;\n",
       "    }\n",
       "</style>\n",
       "<table border=\"1\" class=\"dataframe\">\n",
       "  <thead>\n",
       "    <tr style=\"text-align: right;\">\n",
       "      <th></th>\n",
       "      <th>customer_unique_id</th>\n",
       "      <th>customer_id</th>\n",
       "    </tr>\n",
       "  </thead>\n",
       "  <tbody>\n",
       "    <tr>\n",
       "      <th>52597</th>\n",
       "      <td>8d50f5eadf50201ccdcedfb9e2ac8455</td>\n",
       "      <td>16</td>\n",
       "    </tr>\n",
       "    <tr>\n",
       "      <th>23302</th>\n",
       "      <td>3e43e6105506432c953e165fb2acf44c</td>\n",
       "      <td>9</td>\n",
       "    </tr>\n",
       "    <tr>\n",
       "      <th>10281</th>\n",
       "      <td>1b6c7548a2a1f9037c1fd3ddfed95f33</td>\n",
       "      <td>7</td>\n",
       "    </tr>\n",
       "    <tr>\n",
       "      <th>37532</th>\n",
       "      <td>6469f99c1f9dfae7733b25662e7f1782</td>\n",
       "      <td>7</td>\n",
       "    </tr>\n",
       "    <tr>\n",
       "      <th>75560</th>\n",
       "      <td>ca77025e7201e3b30c44b472ff346268</td>\n",
       "      <td>7</td>\n",
       "    </tr>\n",
       "    <tr>\n",
       "      <th>...</th>\n",
       "      <td>...</td>\n",
       "      <td>...</td>\n",
       "    </tr>\n",
       "    <tr>\n",
       "      <th>32272</th>\n",
       "      <td>5657f9f721c16800a66c21081d46b18d</td>\n",
       "      <td>1</td>\n",
       "    </tr>\n",
       "    <tr>\n",
       "      <th>32271</th>\n",
       "      <td>5657dfebff5868c4dc7e8355fea865c4</td>\n",
       "      <td>1</td>\n",
       "    </tr>\n",
       "    <tr>\n",
       "      <th>32270</th>\n",
       "      <td>5657596addb4d7b07b32cd330614bdf8</td>\n",
       "      <td>1</td>\n",
       "    </tr>\n",
       "    <tr>\n",
       "      <th>32269</th>\n",
       "      <td>5656eb169546146caeab56c3ffc3d268</td>\n",
       "      <td>1</td>\n",
       "    </tr>\n",
       "    <tr>\n",
       "      <th>95419</th>\n",
       "      <td>ffffd2657e2aad2907e67c3e9daecbeb</td>\n",
       "      <td>1</td>\n",
       "    </tr>\n",
       "  </tbody>\n",
       "</table>\n",
       "<p>95420 rows × 2 columns</p>\n",
       "</div>"
      ],
      "text/plain": [
       "                     customer_unique_id  customer_id\n",
       "52597  8d50f5eadf50201ccdcedfb9e2ac8455           16\n",
       "23302  3e43e6105506432c953e165fb2acf44c            9\n",
       "10281  1b6c7548a2a1f9037c1fd3ddfed95f33            7\n",
       "37532  6469f99c1f9dfae7733b25662e7f1782            7\n",
       "75560  ca77025e7201e3b30c44b472ff346268            7\n",
       "...                                 ...          ...\n",
       "32272  5657f9f721c16800a66c21081d46b18d            1\n",
       "32271  5657dfebff5868c4dc7e8355fea865c4            1\n",
       "32270  5657596addb4d7b07b32cd330614bdf8            1\n",
       "32269  5656eb169546146caeab56c3ffc3d268            1\n",
       "95419  ffffd2657e2aad2907e67c3e9daecbeb            1\n",
       "\n",
       "[95420 rows x 2 columns]"
      ]
     },
     "execution_count": 139,
     "metadata": {},
     "output_type": "execute_result"
    }
   ],
   "source": [
    "agg_table.groupby('customer_unique_id')['customer_id'].nunique().reset_index().sort_values('customer_id',ascending=False)"
   ]
  },
  {
   "cell_type": "markdown",
   "id": "d18dd17f-3f1b-4bc4-a2df-2c4a0d06e88b",
   "metadata": {},
   "source": [
    "customer_unique_id is choosen to be unique key for customer "
   ]
  },
  {
   "cell_type": "code",
   "execution_count": 140,
   "id": "637fdd7b-91d6-4396-ab3b-1c4b5a0bf16d",
   "metadata": {},
   "outputs": [],
   "source": [
    "agg_table.drop('customer_id',axis=1,inplace=True)"
   ]
  },
  {
   "cell_type": "markdown",
   "id": "14fd1dd0-08a1-46f6-9271-f7645c2e1418",
   "metadata": {
    "jp-MarkdownHeadingCollapsed": true,
    "tags": []
   },
   "source": [
    "# Feature Engineering"
   ]
  },
  {
   "cell_type": "markdown",
   "id": "d5429faf-3852-46ec-9b23-08db64016783",
   "metadata": {
    "tags": []
   },
   "source": [
    "## Recency"
   ]
  },
  {
   "cell_type": "code",
   "execution_count": 141,
   "id": "a008845b-973d-4c81-8fbc-82a44b355d75",
   "metadata": {},
   "outputs": [],
   "source": [
    "agg_table['order_purchase_timestamp'] = pd.to_datetime(agg_table['order_purchase_timestamp'])"
   ]
  },
  {
   "cell_type": "code",
   "execution_count": 142,
   "id": "91a50686-ea7b-462a-9a20-21a1daa0f72f",
   "metadata": {},
   "outputs": [
    {
     "data": {
      "text/plain": [
       "Timestamp('2018-09-03 09:06:57')"
      ]
     },
     "execution_count": 142,
     "metadata": {},
     "output_type": "execute_result"
    }
   ],
   "source": [
    "max_date = max(agg_table['order_purchase_timestamp'])\n",
    "max_date"
   ]
  },
  {
   "cell_type": "code",
   "execution_count": 143,
   "id": "37b57710-7983-482f-ae22-f689c8495608",
   "metadata": {},
   "outputs": [],
   "source": [
    "agg_table['recency'] = agg_table['order_purchase_timestamp'].apply(lambda x:(max_date-x).days)"
   ]
  },
  {
   "cell_type": "code",
   "execution_count": 144,
   "id": "eafc4496-9cc6-4868-a4c0-db3687c3330f",
   "metadata": {},
   "outputs": [
    {
     "data": {
      "text/plain": [
       "282    1321\n",
       "283     543\n",
       "281     542\n",
       "280     487\n",
       "279     475\n",
       "       ... \n",
       "728       3\n",
       "717       3\n",
       "0         1\n",
       "700       1\n",
       "618       1\n",
       "Name: recency, Length: 615, dtype: int64"
      ]
     },
     "execution_count": 144,
     "metadata": {},
     "output_type": "execute_result"
    }
   ],
   "source": [
    "agg_table['recency'].value_counts()"
   ]
  },
  {
   "cell_type": "code",
   "execution_count": 145,
   "id": "4b44ff49-a456-4b8c-a084-04c536f51bbe",
   "metadata": {},
   "outputs": [],
   "source": [
    "recency = agg_table.groupby('customer_unique_id')['recency'].min().reset_index()"
   ]
  },
  {
   "cell_type": "code",
   "execution_count": 146,
   "id": "f613d98d-f29e-4e3b-9b70-de451f9ebbb4",
   "metadata": {},
   "outputs": [
    {
     "data": {
      "text/html": [
       "<div>\n",
       "<style scoped>\n",
       "    .dataframe tbody tr th:only-of-type {\n",
       "        vertical-align: middle;\n",
       "    }\n",
       "\n",
       "    .dataframe tbody tr th {\n",
       "        vertical-align: top;\n",
       "    }\n",
       "\n",
       "    .dataframe thead th {\n",
       "        text-align: right;\n",
       "    }\n",
       "</style>\n",
       "<table border=\"1\" class=\"dataframe\">\n",
       "  <thead>\n",
       "    <tr style=\"text-align: right;\">\n",
       "      <th></th>\n",
       "      <th>order_id</th>\n",
       "      <th>order_purchase_timestamp</th>\n",
       "      <th>price</th>\n",
       "      <th>product_id</th>\n",
       "      <th>freight_value</th>\n",
       "      <th>order_item_id</th>\n",
       "      <th>product_category_name</th>\n",
       "      <th>product_category_name_english</th>\n",
       "      <th>customer_unique_id</th>\n",
       "      <th>customer_zip_code_prefix</th>\n",
       "      <th>customer_city</th>\n",
       "      <th>customer_state</th>\n",
       "      <th>payment_type</th>\n",
       "      <th>payment_installments</th>\n",
       "      <th>payment_value</th>\n",
       "      <th>recency</th>\n",
       "    </tr>\n",
       "  </thead>\n",
       "  <tbody>\n",
       "    <tr>\n",
       "      <th>0</th>\n",
       "      <td>00010242fe8c5a6d1ba2dd792cb16214</td>\n",
       "      <td>2017-09-13 08:59:02</td>\n",
       "      <td>58.90</td>\n",
       "      <td>4244733e06e7ecb4970a6e2683c13e61</td>\n",
       "      <td>13.29</td>\n",
       "      <td>1</td>\n",
       "      <td>cool_stuff</td>\n",
       "      <td>cool_stuff</td>\n",
       "      <td>871766c5855e863f6eccc05f988b23cb</td>\n",
       "      <td>28013</td>\n",
       "      <td>campos dos goytacazes</td>\n",
       "      <td>RJ</td>\n",
       "      <td>credit_card</td>\n",
       "      <td>2.0</td>\n",
       "      <td>72.19</td>\n",
       "      <td>355</td>\n",
       "    </tr>\n",
       "    <tr>\n",
       "      <th>1</th>\n",
       "      <td>00018f77f2f0320c557190d7a144bdd3</td>\n",
       "      <td>2017-04-26 10:53:06</td>\n",
       "      <td>239.90</td>\n",
       "      <td>e5f2d52b802189ee658865ca93d83a8f</td>\n",
       "      <td>19.93</td>\n",
       "      <td>1</td>\n",
       "      <td>pet_shop</td>\n",
       "      <td>pet_shop</td>\n",
       "      <td>eb28e67c4c0b83846050ddfb8a35d051</td>\n",
       "      <td>15775</td>\n",
       "      <td>santa fe do sul</td>\n",
       "      <td>SP</td>\n",
       "      <td>credit_card</td>\n",
       "      <td>3.0</td>\n",
       "      <td>259.83</td>\n",
       "      <td>349</td>\n",
       "    </tr>\n",
       "    <tr>\n",
       "      <th>2</th>\n",
       "      <td>000229ec398224ef6ca0657da4fc703e</td>\n",
       "      <td>2018-01-14 14:33:31</td>\n",
       "      <td>199.00</td>\n",
       "      <td>c777355d18b72b67abbeef9df44fd0fd</td>\n",
       "      <td>17.87</td>\n",
       "      <td>1</td>\n",
       "      <td>moveis_decoracao</td>\n",
       "      <td>furniture_decor</td>\n",
       "      <td>3818d81c6709e39d06b2738a8d3a2474</td>\n",
       "      <td>35661</td>\n",
       "      <td>para de minas</td>\n",
       "      <td>MG</td>\n",
       "      <td>credit_card</td>\n",
       "      <td>5.0</td>\n",
       "      <td>216.87</td>\n",
       "      <td>231</td>\n",
       "    </tr>\n",
       "    <tr>\n",
       "      <th>3</th>\n",
       "      <td>00024acbcdf0a6daa1e931b038114c75</td>\n",
       "      <td>2018-08-08 10:00:35</td>\n",
       "      <td>12.99</td>\n",
       "      <td>7634da152a4610f1595efa32f14722fc</td>\n",
       "      <td>12.79</td>\n",
       "      <td>1</td>\n",
       "      <td>perfumaria</td>\n",
       "      <td>perfumery</td>\n",
       "      <td>af861d436cfc08b2c2ddefd0ba074622</td>\n",
       "      <td>12952</td>\n",
       "      <td>atibaia</td>\n",
       "      <td>SP</td>\n",
       "      <td>credit_card</td>\n",
       "      <td>2.0</td>\n",
       "      <td>25.78</td>\n",
       "      <td>25</td>\n",
       "    </tr>\n",
       "    <tr>\n",
       "      <th>4</th>\n",
       "      <td>00042b26cf59d7ce69dfabb4e55b4fd9</td>\n",
       "      <td>2017-02-04 13:57:51</td>\n",
       "      <td>199.90</td>\n",
       "      <td>ac6c3623068f30de03045865e4e10089</td>\n",
       "      <td>18.14</td>\n",
       "      <td>1</td>\n",
       "      <td>ferramentas_jardim</td>\n",
       "      <td>garden_tools</td>\n",
       "      <td>64b576fb70d441e8f1b2d7d446e483c5</td>\n",
       "      <td>13226</td>\n",
       "      <td>varzea paulista</td>\n",
       "      <td>SP</td>\n",
       "      <td>credit_card</td>\n",
       "      <td>3.0</td>\n",
       "      <td>218.04</td>\n",
       "      <td>575</td>\n",
       "    </tr>\n",
       "    <tr>\n",
       "      <th>...</th>\n",
       "      <td>...</td>\n",
       "      <td>...</td>\n",
       "      <td>...</td>\n",
       "      <td>...</td>\n",
       "      <td>...</td>\n",
       "      <td>...</td>\n",
       "      <td>...</td>\n",
       "      <td>...</td>\n",
       "      <td>...</td>\n",
       "      <td>...</td>\n",
       "      <td>...</td>\n",
       "      <td>...</td>\n",
       "      <td>...</td>\n",
       "      <td>...</td>\n",
       "      <td>...</td>\n",
       "      <td>...</td>\n",
       "    </tr>\n",
       "    <tr>\n",
       "      <th>117599</th>\n",
       "      <td>fffc94f6ce00a00581880bf54a75a037</td>\n",
       "      <td>2018-04-23 13:57:06</td>\n",
       "      <td>299.99</td>\n",
       "      <td>4aa6014eceb682077f9dc4bffebc05b0</td>\n",
       "      <td>43.41</td>\n",
       "      <td>1</td>\n",
       "      <td>utilidades_domesticas</td>\n",
       "      <td>housewares</td>\n",
       "      <td>0c9aeda10a71f369396d0c04dce13a64</td>\n",
       "      <td>65077</td>\n",
       "      <td>sao luis</td>\n",
       "      <td>MA</td>\n",
       "      <td>boleto</td>\n",
       "      <td>1.0</td>\n",
       "      <td>343.40</td>\n",
       "      <td>132</td>\n",
       "    </tr>\n",
       "    <tr>\n",
       "      <th>117600</th>\n",
       "      <td>fffcd46ef2263f404302a634eb57f7eb</td>\n",
       "      <td>2018-07-14 10:26:46</td>\n",
       "      <td>350.00</td>\n",
       "      <td>32e07fd915822b0765e448c4dd74c828</td>\n",
       "      <td>36.53</td>\n",
       "      <td>1</td>\n",
       "      <td>informatica_acessorios</td>\n",
       "      <td>computers_accessories</td>\n",
       "      <td>0da9fe112eae0c74d3ba1fe16de0988b</td>\n",
       "      <td>81690</td>\n",
       "      <td>curitiba</td>\n",
       "      <td>PR</td>\n",
       "      <td>boleto</td>\n",
       "      <td>1.0</td>\n",
       "      <td>386.53</td>\n",
       "      <td>50</td>\n",
       "    </tr>\n",
       "    <tr>\n",
       "      <th>117601</th>\n",
       "      <td>fffce4705a9662cd70adb13d4a31832d</td>\n",
       "      <td>2017-10-23 17:07:56</td>\n",
       "      <td>99.90</td>\n",
       "      <td>72a30483855e2eafc67aee5dc2560482</td>\n",
       "      <td>16.95</td>\n",
       "      <td>1</td>\n",
       "      <td>esporte_lazer</td>\n",
       "      <td>sports_leisure</td>\n",
       "      <td>cd79b407828f02fdbba457111c38e4c4</td>\n",
       "      <td>4039</td>\n",
       "      <td>sao paulo</td>\n",
       "      <td>SP</td>\n",
       "      <td>credit_card</td>\n",
       "      <td>3.0</td>\n",
       "      <td>116.85</td>\n",
       "      <td>314</td>\n",
       "    </tr>\n",
       "    <tr>\n",
       "      <th>117602</th>\n",
       "      <td>fffe18544ffabc95dfada21779c9644f</td>\n",
       "      <td>2017-08-14 23:02:59</td>\n",
       "      <td>55.99</td>\n",
       "      <td>9c422a519119dcad7575db5af1ba540e</td>\n",
       "      <td>8.72</td>\n",
       "      <td>1</td>\n",
       "      <td>informatica_acessorios</td>\n",
       "      <td>computers_accessories</td>\n",
       "      <td>eb803377c9315b564bdedad672039306</td>\n",
       "      <td>13289</td>\n",
       "      <td>vinhedo</td>\n",
       "      <td>SP</td>\n",
       "      <td>credit_card</td>\n",
       "      <td>3.0</td>\n",
       "      <td>64.71</td>\n",
       "      <td>384</td>\n",
       "    </tr>\n",
       "    <tr>\n",
       "      <th>117603</th>\n",
       "      <td>fffe41c64501cc87c801fd61db3f6244</td>\n",
       "      <td>2018-06-09 17:00:18</td>\n",
       "      <td>43.00</td>\n",
       "      <td>350688d9dc1e75ff97be326363655e01</td>\n",
       "      <td>12.79</td>\n",
       "      <td>1</td>\n",
       "      <td>cama_mesa_banho</td>\n",
       "      <td>bed_bath_table</td>\n",
       "      <td>cd76a00d8e3ca5e6ab9ed9ecb6667ac4</td>\n",
       "      <td>18605</td>\n",
       "      <td>botucatu</td>\n",
       "      <td>SP</td>\n",
       "      <td>credit_card</td>\n",
       "      <td>1.0</td>\n",
       "      <td>55.79</td>\n",
       "      <td>85</td>\n",
       "    </tr>\n",
       "  </tbody>\n",
       "</table>\n",
       "<p>117604 rows × 16 columns</p>\n",
       "</div>"
      ],
      "text/plain": [
       "                                order_id order_purchase_timestamp   price  \\\n",
       "0       00010242fe8c5a6d1ba2dd792cb16214      2017-09-13 08:59:02   58.90   \n",
       "1       00018f77f2f0320c557190d7a144bdd3      2017-04-26 10:53:06  239.90   \n",
       "2       000229ec398224ef6ca0657da4fc703e      2018-01-14 14:33:31  199.00   \n",
       "3       00024acbcdf0a6daa1e931b038114c75      2018-08-08 10:00:35   12.99   \n",
       "4       00042b26cf59d7ce69dfabb4e55b4fd9      2017-02-04 13:57:51  199.90   \n",
       "...                                  ...                      ...     ...   \n",
       "117599  fffc94f6ce00a00581880bf54a75a037      2018-04-23 13:57:06  299.99   \n",
       "117600  fffcd46ef2263f404302a634eb57f7eb      2018-07-14 10:26:46  350.00   \n",
       "117601  fffce4705a9662cd70adb13d4a31832d      2017-10-23 17:07:56   99.90   \n",
       "117602  fffe18544ffabc95dfada21779c9644f      2017-08-14 23:02:59   55.99   \n",
       "117603  fffe41c64501cc87c801fd61db3f6244      2018-06-09 17:00:18   43.00   \n",
       "\n",
       "                              product_id  freight_value  order_item_id  \\\n",
       "0       4244733e06e7ecb4970a6e2683c13e61          13.29              1   \n",
       "1       e5f2d52b802189ee658865ca93d83a8f          19.93              1   \n",
       "2       c777355d18b72b67abbeef9df44fd0fd          17.87              1   \n",
       "3       7634da152a4610f1595efa32f14722fc          12.79              1   \n",
       "4       ac6c3623068f30de03045865e4e10089          18.14              1   \n",
       "...                                  ...            ...            ...   \n",
       "117599  4aa6014eceb682077f9dc4bffebc05b0          43.41              1   \n",
       "117600  32e07fd915822b0765e448c4dd74c828          36.53              1   \n",
       "117601  72a30483855e2eafc67aee5dc2560482          16.95              1   \n",
       "117602  9c422a519119dcad7575db5af1ba540e           8.72              1   \n",
       "117603  350688d9dc1e75ff97be326363655e01          12.79              1   \n",
       "\n",
       "         product_category_name product_category_name_english  \\\n",
       "0                   cool_stuff                    cool_stuff   \n",
       "1                     pet_shop                      pet_shop   \n",
       "2             moveis_decoracao               furniture_decor   \n",
       "3                   perfumaria                     perfumery   \n",
       "4           ferramentas_jardim                  garden_tools   \n",
       "...                        ...                           ...   \n",
       "117599   utilidades_domesticas                    housewares   \n",
       "117600  informatica_acessorios         computers_accessories   \n",
       "117601           esporte_lazer                sports_leisure   \n",
       "117602  informatica_acessorios         computers_accessories   \n",
       "117603         cama_mesa_banho                bed_bath_table   \n",
       "\n",
       "                      customer_unique_id  customer_zip_code_prefix  \\\n",
       "0       871766c5855e863f6eccc05f988b23cb                     28013   \n",
       "1       eb28e67c4c0b83846050ddfb8a35d051                     15775   \n",
       "2       3818d81c6709e39d06b2738a8d3a2474                     35661   \n",
       "3       af861d436cfc08b2c2ddefd0ba074622                     12952   \n",
       "4       64b576fb70d441e8f1b2d7d446e483c5                     13226   \n",
       "...                                  ...                       ...   \n",
       "117599  0c9aeda10a71f369396d0c04dce13a64                     65077   \n",
       "117600  0da9fe112eae0c74d3ba1fe16de0988b                     81690   \n",
       "117601  cd79b407828f02fdbba457111c38e4c4                      4039   \n",
       "117602  eb803377c9315b564bdedad672039306                     13289   \n",
       "117603  cd76a00d8e3ca5e6ab9ed9ecb6667ac4                     18605   \n",
       "\n",
       "                customer_city customer_state payment_type  \\\n",
       "0       campos dos goytacazes             RJ  credit_card   \n",
       "1             santa fe do sul             SP  credit_card   \n",
       "2               para de minas             MG  credit_card   \n",
       "3                     atibaia             SP  credit_card   \n",
       "4             varzea paulista             SP  credit_card   \n",
       "...                       ...            ...          ...   \n",
       "117599               sao luis             MA       boleto   \n",
       "117600               curitiba             PR       boleto   \n",
       "117601              sao paulo             SP  credit_card   \n",
       "117602                vinhedo             SP  credit_card   \n",
       "117603               botucatu             SP  credit_card   \n",
       "\n",
       "        payment_installments  payment_value  recency  \n",
       "0                        2.0          72.19      355  \n",
       "1                        3.0         259.83      349  \n",
       "2                        5.0         216.87      231  \n",
       "3                        2.0          25.78       25  \n",
       "4                        3.0         218.04      575  \n",
       "...                      ...            ...      ...  \n",
       "117599                   1.0         343.40      132  \n",
       "117600                   1.0         386.53       50  \n",
       "117601                   3.0         116.85      314  \n",
       "117602                   3.0          64.71      384  \n",
       "117603                   1.0          55.79       85  \n",
       "\n",
       "[117604 rows x 16 columns]"
      ]
     },
     "execution_count": 146,
     "metadata": {},
     "output_type": "execute_result"
    }
   ],
   "source": [
    "agg_table.drop('recency',axis=1,inplace=True)\n",
    "agg_table = agg_table.merge(recency,how='left',on='customer_unique_id')\n",
    "agg_table"
   ]
  },
  {
   "cell_type": "markdown",
   "id": "ef0bac86-9397-44be-9dad-5dc7d6ead8b9",
   "metadata": {
    "tags": []
   },
   "source": [
    "## Frequency"
   ]
  },
  {
   "cell_type": "code",
   "execution_count": 147,
   "id": "c5fb6585-0f04-4ce0-9713-d02eea3d8992",
   "metadata": {},
   "outputs": [],
   "source": [
    "frequency = agg_table.groupby('customer_unique_id')['order_id'].count().reset_index().sort_values('order_id',ascending=False)\n",
    "frequency['frequency'] = frequency['order_id']\n",
    "frequency.drop('order_id',axis=1,inplace=True)"
   ]
  },
  {
   "cell_type": "code",
   "execution_count": 148,
   "id": "bb3d8d11-4e1c-45c0-bd34-94948d59464b",
   "metadata": {},
   "outputs": [],
   "source": [
    "agg_table = agg_table.merge(frequency,how='left',on='customer_unique_id')"
   ]
  },
  {
   "cell_type": "markdown",
   "id": "ceb2b6ca-e956-4d0c-86fa-d80d05714e3e",
   "metadata": {
    "tags": []
   },
   "source": [
    "## Monetary"
   ]
  },
  {
   "cell_type": "code",
   "execution_count": 149,
   "id": "dd7e24d7-9127-4c74-b104-4f8f52feb00b",
   "metadata": {},
   "outputs": [],
   "source": [
    "monetary = agg_table.groupby('customer_unique_id')['payment_value'].sum().reset_index().sort_values('payment_value',ascending=False)\n",
    "monetary['monetary'] = monetary['payment_value']\n",
    "monetary.drop('payment_value',axis=1,inplace=True)"
   ]
  },
  {
   "cell_type": "code",
   "execution_count": 150,
   "id": "474b71b9-ef23-41cb-ba77-ace51b2f0d2a",
   "metadata": {},
   "outputs": [],
   "source": [
    "agg_table = agg_table.merge(monetary,how='left',on='customer_unique_id')"
   ]
  },
  {
   "cell_type": "markdown",
   "id": "c9321f94",
   "metadata": {},
   "source": [
    "## Product Category"
   ]
  },
  {
   "cell_type": "code",
   "execution_count": 151,
   "id": "d318d891",
   "metadata": {},
   "outputs": [],
   "source": [
    "agg_table.drop('product_category_name',axis=1,inplace=True)\n",
    "agg_table['product_category'] = agg_table['product_category_name_english']\n",
    "agg_table.drop(['product_category_name_english'],axis=1,inplace=True)"
   ]
  },
  {
   "cell_type": "code",
   "execution_count": 152,
   "id": "3f468ca8",
   "metadata": {},
   "outputs": [
    {
     "data": {
      "image/png": "[encoded data removed]",
      "text/plain": [
       "<Figure size 720x1440 with 1 Axes>"
      ]
     },
     "metadata": {
      "needs_background": "light"
     },
     "output_type": "display_data"
    }
   ],
   "source": [
    "category = agg_table.groupby('product_category')['price'].sum().reset_index().sort_values('price',ascending=False)\n",
    "category['%price'] = (category['price']/category['price'].sum())*100\n",
    "plt.figure(figsize=(10,20))\n",
    "sns.barplot(y='product_category',x='%price',data=category)\n",
    "plt.show()"
   ]
  },
  {
   "cell_type": "code",
   "execution_count": 153,
   "id": "b2314cfc",
   "metadata": {},
   "outputs": [
    {
     "data": {
      "text/html": [
       "<div>\n",
       "<style scoped>\n",
       "    .dataframe tbody tr th:only-of-type {\n",
       "        vertical-align: middle;\n",
       "    }\n",
       "\n",
       "    .dataframe tbody tr th {\n",
       "        vertical-align: top;\n",
       "    }\n",
       "\n",
       "    .dataframe thead th {\n",
       "        text-align: right;\n",
       "    }\n",
       "</style>\n",
       "<table border=\"1\" class=\"dataframe\">\n",
       "  <thead>\n",
       "    <tr style=\"text-align: right;\">\n",
       "      <th></th>\n",
       "      <th>product_category</th>\n",
       "      <th>price</th>\n",
       "      <th>%price</th>\n",
       "    </tr>\n",
       "  </thead>\n",
       "  <tbody>\n",
       "    <tr>\n",
       "      <th>43</th>\n",
       "      <td>health_beauty</td>\n",
       "      <td>1297490.77</td>\n",
       "      <td>9.259425</td>\n",
       "    </tr>\n",
       "    <tr>\n",
       "      <th>70</th>\n",
       "      <td>watches_gifts</td>\n",
       "      <td>1253143.30</td>\n",
       "      <td>8.942943</td>\n",
       "    </tr>\n",
       "    <tr>\n",
       "      <th>7</th>\n",
       "      <td>bed_bath_table</td>\n",
       "      <td>1092551.02</td>\n",
       "      <td>7.796891</td>\n",
       "    </tr>\n",
       "    <tr>\n",
       "      <th>65</th>\n",
       "      <td>sports_leisure</td>\n",
       "      <td>1023996.34</td>\n",
       "      <td>7.307657</td>\n",
       "    </tr>\n",
       "    <tr>\n",
       "      <th>15</th>\n",
       "      <td>computers_accessories</td>\n",
       "      <td>942277.57</td>\n",
       "      <td>6.724478</td>\n",
       "    </tr>\n",
       "  </tbody>\n",
       "</table>\n",
       "</div>"
      ],
      "text/plain": [
       "         product_category       price    %price\n",
       "43          health_beauty  1297490.77  9.259425\n",
       "70          watches_gifts  1253143.30  8.942943\n",
       "7          bed_bath_table  1092551.02  7.796891\n",
       "65         sports_leisure  1023996.34  7.307657\n",
       "15  computers_accessories   942277.57  6.724478"
      ]
     },
     "execution_count": 153,
     "metadata": {},
     "output_type": "execute_result"
    }
   ],
   "source": [
    "category[:5]"
   ]
  },
  {
   "cell_type": "code",
   "execution_count": 154,
   "id": "af5118d3",
   "metadata": {},
   "outputs": [
    {
     "data": {
      "text/plain": [
       "40.03139520529996"
      ]
     },
     "execution_count": 154,
     "metadata": {},
     "output_type": "execute_result"
    }
   ],
   "source": [
    "category[:5]['%price'].sum()"
   ]
  },
  {
   "cell_type": "markdown",
   "id": "c626cfa9",
   "metadata": {},
   "source": [
    "**Data Insight**\n",
    "\n",
    "untuk segmentasi akan diambil 5 kategori terbesar karena sudah 40% pemasukan"
   ]
  },
  {
   "cell_type": "markdown",
   "id": "dbd4bd14",
   "metadata": {},
   "source": [
    "### health_beauty"
   ]
  },
  {
   "cell_type": "code",
   "execution_count": 155,
   "id": "a94fa84f",
   "metadata": {},
   "outputs": [],
   "source": [
    "health_beauty = agg_table[agg_table['product_category']=='health_beauty']\n",
    "health_beauty = health_beauty.groupby('customer_unique_id')['price'].sum().reset_index()\n",
    "health_beauty['health_beauty'] = health_beauty['price']\n",
    "health_beauty.drop('price',axis=1,inplace=True)\n",
    "agg_table = agg_table.merge(health_beauty,how='left',on='customer_unique_id')\n",
    "agg_table['health_beauty'].fillna(0,inplace=True)"
   ]
  },
  {
   "cell_type": "markdown",
   "id": "f280c417",
   "metadata": {},
   "source": [
    "## watches_gifts"
   ]
  },
  {
   "cell_type": "code",
   "execution_count": 156,
   "id": "4ec7db67",
   "metadata": {},
   "outputs": [],
   "source": [
    "watches_gifts= agg_table[agg_table['product_category']=='watches_gifts']\n",
    "watches_gifts= watches_gifts.groupby('customer_unique_id')['price'].sum().reset_index()\n",
    "watches_gifts['watches_gifts'] = watches_gifts['price']\n",
    "watches_gifts.drop('price',axis=1,inplace=True)\n",
    "agg_table = agg_table.merge(watches_gifts,how='left',on='customer_unique_id')\n",
    "agg_table['watches_gifts'].fillna(0,inplace=True)"
   ]
  },
  {
   "cell_type": "markdown",
   "id": "bd1ccff2",
   "metadata": {},
   "source": [
    "## bed_bath_table"
   ]
  },
  {
   "cell_type": "code",
   "execution_count": 159,
   "id": "21daa8cf",
   "metadata": {},
   "outputs": [],
   "source": [
    "bed_bath_table= agg_table[agg_table['product_category']=='bed_bath_table']\n",
    "bed_bath_table= bed_bath_table.groupby('customer_unique_id')['price'].sum().reset_index()\n",
    "bed_bath_table['bed_bath_table'] = bed_bath_table['price']\n",
    "bed_bath_table.drop('price',axis=1,inplace=True)\n",
    "agg_table = agg_table.merge(bed_bath_table,how='left',on='customer_unique_id')\n",
    "agg_table['bed_bath_table'].fillna(0,inplace=True)"
   ]
  },
  {
   "cell_type": "markdown",
   "id": "71d7aabb",
   "metadata": {},
   "source": [
    "## sports_leisure"
   ]
  },
  {
   "cell_type": "code",
   "execution_count": 160,
   "id": "ed72d5b5",
   "metadata": {},
   "outputs": [],
   "source": [
    "sports_leisure= agg_table[agg_table['product_category']=='sports_leisure']\n",
    "sports_leisure= sports_leisure.groupby('customer_unique_id')['price'].sum().reset_index()\n",
    "sports_leisure['sports_leisure'] = sports_leisure['price']\n",
    "sports_leisure.drop('price',axis=1,inplace=True)\n",
    "agg_table = agg_table.merge(sports_leisure,how='left',on='customer_unique_id')\n",
    "agg_table['sports_leisure'].fillna(0,inplace=True)"
   ]
  },
  {
   "cell_type": "markdown",
   "id": "8fc191b7",
   "metadata": {},
   "source": [
    "## computers_accessories"
   ]
  },
  {
   "cell_type": "code",
   "execution_count": 161,
   "id": "19e7d48e",
   "metadata": {},
   "outputs": [],
   "source": [
    "computers_accessories= agg_table[agg_table['product_category']=='computers_accessories']\n",
    "computers_accessories= computers_accessories.groupby('customer_unique_id')['price'].sum().reset_index()\n",
    "computers_accessories['computers_accessories'] = computers_accessories['price']\n",
    "computers_accessories.drop('price',axis=1,inplace=True)\n",
    "agg_table = agg_table.merge(computers_accessories,how='left',on='customer_unique_id')\n",
    "agg_table['computers_accessories'].fillna(0,inplace=True)"
   ]
  },
  {
   "cell_type": "markdown",
   "id": "d2e4e68b-ff08-4c49-817a-2655369f6bed",
   "metadata": {
    "jp-MarkdownHeadingCollapsed": true,
    "tags": []
   },
   "source": [
    "# Exploratory Data Analysis"
   ]
  },
  {
   "cell_type": "code",
   "execution_count": 162,
   "id": "3236beee-6583-40f4-9f8f-155e9ec9b053",
   "metadata": {},
   "outputs": [],
   "source": [
    "model_table = agg_table[['customer_unique_id','recency','frequency','monetary','health_beauty','watches_gifts',\n",
    "                         'bed_bath_table','sports_leisure','computers_accessories']]"
   ]
  },
  {
   "cell_type": "code",
   "execution_count": 164,
   "id": "acd2c9b6",
   "metadata": {},
   "outputs": [
    {
     "data": {
      "text/html": [
       "<div>\n",
       "<style scoped>\n",
       "    .dataframe tbody tr th:only-of-type {\n",
       "        vertical-align: middle;\n",
       "    }\n",
       "\n",
       "    .dataframe tbody tr th {\n",
       "        vertical-align: top;\n",
       "    }\n",
       "\n",
       "    .dataframe thead th {\n",
       "        text-align: right;\n",
       "    }\n",
       "</style>\n",
       "<table border=\"1\" class=\"dataframe\">\n",
       "  <thead>\n",
       "    <tr style=\"text-align: right;\">\n",
       "      <th></th>\n",
       "      <th>recency</th>\n",
       "      <th>frequency</th>\n",
       "      <th>monetary</th>\n",
       "      <th>health_beauty</th>\n",
       "      <th>watches_gifts</th>\n",
       "      <th>bed_bath_table</th>\n",
       "      <th>sports_leisure</th>\n",
       "      <th>computers_accessories</th>\n",
       "    </tr>\n",
       "  </thead>\n",
       "  <tbody>\n",
       "    <tr>\n",
       "      <th>count</th>\n",
       "      <td>117604.000000</td>\n",
       "      <td>117604.000000</td>\n",
       "      <td>117604.000000</td>\n",
       "      <td>117604.000000</td>\n",
       "      <td>117604.000000</td>\n",
       "      <td>117604.000000</td>\n",
       "      <td>117604.000000</td>\n",
       "      <td>117604.000000</td>\n",
       "    </tr>\n",
       "    <tr>\n",
       "      <th>mean</th>\n",
       "      <td>242.990944</td>\n",
       "      <td>1.782150</td>\n",
       "      <td>376.087135</td>\n",
       "      <td>14.699860</td>\n",
       "      <td>13.502443</td>\n",
       "      <td>17.206608</td>\n",
       "      <td>12.709391</td>\n",
       "      <td>14.382578</td>\n",
       "    </tr>\n",
       "    <tr>\n",
       "      <th>std</th>\n",
       "      <td>153.134516</td>\n",
       "      <td>2.783451</td>\n",
       "      <td>1654.804020</td>\n",
       "      <td>91.514679</td>\n",
       "      <td>99.853435</td>\n",
       "      <td>79.079189</td>\n",
       "      <td>92.437357</td>\n",
       "      <td>120.997060</td>\n",
       "    </tr>\n",
       "    <tr>\n",
       "      <th>min</th>\n",
       "      <td>0.000000</td>\n",
       "      <td>1.000000</td>\n",
       "      <td>0.000000</td>\n",
       "      <td>0.000000</td>\n",
       "      <td>0.000000</td>\n",
       "      <td>0.000000</td>\n",
       "      <td>0.000000</td>\n",
       "      <td>0.000000</td>\n",
       "    </tr>\n",
       "    <tr>\n",
       "      <th>25%</th>\n",
       "      <td>119.000000</td>\n",
       "      <td>1.000000</td>\n",
       "      <td>70.150000</td>\n",
       "      <td>0.000000</td>\n",
       "      <td>0.000000</td>\n",
       "      <td>0.000000</td>\n",
       "      <td>0.000000</td>\n",
       "      <td>0.000000</td>\n",
       "    </tr>\n",
       "    <tr>\n",
       "      <th>50%</th>\n",
       "      <td>223.000000</td>\n",
       "      <td>1.000000</td>\n",
       "      <td>133.815000</td>\n",
       "      <td>0.000000</td>\n",
       "      <td>0.000000</td>\n",
       "      <td>0.000000</td>\n",
       "      <td>0.000000</td>\n",
       "      <td>0.000000</td>\n",
       "    </tr>\n",
       "    <tr>\n",
       "      <th>75%</th>\n",
       "      <td>352.000000</td>\n",
       "      <td>2.000000</td>\n",
       "      <td>278.195000</td>\n",
       "      <td>0.000000</td>\n",
       "      <td>0.000000</td>\n",
       "      <td>0.000000</td>\n",
       "      <td>0.000000</td>\n",
       "      <td>0.000000</td>\n",
       "    </tr>\n",
       "    <tr>\n",
       "      <th>max</th>\n",
       "      <td>728.000000</td>\n",
       "      <td>75.000000</td>\n",
       "      <td>109312.640000</td>\n",
       "      <td>6248.000000</td>\n",
       "      <td>4800.000000</td>\n",
       "      <td>1999.980000</td>\n",
       "      <td>5814.000000</td>\n",
       "      <td>9520.140000</td>\n",
       "    </tr>\n",
       "  </tbody>\n",
       "</table>\n",
       "</div>"
      ],
      "text/plain": [
       "             recency      frequency       monetary  health_beauty  \\\n",
       "count  117604.000000  117604.000000  117604.000000  117604.000000   \n",
       "mean      242.990944       1.782150     376.087135      14.699860   \n",
       "std       153.134516       2.783451    1654.804020      91.514679   \n",
       "min         0.000000       1.000000       0.000000       0.000000   \n",
       "25%       119.000000       1.000000      70.150000       0.000000   \n",
       "50%       223.000000       1.000000     133.815000       0.000000   \n",
       "75%       352.000000       2.000000     278.195000       0.000000   \n",
       "max       728.000000      75.000000  109312.640000    6248.000000   \n",
       "\n",
       "       watches_gifts  bed_bath_table  sports_leisure  computers_accessories  \n",
       "count  117604.000000   117604.000000   117604.000000          117604.000000  \n",
       "mean       13.502443       17.206608       12.709391              14.382578  \n",
       "std        99.853435       79.079189       92.437357             120.997060  \n",
       "min         0.000000        0.000000        0.000000               0.000000  \n",
       "25%         0.000000        0.000000        0.000000               0.000000  \n",
       "50%         0.000000        0.000000        0.000000               0.000000  \n",
       "75%         0.000000        0.000000        0.000000               0.000000  \n",
       "max      4800.000000     1999.980000     5814.000000            9520.140000  "
      ]
     },
     "execution_count": 164,
     "metadata": {},
     "output_type": "execute_result"
    }
   ],
   "source": [
    "model_table.describe()"
   ]
  },
  {
   "cell_type": "markdown",
   "id": "b3910f0f",
   "metadata": {},
   "source": [
    "semua fitur memiliki standar deviasi yang besar sehingga kemungkinan memiliki banyak outlier dan skewness positve. "
   ]
  },
  {
   "cell_type": "markdown",
   "id": "d40e12ae-e4fa-42fa-ac43-b32e956c8c1a",
   "metadata": {
    "tags": []
   },
   "source": [
    "## Univariate Analysis"
   ]
  },
  {
   "cell_type": "code",
   "execution_count": 163,
   "id": "ecc61529-1458-4faf-86e5-03e2ad28a2d9",
   "metadata": {
    "scrolled": true
   },
   "outputs": [
    {
     "data": {
      "image/png": "[encoded data removed]",
      "text/plain": [
       "<Figure size 432x288 with 1 Axes>"
      ]
     },
     "metadata": {
      "needs_background": "light"
     },
     "output_type": "display_data"
    },
    {
     "data": {
      "text/plain": [
       "<Figure size 216x216 with 0 Axes>"
      ]
     },
     "metadata": {},
     "output_type": "display_data"
    },
    {
     "data": {
      "image/png": "[encoded data removed]",
      "text/plain": [
       "<Figure size 432x288 with 1 Axes>"
      ]
     },
     "metadata": {
      "needs_background": "light"
     },
     "output_type": "display_data"
    },
    {
     "data": {
      "text/plain": [
       "<Figure size 216x216 with 0 Axes>"
      ]
     },
     "metadata": {},
     "output_type": "display_data"
    },
    {
     "data": {
      "image/png": "[encoded data removed]",
      "text/plain": [
       "<Figure size 432x288 with 1 Axes>"
      ]
     },
     "metadata": {
      "needs_background": "light"
     },
     "output_type": "display_data"
    },
    {
     "data": {
      "text/plain": [
       "<Figure size 216x216 with 0 Axes>"
      ]
     },
     "metadata": {},
     "output_type": "display_data"
    },
    {
     "data": {
      "image/png": "[encoded data removed]",
      "text/plain": [
       "<Figure size 432x288 with 1 Axes>"
      ]
     },
     "metadata": {
      "needs_background": "light"
     },
     "output_type": "display_data"
    },
    {
     "data": {
      "text/plain": [
       "<Figure size 216x216 with 0 Axes>"
      ]
     },
     "metadata": {},
     "output_type": "display_data"
    },
    {
     "data": {
      "image/png": "[encoded data removed]",
      "text/plain": [
       "<Figure size 432x288 with 1 Axes>"
      ]
     },
     "metadata": {
      "needs_background": "light"
     },
     "output_type": "display_data"
    },
    {
     "data": {
      "text/plain": [
       "<Figure size 216x216 with 0 Axes>"
      ]
     },
     "metadata": {},
     "output_type": "display_data"
    },
    {
     "data": {
      "image/png": "[encoded data removed]",
      "text/plain": [
       "<Figure size 432x288 with 1 Axes>"
      ]
     },
     "metadata": {
      "needs_background": "light"
     },
     "output_type": "display_data"
    },
    {
     "data": {
      "text/plain": [
       "<Figure size 216x216 with 0 Axes>"
      ]
     },
     "metadata": {},
     "output_type": "display_data"
    },
    {
     "data": {
      "image/png": "[encoded data removed]",
      "text/plain": [
       "<Figure size 432x288 with 1 Axes>"
      ]
     },
     "metadata": {
      "needs_background": "light"
     },
     "output_type": "display_data"
    },
    {
     "data": {
      "text/plain": [
       "<Figure size 216x216 with 0 Axes>"
      ]
     },
     "metadata": {},
     "output_type": "display_data"
    },
    {
     "data": {
      "image/png": "[encoded data removed]",
      "text/plain": [
       "<Figure size 432x288 with 1 Axes>"
      ]
     },
     "metadata": {
      "needs_background": "light"
     },
     "output_type": "display_data"
    },
    {
     "data": {
      "text/plain": [
       "<Figure size 216x216 with 0 Axes>"
      ]
     },
     "metadata": {},
     "output_type": "display_data"
    }
   ],
   "source": [
    "columns = ['recency','frequency','monetary','health_beauty','watches_gifts','bed_bath_table','sports_leisure','computers_accessories']\n",
    "for j in range (0,len(columns)):\n",
    "    col = columns[j]\n",
    "    sns.kdeplot(x=model_table[col])\n",
    "    plt.figure(figsize=(3,3))\n",
    "    plt.show()"
   ]
  },
  {
   "cell_type": "markdown",
   "id": "ef2bde13-7df7-45ff-8e2e-9ea77237adbf",
   "metadata": {},
   "source": [
    "frequency and monetary have extreme positive outlier"
   ]
  },
  {
   "cell_type": "code",
   "execution_count": 165,
   "id": "b54dcd1c-06b2-4d14-ad3e-c950d3b10071",
   "metadata": {
    "scrolled": true
   },
   "outputs": [
    {
     "data": {
      "image/png": "[encoded data removed]",
      "text/plain": [
       "<Figure size 432x288 with 1 Axes>"
      ]
     },
     "metadata": {
      "needs_background": "light"
     },
     "output_type": "display_data"
    },
    {
     "data": {
      "text/plain": [
       "<Figure size 216x216 with 0 Axes>"
      ]
     },
     "metadata": {},
     "output_type": "display_data"
    },
    {
     "data": {
      "image/png": "[encoded data removed]",
      "text/plain": [
       "<Figure size 432x288 with 1 Axes>"
      ]
     },
     "metadata": {
      "needs_background": "light"
     },
     "output_type": "display_data"
    },
    {
     "data": {
      "text/plain": [
       "<Figure size 216x216 with 0 Axes>"
      ]
     },
     "metadata": {},
     "output_type": "display_data"
    },
    {
     "data": {
      "image/png": "[encoded data removed]",
      "text/plain": [
       "<Figure size 432x288 with 1 Axes>"
      ]
     },
     "metadata": {
      "needs_background": "light"
     },
     "output_type": "display_data"
    },
    {
     "data": {
      "text/plain": [
       "<Figure size 216x216 with 0 Axes>"
      ]
     },
     "metadata": {},
     "output_type": "display_data"
    },
    {
     "data": {
      "image/png": "[encoded data removed]",
      "text/plain": [
       "<Figure size 432x288 with 1 Axes>"
      ]
     },
     "metadata": {
      "needs_background": "light"
     },
     "output_type": "display_data"
    },
    {
     "data": {
      "text/plain": [
       "<Figure size 216x216 with 0 Axes>"
      ]
     },
     "metadata": {},
     "output_type": "display_data"
    },
    {
     "data": {
      "image/png": "[encoded data removed]",
      "text/plain": [
       "<Figure size 432x288 with 1 Axes>"
      ]
     },
     "metadata": {
      "needs_background": "light"
     },
     "output_type": "display_data"
    },
    {
     "data": {
      "text/plain": [
       "<Figure size 216x216 with 0 Axes>"
      ]
     },
     "metadata": {},
     "output_type": "display_data"
    },
    {
     "data": {
      "image/png": "[encoded data removed]",
      "text/plain": [
       "<Figure size 432x288 with 1 Axes>"
      ]
     },
     "metadata": {
      "needs_background": "light"
     },
     "output_type": "display_data"
    },
    {
     "data": {
      "text/plain": [
       "<Figure size 216x216 with 0 Axes>"
      ]
     },
     "metadata": {},
     "output_type": "display_data"
    },
    {
     "data": {
      "image/png": "[encoded data removed]",
      "text/plain": [
       "<Figure size 432x288 with 1 Axes>"
      ]
     },
     "metadata": {
      "needs_background": "light"
     },
     "output_type": "display_data"
    },
    {
     "data": {
      "text/plain": [
       "<Figure size 216x216 with 0 Axes>"
      ]
     },
     "metadata": {},
     "output_type": "display_data"
    },
    {
     "data": {
      "image/png": "[encoded data removed]",
      "text/plain": [
       "<Figure size 432x288 with 1 Axes>"
      ]
     },
     "metadata": {
      "needs_background": "light"
     },
     "output_type": "display_data"
    },
    {
     "data": {
      "text/plain": [
       "<Figure size 216x216 with 0 Axes>"
      ]
     },
     "metadata": {},
     "output_type": "display_data"
    }
   ],
   "source": [
    "for j in range (0,len(columns)):\n",
    "    col = columns[j]\n",
    "    sns.boxplot(y=model_table[col])\n",
    "    plt.figure(figsize=(3,3))\n",
    "    plt.show()"
   ]
  },
  {
   "cell_type": "markdown",
   "id": "5bf78c86-08c8-4ba7-b11c-cd4fa08db659",
   "metadata": {},
   "source": [
    "`frequency` ,`monetary`,`product_cat` memiliki outlier yang sangat banyak"
   ]
  },
  {
   "cell_type": "markdown",
   "id": "755bbc16-08c7-43ae-8c48-92ed18d449a2",
   "metadata": {
    "tags": []
   },
   "source": [
    "## Multivariate Analysis"
   ]
  },
  {
   "cell_type": "code",
   "execution_count": 168,
   "id": "0a718c68-ca00-457a-b329-0fd74b70b52b",
   "metadata": {
    "scrolled": true
   },
   "outputs": [
    {
     "data": {
      "text/plain": [
       "<AxesSubplot:>"
      ]
     },
     "execution_count": 168,
     "metadata": {},
     "output_type": "execute_result"
    },
    {
     "data": {
      "image/png": "[encoded data removed]",
      "text/plain": [
       "<Figure size 720x360 with 2 Axes>"
      ]
     },
     "metadata": {
      "needs_background": "light"
     },
     "output_type": "display_data"
    }
   ],
   "source": [
    "df_corr = model_table[columns]\n",
    "correlation = df_corr.corr()\n",
    "plt.figure(figsize=(10,5))\n",
    "sns.heatmap(correlation, cmap = \"GnBu\", annot = True)"
   ]
  },
  {
   "cell_type": "markdown",
   "id": "e481cfd6-7e3d-4369-a260-e953a0f0db51",
   "metadata": {},
   "source": [
    "Fitur tidak memiliki linearitas satu sama lain"
   ]
  },
  {
   "cell_type": "markdown",
   "id": "607f55d2-3c5d-4785-af3b-10516c9062a1",
   "metadata": {
    "jp-MarkdownHeadingCollapsed": true,
    "tags": []
   },
   "source": [
    "# Data Preprocessing"
   ]
  },
  {
   "cell_type": "markdown",
   "id": "77003220-d46a-4409-b0fe-8c93e51c13c3",
   "metadata": {
    "jp-MarkdownHeadingCollapsed": true,
    "tags": []
   },
   "source": [
    "## Handling Duplicated Value"
   ]
  },
  {
   "cell_type": "code",
   "execution_count": 169,
   "id": "7ac75816-239f-4cfc-b6d3-d9599ff07150",
   "metadata": {},
   "outputs": [
    {
     "data": {
      "text/plain": [
       "117604"
      ]
     },
     "execution_count": 169,
     "metadata": {},
     "output_type": "execute_result"
    }
   ],
   "source": [
    "model_table.shape[0]"
   ]
  },
  {
   "cell_type": "code",
   "execution_count": 170,
   "id": "0aa6a30b-1cb6-4236-a1d3-2a07d58d6566",
   "metadata": {},
   "outputs": [
    {
     "data": {
      "text/plain": [
       "22184"
      ]
     },
     "execution_count": 170,
     "metadata": {},
     "output_type": "execute_result"
    }
   ],
   "source": [
    "model_table.duplicated().sum()"
   ]
  },
  {
   "cell_type": "code",
   "execution_count": 171,
   "id": "a0aaf540-82ed-4f7e-8bca-d0fb81583b61",
   "metadata": {},
   "outputs": [
    {
     "data": {
      "text/plain": [
       "22184"
      ]
     },
     "execution_count": 171,
     "metadata": {},
     "output_type": "execute_result"
    }
   ],
   "source": [
    "model_table.duplicated(subset='customer_unique_id').sum()"
   ]
  },
  {
   "cell_type": "code",
   "execution_count": 172,
   "id": "dfdb6f30-6ba8-4bce-9896-f57185bdfc11",
   "metadata": {},
   "outputs": [
    {
     "data": {
      "text/html": [
       "<div>\n",
       "<style scoped>\n",
       "    .dataframe tbody tr th:only-of-type {\n",
       "        vertical-align: middle;\n",
       "    }\n",
       "\n",
       "    .dataframe tbody tr th {\n",
       "        vertical-align: top;\n",
       "    }\n",
       "\n",
       "    .dataframe thead th {\n",
       "        text-align: right;\n",
       "    }\n",
       "</style>\n",
       "<table border=\"1\" class=\"dataframe\">\n",
       "  <thead>\n",
       "    <tr style=\"text-align: right;\">\n",
       "      <th></th>\n",
       "      <th>customer_unique_id</th>\n",
       "      <th>recency</th>\n",
       "      <th>frequency</th>\n",
       "      <th>monetary</th>\n",
       "      <th>health_beauty</th>\n",
       "      <th>watches_gifts</th>\n",
       "      <th>bed_bath_table</th>\n",
       "      <th>sports_leisure</th>\n",
       "      <th>computers_accessories</th>\n",
       "    </tr>\n",
       "  </thead>\n",
       "  <tbody>\n",
       "    <tr>\n",
       "      <th>14</th>\n",
       "      <td>9e4159995424971423b98c4a8bc11529</td>\n",
       "      <td>201</td>\n",
       "      <td>2</td>\n",
       "      <td>253.08</td>\n",
       "      <td>0.0</td>\n",
       "      <td>0.0</td>\n",
       "      <td>0.0</td>\n",
       "      <td>0.00</td>\n",
       "      <td>0.0</td>\n",
       "    </tr>\n",
       "    <tr>\n",
       "      <th>33</th>\n",
       "      <td>bb8a37225e0279ac8a274c9765617eaf</td>\n",
       "      <td>321</td>\n",
       "      <td>3</td>\n",
       "      <td>327.87</td>\n",
       "      <td>0.0</td>\n",
       "      <td>0.0</td>\n",
       "      <td>0.0</td>\n",
       "      <td>63.99</td>\n",
       "      <td>0.0</td>\n",
       "    </tr>\n",
       "    <tr>\n",
       "      <th>34</th>\n",
       "      <td>bb8a37225e0279ac8a274c9765617eaf</td>\n",
       "      <td>321</td>\n",
       "      <td>3</td>\n",
       "      <td>327.87</td>\n",
       "      <td>0.0</td>\n",
       "      <td>0.0</td>\n",
       "      <td>0.0</td>\n",
       "      <td>63.99</td>\n",
       "      <td>0.0</td>\n",
       "    </tr>\n",
       "    <tr>\n",
       "      <th>39</th>\n",
       "      <td>33febb33a42a35f5826a22584b127f9d</td>\n",
       "      <td>492</td>\n",
       "      <td>2</td>\n",
       "      <td>70.55</td>\n",
       "      <td>0.0</td>\n",
       "      <td>0.0</td>\n",
       "      <td>0.0</td>\n",
       "      <td>0.00</td>\n",
       "      <td>0.0</td>\n",
       "    </tr>\n",
       "    <tr>\n",
       "      <th>44</th>\n",
       "      <td>d1f24d1d504e27bee13b415e40daeab0</td>\n",
       "      <td>250</td>\n",
       "      <td>3</td>\n",
       "      <td>382.68</td>\n",
       "      <td>0.0</td>\n",
       "      <td>0.0</td>\n",
       "      <td>0.0</td>\n",
       "      <td>0.00</td>\n",
       "      <td>0.0</td>\n",
       "    </tr>\n",
       "    <tr>\n",
       "      <th>...</th>\n",
       "      <td>...</td>\n",
       "      <td>...</td>\n",
       "      <td>...</td>\n",
       "      <td>...</td>\n",
       "      <td>...</td>\n",
       "      <td>...</td>\n",
       "      <td>...</td>\n",
       "      <td>...</td>\n",
       "      <td>...</td>\n",
       "    </tr>\n",
       "    <tr>\n",
       "      <th>117584</th>\n",
       "      <td>2b19910e856b2ba3e7257e63a093a3df</td>\n",
       "      <td>341</td>\n",
       "      <td>2</td>\n",
       "      <td>262.96</td>\n",
       "      <td>0.0</td>\n",
       "      <td>0.0</td>\n",
       "      <td>0.0</td>\n",
       "      <td>0.00</td>\n",
       "      <td>0.0</td>\n",
       "    </tr>\n",
       "    <tr>\n",
       "      <th>117589</th>\n",
       "      <td>028c09f007292c4e3a3b10d296e47987</td>\n",
       "      <td>169</td>\n",
       "      <td>2</td>\n",
       "      <td>912.56</td>\n",
       "      <td>0.0</td>\n",
       "      <td>0.0</td>\n",
       "      <td>0.0</td>\n",
       "      <td>0.00</td>\n",
       "      <td>360.0</td>\n",
       "    </tr>\n",
       "    <tr>\n",
       "      <th>117595</th>\n",
       "      <td>f736308cd9952b33b90b9fe94da9c8f5</td>\n",
       "      <td>310</td>\n",
       "      <td>4</td>\n",
       "      <td>1427.04</td>\n",
       "      <td>0.0</td>\n",
       "      <td>220.0</td>\n",
       "      <td>0.0</td>\n",
       "      <td>0.00</td>\n",
       "      <td>0.0</td>\n",
       "    </tr>\n",
       "    <tr>\n",
       "      <th>117596</th>\n",
       "      <td>f736308cd9952b33b90b9fe94da9c8f5</td>\n",
       "      <td>310</td>\n",
       "      <td>4</td>\n",
       "      <td>1427.04</td>\n",
       "      <td>0.0</td>\n",
       "      <td>220.0</td>\n",
       "      <td>0.0</td>\n",
       "      <td>0.00</td>\n",
       "      <td>0.0</td>\n",
       "    </tr>\n",
       "    <tr>\n",
       "      <th>117597</th>\n",
       "      <td>f736308cd9952b33b90b9fe94da9c8f5</td>\n",
       "      <td>310</td>\n",
       "      <td>4</td>\n",
       "      <td>1427.04</td>\n",
       "      <td>0.0</td>\n",
       "      <td>220.0</td>\n",
       "      <td>0.0</td>\n",
       "      <td>0.00</td>\n",
       "      <td>0.0</td>\n",
       "    </tr>\n",
       "  </tbody>\n",
       "</table>\n",
       "<p>22184 rows × 9 columns</p>\n",
       "</div>"
      ],
      "text/plain": [
       "                      customer_unique_id  recency  frequency  monetary  \\\n",
       "14      9e4159995424971423b98c4a8bc11529      201          2    253.08   \n",
       "33      bb8a37225e0279ac8a274c9765617eaf      321          3    327.87   \n",
       "34      bb8a37225e0279ac8a274c9765617eaf      321          3    327.87   \n",
       "39      33febb33a42a35f5826a22584b127f9d      492          2     70.55   \n",
       "44      d1f24d1d504e27bee13b415e40daeab0      250          3    382.68   \n",
       "...                                  ...      ...        ...       ...   \n",
       "117584  2b19910e856b2ba3e7257e63a093a3df      341          2    262.96   \n",
       "117589  028c09f007292c4e3a3b10d296e47987      169          2    912.56   \n",
       "117595  f736308cd9952b33b90b9fe94da9c8f5      310          4   1427.04   \n",
       "117596  f736308cd9952b33b90b9fe94da9c8f5      310          4   1427.04   \n",
       "117597  f736308cd9952b33b90b9fe94da9c8f5      310          4   1427.04   \n",
       "\n",
       "        health_beauty  watches_gifts  bed_bath_table  sports_leisure  \\\n",
       "14                0.0            0.0             0.0            0.00   \n",
       "33                0.0            0.0             0.0           63.99   \n",
       "34                0.0            0.0             0.0           63.99   \n",
       "39                0.0            0.0             0.0            0.00   \n",
       "44                0.0            0.0             0.0            0.00   \n",
       "...               ...            ...             ...             ...   \n",
       "117584            0.0            0.0             0.0            0.00   \n",
       "117589            0.0            0.0             0.0            0.00   \n",
       "117595            0.0          220.0             0.0            0.00   \n",
       "117596            0.0          220.0             0.0            0.00   \n",
       "117597            0.0          220.0             0.0            0.00   \n",
       "\n",
       "        computers_accessories  \n",
       "14                        0.0  \n",
       "33                        0.0  \n",
       "34                        0.0  \n",
       "39                        0.0  \n",
       "44                        0.0  \n",
       "...                       ...  \n",
       "117584                    0.0  \n",
       "117589                  360.0  \n",
       "117595                    0.0  \n",
       "117596                    0.0  \n",
       "117597                    0.0  \n",
       "\n",
       "[22184 rows x 9 columns]"
      ]
     },
     "execution_count": 172,
     "metadata": {},
     "output_type": "execute_result"
    }
   ],
   "source": [
    "model_table[model_table.duplicated(subset='customer_unique_id')]"
   ]
  },
  {
   "cell_type": "markdown",
   "id": "38873cdf-bf8f-438d-9afc-b6f823ed4bec",
   "metadata": {},
   "source": [
    "data with duplicated value can be dropped"
   ]
  },
  {
   "cell_type": "code",
   "execution_count": 173,
   "id": "eed43c30-dd78-446a-b919-97ed090b973d",
   "metadata": {},
   "outputs": [],
   "source": [
    "model_table.drop_duplicates(inplace=True)"
   ]
  },
  {
   "cell_type": "code",
   "execution_count": 174,
   "id": "9bbe9d5d-634c-434a-8a30-890f6ac555c3",
   "metadata": {},
   "outputs": [
    {
     "data": {
      "text/plain": [
       "95420"
      ]
     },
     "execution_count": 174,
     "metadata": {},
     "output_type": "execute_result"
    }
   ],
   "source": [
    "model_table.shape[0]"
   ]
  },
  {
   "cell_type": "markdown",
   "id": "6311824f-3c25-4fdd-bebd-0791b1c6b002",
   "metadata": {
    "jp-MarkdownHeadingCollapsed": true,
    "tags": []
   },
   "source": [
    "## Handling Missing Value"
   ]
  },
  {
   "cell_type": "code",
   "execution_count": 175,
   "id": "24d586b9-0cc7-4d8b-bcb5-39dd2cd4f8c9",
   "metadata": {},
   "outputs": [],
   "source": [
    "def preprocessing(df):\n",
    "    \"\"\"\"\n",
    "    Objective :\n",
    "    Function for preprocessing data, known missing, duplicated values and basic stastics every column in dataframe and duplicated row\n",
    "    df is dataframe\n",
    "    \"\"\"\n",
    "    try:\n",
    "        import pandas as pd\n",
    "        variables = pd.DataFrame(columns=['Variable','Number of unique values','Percent of Null(%)','Number of Null','Type','Values'])\n",
    "        for i, var in enumerate(df.columns):\n",
    "            variables.loc[i] = [var, df[var].nunique(),df[var].isnull().sum()/df.shape[0]*100,df[var].isnull().sum(),df[var].dtypes,df[var].unique()]\n",
    "        return (variables.set_index('Variable'))\n",
    "    except:\n",
    "        print('ada kesalahan penginputan')"
   ]
  },
  {
   "cell_type": "code",
   "execution_count": 176,
   "id": "7d75237f-3f51-4e5a-b0c5-47b14adae9f9",
   "metadata": {},
   "outputs": [
    {
     "data": {
      "text/html": [
       "<div>\n",
       "<style scoped>\n",
       "    .dataframe tbody tr th:only-of-type {\n",
       "        vertical-align: middle;\n",
       "    }\n",
       "\n",
       "    .dataframe tbody tr th {\n",
       "        vertical-align: top;\n",
       "    }\n",
       "\n",
       "    .dataframe thead th {\n",
       "        text-align: right;\n",
       "    }\n",
       "</style>\n",
       "<table border=\"1\" class=\"dataframe\">\n",
       "  <thead>\n",
       "    <tr style=\"text-align: right;\">\n",
       "      <th></th>\n",
       "      <th>Number of unique values</th>\n",
       "      <th>Percent of Null(%)</th>\n",
       "      <th>Number of Null</th>\n",
       "      <th>Type</th>\n",
       "      <th>Values</th>\n",
       "    </tr>\n",
       "    <tr>\n",
       "      <th>Variable</th>\n",
       "      <th></th>\n",
       "      <th></th>\n",
       "      <th></th>\n",
       "      <th></th>\n",
       "      <th></th>\n",
       "    </tr>\n",
       "  </thead>\n",
       "  <tbody>\n",
       "    <tr>\n",
       "      <th>customer_unique_id</th>\n",
       "      <td>95420</td>\n",
       "      <td>0.0</td>\n",
       "      <td>0</td>\n",
       "      <td>object</td>\n",
       "      <td>[871766c5855e863f6eccc05f988b23cb, eb28e67c4c0...</td>\n",
       "    </tr>\n",
       "    <tr>\n",
       "      <th>recency</th>\n",
       "      <td>614</td>\n",
       "      <td>0.0</td>\n",
       "      <td>0</td>\n",
       "      <td>int64</td>\n",
       "      <td>[355, 349, 231, 25, 575, 475, 266, 60, 167, 62...</td>\n",
       "    </tr>\n",
       "    <tr>\n",
       "      <th>frequency</th>\n",
       "      <td>27</td>\n",
       "      <td>0.0</td>\n",
       "      <td>0</td>\n",
       "      <td>int64</td>\n",
       "      <td>[1, 2, 3, 4, 5, 7, 6, 24, 8, 10, 9, 11, 14, 16...</td>\n",
       "    </tr>\n",
       "    <tr>\n",
       "      <th>monetary</th>\n",
       "      <td>30850</td>\n",
       "      <td>0.0</td>\n",
       "      <td>0</td>\n",
       "      <td>float64</td>\n",
       "      <td>[72.19, 284.56, 216.87, 25.78, 218.04, 34.59, ...</td>\n",
       "    </tr>\n",
       "    <tr>\n",
       "      <th>health_beauty</th>\n",
       "      <td>1618</td>\n",
       "      <td>0.0</td>\n",
       "      <td>0</td>\n",
       "      <td>float64</td>\n",
       "      <td>[0.0, 145.95, 59.99, 37.98, 35.9, 492.75, 48.9...</td>\n",
       "    </tr>\n",
       "    <tr>\n",
       "      <th>watches_gifts</th>\n",
       "      <td>1047</td>\n",
       "      <td>0.0</td>\n",
       "      <td>0</td>\n",
       "      <td>float64</td>\n",
       "      <td>[0.0, 277.0, 229.0, 99.9, 49.0, 75.0, 39.9, 54...</td>\n",
       "    </tr>\n",
       "    <tr>\n",
       "      <th>bed_bath_table</th>\n",
       "      <td>1581</td>\n",
       "      <td>0.0</td>\n",
       "      <td>0</td>\n",
       "      <td>float64</td>\n",
       "      <td>[0.0, 74.0, 47.9, 39.0, 99.0, 69.9, 114.9, 107...</td>\n",
       "    </tr>\n",
       "    <tr>\n",
       "      <th>sports_leisure</th>\n",
       "      <td>1536</td>\n",
       "      <td>0.0</td>\n",
       "      <td>0</td>\n",
       "      <td>float64</td>\n",
       "      <td>[0.0, 99.9, 99.0, 219.9, 63.989999999999995, 7...</td>\n",
       "    </tr>\n",
       "    <tr>\n",
       "      <th>computers_accessories</th>\n",
       "      <td>1404</td>\n",
       "      <td>0.0</td>\n",
       "      <td>0</td>\n",
       "      <td>float64</td>\n",
       "      <td>[0.0, 12.88, 809.1, 81.99, 195.0, 19.99, 135.0...</td>\n",
       "    </tr>\n",
       "  </tbody>\n",
       "</table>\n",
       "</div>"
      ],
      "text/plain": [
       "                      Number of unique values  Percent of Null(%)  \\\n",
       "Variable                                                            \n",
       "customer_unique_id                      95420                 0.0   \n",
       "recency                                   614                 0.0   \n",
       "frequency                                  27                 0.0   \n",
       "monetary                                30850                 0.0   \n",
       "health_beauty                            1618                 0.0   \n",
       "watches_gifts                            1047                 0.0   \n",
       "bed_bath_table                           1581                 0.0   \n",
       "sports_leisure                           1536                 0.0   \n",
       "computers_accessories                    1404                 0.0   \n",
       "\n",
       "                      Number of Null     Type  \\\n",
       "Variable                                        \n",
       "customer_unique_id                 0   object   \n",
       "recency                            0    int64   \n",
       "frequency                          0    int64   \n",
       "monetary                           0  float64   \n",
       "health_beauty                      0  float64   \n",
       "watches_gifts                      0  float64   \n",
       "bed_bath_table                     0  float64   \n",
       "sports_leisure                     0  float64   \n",
       "computers_accessories              0  float64   \n",
       "\n",
       "                                                                  Values  \n",
       "Variable                                                                  \n",
       "customer_unique_id     [871766c5855e863f6eccc05f988b23cb, eb28e67c4c0...  \n",
       "recency                [355, 349, 231, 25, 575, 475, 266, 60, 167, 62...  \n",
       "frequency              [1, 2, 3, 4, 5, 7, 6, 24, 8, 10, 9, 11, 14, 16...  \n",
       "monetary               [72.19, 284.56, 216.87, 25.78, 218.04, 34.59, ...  \n",
       "health_beauty          [0.0, 145.95, 59.99, 37.98, 35.9, 492.75, 48.9...  \n",
       "watches_gifts          [0.0, 277.0, 229.0, 99.9, 49.0, 75.0, 39.9, 54...  \n",
       "bed_bath_table         [0.0, 74.0, 47.9, 39.0, 99.0, 69.9, 114.9, 107...  \n",
       "sports_leisure         [0.0, 99.9, 99.0, 219.9, 63.989999999999995, 7...  \n",
       "computers_accessories  [0.0, 12.88, 809.1, 81.99, 195.0, 19.99, 135.0...  "
      ]
     },
     "execution_count": 176,
     "metadata": {},
     "output_type": "execute_result"
    }
   ],
   "source": [
    "preprocessing(model_table)"
   ]
  },
  {
   "cell_type": "markdown",
   "id": "52649ca8-a945-49ee-9215-3b9233ddb96c",
   "metadata": {},
   "source": [
    "Fitur tidak memiliki null values"
   ]
  },
  {
   "cell_type": "markdown",
   "id": "06e6847b-4561-47c4-b233-db448e8f13d1",
   "metadata": {
    "tags": []
   },
   "source": [
    "## Handling Outlier"
   ]
  },
  {
   "cell_type": "code",
   "execution_count": 228,
   "id": "e495cbf6",
   "metadata": {},
   "outputs": [
    {
     "data": {
      "text/html": [
       "<div>\n",
       "<style scoped>\n",
       "    .dataframe tbody tr th:only-of-type {\n",
       "        vertical-align: middle;\n",
       "    }\n",
       "\n",
       "    .dataframe tbody tr th {\n",
       "        vertical-align: top;\n",
       "    }\n",
       "\n",
       "    .dataframe thead th {\n",
       "        text-align: right;\n",
       "    }\n",
       "</style>\n",
       "<table border=\"1\" class=\"dataframe\">\n",
       "  <thead>\n",
       "    <tr style=\"text-align: right;\">\n",
       "      <th></th>\n",
       "      <th>recency</th>\n",
       "      <th>frequency</th>\n",
       "      <th>monetary</th>\n",
       "      <th>health_beauty</th>\n",
       "      <th>watches_gifts</th>\n",
       "      <th>bed_bath_table</th>\n",
       "      <th>sports_leisure</th>\n",
       "      <th>computers_accessories</th>\n",
       "    </tr>\n",
       "  </thead>\n",
       "  <tbody>\n",
       "    <tr>\n",
       "      <th>count</th>\n",
       "      <td>95420.000000</td>\n",
       "      <td>95420.000000</td>\n",
       "      <td>95420.000000</td>\n",
       "      <td>95420.000000</td>\n",
       "      <td>95420.000000</td>\n",
       "      <td>95420.000000</td>\n",
       "      <td>95420.000000</td>\n",
       "      <td>95420.000000</td>\n",
       "    </tr>\n",
       "    <tr>\n",
       "      <th>mean</th>\n",
       "      <td>242.600377</td>\n",
       "      <td>1.232488</td>\n",
       "      <td>212.828911</td>\n",
       "      <td>13.597682</td>\n",
       "      <td>13.132921</td>\n",
       "      <td>11.449916</td>\n",
       "      <td>10.731464</td>\n",
       "      <td>9.875053</td>\n",
       "    </tr>\n",
       "    <tr>\n",
       "      <th>std</th>\n",
       "      <td>153.160320</td>\n",
       "      <td>0.823079</td>\n",
       "      <td>641.760089</td>\n",
       "      <td>77.414272</td>\n",
       "      <td>89.097953</td>\n",
       "      <td>51.167330</td>\n",
       "      <td>68.604251</td>\n",
       "      <td>74.869446</td>\n",
       "    </tr>\n",
       "    <tr>\n",
       "      <th>min</th>\n",
       "      <td>0.000000</td>\n",
       "      <td>1.000000</td>\n",
       "      <td>0.000000</td>\n",
       "      <td>0.000000</td>\n",
       "      <td>0.000000</td>\n",
       "      <td>0.000000</td>\n",
       "      <td>0.000000</td>\n",
       "      <td>0.000000</td>\n",
       "    </tr>\n",
       "    <tr>\n",
       "      <th>25%</th>\n",
       "      <td>118.000000</td>\n",
       "      <td>1.000000</td>\n",
       "      <td>63.907500</td>\n",
       "      <td>0.000000</td>\n",
       "      <td>0.000000</td>\n",
       "      <td>0.000000</td>\n",
       "      <td>0.000000</td>\n",
       "      <td>0.000000</td>\n",
       "    </tr>\n",
       "    <tr>\n",
       "      <th>50%</th>\n",
       "      <td>223.000000</td>\n",
       "      <td>1.000000</td>\n",
       "      <td>113.150000</td>\n",
       "      <td>0.000000</td>\n",
       "      <td>0.000000</td>\n",
       "      <td>0.000000</td>\n",
       "      <td>0.000000</td>\n",
       "      <td>0.000000</td>\n",
       "    </tr>\n",
       "    <tr>\n",
       "      <th>75%</th>\n",
       "      <td>352.000000</td>\n",
       "      <td>1.000000</td>\n",
       "      <td>202.542500</td>\n",
       "      <td>0.000000</td>\n",
       "      <td>0.000000</td>\n",
       "      <td>0.000000</td>\n",
       "      <td>0.000000</td>\n",
       "      <td>0.000000</td>\n",
       "    </tr>\n",
       "    <tr>\n",
       "      <th>max</th>\n",
       "      <td>728.000000</td>\n",
       "      <td>75.000000</td>\n",
       "      <td>109312.640000</td>\n",
       "      <td>6248.000000</td>\n",
       "      <td>4800.000000</td>\n",
       "      <td>1999.980000</td>\n",
       "      <td>5814.000000</td>\n",
       "      <td>9520.140000</td>\n",
       "    </tr>\n",
       "  </tbody>\n",
       "</table>\n",
       "</div>"
      ],
      "text/plain": [
       "            recency     frequency       monetary  health_beauty  \\\n",
       "count  95420.000000  95420.000000   95420.000000   95420.000000   \n",
       "mean     242.600377      1.232488     212.828911      13.597682   \n",
       "std      153.160320      0.823079     641.760089      77.414272   \n",
       "min        0.000000      1.000000       0.000000       0.000000   \n",
       "25%      118.000000      1.000000      63.907500       0.000000   \n",
       "50%      223.000000      1.000000     113.150000       0.000000   \n",
       "75%      352.000000      1.000000     202.542500       0.000000   \n",
       "max      728.000000     75.000000  109312.640000    6248.000000   \n",
       "\n",
       "       watches_gifts  bed_bath_table  sports_leisure  computers_accessories  \n",
       "count   95420.000000    95420.000000    95420.000000           95420.000000  \n",
       "mean       13.132921       11.449916       10.731464               9.875053  \n",
       "std        89.097953       51.167330       68.604251              74.869446  \n",
       "min         0.000000        0.000000        0.000000               0.000000  \n",
       "25%         0.000000        0.000000        0.000000               0.000000  \n",
       "50%         0.000000        0.000000        0.000000               0.000000  \n",
       "75%         0.000000        0.000000        0.000000               0.000000  \n",
       "max      4800.000000     1999.980000     5814.000000            9520.140000  "
      ]
     },
     "execution_count": 228,
     "metadata": {},
     "output_type": "execute_result"
    }
   ],
   "source": [
    "model_table.describe()"
   ]
  },
  {
   "cell_type": "markdown",
   "id": "189a00d1",
   "metadata": {},
   "source": [
    "### IQR"
   ]
  },
  {
   "cell_type": "code",
   "execution_count": 177,
   "id": "912ea6de-70e4-491b-86f7-64d0bb9e3c11",
   "metadata": {
    "scrolled": true
   },
   "outputs": [
    {
     "data": {
      "text/plain": [
       "['recency',\n",
       " 'frequency',\n",
       " 'monetary',\n",
       " 'health_beauty',\n",
       " 'watches_gifts',\n",
       " 'bed_bath_table',\n",
       " 'sports_leisure',\n",
       " 'computers_accessories']"
      ]
     },
     "execution_count": 177,
     "metadata": {},
     "output_type": "execute_result"
    }
   ],
   "source": [
    "columns"
   ]
  },
  {
   "cell_type": "code",
   "execution_count": 215,
   "id": "39f4d7b8",
   "metadata": {},
   "outputs": [],
   "source": [
    "Q1 = model_table[columns].quantile(0.25)\n",
    "Q3 = model_table[columns].quantile(0.75)\n",
    "IQR = Q3-Q1\n",
    "low_limit = Q1 - (1.5*IQR)\n",
    "high_limit = Q3 + (1.5*IQR)"
   ]
  },
  {
   "cell_type": "code",
   "execution_count": 220,
   "id": "886241e2",
   "metadata": {
    "scrolled": false
   },
   "outputs": [
    {
     "data": {
      "text/html": [
       "<div>\n",
       "<style scoped>\n",
       "    .dataframe tbody tr th:only-of-type {\n",
       "        vertical-align: middle;\n",
       "    }\n",
       "\n",
       "    .dataframe tbody tr th {\n",
       "        vertical-align: top;\n",
       "    }\n",
       "\n",
       "    .dataframe thead th {\n",
       "        text-align: right;\n",
       "    }\n",
       "</style>\n",
       "<table border=\"1\" class=\"dataframe\">\n",
       "  <thead>\n",
       "    <tr style=\"text-align: right;\">\n",
       "      <th></th>\n",
       "      <th>recency</th>\n",
       "      <th>frequency</th>\n",
       "      <th>monetary</th>\n",
       "      <th>health_beauty</th>\n",
       "      <th>watches_gifts</th>\n",
       "      <th>bed_bath_table</th>\n",
       "      <th>sports_leisure</th>\n",
       "      <th>computers_accessories</th>\n",
       "    </tr>\n",
       "  </thead>\n",
       "  <tbody>\n",
       "    <tr>\n",
       "      <th>count</th>\n",
       "      <td>95417.000000</td>\n",
       "      <td>81088.0</td>\n",
       "      <td>86044.000000</td>\n",
       "      <td>86742.0</td>\n",
       "      <td>89873.0</td>\n",
       "      <td>86275.0</td>\n",
       "      <td>87905.0</td>\n",
       "      <td>88863.0</td>\n",
       "    </tr>\n",
       "    <tr>\n",
       "      <th>mean</th>\n",
       "      <td>242.585231</td>\n",
       "      <td>1.0</td>\n",
       "      <td>124.938345</td>\n",
       "      <td>0.0</td>\n",
       "      <td>0.0</td>\n",
       "      <td>0.0</td>\n",
       "      <td>0.0</td>\n",
       "      <td>0.0</td>\n",
       "    </tr>\n",
       "    <tr>\n",
       "      <th>std</th>\n",
       "      <td>153.138903</td>\n",
       "      <td>0.0</td>\n",
       "      <td>85.177544</td>\n",
       "      <td>0.0</td>\n",
       "      <td>0.0</td>\n",
       "      <td>0.0</td>\n",
       "      <td>0.0</td>\n",
       "      <td>0.0</td>\n",
       "    </tr>\n",
       "    <tr>\n",
       "      <th>min</th>\n",
       "      <td>0.000000</td>\n",
       "      <td>1.0</td>\n",
       "      <td>0.000000</td>\n",
       "      <td>0.0</td>\n",
       "      <td>0.0</td>\n",
       "      <td>0.0</td>\n",
       "      <td>0.0</td>\n",
       "      <td>0.0</td>\n",
       "    </tr>\n",
       "    <tr>\n",
       "      <th>25%</th>\n",
       "      <td>118.000000</td>\n",
       "      <td>1.0</td>\n",
       "      <td>60.000000</td>\n",
       "      <td>0.0</td>\n",
       "      <td>0.0</td>\n",
       "      <td>0.0</td>\n",
       "      <td>0.0</td>\n",
       "      <td>0.0</td>\n",
       "    </tr>\n",
       "    <tr>\n",
       "      <th>50%</th>\n",
       "      <td>223.000000</td>\n",
       "      <td>1.0</td>\n",
       "      <td>101.550000</td>\n",
       "      <td>0.0</td>\n",
       "      <td>0.0</td>\n",
       "      <td>0.0</td>\n",
       "      <td>0.0</td>\n",
       "      <td>0.0</td>\n",
       "    </tr>\n",
       "    <tr>\n",
       "      <th>75%</th>\n",
       "      <td>352.000000</td>\n",
       "      <td>1.0</td>\n",
       "      <td>166.810000</td>\n",
       "      <td>0.0</td>\n",
       "      <td>0.0</td>\n",
       "      <td>0.0</td>\n",
       "      <td>0.0</td>\n",
       "      <td>0.0</td>\n",
       "    </tr>\n",
       "    <tr>\n",
       "      <th>max</th>\n",
       "      <td>700.000000</td>\n",
       "      <td>1.0</td>\n",
       "      <td>410.490000</td>\n",
       "      <td>0.0</td>\n",
       "      <td>0.0</td>\n",
       "      <td>0.0</td>\n",
       "      <td>0.0</td>\n",
       "      <td>0.0</td>\n",
       "    </tr>\n",
       "  </tbody>\n",
       "</table>\n",
       "</div>"
      ],
      "text/plain": [
       "            recency  frequency      monetary  health_beauty  watches_gifts  \\\n",
       "count  95417.000000    81088.0  86044.000000        86742.0        89873.0   \n",
       "mean     242.585231        1.0    124.938345            0.0            0.0   \n",
       "std      153.138903        0.0     85.177544            0.0            0.0   \n",
       "min        0.000000        1.0      0.000000            0.0            0.0   \n",
       "25%      118.000000        1.0     60.000000            0.0            0.0   \n",
       "50%      223.000000        1.0    101.550000            0.0            0.0   \n",
       "75%      352.000000        1.0    166.810000            0.0            0.0   \n",
       "max      700.000000        1.0    410.490000            0.0            0.0   \n",
       "\n",
       "       bed_bath_table  sports_leisure  computers_accessories  \n",
       "count         86275.0         87905.0                88863.0  \n",
       "mean              0.0             0.0                    0.0  \n",
       "std               0.0             0.0                    0.0  \n",
       "min               0.0             0.0                    0.0  \n",
       "25%               0.0             0.0                    0.0  \n",
       "50%               0.0             0.0                    0.0  \n",
       "75%               0.0             0.0                    0.0  \n",
       "max               0.0             0.0                    0.0  "
      ]
     },
     "execution_count": 220,
     "metadata": {},
     "output_type": "execute_result"
    }
   ],
   "source": [
    "model_table[~((model_table>(high_limit))|(model_table<(low_limit)))].describe()"
   ]
  },
  {
   "cell_type": "markdown",
   "id": "59c9f891",
   "metadata": {},
   "source": [
    "### Z-score"
   ]
  },
  {
   "cell_type": "code",
   "execution_count": 227,
   "id": "350cfb65",
   "metadata": {},
   "outputs": [
    {
     "data": {
      "text/html": [
       "<div>\n",
       "<style scoped>\n",
       "    .dataframe tbody tr th:only-of-type {\n",
       "        vertical-align: middle;\n",
       "    }\n",
       "\n",
       "    .dataframe tbody tr th {\n",
       "        vertical-align: top;\n",
       "    }\n",
       "\n",
       "    .dataframe thead th {\n",
       "        text-align: right;\n",
       "    }\n",
       "</style>\n",
       "<table border=\"1\" class=\"dataframe\">\n",
       "  <thead>\n",
       "    <tr style=\"text-align: right;\">\n",
       "      <th></th>\n",
       "      <th>recency</th>\n",
       "      <th>frequency</th>\n",
       "      <th>monetary</th>\n",
       "      <th>health_beauty</th>\n",
       "      <th>watches_gifts</th>\n",
       "      <th>bed_bath_table</th>\n",
       "      <th>sports_leisure</th>\n",
       "      <th>computers_accessories</th>\n",
       "    </tr>\n",
       "  </thead>\n",
       "  <tbody>\n",
       "    <tr>\n",
       "      <th>count</th>\n",
       "      <td>95417.000000</td>\n",
       "      <td>93682.000000</td>\n",
       "      <td>94827.000000</td>\n",
       "      <td>94077.000000</td>\n",
       "      <td>94394.000000</td>\n",
       "      <td>93696.000000</td>\n",
       "      <td>94376.000000</td>\n",
       "      <td>94614.000000</td>\n",
       "    </tr>\n",
       "    <tr>\n",
       "      <th>mean</th>\n",
       "      <td>242.585231</td>\n",
       "      <td>1.155163</td>\n",
       "      <td>184.922321</td>\n",
       "      <td>6.622047</td>\n",
       "      <td>5.968998</td>\n",
       "      <td>6.369298</td>\n",
       "      <td>5.981077</td>\n",
       "      <td>5.352197</td>\n",
       "    </tr>\n",
       "    <tr>\n",
       "      <th>std</th>\n",
       "      <td>153.138903</td>\n",
       "      <td>0.415390</td>\n",
       "      <td>234.167496</td>\n",
       "      <td>27.217760</td>\n",
       "      <td>30.311568</td>\n",
       "      <td>24.195707</td>\n",
       "      <td>25.636530</td>\n",
       "      <td>24.932534</td>\n",
       "    </tr>\n",
       "    <tr>\n",
       "      <th>min</th>\n",
       "      <td>0.000000</td>\n",
       "      <td>1.000000</td>\n",
       "      <td>0.000000</td>\n",
       "      <td>0.000000</td>\n",
       "      <td>0.000000</td>\n",
       "      <td>0.000000</td>\n",
       "      <td>0.000000</td>\n",
       "      <td>0.000000</td>\n",
       "    </tr>\n",
       "    <tr>\n",
       "      <th>25%</th>\n",
       "      <td>118.000000</td>\n",
       "      <td>1.000000</td>\n",
       "      <td>63.600000</td>\n",
       "      <td>0.000000</td>\n",
       "      <td>0.000000</td>\n",
       "      <td>0.000000</td>\n",
       "      <td>0.000000</td>\n",
       "      <td>0.000000</td>\n",
       "    </tr>\n",
       "    <tr>\n",
       "      <th>50%</th>\n",
       "      <td>223.000000</td>\n",
       "      <td>1.000000</td>\n",
       "      <td>112.430000</td>\n",
       "      <td>0.000000</td>\n",
       "      <td>0.000000</td>\n",
       "      <td>0.000000</td>\n",
       "      <td>0.000000</td>\n",
       "      <td>0.000000</td>\n",
       "    </tr>\n",
       "    <tr>\n",
       "      <th>75%</th>\n",
       "      <td>352.000000</td>\n",
       "      <td>1.000000</td>\n",
       "      <td>199.270000</td>\n",
       "      <td>0.000000</td>\n",
       "      <td>0.000000</td>\n",
       "      <td>0.000000</td>\n",
       "      <td>0.000000</td>\n",
       "      <td>0.000000</td>\n",
       "    </tr>\n",
       "    <tr>\n",
       "      <th>max</th>\n",
       "      <td>700.000000</td>\n",
       "      <td>3.000000</td>\n",
       "      <td>2136.600000</td>\n",
       "      <td>244.000000</td>\n",
       "      <td>280.000000</td>\n",
       "      <td>164.900000</td>\n",
       "      <td>215.990000</td>\n",
       "      <td>234.310000</td>\n",
       "    </tr>\n",
       "  </tbody>\n",
       "</table>\n",
       "</div>"
      ],
      "text/plain": [
       "            recency     frequency      monetary  health_beauty  watches_gifts  \\\n",
       "count  95417.000000  93682.000000  94827.000000   94077.000000   94394.000000   \n",
       "mean     242.585231      1.155163    184.922321       6.622047       5.968998   \n",
       "std      153.138903      0.415390    234.167496      27.217760      30.311568   \n",
       "min        0.000000      1.000000      0.000000       0.000000       0.000000   \n",
       "25%      118.000000      1.000000     63.600000       0.000000       0.000000   \n",
       "50%      223.000000      1.000000    112.430000       0.000000       0.000000   \n",
       "75%      352.000000      1.000000    199.270000       0.000000       0.000000   \n",
       "max      700.000000      3.000000   2136.600000     244.000000     280.000000   \n",
       "\n",
       "       bed_bath_table  sports_leisure  computers_accessories  \n",
       "count    93696.000000    94376.000000           94614.000000  \n",
       "mean         6.369298        5.981077               5.352197  \n",
       "std         24.195707       25.636530              24.932534  \n",
       "min          0.000000        0.000000               0.000000  \n",
       "25%          0.000000        0.000000               0.000000  \n",
       "50%          0.000000        0.000000               0.000000  \n",
       "75%          0.000000        0.000000               0.000000  \n",
       "max        164.900000      215.990000             234.310000  "
      ]
     },
     "execution_count": 227,
     "metadata": {},
     "output_type": "execute_result"
    }
   ],
   "source": [
    "from scipy import stats\n",
    "z_score = abs(stats.zscore(model_table[columns]))\n",
    "limit = z_score<3\n",
    "model_table[columns][limit].describe()"
   ]
  },
  {
   "cell_type": "markdown",
   "id": "a058b3a6-33c1-4526-b24c-6cc0646db281",
   "metadata": {},
   "source": [
    "Melakukan pembersihan outlier dapat menurunkan variasi dari data."
   ]
  },
  {
   "cell_type": "markdown",
   "id": "935a3704-2cef-4876-9503-07dab421b9eb",
   "metadata": {
    "jp-MarkdownHeadingCollapsed": true,
    "tags": []
   },
   "source": [
    "# Customer Segmentation"
   ]
  },
  {
   "cell_type": "markdown",
   "id": "ecc6b0a5-aa8d-4f9d-93cd-2c787f282d5c",
   "metadata": {
    "tags": []
   },
   "source": [
    "## RFM scoring"
   ]
  },
  {
   "cell_type": "code",
   "execution_count": 243,
   "id": "69281a3f-4738-489f-8aaa-3ad4d81241d4",
   "metadata": {},
   "outputs": [],
   "source": [
    "rfm = model_table"
   ]
  },
  {
   "cell_type": "code",
   "execution_count": 244,
   "id": "5243c848-ba47-402e-8afd-20a4fcbeb75f",
   "metadata": {},
   "outputs": [],
   "source": [
    "bins_recency = [0,np.quantile(rfm['recency'],.33),np.quantile(rfm['recency'],.66),np.quantile(rfm['recency'],1)]\n",
    "bins_frequency = [0,np.quantile(rfm['frequency'],.33),np.quantile(rfm['frequency'],1)]\n",
    "bins_monetary = [0,np.quantile(rfm['monetary'],.33),np.quantile(rfm['monetary'],.66),np.quantile(rfm['monetary'],1)]"
   ]
  },
  {
   "cell_type": "code",
   "execution_count": 245,
   "id": "87d599a5-47b1-4e3e-a8c4-4f87b069061f",
   "metadata": {},
   "outputs": [],
   "source": [
    "rfm['recency_score']    = pd.cut(rfm['recency'], bins_recency, labels=[3, 2, 1], include_lowest=True)\n",
    "rfm['frequency_score']  = pd.cut(rfm['frequency'], bins_frequency, labels=[1, 2], include_lowest=True)\n",
    "rfm['monetary_score']   = pd.cut(rfm['monetary'], bins_monetary, labels=[1, 2, 3], include_lowest=True)"
   ]
  },
  {
   "cell_type": "code",
   "execution_count": 246,
   "id": "421dceb6-0dcc-401e-8013-0b4bdab79b69",
   "metadata": {},
   "outputs": [],
   "source": [
    "rfm['recency_score']    = rfm.recency_score.astype(int)\n",
    "rfm['frequency_score']  = rfm.frequency_score.astype(int)\n",
    "rfm['monetary_score']   = rfm.monetary_score.astype(int)\n",
    "rfm['rfm_score'] = rfm['recency_score'].map(str) + rfm['frequency_score'].map(str) + rfm['monetary_score'].map(str)"
   ]
  },
  {
   "cell_type": "markdown",
   "id": "72b249b5-e3fb-4def-b8e6-ba505ac9dc79",
   "metadata": {
    "tags": []
   },
   "source": [
    "# Kmeans Modeling "
   ]
  },
  {
   "cell_type": "code",
   "execution_count": 248,
   "id": "9c7a0016",
   "metadata": {},
   "outputs": [
    {
     "data": {
      "text/plain": [
       "Index(['customer_unique_id', 'recency', 'frequency', 'monetary',\n",
       "       'health_beauty', 'watches_gifts', 'bed_bath_table', 'sports_leisure',\n",
       "       'computers_accessories', 'recency_score', 'frequency_score',\n",
       "       'monetary_score', 'rfm_score'],\n",
       "      dtype='object')"
      ]
     },
     "execution_count": 248,
     "metadata": {},
     "output_type": "execute_result"
    }
   ],
   "source": [
    "rfm.columns"
   ]
  },
  {
   "cell_type": "code",
   "execution_count": 249,
   "id": "73e39e80",
   "metadata": {},
   "outputs": [],
   "source": [
    "columns = ['health_beauty', 'watches_gifts', 'bed_bath_table', 'sports_leisure', 'computers_accessories', 'recency_score', 'frequency_score', 'monetary_score']"
   ]
  },
  {
   "cell_type": "markdown",
   "id": "b896a987-b112-495d-ad86-2c1ad10312f2",
   "metadata": {
    "tags": []
   },
   "source": [
    "### RFM"
   ]
  },
  {
   "cell_type": "code",
   "execution_count": 250,
   "id": "2114cae6-735a-4a1c-9e08-584d06c6ec3b",
   "metadata": {},
   "outputs": [],
   "source": [
    "rfm_df = rfm[columns]"
   ]
  },
  {
   "cell_type": "code",
   "execution_count": 251,
   "id": "3e5b85cb-9abc-4888-8264-55f371322f46",
   "metadata": {},
   "outputs": [
    {
     "data": {
      "image/png": "[encoded data removed]",
      "text/plain": [
       "<Figure size 432x288 with 1 Axes>"
      ]
     },
     "metadata": {
      "needs_background": "light"
     },
     "output_type": "display_data"
    }
   ],
   "source": [
    "from sklearn.cluster import KMeans\n",
    "SSE = []\n",
    "for k in range(0,10):\n",
    "    kmeans = KMeans(n_clusters=k+1,random_state=43).fit(rfm_df)\n",
    "    SSE.append(kmeans.inertia_)\n",
    "sns.pointplot(x=list(range(1,11)),y=SSE)\n",
    "plt.show()"
   ]
  },
  {
   "cell_type": "code",
   "execution_count": 252,
   "id": "6608366a-484d-4660-a631-772e29a557da",
   "metadata": {
    "scrolled": true
   },
   "outputs": [
    {
     "data": {
      "image/png": "[encoded data removed]",
      "text/plain": [
       "<Figure size 576x396 with 1 Axes>"
      ]
     },
     "metadata": {},
     "output_type": "display_data"
    },
    {
     "data": {
      "text/html": [
       "<style>#sk-container-id-1 {color: black;background-color: white;}#sk-container-id-1 pre{padding: 0;}#sk-container-id-1 div.sk-toggleable {background-color: white;}#sk-container-id-1 label.sk-toggleable__label {cursor: pointer;display: block;width: 100%;margin-bottom: 0;padding: 0.3em;box-sizing: border-box;text-align: center;}#sk-container-id-1 label.sk-toggleable__label-arrow:before {content: \"▸\";float: left;margin-right: 0.25em;color: #696969;}#sk-container-id-1 label.sk-toggleable__label-arrow:hover:before {color: black;}#sk-container-id-1 div.sk-estimator:hover label.sk-toggleable__label-arrow:before {color: black;}#sk-container-id-1 div.sk-toggleable__content {max-height: 0;max-width: 0;overflow: hidden;text-align: left;background-color: #f0f8ff;}#sk-container-id-1 div.sk-toggleable__content pre {margin: 0.2em;color: black;border-radius: 0.25em;background-color: #f0f8ff;}#sk-container-id-1 input.sk-toggleable__control:checked~div.sk-toggleable__content {max-height: 200px;max-width: 100%;overflow: auto;}#sk-container-id-1 input.sk-toggleable__control:checked~label.sk-toggleable__label-arrow:before {content: \"▾\";}#sk-container-id-1 div.sk-estimator input.sk-toggleable__control:checked~label.sk-toggleable__label {background-color: #d4ebff;}#sk-container-id-1 div.sk-label input.sk-toggleable__control:checked~label.sk-toggleable__label {background-color: #d4ebff;}#sk-container-id-1 input.sk-hidden--visually {border: 0;clip: rect(1px 1px 1px 1px);clip: rect(1px, 1px, 1px, 1px);height: 1px;margin: -1px;overflow: hidden;padding: 0;position: absolute;width: 1px;}#sk-container-id-1 div.sk-estimator {font-family: monospace;background-color: #f0f8ff;border: 1px dotted black;border-radius: 0.25em;box-sizing: border-box;margin-bottom: 0.5em;}#sk-container-id-1 div.sk-estimator:hover {background-color: #d4ebff;}#sk-container-id-1 div.sk-parallel-item::after {content: \"\";width: 100%;border-bottom: 1px solid gray;flex-grow: 1;}#sk-container-id-1 div.sk-label:hover label.sk-toggleable__label {background-color: #d4ebff;}#sk-container-id-1 div.sk-serial::before {content: \"\";position: absolute;border-left: 1px solid gray;box-sizing: border-box;top: 0;bottom: 0;left: 50%;z-index: 0;}#sk-container-id-1 div.sk-serial {display: flex;flex-direction: column;align-items: center;background-color: white;padding-right: 0.2em;padding-left: 0.2em;position: relative;}#sk-container-id-1 div.sk-item {position: relative;z-index: 1;}#sk-container-id-1 div.sk-parallel {display: flex;align-items: stretch;justify-content: center;background-color: white;position: relative;}#sk-container-id-1 div.sk-item::before, #sk-container-id-1 div.sk-parallel-item::before {content: \"\";position: absolute;border-left: 1px solid gray;box-sizing: border-box;top: 0;bottom: 0;left: 50%;z-index: -1;}#sk-container-id-1 div.sk-parallel-item {display: flex;flex-direction: column;z-index: 1;position: relative;background-color: white;}#sk-container-id-1 div.sk-parallel-item:first-child::after {align-self: flex-end;width: 50%;}#sk-container-id-1 div.sk-parallel-item:last-child::after {align-self: flex-start;width: 50%;}#sk-container-id-1 div.sk-parallel-item:only-child::after {width: 0;}#sk-container-id-1 div.sk-dashed-wrapped {border: 1px dashed gray;margin: 0 0.4em 0.5em 0.4em;box-sizing: border-box;padding-bottom: 0.4em;background-color: white;}#sk-container-id-1 div.sk-label label {font-family: monospace;font-weight: bold;display: inline-block;line-height: 1.2em;}#sk-container-id-1 div.sk-label-container {text-align: center;}#sk-container-id-1 div.sk-container {/* jupyter's `normalize.less` sets `[hidden] { display: none; }` but bootstrap.min.css set `[hidden] { display: none !important; }` so we also need the `!important` here to be able to override the default hidden behavior on the sphinx rendered scikit-learn.org. See: https://github.com/scikit-learn/scikit-learn/issues/21755 */display: inline-block !important;position: relative;}#sk-container-id-1 div.sk-text-repr-fallback {display: none;}</style><div id=\"sk-container-id-1\" class=\"sk-top-container\"><div class=\"sk-text-repr-fallback\"><pre>SilhouetteVisualizer(ax=&lt;AxesSubplot:title={&#x27;center&#x27;:&#x27;Silhouette Plot of KMeans Clustering for 95420 Samples in 3 Centers&#x27;}, xlabel=&#x27;silhouette coefficient values&#x27;, ylabel=&#x27;cluster label&#x27;&gt;,\n",
       "                     colors=&#x27;yellowbrick&#x27;,\n",
       "                     estimator=KMeans(n_clusters=3, random_state=43))</pre><b>In a Jupyter environment, please rerun this cell to show the HTML representation or trust the notebook. <br />On GitHub, the HTML representation is unable to render, please try loading this page with nbviewer.org.</b></div><div class=\"sk-container\" hidden><div class=\"sk-item sk-dashed-wrapped\"><div class=\"sk-label-container\"><div class=\"sk-label sk-toggleable\"><input class=\"sk-toggleable__control sk-hidden--visually\" id=\"sk-estimator-id-1\" type=\"checkbox\" ><label for=\"sk-estimator-id-1\" class=\"sk-toggleable__label sk-toggleable__label-arrow\">SilhouetteVisualizer</label><div class=\"sk-toggleable__content\"><pre>SilhouetteVisualizer(ax=&lt;AxesSubplot:title={&#x27;center&#x27;:&#x27;Silhouette Plot of KMeans Clustering for 95420 Samples in 3 Centers&#x27;}, xlabel=&#x27;silhouette coefficient values&#x27;, ylabel=&#x27;cluster label&#x27;&gt;,\n",
       "                     colors=&#x27;yellowbrick&#x27;,\n",
       "                     estimator=KMeans(n_clusters=3, random_state=43))</pre></div></div></div><div class=\"sk-parallel\"><div class=\"sk-parallel-item\"><div class=\"sk-item\"><div class=\"sk-label-container\"><div class=\"sk-label sk-toggleable\"><input class=\"sk-toggleable__control sk-hidden--visually\" id=\"sk-estimator-id-2\" type=\"checkbox\" ><label for=\"sk-estimator-id-2\" class=\"sk-toggleable__label sk-toggleable__label-arrow\">estimator: KMeans</label><div class=\"sk-toggleable__content\"><pre>KMeans(n_clusters=3, random_state=43)</pre></div></div></div><div class=\"sk-serial\"><div class=\"sk-item\"><div class=\"sk-estimator sk-toggleable\"><input class=\"sk-toggleable__control sk-hidden--visually\" id=\"sk-estimator-id-3\" type=\"checkbox\" ><label for=\"sk-estimator-id-3\" class=\"sk-toggleable__label sk-toggleable__label-arrow\">KMeans</label><div class=\"sk-toggleable__content\"><pre>KMeans(n_clusters=3, random_state=43)</pre></div></div></div></div></div></div></div></div></div></div>"
      ],
      "text/plain": [
       "SilhouetteVisualizer(ax=<AxesSubplot:title={'center':'Silhouette Plot of KMeans Clustering for 95420 Samples in 3 Centers'}, xlabel='silhouette coefficient values', ylabel='cluster label'>,\n",
       "                     colors='yellowbrick',\n",
       "                     estimator=KMeans(n_clusters=3, random_state=43))"
      ]
     },
     "execution_count": 252,
     "metadata": {},
     "output_type": "execute_result"
    }
   ],
   "source": [
    "from yellowbrick.cluster import silhouette_visualizer\n",
    "silhouette_visualizer(KMeans(3, random_state=43), rfm_df, colors='yellowbrick')"
   ]
  },
  {
   "cell_type": "code",
   "execution_count": 253,
   "id": "be0dff93",
   "metadata": {},
   "outputs": [],
   "source": [
    "model = KMeans(n_clusters=3,random_state=43).fit(rfm_df)"
   ]
  },
  {
   "cell_type": "code",
   "execution_count": 254,
   "id": "1291994e",
   "metadata": {},
   "outputs": [],
   "source": [
    "rfm['cluster'] = model.labels_"
   ]
  },
  {
   "cell_type": "code",
   "execution_count": 261,
   "id": "db9c9ba3",
   "metadata": {
    "scrolled": true
   },
   "outputs": [],
   "source": [
    "rfm.groupby('cluster').agg({'recency':['mean','min','max'],'frequency':['mean','min','max']\n",
    "                             ,'monetary':['mean','min','max','count'],'health_beauty':['mean','min','max'], \n",
    "                            'watches_gifts':['mean','min','max'], 'bed_bath_table':['mean','min','max'], \n",
    "                            'sports_leisure':['mean','min','max'], 'computers_accessories':['mean','min','max']\n",
    "}).reset_index().to_excel('cluster.xlsx')"
   ]
  },
  {
   "cell_type": "markdown",
   "id": "b1e3a078-c0fc-496f-a352-881d4982bdd7",
   "metadata": {},
   "source": [
    "**Data Insight**\n",
    "\n",
    "Data clustering yang dihasilkan kurang baik"
   ]
  }
 ],
 "metadata": {
  "kernelspec": {
   "display_name": "Python 3 (ipykernel)",
   "language": "python",
   "name": "python3"
  },
  "language_info": {
   "codemirror_mode": {
    "name": "ipython",
    "version": 3
   },
   "file_extension": ".py",
   "mimetype": "text/x-python",
   "name": "python",
   "nbconvert_exporter": "python",
   "pygments_lexer": "ipython3",
   "version": "3.9.7"
  }
 },
 "nbformat": 4,
 "nbformat_minor": 5
}
