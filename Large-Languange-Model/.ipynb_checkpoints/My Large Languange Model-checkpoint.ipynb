{
 "cells": [
  {
   "cell_type": "markdown",
   "id": "e4878838",
   "metadata": {},
   "source": [
    "# Load Data"
   ]
  },
  {
   "cell_type": "code",
   "execution_count": 3,
   "id": "8e0ad19d",
   "metadata": {},
   "outputs": [],
   "source": [
    "import re\n",
    "import pandas as pd\n",
    "\n",
    "# Read the dialogue from the file\n",
    "file_path = \"data/Whatsapp_Chat.txt\"\n",
    "with open(file_path, \"r\", encoding=\"utf-8\") as file:\n",
    "    dialogue = file.read()\n",
    "\n",
    "lines = dialogue.strip().split('\\n')\n",
    "parsed_data = []\n",
    "current_date = \"\"\n",
    "hanif_message = \"\"\n",
    "cuty_pie_message = \"\"\n",
    "\n",
    "for line in lines:\n",
    "    match = re.match(r'(\\d{2}/\\d{2}/\\d{4}, \\d{2}:\\d{2}) - (.+?): (.+)', line)\n",
    "    if match:\n",
    "        date = match.group(1)\n",
    "        sender = match.group(2)\n",
    "        message = match.group(3)\n",
    "        \n",
    "        if sender == 'Muhammad Hanif Fajari':\n",
    "            hanif_message = message\n",
    "        elif sender == '😡 My Cuty Pie😡':\n",
    "            cuty_pie_message = message\n",
    "            if current_date == date:\n",
    "                parsed_data.append((current_date, hanif_message, cuty_pie_message))\n",
    "        \n",
    "        current_date = date\n",
    "\n",
    "df = pd.DataFrame(parsed_data, columns=['date', 'Muhammad Hanif Fajari', '😡 My Cuty Pie😡'])"
   ]
  },
  {
   "cell_type": "code",
   "execution_count": 10,
   "id": "2f412935",
   "metadata": {},
   "outputs": [],
   "source": [
    "import datetime as dt"
   ]
  },
  {
   "cell_type": "code",
   "execution_count": 15,
   "id": "726e9632",
   "metadata": {},
   "outputs": [],
   "source": [
    "df['date'] = pd.to_datetime(df['date'])"
   ]
  },
  {
   "cell_type": "code",
   "execution_count": 17,
   "id": "95843d63",
   "metadata": {
    "scrolled": false
   },
   "outputs": [
    {
     "data": {
      "text/plain": [
       "array([2023], dtype=int64)"
      ]
     },
     "execution_count": 17,
     "metadata": {},
     "output_type": "execute_result"
    }
   ],
   "source": [
    "df['date'].dt.year.unique()"
   ]
  },
  {
   "cell_type": "code",
   "execution_count": 7,
   "id": "95e7b034",
   "metadata": {},
   "outputs": [],
   "source": [
    "df =df.rename(columns={'😡 My Cuty Pie😡':'question','Muhammad Hanif Fajari':'answer'})"
   ]
  },
  {
   "cell_type": "code",
   "execution_count": 10,
   "id": "3c425ee5",
   "metadata": {},
   "outputs": [],
   "source": [
    "df.drop('date',axis=1,inplace=True)"
   ]
  },
  {
   "cell_type": "markdown",
   "id": "38abb24f",
   "metadata": {},
   "source": [
    "# Data Preprocessing"
   ]
  },
  {
   "cell_type": "code",
   "execution_count": 11,
   "id": "db5ce001",
   "metadata": {},
   "outputs": [],
   "source": [
    "import time\n",
    "import torch\n",
    "from transformers import Trainer, TrainingArguments\n",
    "from transformers import AutoModelForSeq2SeqLM, AutoTokenizer, GenerationConfig, TrainingArguments, Trainer\n",
    "import torch\n",
    "import time\n",
    "import evaluate\n",
    "import pandas as pd\n",
    "import numpy as np"
   ]
  },
  {
   "cell_type": "code",
   "execution_count": 12,
   "id": "161dbbe2",
   "metadata": {},
   "outputs": [],
   "source": [
    "if torch.cuda.is_available():\n",
    "    device = torch.device(\"cuda\")\n",
    "else:\n",
    "    device = torch.device(\"cpu\")"
   ]
  }
 ],
 "metadata": {
  "kernelspec": {
   "display_name": "Python 3 (ipykernel)",
   "language": "python",
   "name": "python3"
  },
  "language_info": {
   "codemirror_mode": {
    "name": "ipython",
    "version": 3
   },
   "file_extension": ".py",
   "mimetype": "text/x-python",
   "name": "python",
   "nbconvert_exporter": "python",
   "pygments_lexer": "ipython3",
   "version": "3.10.9"
  }
 },
 "nbformat": 4,
 "nbformat_minor": 5
}
