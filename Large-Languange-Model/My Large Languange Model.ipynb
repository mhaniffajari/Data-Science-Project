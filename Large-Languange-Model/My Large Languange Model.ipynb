{
 "cells": [
  {
   "cell_type": "markdown",
   "id": "e4878838",
   "metadata": {},
   "source": [
    "# Load Data"
   ]
  },
  {
   "cell_type": "code",
   "execution_count": 1,
   "id": "8e0ad19d",
   "metadata": {},
   "outputs": [],
   "source": [
    "import re\n",
    "import pandas as pd\n",
    "\n",
    "# Read the dialogue from the file\n",
    "file_path = \"data/Whatsapp_Chat.txt\"\n",
    "with open(file_path, \"r\", encoding=\"utf-8\") as file:\n",
    "    dialogue = file.read()\n",
    "\n",
    "lines = dialogue.strip().split('\\n')\n",
    "parsed_data = []\n",
    "current_date = \"\"\n",
    "hanif_message = \"\"\n",
    "cuty_pie_message = \"\"\n",
    "\n",
    "for line in lines:\n",
    "    match = re.match(r'(\\d{2}/\\d{2}/\\d{4}, \\d{2}:\\d{2}) - (.+?): (.+)', line)\n",
    "    if match:\n",
    "        date = match.group(1)\n",
    "        sender = match.group(2)\n",
    "        message = match.group(3)\n",
    "        \n",
    "        if sender == 'Muhammad Hanif Fajari':\n",
    "            hanif_message = message\n",
    "        elif sender == '😡 My Cuty Pie😡':\n",
    "            cuty_pie_message = message\n",
    "            if current_date == date:\n",
    "                parsed_data.append((current_date, hanif_message, cuty_pie_message))\n",
    "        \n",
    "        current_date = date\n",
    "\n",
    "df = pd.DataFrame(parsed_data, columns=['date', 'Muhammad Hanif Fajari', '😡 My Cuty Pie😡'])"
   ]
  },
  {
   "cell_type": "code",
   "execution_count": 2,
   "id": "95e7b034",
   "metadata": {},
   "outputs": [],
   "source": [
    "df =df.rename(columns={'😡 My Cuty Pie😡':'question','Muhammad Hanif Fajari':'answer'})"
   ]
  },
  {
   "cell_type": "code",
   "execution_count": 6,
   "id": "3c425ee5",
   "metadata": {},
   "outputs": [],
   "source": [
    "df.drop('date',axis=1,inplace=True)"
   ]
  },
  {
   "cell_type": "code",
   "execution_count": 8,
   "id": "596a49b2",
   "metadata": {},
   "outputs": [],
   "source": [
    "df.to_csv('chat_whatsapp.csv')"
   ]
  },
  {
   "cell_type": "markdown",
   "id": "38abb24f",
   "metadata": {},
   "source": [
    "# Data Preprocessing"
   ]
  },
  {
   "cell_type": "code",
   "execution_count": 2,
   "id": "db5ce001",
   "metadata": {},
   "outputs": [],
   "source": [
    "import time\n",
    "import torch\n",
    "from transformers import Trainer, TrainingArguments\n",
    "from transformers import AutoModelForSeq2SeqLM, AutoTokenizer, GenerationConfig, TrainingArguments, Trainer,AutoModel\n",
    "import torch\n",
    "import time\n",
    "import evaluate\n",
    "import pandas as pd\n",
    "import numpy as np"
   ]
  },
  {
   "cell_type": "code",
   "execution_count": 6,
   "id": "161dbbe2",
   "metadata": {},
   "outputs": [],
   "source": [
    "if torch.cuda.is_available():\n",
    "    device = torch.device(\"cuda\")\n",
    "else:\n",
    "    device = torch.device(\"cpu\")"
   ]
  },
  {
   "cell_type": "code",
   "execution_count": 3,
   "id": "bf9a730d",
   "metadata": {},
   "outputs": [
    {
     "data": {
      "text/plain": [
       "False"
      ]
     },
     "execution_count": 3,
     "metadata": {},
     "output_type": "execute_result"
    }
   ],
   "source": [
    "torch.cuda.is_available()"
   ]
  },
  {
   "cell_type": "code",
   "execution_count": 20,
   "id": "2a9cea09",
   "metadata": {},
   "outputs": [],
   "source": [
    "df = df.replace('',np.nan).fillna(method='bfill')"
   ]
  },
  {
   "cell_type": "code",
   "execution_count": 52,
   "id": "f9bcf88b",
   "metadata": {},
   "outputs": [],
   "source": [
    "model_name='google/flan-t5-base'\n",
    "\n",
    "original_model = AutoModelForSeq2SeqLM.from_pretrained(model_name, torch_dtype=torch.bfloat16)\n",
    "tokenizer = AutoTokenizer.from_pretrained(model_name)"
   ]
  },
  {
   "cell_type": "code",
   "execution_count": 53,
   "id": "2432dddd",
   "metadata": {},
   "outputs": [
    {
     "name": "stdout",
     "output_type": "stream",
     "text": [
      "trainable model parameters: 247577856\n",
      "all model parameters: 247577856\n",
      "percentage of trainable model parameters: 100.00%\n"
     ]
    }
   ],
   "source": [
    "def print_number_of_trainable_model_parameters(model):\n",
    "    trainable_model_params = 0\n",
    "    all_model_params = 0\n",
    "    for _, param in model.named_parameters():\n",
    "        all_model_params += param.numel()\n",
    "        if param.requires_grad:\n",
    "            trainable_model_params += param.numel()\n",
    "    return f\"trainable model parameters: {trainable_model_params}\\nall model parameters: {all_model_params}\\npercentage of trainable model parameters: {100 * trainable_model_params / all_model_params:.2f}%\"\n",
    "\n",
    "print(print_number_of_trainable_model_parameters(original_model))"
   ]
  },
  {
   "cell_type": "code",
   "execution_count": 33,
   "id": "9132db90",
   "metadata": {},
   "outputs": [
    {
     "data": {
      "text/html": [
       "<div>\n",
       "<style scoped>\n",
       "    .dataframe tbody tr th:only-of-type {\n",
       "        vertical-align: middle;\n",
       "    }\n",
       "\n",
       "    .dataframe tbody tr th {\n",
       "        vertical-align: top;\n",
       "    }\n",
       "\n",
       "    .dataframe thead th {\n",
       "        text-align: right;\n",
       "    }\n",
       "</style>\n",
       "<table border=\"1\" class=\"dataframe\">\n",
       "  <thead>\n",
       "    <tr style=\"text-align: right;\">\n",
       "      <th></th>\n",
       "      <th>answer</th>\n",
       "      <th>question</th>\n",
       "    </tr>\n",
       "  </thead>\n",
       "  <tbody>\n",
       "    <tr>\n",
       "      <th>0</th>\n",
       "      <td>rajin banget be bawa naskun banyak segitu</td>\n",
       "      <td>aku jadi kangen mereka🤣</td>\n",
       "    </tr>\n",
       "    <tr>\n",
       "      <th>1</th>\n",
       "      <td>rajin banget be bawa naskun banyak segitu</td>\n",
       "      <td>iyaa wkwk</td>\n",
       "    </tr>\n",
       "    <tr>\n",
       "      <th>2</th>\n",
       "      <td>rajin banget be bawa naskun banyak segitu</td>\n",
       "      <td>haha</td>\n",
       "    </tr>\n",
       "    <tr>\n",
       "      <th>3</th>\n",
       "      <td>bawa aja ke cosmax bisa ga si be mereka2 itu wkwk</td>\n",
       "      <td>ga bisa wkwk</td>\n",
       "    </tr>\n",
       "    <tr>\n",
       "      <th>4</th>\n",
       "      <td>bawa aja ke cosmax bisa ga si be mereka2 itu wkwk</td>\n",
       "      <td>wkwkwkwk</td>\n",
       "    </tr>\n",
       "    <tr>\n",
       "      <th>...</th>\n",
       "      <td>...</td>\n",
       "      <td>...</td>\n",
       "    </tr>\n",
       "    <tr>\n",
       "      <th>10998</th>\n",
       "      <td>lagi bikin pipeline codingan kenapa sayangku?</td>\n",
       "      <td>bubi</td>\n",
       "    </tr>\n",
       "    <tr>\n",
       "      <th>10999</th>\n",
       "      <td>ini bub</td>\n",
       "      <td>&lt;Media omitted&gt;</td>\n",
       "    </tr>\n",
       "    <tr>\n",
       "      <th>11000</th>\n",
       "      <td>abang poulet lagi naik pesawat bub</td>\n",
       "      <td>iyaa wkwk putih bgt</td>\n",
       "    </tr>\n",
       "    <tr>\n",
       "      <th>11001</th>\n",
       "      <td>bub mam apa kamu bebi</td>\n",
       "      <td>beli di baharii</td>\n",
       "    </tr>\n",
       "    <tr>\n",
       "      <th>11002</th>\n",
       "      <td>oke sayangku</td>\n",
       "      <td>tapi gaada di margonda dah wkwk</td>\n",
       "    </tr>\n",
       "  </tbody>\n",
       "</table>\n",
       "<p>11003 rows × 2 columns</p>\n",
       "</div>"
      ],
      "text/plain": [
       "                                                  answer  \\\n",
       "0              rajin banget be bawa naskun banyak segitu   \n",
       "1              rajin banget be bawa naskun banyak segitu   \n",
       "2              rajin banget be bawa naskun banyak segitu   \n",
       "3      bawa aja ke cosmax bisa ga si be mereka2 itu wkwk   \n",
       "4      bawa aja ke cosmax bisa ga si be mereka2 itu wkwk   \n",
       "...                                                  ...   \n",
       "10998      lagi bikin pipeline codingan kenapa sayangku?   \n",
       "10999                                            ini bub   \n",
       "11000                 abang poulet lagi naik pesawat bub   \n",
       "11001                              bub mam apa kamu bebi   \n",
       "11002                                       oke sayangku   \n",
       "\n",
       "                              question  \n",
       "0              aku jadi kangen mereka🤣  \n",
       "1                            iyaa wkwk  \n",
       "2                                 haha  \n",
       "3                         ga bisa wkwk  \n",
       "4                             wkwkwkwk  \n",
       "...                                ...  \n",
       "10998                             bubi  \n",
       "10999                  <Media omitted>  \n",
       "11000              iyaa wkwk putih bgt  \n",
       "11001                  beli di baharii  \n",
       "11002  tapi gaada di margonda dah wkwk  \n",
       "\n",
       "[11003 rows x 2 columns]"
      ]
     },
     "execution_count": 33,
     "metadata": {},
     "output_type": "execute_result"
    }
   ],
   "source": [
    "df"
   ]
  },
  {
   "cell_type": "markdown",
   "id": "47233ca3",
   "metadata": {},
   "source": [
    "# Train Model"
   ]
  },
  {
   "cell_type": "markdown",
   "id": "e63e3c77",
   "metadata": {},
   "source": [
    "## Zero Inference"
   ]
  },
  {
   "cell_type": "code",
   "execution_count": 54,
   "id": "614c7707",
   "metadata": {
    "scrolled": true
   },
   "outputs": [
    {
     "name": "stdout",
     "output_type": "stream",
     "text": [
      "---------------------------------------------------------------------------------------------------\n",
      "INPUT PROMPT:\n",
      "\n",
      "jawab pertanyaan berikut ini.\n",
      "\n",
      "udh enek\n",
      "\n",
      "jawaban:\n",
      "\n",
      "---------------------------------------------------------------------------------------------------\n",
      "BASELINE HUMAN SUMMARY:\n",
      "be di pocin\n",
      "\n",
      "---------------------------------------------------------------------------------------------------\n",
      "MODEL GENERATION - ZERO SHOT:\n",
      "iii tahun tahun tahun tahun tahun tahun tahun tahun tahun tahun tahun tahun tahun tahun tahun tahun tahun tahun tahun tahun tahun tahun tahun tahun tahun tahun tahun tahun tahun tahun tahun tahun tahun tahun tahun tahun tahun tahun tahun \n"
     ]
    }
   ],
   "source": [
    "index = 150\n",
    "\n",
    "question = df['question'][index]\n",
    "answer = df['answer'][index]\n",
    "\n",
    "prompt = f\"\"\"\n",
    "jawab pertanyaan berikut ini.\n",
    "\n",
    "{question}\n",
    "\n",
    "jawaban:\n",
    "\"\"\"\n",
    "\n",
    "inputs = tokenizer(prompt, return_tensors='pt')\n",
    "output = tokenizer.decode(\n",
    "    original_model.generate(\n",
    "        inputs[\"input_ids\"], \n",
    "        max_new_tokens=200,\n",
    "    )[0], \n",
    "    skip_special_tokens=True\n",
    ")\n",
    "\n",
    "dash_line = '-'.join('' for x in range(100))\n",
    "print(dash_line)\n",
    "print(f'INPUT PROMPT:\\n{prompt}')\n",
    "print(dash_line)\n",
    "print(f'BASELINE HUMAN SUMMARY:\\n{answer}\\n')\n",
    "print(dash_line)\n",
    "print(f'MODEL GENERATION - ZERO SHOT:\\n{output}')"
   ]
  },
  {
   "cell_type": "code",
   "execution_count": 55,
   "id": "c132f5ad",
   "metadata": {},
   "outputs": [
    {
     "name": "stdout",
     "output_type": "stream",
     "text": [
      "apa itu google?\n",
      "Google\n"
     ]
    }
   ],
   "source": [
    "prompt = 'apa itu google?'\n",
    "inputs = tokenizer(prompt, return_tensors='pt')\n",
    "output = tokenizer.decode(\n",
    "    original_model.generate(\n",
    "        inputs[\"input_ids\"], \n",
    "        max_new_tokens=200,\n",
    "    )[0], \n",
    "    skip_special_tokens=True\n",
    ")\n",
    "print(prompt)\n",
    "print(output)"
   ]
  },
  {
   "cell_type": "markdown",
   "id": "11a8c4a8",
   "metadata": {},
   "source": [
    "## Perform Fine Tuning"
   ]
  },
  {
   "cell_type": "code",
   "execution_count": null,
   "id": "671bce42",
   "metadata": {},
   "outputs": [],
   "source": []
  }
 ],
 "metadata": {
  "kernelspec": {
   "display_name": "Python 3 (ipykernel)",
   "language": "python",
   "name": "python3"
  },
  "language_info": {
   "codemirror_mode": {
    "name": "ipython",
    "version": 3
   },
   "file_extension": ".py",
   "mimetype": "text/x-python",
   "name": "python",
   "nbconvert_exporter": "python",
   "pygments_lexer": "ipython3",
   "version": "3.10.12"
  }
 },
 "nbformat": 4,
 "nbformat_minor": 5
}
