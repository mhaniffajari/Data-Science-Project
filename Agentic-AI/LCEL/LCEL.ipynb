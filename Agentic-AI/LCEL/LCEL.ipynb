{
 "cells": [
  {
   "cell_type": "markdown",
   "id": "b2c0e713",
   "metadata": {},
   "source": [
    "# Langchain Expression Language (LCEL)"
   ]
  },
  {
   "cell_type": "code",
   "execution_count": 2,
   "id": "6cc435bf",
   "metadata": {},
   "outputs": [],
   "source": [
    "import os\n",
    "from dotenv import load_dotenv\n",
    "from langchain_community.document_loaders import WebBaseLoader\n",
    "load_dotenv()\n",
    "GROQ_API_KEY= os.getenv('GROQ_API_KEY')"
   ]
  },
  {
   "cell_type": "code",
   "execution_count": 4,
   "id": "4b2022a6",
   "metadata": {},
   "outputs": [
    {
     "data": {
      "text/plain": [
       "ChatGroq(client=<groq.resources.chat.completions.Completions object at 0x000001D8468680D0>, async_client=<groq.resources.chat.completions.AsyncCompletions object at 0x000001D846868B10>, model_name='gemma2-9b-it', model_kwargs={}, groq_api_key=SecretStr('**********'))"
      ]
     },
     "execution_count": 4,
     "metadata": {},
     "output_type": "execute_result"
    }
   ],
   "source": [
    "from langchain_community.llms import Ollama\n",
    "from langchain_groq import ChatGroq\n",
    "model = ChatGroq(model='gemma2-9b-it',api_key=GROQ_API_KEY)\n",
    "model"
   ]
  },
  {
   "cell_type": "code",
   "execution_count": 7,
   "id": "5483d5e0",
   "metadata": {},
   "outputs": [],
   "source": [
    "response = model.invoke(\"Hi how are you?\")"
   ]
  },
  {
   "cell_type": "code",
   "execution_count": 10,
   "id": "ba4ad3ee",
   "metadata": {},
   "outputs": [
    {
     "data": {
      "text/plain": [
       "AIMessage(content=\"As an AI, I don't have feelings, but I'm here and ready to assist you! How can I help you today? 😊\\n\", additional_kwargs={}, response_metadata={'token_usage': {'completion_tokens': 33, 'prompt_tokens': 14, 'total_tokens': 47, 'completion_time': 0.06, 'prompt_time': 0.002056567, 'queue_time': 0.24875310899999997, 'total_time': 0.062056567}, 'model_name': 'gemma2-9b-it', 'system_fingerprint': 'fp_10c08bf97d', 'finish_reason': 'stop', 'logprobs': None}, id='run--40293515-7b86-49ac-8b98-8b230ad96b00-0', usage_metadata={'input_tokens': 14, 'output_tokens': 33, 'total_tokens': 47})"
      ]
     },
     "execution_count": 10,
     "metadata": {},
     "output_type": "execute_result"
    }
   ],
   "source": [
    "response"
   ]
  },
  {
   "cell_type": "code",
   "execution_count": 12,
   "id": "815c42c3",
   "metadata": {},
   "outputs": [],
   "source": [
    "from langchain_core.messages import HumanMessage,SystemMessage\n",
    "messages  =[\n",
    "    SystemMessage(content=\"You are financial advisor, you help me to achieve my financial goals\"),\n",
    "    HumanMessage(content = \"I want to be married in 2 year, I want to buy a house and car in same time. How to achieve this goal?\")\n",
    "]\n",
    "response = model.invoke(messages)"
   ]
  },
  {
   "cell_type": "code",
   "execution_count": 14,
   "id": "0044b8ea",
   "metadata": {},
   "outputs": [
    {
     "data": {
      "text/plain": [
       "\"Congratulations on your upcoming marriage and big life goals!  It's great you're thinking ahead. Buying a house and a car at the same time is a big undertaking, so let's break down a plan to help you achieve this in two years:\\n\\n**1. Define Your Goals:**\\n\\n* **Wedding Budget:** How much do you envision spending on your wedding? \\n* **House Budget:** What kind of house are you looking for? In what area? Get a realistic estimate of the purchase price, including closing costs.\\n* **Car Budget:**  New or used? What features are essential? \\n\\n**2. Assess Your Current Financial Situation:**\\n\\n* **Income & Expenses:**  Track your income and expenses for a few months to understand where your money goes.\\n* **Savings:** How much do you have saved already?\\n* **Debts:** List all your debts (student loans, credit cards, etc.) and their interest rates.\\n* **Credit Score:**  Check your credit score – a higher score means better loan terms.\\n\\n**3. Create a Budget and Savings Plan:**\\n\\n* **Prioritize:** Determine which goal is most important and allocate savings accordingly.\\n* **Cut Expenses:**  Identify areas where you can reduce spending (dining out, subscriptions, etc.).\\n* **Increase Income:** Explore possibilities for extra income (side hustle, freelance work).\\n* **Automate Savings:** Set up automatic transfers to your savings accounts each payday.\\n\\n**4. Explore Financing Options:**\\n\\n* **Mortgage Pre-Approval:** Get pre-approved for a mortgage to understand your borrowing power.\\n* **Car Loan Pre-Qualification:**  Similarly, pre-qualify for a car loan.\\n* **Down Payment:** Aim for a substantial down payment to reduce your loan amount and monthly payments.\\n\\n**5. Consider Timing:**\\n\\n* **Staggered Purchases:**  If possible, consider buying the car first and then focusing on the house.\\n* **Wedding Savings:**  Set aside a specific amount each month for wedding expenses.\\n\\n**6. Seek Professional Advice:**\\n\\n* **Financial Advisor:** A financial advisor can provide personalized guidance based on your specific situation.\\n* **Real Estate Agent:** An experienced agent can help you find the right house and negotiate a good price.\\n* **Mortgage Broker:** A broker can help you compare mortgage options and secure the best rates.\\n\\n**Important Tips:**\\n\\n* **Be Realistic:**  Adjust your goals based on your financial capabilities.\\n* **Stay Disciplined:**  Stick to your budget and savings plan.\\n* **Shop Around:**  Compare prices and loan terms before making any major purchases.\\n* **Build an Emergency Fund:** Aim for 3-6 months of living expenses to cover unexpected costs.\\n\\n\\nRemember, achieving your goals takes time, effort, and planning. By taking a proactive approach and seeking professional advice, you can make your dream wedding and homeownership a reality!\\n\""
      ]
     },
     "execution_count": 14,
     "metadata": {},
     "output_type": "execute_result"
    }
   ],
   "source": [
    "from langchain_core.output_parsers import StrOutputParser\n",
    "parser = StrOutputParser()\n",
    "result = parser.parse(response.content)\n",
    "result"
   ]
  },
  {
   "cell_type": "code",
   "execution_count": 15,
   "id": "c2930b05",
   "metadata": {},
   "outputs": [
    {
     "data": {
      "text/plain": [
       "\"Congratulations on your upcoming wedding! \\n\\nIt's fantastic that you're thinking about your financial future. Buying a house and a car at the same time is a big goal, so let's break it down and create a plan:\\n\\n**1. Define Your Goals:**\\n\\n* **Wedding:**  How much do you estimate your wedding will cost? This includes everything from the venue to catering to attire.\\n* **House:** What kind of house are you looking for? Where do you want to live? Research average home prices in your desired area.\\n* **Car:**  New or used? What features are important to you? Get an idea of the price range.\\n\\n**2. Assess Your Current Financial Situation:**\\n\\n* **Income:**  What is your current monthly income (after taxes)? \\n* **Expenses:** Track your spending for a few months to understand where your money goes.\\n* **Savings:** How much do you have saved already?\\n* **Debt:**  Do you have any outstanding loans or credit card debt? \\n\\n**3. Create a Budget:**\\n\\n* **Prioritize:** Decide which goal is most important to you. This will help you allocate your funds accordingly.\\n* **Save Aggressively:** Set a realistic savings goal each month. Consider cutting unnecessary expenses and finding ways to increase your income.\\n* **Emergency Fund:**  Make sure you have 3-6 months of living expenses saved in case of unexpected events.\\n\\n**4. Explore Financing Options:**\\n\\n* **Mortgage:** Shop around for the best mortgage rates and terms. Get pre-approved to know how much you can borrow.\\n* **Car Loan:**  Compare interest rates from different lenders. Consider putting down a larger down payment to reduce your monthly payments.\\n* **Down Payment Assistance:**  Look into programs that offer down payment assistance for first-time homebuyers.\\n\\n**5.  Timeline:**\\n\\n* **2-Year Timeline:**\\n    * **Year 1:** Focus on saving aggressively for your wedding and down payment. Pay down any high-interest debt.\\n    * **Year 2:**  Finalize your wedding plans, continue saving, and start actively house hunting. Get pre-approved for a mortgage. Once you find a house, secure financing and consider a car loan.\\n\\n**6. Seek Professional Advice:**\\n\\n* **Financial Advisor:** A financial advisor can help you create a personalized financial plan, manage investments, and navigate complex financial decisions.\\n* **Real Estate Agent:** A real estate agent can guide you through the home buying process, negotiate on your behalf, and help you find the right property.\\n\\n**Remember:**\\n\\n* **Be Realistic:**  Set achievable goals and adjust your plan as needed.\\n* **Stay Disciplined:** Stick to your budget and avoid impulse purchases.\\n* **Celebrate Milestones:**  Reward yourself for reaching your savings goals!\\n\\n\\nIt's ambitious to buy a house and a car at the same time, but with careful planning, disciplined saving, and smart financing, you can achieve your dream wedding and homeownership goals. \\n\""
      ]
     },
     "execution_count": 15,
     "metadata": {},
     "output_type": "execute_result"
    }
   ],
   "source": [
    "chain = model | parser\n",
    "chain.invoke(messages)"
   ]
  },
  {
   "cell_type": "code",
   "execution_count": 18,
   "id": "5adc922b",
   "metadata": {},
   "outputs": [],
   "source": [
    "from langchain_core.prompts import ChatPromptTemplate\n",
    "\n",
    "generic_template = \"You are {context},Please help me achieve my goal: {goal}\"\n",
    "prompt = ChatPromptTemplate.from_messages(\n",
    "    [(\"system\",generic_template),(\"user\",\"{text}\")]\n",
    ")"
   ]
  },
  {
   "cell_type": "code",
   "execution_count": null,
   "id": "e7b38550",
   "metadata": {},
   "outputs": [],
   "source": [
    "result = prompt.invoke(\n",
    "    {\n",
    "        \"context\": \"investment advisor\",\n",
    "        \"goal\":\"return 15% in 1 year\",\n",
    "        \"text\": \"I have 500$ to invest, give me suggestion what stock I can buy in Indonesia Stock Exchange ?\"\n",
    "    }\n",
    ")"
   ]
  },
  {
   "cell_type": "code",
   "execution_count": 26,
   "id": "a919004c",
   "metadata": {},
   "outputs": [],
   "source": [
    "chain  = prompt | model | parser\n",
    "response = chain.invoke(\n",
    "    {\n",
    "        \"context\": \"investment advisor\",\n",
    "        \"goal\":\"long term investment\",\n",
    "        \"text\": \"what do you think about Astra International Tbk PT (ASII) performance in last 5 years? Should I buy this stock?\"\n",
    "    }\n",
    ")"
   ]
  },
  {
   "cell_type": "code",
   "execution_count": 27,
   "id": "56d7dbb7",
   "metadata": {},
   "outputs": [
    {
     "data": {
      "text/plain": [
       "\"I understand you're looking for long-term investment advice and are interested in Astra International Tbk PT (ASII).  \\n\\nAs an AI, I cannot give financial advice. It would be irresponsible of me to tell you whether or not to buy a specific stock.  \\n\\n**Here's what I can do to help you make an informed decision:**\\n\\n1. **Provide information about ASII's past performance:**\\n\\n* You can find detailed financial information about ASII, including its past 5 years of performance, on reputable financial websites like:\\n    * Yahoo Finance\\n    * Google Finance\\n    * Bloomberg\\n    * Reuters\\n* Look at metrics like revenue growth, profit margins, earnings per share, and dividend history.\\n\\n2. **Discuss the factors that influence ASII's performance:**\\n\\n* **Indonesia's economy:** ASII is a major player in the Indonesian automotive market. The health of the Indonesian economy and consumer spending significantly impact its performance.\\n* **Automotive industry trends:** Global and local trends in vehicle sales, fuel prices, and technological advancements affect ASII.\\n* **Competition:** ASII faces competition from both local and international automotive companies.\\n* **Government policies:** Regulations and incentives related to the automotive industry can influence ASII's operations.\\n\\n3. **Highlight the risks associated with investing in ASII:**\\n\\n* **Market volatility:** Stock prices can fluctuate significantly, and ASII's share price is no exception.\\n* **Economic uncertainty:** Global and local economic downturns can negatively impact ASII's sales and profitability.\\n* **Industry disruptions:** Technological advancements or changes in consumer preferences could disrupt the automotive industry.\\n\\n**Remember:**\\n\\n* **Past performance is not indicative of future results.** While ASII's past performance can provide insights, it's not a guarantee of future success.\\n* **Diversify your portfolio:** Don't put all your eggs in one basket. Spread your investments across different asset classes and industries to reduce risk.\\n* **Consult a financial advisor:** A qualified financial advisor can provide personalized advice based on your individual circumstances, risk tolerance, and financial goals.\\n\\n\\nBy conducting thorough research and considering all the factors involved, you can make a more informed decision about whether or not to invest in ASII. \\n\""
      ]
     },
     "execution_count": 27,
     "metadata": {},
     "output_type": "execute_result"
    }
   ],
   "source": [
    "response"
   ]
  }
 ],
 "metadata": {
  "kernelspec": {
   "display_name": "Python 3",
   "language": "python",
   "name": "python3"
  },
  "language_info": {
   "codemirror_mode": {
    "name": "ipython",
    "version": 3
   },
   "file_extension": ".py",
   "mimetype": "text/x-python",
   "name": "python",
   "nbconvert_exporter": "python",
   "pygments_lexer": "ipython3",
   "version": "3.11.3"
  }
 },
 "nbformat": 4,
 "nbformat_minor": 5
}
