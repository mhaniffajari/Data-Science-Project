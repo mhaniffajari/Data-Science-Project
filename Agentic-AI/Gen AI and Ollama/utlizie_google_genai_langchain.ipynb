{
 "cells": [
  {
   "cell_type": "markdown",
   "id": "12ae3b5d",
   "metadata": {},
   "source": [
    "# Utilize Google Gen AI API and LangChain API"
   ]
  },
  {
   "cell_type": "code",
   "execution_count": 55,
   "id": "2dda6ed3",
   "metadata": {},
   "outputs": [],
   "source": [
    "import os\n",
    "from dotenv import load_dotenv\n",
    "load_dotenv()\n",
    "GOOGLE_API_KEY = os.getenv('GOOGLE_API_KEY')\n",
    "LANGSMITH_API_KEY = os.getenv('LANGCHAIN_API_KEY')\n",
    "LANGSMITH_ENDPOINT=\"https://api.smith.langchain.com\"\n",
    "LANGSMITH_TRACING='true'\n",
    "LANGSMITH_PROJECT = \"pr-majestic-control-96\""
   ]
  },
  {
   "cell_type": "code",
   "execution_count": 56,
   "id": "765e5c00",
   "metadata": {},
   "outputs": [],
   "source": [
    "from langchain_google_genai import ChatGoogleGenerativeAI\n",
    "llm = ChatGoogleGenerativeAI(model=\"gemini-1.5-flash\", api_key=GOOGLE_API_KEY)"
   ]
  },
  {
   "cell_type": "code",
   "execution_count": 57,
   "id": "b50d3ce2",
   "metadata": {},
   "outputs": [],
   "source": [
    "result = llm.invoke('what is bitcoin?')"
   ]
  },
  {
   "cell_type": "code",
   "execution_count": 54,
   "id": "692d253d",
   "metadata": {},
   "outputs": [
    {
     "name": "stdout",
     "output_type": "stream",
     "text": [
      "Bitcoin is a decentralized digital currency, without a central bank or single administrator, that can be sent from user to user on the peer-to-peer bitcoin network without the need for intermediaries.  Transactions are verified by network nodes through cryptography and recorded in a public distributed ledger called a blockchain.\n",
      "\n",
      "Here's a breakdown of key aspects:\n",
      "\n",
      "* **Decentralized:** Unlike traditional currencies issued and controlled by governments or central banks, Bitcoin's control is distributed across its network of users.  No single entity can manipulate or shut it down.\n",
      "\n",
      "* **Cryptographic:**  Bitcoin uses cryptography to secure transactions and control the creation of new bitcoins. This ensures the integrity and security of the system.\n",
      "\n",
      "* **Blockchain:**  The blockchain is a public, shared ledger that records all Bitcoin transactions.  This ledger is replicated across many computers, making it extremely difficult to alter or tamper with.\n",
      "\n",
      "* **Peer-to-Peer:** Transactions occur directly between users, without the need for a central authority like a bank.\n",
      "\n",
      "* **Limited Supply:**  There will only ever be 21 million bitcoins. This scarcity is built into the Bitcoin protocol.\n",
      "\n",
      "* **Mining:**  New bitcoins are created through a process called \"mining,\" where computers solve complex mathematical problems to verify transactions and add new blocks to the blockchain.  Miners are rewarded with newly created bitcoins.\n",
      "\n",
      "In short, Bitcoin is a revolutionary digital currency that aims to provide a secure, transparent, and decentralized alternative to traditional financial systems.  However, it's also highly volatile and subject to price fluctuations.\n"
     ]
    }
   ],
   "source": [
    "print(result.content)"
   ]
  },
  {
   "cell_type": "code",
   "execution_count": 45,
   "id": "79cd74df",
   "metadata": {},
   "outputs": [
    {
     "name": "stdout",
     "output_type": "stream",
     "text": [
      "input_variables=['question'] input_types={} partial_variables={} messages=[SystemMessagePromptTemplate(prompt=PromptTemplate(input_variables=[], input_types={}, partial_variables={}, template='You are bitcoin expert. Provide me answeers with references'), additional_kwargs={}), HumanMessagePromptTemplate(prompt=PromptTemplate(input_variables=['question'], input_types={}, partial_variables={}, template='{question}'), additional_kwargs={})]\n"
     ]
    }
   ],
   "source": [
    "from langchain_core.prompts import ChatPromptTemplate\n",
    "prompt_template = ChatPromptTemplate.from_messages(\n",
    "    [\n",
    "        (\"system\",\"You are bitcoin expert. Provide me answeers with references\"),\n",
    "        (\"human\",\"{question}\")\n",
    "    ]\n",
    ")\n",
    "print(prompt_template)"
   ]
  },
  {
   "cell_type": "code",
   "execution_count": 46,
   "id": "d3ed4135",
   "metadata": {},
   "outputs": [],
   "source": [
    "chain = prompt_template|llm\n",
    "result = chain.invoke({'question': 'what is bitcoin?'})"
   ]
  },
  {
   "cell_type": "code",
   "execution_count": 49,
   "id": "e8dbc3e3",
   "metadata": {},
   "outputs": [
    {
     "name": "stdout",
     "output_type": "stream",
     "text": [
      "Bitcoin is a decentralized digital currency, without a central bank or single administrator, that can be sent from user to user on the peer-to-peer bitcoin network without the need for intermediaries.  Transactions are verified by network nodes through cryptography and recorded in a public distributed ledger called a blockchain.  \n",
      "\n",
      "Here's a breakdown of key aspects, referencing relevant sources where possible:\n",
      "\n",
      "* **Decentralized:**  This is a core principle.  Unlike traditional currencies controlled by central banks, Bitcoin's operation is distributed across a vast network of computers.  This makes it resistant to censorship and single points of failure.  (See Nakamoto, S. (2008). Bitcoin: A peer-to-peer electronic cash system.  This is the seminal whitepaper introducing Bitcoin.)\n",
      "\n",
      "* **Digital Currency:** Bitcoin exists only in digital form.  There are no physical bitcoins.  Transactions are recorded electronically.\n",
      "\n",
      "* **Peer-to-Peer (P2P):**  Transactions occur directly between users, without the need for a central authority like a bank to process them. This enhances privacy and reduces transaction fees compared to traditional banking systems.\n",
      "\n",
      "* **Cryptography:**  Bitcoin uses cryptographic techniques to secure transactions and control the creation of new bitcoins.  This ensures the integrity and authenticity of the currency. (For a deep dive into the cryptography, you'd need to consult academic papers on elliptic curve cryptography and hash functions used within the Bitcoin protocol.)\n",
      "\n",
      "* **Blockchain:** The blockchain is a public, chronologically ordered, and immutable ledger of all Bitcoin transactions.  This transparency allows anyone to verify the validity of transactions. (Numerous resources explain blockchains; a good starting point is the Bitcoin Wiki: [https://en.bitcoin.it/wiki/Main_Page](https://en.bitcoin.it/wiki/Main_Page) )\n",
      "\n",
      "In short, Bitcoin is a revolutionary technology aiming to provide a secure, transparent, and decentralized alternative to traditional financial systems.  However, it's also important to understand its limitations and potential risks, such as price volatility and regulatory uncertainty.\n"
     ]
    }
   ],
   "source": [
    "print(result.content)"
   ]
  },
  {
   "cell_type": "code",
   "execution_count": 50,
   "id": "9253d1e3",
   "metadata": {},
   "outputs": [
    {
     "name": "stdout",
     "output_type": "stream",
     "text": [
      "Bitcoin is a decentralized digital currency, without a central bank or single administrator, that can be sent from user to user on the peer-to-peer bitcoin network without the need for intermediaries.  Transactions are verified by network nodes through cryptography and recorded in a public distributed ledger called a blockchain.\n",
      "\n",
      "Here's a breakdown of key aspects, referencing relevant sources where possible:\n",
      "\n",
      "* **Decentralized:**  Unlike traditional currencies issued and controlled by central banks (like the US dollar or the Euro), Bitcoin's operation isn't controlled by any single entity. This is a core tenet of its design, aiming to prevent censorship and manipulation.  [Source: Nakamoto, S. (2008). Bitcoin: A peer-to-peer electronic cash system.  This is the original Bitcoin whitepaper which lays out the foundational concepts.]\n",
      "\n",
      "* **Digital Currency:** Bitcoin exists only in digital form.  It's not physical cash or a representation of a physical asset.  You can't hold a Bitcoin coin in your hand; it's a record on the blockchain.\n",
      "\n",
      "* **Peer-to-Peer (P2P):** Transactions occur directly between users, without the need for a bank or payment processor to act as an intermediary.  This reduces transaction fees and speeds up the process. [Source:  The Bitcoin whitepaper extensively details the P2P architecture.]\n",
      "\n",
      "* **Cryptography:**  Bitcoin utilizes cryptography to secure transactions and control the creation of new Bitcoins.  This ensures the integrity and authenticity of transactions. [Source:  Numerous academic papers and resources detail the cryptographic aspects of Bitcoin, including elliptic curve cryptography and hash functions.]\n",
      "\n",
      "* **Blockchain:**  The blockchain is a public, distributed ledger that records all Bitcoin transactions.  This ledger is replicated across many computers in the network, making it highly resistant to tampering or fraud.  [Source:  Numerous resources explain blockchain technology, including academic papers and online tutorials.]\n",
      "\n",
      "\n",
      "In essence, Bitcoin is a revolutionary attempt at creating a digital cash system that is independent of traditional financial institutions and operates on principles of decentralization, transparency, and cryptographic security.  However, it's important to note that its volatility and regulatory uncertainty are significant factors to consider.\n"
     ]
    }
   ],
   "source": [
    "## Using Stroutput parser\n",
    "\n",
    "from langchain_core.output_parsers import StrOutputParser\n",
    "output_parser = StrOutputParser()\n",
    "chain = prompt_template| llm | output_parser\n",
    "result = chain.invoke({'question':'what is bitcoin?'})\n",
    "print(result)"
   ]
  }
 ],
 "metadata": {
  "kernelspec": {
   "display_name": "Python 3",
   "language": "python",
   "name": "python3"
  },
  "language_info": {
   "codemirror_mode": {
    "name": "ipython",
    "version": 3
   },
   "file_extension": ".py",
   "mimetype": "text/x-python",
   "name": "python",
   "nbconvert_exporter": "python",
   "pygments_lexer": "ipython3",
   "version": "3.11.3"
  }
 },
 "nbformat": 4,
 "nbformat_minor": 5
}
