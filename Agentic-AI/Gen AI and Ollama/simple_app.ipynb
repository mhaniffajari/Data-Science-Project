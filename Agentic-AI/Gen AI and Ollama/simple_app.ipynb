{
 "cells": [
  {
   "cell_type": "markdown",
   "id": "d30c142c",
   "metadata": {},
   "source": [
    "# Simple Gen AI App Using LangChain and Google Gen AI"
   ]
  },
  {
   "cell_type": "code",
   "execution_count": null,
   "id": "f06dd1d5",
   "metadata": {},
   "outputs": [],
   "source": [
    "import os\n",
    "from dotenv import load_dotenv\n",
    "load_dotenv()\n",
    "GOOGLE_API_KEY = os.getenv('GOOGLE_API_KEY')\n",
    "LANGSMITH_API_KEY = os.getenv('LANGCHAIN_API_KEY')\n",
    "LANGSMITH_ENDPOINT=\"https://api.smith.langchain.com\"\n",
    "LANGSMITH_TRACING='true'\n",
    "LANGSMITH_PROJECT = \"pr-majestic-control-96\""
   ]
  }
 ],
 "metadata": {
  "kernelspec": {
   "display_name": "Python 3",
   "language": "python",
   "name": "python3"
  },
  "language_info": {
   "name": "python",
   "version": "3.11.3"
  }
 },
 "nbformat": 4,
 "nbformat_minor": 5
}
