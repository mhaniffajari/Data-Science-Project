{
  "nbformat": 4,
  "nbformat_minor": 0,
  "metadata": {
    "colab": {
      "provenance": [],
      "authorship_tag": "ABX9TyMHJWuIDQtI+HkTgAi4q936",
      "include_colab_link": true
    },
    "kernelspec": {
      "name": "python3",
      "display_name": "Python 3"
    },
    "language_info": {
      "name": "python"
    }
  },
  "cells": [
    {
      "cell_type": "markdown",
      "metadata": {
        "id": "view-in-github",
        "colab_type": "text"
      },
      "source": [
        "<a href=\"https://colab.research.google.com/github/mhaniffajari/Data-Science/blob/main/Data_Science.ipynb\" target=\"_parent\"><img src=\"https://colab.research.google.com/assets/colab-badge.svg\" alt=\"Open In Colab\"/></a>"
      ]
    },
    {
      "cell_type": "markdown",
      "source": [
        "# Import Libraries"
      ],
      "metadata": {
        "id": "aKqtwbZJd8jN"
      }
    },
    {
      "cell_type": "code",
      "source": [
        "import pandas as pd\n",
        "import numpy as np\n",
        "import matplotlib.pyplot as plt\n",
        "import seaborn as sns"
      ],
      "metadata": {
        "id": "8hQlSSpKdwrp"
      },
      "execution_count": 2,
      "outputs": []
    },
    {
      "cell_type": "markdown",
      "source": [
        "# Exploratory Data Analysis"
      ],
      "metadata": {
        "id": "i9AEuzfXeANH"
      }
    },
    {
      "cell_type": "code",
      "execution_count": 1,
      "metadata": {
        "id": "-8R-kFVIdRhb"
      },
      "outputs": [],
      "source": [
        "def preprocessing(df):\n",
        "    \"\"\"\"\n",
        "    Objective :\n",
        "    Function for preprocessing data, known missing, duplicated values and basic stastics every column in dataframe and duplicated row\n",
        "    df is dataframe\n",
        "    \"\"\"\n",
        "    try:\n",
        "        import pandas as pd\n",
        "        variables = pd.DataFrame(columns=['Variable','Number of unique values','Percent of Null(%)','Number of Null','Type','Values'])\n",
        "        for i, var in enumerate(df.columns):\n",
        "            variables.loc[i] = [var, df[var].nunique(),df[var].isnull().sum()/df.shape[0]*100,df[var].isnull().sum(),df[var].dtypes,df[var].unique()]\n",
        "        return (variables.set_index('Variable'))\n",
        "    except:\n",
        "        print('Failed')"
      ]
    },
    {
      "cell_type": "markdown",
      "source": [
        "## Univariate Analysis"
      ],
      "metadata": {
        "id": "EqQcquYKeulv"
      }
    },
    {
      "cell_type": "code",
      "source": [
        "def univariate_continues(numeric,df):\n",
        "  for j in range (0,len(numeric)):\n",
        "    num = numeric[j]\n",
        "    plt.figure(figsize=(10,5))\n",
        "    sns.kdeplot(data=df,x=num)"
      ],
      "metadata": {
        "id": "JVV36UIudlKq"
      },
      "execution_count": 3,
      "outputs": []
    },
    {
      "cell_type": "code",
      "source": [
        "def univariate_categorical(categorical,df):\n",
        "  for j in range (0,len(categorical)):\n",
        "    cat = categorical[j]\n",
        "    plt.figure(figsize=(10,5))\n",
        "    sns.countplot(x=cat,data=df,)\n",
        "    plt.xlabel(cat)\n",
        "    plt.show()"
      ],
      "metadata": {
        "id": "hNzkvFEQeOW3"
      },
      "execution_count": 4,
      "outputs": []
    },
    {
      "cell_type": "code",
      "source": [
        "def univariate_categorical(num_cat,df):\n",
        "  for j in range (0,len(num_cat)):\n",
        "    cat = num_cat[j]\n",
        "    plt.figure(figsize=(10,5))\n",
        "    sns.countplot(x=cat,data=df,)\n",
        "    plt.xlabel(cat)\n",
        "    plt.show()"
      ],
      "metadata": {
        "id": "-rlFAIb-eVf6"
      },
      "execution_count": 5,
      "outputs": []
    },
    {
      "cell_type": "code",
      "source": [
        "def boxplot(numeric,df):\n",
        "  for j in range (0,len(numeric)):\n",
        "    num = numeric[j]\n",
        "    sns.boxplot(y=df[num])\n",
        "    plt.figure(figsize=(3,3))\n",
        "    plt.show()"
      ],
      "metadata": {
        "id": "M87lDx2qecuu"
      },
      "execution_count": 6,
      "outputs": []
    },
    {
      "cell_type": "markdown",
      "source": [
        "## Bivariate Analysis"
      ],
      "metadata": {
        "id": "NLrlZGiFex5d"
      }
    },
    {
      "cell_type": "code",
      "source": [
        "def bivariate_analysis_continues(numeric,df):\n",
        "  for j in range (0,len(numeric)):\n",
        "    num = numeric[j]\n",
        "    df['Target_new'] = df['Target']\n",
        "    df_num = df.groupby([num])['Target'].count()\n",
        "    df_num = df_num.reset_index()\n",
        "    df_num_corr = df[df['Target']==1].groupby([num])['Target_new'].count()\n",
        "    df_num_corr = df_num_corr.reset_index()\n",
        "    df_num_corr = df_num.merge(df_num_corr,how='left',on=num)\n",
        "    df_num_corr['%Target'] = (df_num_corr['Target_new']/df_num_corr['Target'])*100\n",
        "    plt.bar(df_num_corr[num],df_num_corr['%Target'])\n",
        "    plt.xlabel(num)\n",
        "    plt.ylabel('%Target')\n",
        "    plt.show()"
      ],
      "metadata": {
        "id": "thduUVKDe0Gz"
      },
      "execution_count": 7,
      "outputs": []
    },
    {
      "cell_type": "code",
      "source": [
        "def kdeplot_bivariate(numeric,df):\n",
        "  for j in range (0,len(numeric)):\n",
        "    num = numeric[j]\n",
        "    plt.figure(figsize=(10,5))\n",
        "    sns.kdeplot(data=df,x=num,hue='ProdTaken',legend=True)"
      ],
      "metadata": {
        "id": "Z2elJkklfRrQ"
      },
      "execution_count": 8,
      "outputs": []
    },
    {
      "cell_type": "code",
      "source": [
        "def bivariate_analysis_continues(categorical,df):\n",
        "  for j in range (0,len(categorical)):\n",
        "    cat = categorical[j]\n",
        "    df['Target_new'] = df['Target']\n",
        "    df_cat = df.groupby([cat])['Target'].count()\n",
        "    df_cat = df_cat.reset_index()\n",
        "    df_cat_corr = df[df['Target']==1].groupby([cat])['Target_new'].count()\n",
        "    df_cat_corr = df_cat_corr.reset_index()\n",
        "    df_cat_corr = df_cat.merge(df_cat_corr,how='left',on=cat)\n",
        "    df_cat_corr['%Target'] = (df_cat_corr['Target_new']/df_cat_corr['Target'])*100\n",
        "    plt.bar(df_cat_corr[cat],df_cat_corr['%Target'])\n",
        "    plt.xlabel(cat)\n",
        "    plt.ylabel('%Target')\n",
        "    plt.show()"
      ],
      "metadata": {
        "id": "B6mXmf6EfXIy"
      },
      "execution_count": 9,
      "outputs": []
    },
    {
      "cell_type": "code",
      "source": [
        "def bivariate_analysis_continues(num_cat,df):\n",
        "  for j in range (0,len(num_cat)):\n",
        "    cat = num_cat[j]\n",
        "    df['Target_new'] = df['Target']\n",
        "    df['Target1'] = df['Target']\n",
        "    df_cat = df.groupby([cat])['Target1'].count()\n",
        "    df_cat = df_cat.reset_index()\n",
        "    df_cat_corr = df[df['Target1']==1].groupby([cat])['Target_new'].count()\n",
        "    df_cat_corr = df_cat_corr.reset_index()\n",
        "    df_cat_corr = df_cat.merge(df_cat_corr,how='left',on=cat)\n",
        "    df_cat_corr['%Target'] = (df_cat_corr['Target_new']/df_cat_corr['Target1'])*100\n",
        "    plt.bar(df_cat_corr[cat],df_cat_corr['%Target'])\n",
        "    plt.xlabel(cat)\n",
        "    plt.ylabel('%Target')\n",
        "    plt.show()"
      ],
      "metadata": {
        "id": "0Cir-0UrfrCf"
      },
      "execution_count": 10,
      "outputs": []
    },
    {
      "cell_type": "markdown",
      "source": [
        "## Multivariate Analysis"
      ],
      "metadata": {
        "id": "LnyUub4pf9Kw"
      }
    },
    {
      "cell_type": "code",
      "source": [
        "# correlation analysis\n",
        "def heatmap_corr(df):\n",
        "  numeric = df.describe().columns.tolist()\n",
        "  plt.figure(figsize = (20,20))\n",
        "  correlation = df[numeric].corr()\n",
        "  sns.heatmap(correlation, cmap = \"GnBu\", annot = True)"
      ],
      "metadata": {
        "id": "76RYhqfSf_xc"
      },
      "execution_count": null,
      "outputs": []
    }
  ]
}
