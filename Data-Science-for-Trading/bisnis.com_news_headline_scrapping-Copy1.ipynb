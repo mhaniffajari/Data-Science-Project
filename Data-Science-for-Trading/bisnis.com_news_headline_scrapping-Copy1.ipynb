{
 "cells": [
  {
   "cell_type": "code",
   "execution_count": 1,
   "id": "7046d1b6",
   "metadata": {
    "tags": []
   },
   "outputs": [],
   "source": [
    "from selenium import webdriver\n",
    "from selenium.webdriver.common.by import By\n",
    "from selenium.webdriver.common.keys import Keys\n",
    "from selenium.webdriver.support.ui import WebDriverWait\n",
    "from selenium.webdriver.support import expected_conditions as EC\n",
    "import pandas as pd\n",
    "import time"
   ]
  },
  {
   "cell_type": "code",
   "execution_count": 2,
   "id": "73923eaa",
   "metadata": {
    "tags": []
   },
   "outputs": [],
   "source": [
    "import warnings\n",
    "warnings.filterwarnings(\"ignore\")"
   ]
  },
  {
   "cell_type": "code",
   "execution_count": 29,
   "id": "1b63ced9",
   "metadata": {
    "tags": []
   },
   "outputs": [],
   "source": [
    "from selenium import webdriver\n",
    "from selenium.webdriver.common.by import By\n",
    "\n",
    "# Initialize the Selenium WebDriver (you may need to specify the driver path)\n",
    "driver = webdriver.Chrome()\n",
    "username = \"t98tps1\"\n",
    "password = \"Buma2023!@#\"\n",
    "url = \"https://signin.cat.com/4f0f19d0-f44c-4a03-b8cb-ab327bd2b12b/b2c_1a_p2_v1_signin_prod/oauth2/v2.0/authorize?client_id=23f1628f-fa51-4612-ad8f-48931ed4b70f&scope=openid%20https%3A%2F%2Fcwslogin.onmicrosoft.com%2F4aebf00a-08b2-4d62-8625-57a79b68e28e%2Fuser_impersonation%20profile%20offline_access&redirect_uri=https%3A%2F%2Fvl.cat.com&client-request-id=651b63ae-ca91-4d1a-87b1-338c66cda2ea&response_mode=fragment&response_type=code&x-client-SKU=msal.js.browser&x-client-VER=3.2.0&client_info=1&code_challenge=RmS5lbb3DhEP4FZDmkTvky9WM2ycXPlWKfI1UpHYm80&code_challenge_method=S256&nonce=12a22da1-5ec9-4067-bd19-65211dbb7b57&state=eyJpZCI6Ijg1NGZkZjc5LWY5OTMtNDc2Yy1iNzg3LTFjYzhhY2MwZGQwNCIsIm1ldGEiOnsiaW50ZXJhY3Rpb25UeXBlIjoicmVkaXJlY3QifX0%3D&application=/OneCat&setPingLegacyClient_id=fleet_management_ui_ig_client&showSignUpOnSignin=true&ui_locales=en\"\n",
    "asset_url = \"https://vl.cat.com/assets\"\n",
    "# Navigate to the web page containing the HTML\n",
    "driver.get(url)\n",
    "# Wait for the element to be present with a timeout of 10 seconds\n",
    "WebDriverWait(driver, 10).until(EC.presence_of_element_located((By.ID, \"signInName\")))\n",
    "# Find the element after it is present\n",
    "userid = driver.find_element(By.ID, \"signInName\")\n",
    "userid.send_keys(username)\n",
    "continue_button = WebDriverWait(driver, 10).until(EC.element_to_be_clickable((By.ID, \"next\")))\n",
    "continue_button.click()\n",
    "# Enter Password\n",
    "# Find the password input field and type the password\n",
    "password_input = WebDriverWait(driver, 10).until(EC.presence_of_element_located((By.ID, \"password\")))\n",
    "password_input.send_keys(password)\n",
    "continue_button = WebDriverWait(driver, 10).until(EC.element_to_be_clickable((By.ID, \"next\")))\n",
    "continue_button.click()\n",
    "#menu_element = WebDriverWait(driver, 90).until(EC.element_to_be_clickable((By.CLASS_NAME, \"nav-icon\")))\n",
    "#menu_element.click()\n",
    "# Wait for the \"Download CSV\" link to be clickable\n",
    "time.sleep(10)\n",
    "driver.get(asset_url)\n",
    "# Find the \"Logo\" and click it\n",
    "logo_button = WebDriverWait(driver, 40).until(EC.element_to_be_clickable((By.CSS_SELECTOR, 'cat-digital-workspace-download div.download-container__icon__wrapper div')))\n",
    "logo_button.click()\n",
    "# Click the \"Download CSV\" link\n",
    "download_csv_link = WebDriverWait(driver, 20).until(EC.element_to_be_clickable((By.XPATH, \"//span[text()='Download CSV']\")))\n",
    "download_csv_link.click()"
   ]
  },
  {
   "cell_type": "code",
   "execution_count": 12,
   "id": "24c1a229",
   "metadata": {
    "scrolled": true
   },
   "outputs": [
    {
     "name": "stdout",
     "output_type": "stream",
     "text": [
      "                                            News Title  \\\n",
      "0    Indofarma (INAF) Resmi Rombak Petinggi, Angkat...   \n",
      "1    10 Saham Top Losers Sepekan, Ada Emiten Farmas...   \n",
      "2    Penjualan Turun, Rugi Indofarma (INAF) Capai R...   \n",
      "3    Penjualan Turun, Indofarma (INAF) Berbalik Rug...   \n",
      "4               HISTORIA BISNIS : INAF Ekspansi Apotek   \n",
      "..                                                 ...   \n",
      "347             Masih rugi, Indofarma tak bagi dividen   \n",
      "348                  Indofarma incar pertumbuhan 13,3%   \n",
      "349   Indofarma belum berencana realisasi rights issue   \n",
      "350           Indofarma incar pendapatan Rp1,4 triliun   \n",
      "351             Indofarma FY10 net income to soar 550%   \n",
      "\n",
      "                      News Date  \n",
      "0     30 Januari 2023 17:42 WIB  \n",
      "1     07 Januari 2023 08:36 WIB  \n",
      "2    24 November 2022 11:00 WIB  \n",
      "3     16 Agustus 2022 19:18 WIB  \n",
      "4        29 Juli 2022 02:00 WIB  \n",
      "..                          ...  \n",
      "347      09 Juni 2011 06:56 WIB  \n",
      "348       24 Mei 2011 05:31 WIB  \n",
      "349  17 Februari 2011 11:48 WIB  \n",
      "350  17 Februari 2011 08:25 WIB  \n",
      "351  17 Februari 2011 06:08 WIB  \n",
      "\n",
      "[352 rows x 2 columns]\n"
     ]
    }
   ],
   "source": [
    "from selenium import webdriver\n",
    "from selenium.webdriver.common.by import By\n",
    "import pandas as pd\n",
    "from selenium.common.exceptions import NoSuchElementException\n",
    "\n",
    "# Initialize the Selenium WebDriver (you may need to specify the driver path)\n",
    "driver = webdriver.Chrome()\n",
    "\n",
    "# Initialize empty lists to store news titles and dates\n",
    "news_titles = []\n",
    "news_dates = []\n",
    "\n",
    "base_url = \"https://search.bisnis.com/?q=indofarma&per_page=2\"\n",
    "next_page_url = base_url\n",
    "\n",
    "while True:\n",
    "    # Navigate to the current page\n",
    "    driver.get(next_page_url)\n",
    "\n",
    "    # Find the <ul> element with class \"list-news\"\n",
    "    ul_element = driver.find_element(By.CLASS_NAME, \"list-news\")\n",
    "\n",
    "    # Find all the <li> elements within the <ul>\n",
    "    li_elements = ul_element.find_elements(By.TAG_NAME, \"li\")\n",
    "\n",
    "    # Loop through the <li> elements and extract the title and date\n",
    "    for li_element in li_elements:\n",
    "        # Extract the news title\n",
    "        title_element = li_element.find_element(By.TAG_NAME, \"h2\")\n",
    "        news_title = title_element.text\n",
    "        news_titles.append(news_title)\n",
    "\n",
    "        # Extract the news date\n",
    "        date_element = li_element.find_element(By.CLASS_NAME, \"date\")\n",
    "        news_date = date_element.text\n",
    "        news_dates.append(news_date)\n",
    "\n",
    "    # Check if there is a next page\n",
    "    try:\n",
    "        next_page_element = driver.find_element(By.XPATH, \"//a[contains(text(), '❯')]\")\n",
    "        next_page_url = next_page_element.get_attribute('href')  # Get the URL of the next page\n",
    "    except NoSuchElementException:\n",
    "        break  # Break the loop if the \"Next\" button is not found (indicating the last page)\n",
    "\n",
    "# Close the Selenium WebDriver\n",
    "driver.quit()\n",
    "\n",
    "# Create a DataFrame from the extracted data\n",
    "data = {'News Title': news_titles, 'News Date': news_dates}\n",
    "df = pd.DataFrame(data)"
   ]
  },
  {
   "cell_type": "code",
   "execution_count": 38,
   "id": "858ed4c7",
   "metadata": {},
   "outputs": [
    {
     "data": {
      "text/html": [
       "<div>\n",
       "<style scoped>\n",
       "    .dataframe tbody tr th:only-of-type {\n",
       "        vertical-align: middle;\n",
       "    }\n",
       "\n",
       "    .dataframe tbody tr th {\n",
       "        vertical-align: top;\n",
       "    }\n",
       "\n",
       "    .dataframe thead th {\n",
       "        text-align: right;\n",
       "    }\n",
       "</style>\n",
       "<table border=\"1\" class=\"dataframe\">\n",
       "  <thead>\n",
       "    <tr style=\"text-align: right;\">\n",
       "      <th></th>\n",
       "      <th>News Title</th>\n",
       "      <th>News Date</th>\n",
       "    </tr>\n",
       "  </thead>\n",
       "  <tbody>\n",
       "    <tr>\n",
       "      <th>0</th>\n",
       "      <td>Indofarma (INAF) Resmi Rombak Petinggi, Angkat...</td>\n",
       "      <td>30 Januari 2023 17:42 WIB</td>\n",
       "    </tr>\n",
       "    <tr>\n",
       "      <th>1</th>\n",
       "      <td>10 Saham Top Losers Sepekan, Ada Emiten Farmas...</td>\n",
       "      <td>07 Januari 2023 08:36 WIB</td>\n",
       "    </tr>\n",
       "    <tr>\n",
       "      <th>2</th>\n",
       "      <td>Penjualan Turun, Rugi Indofarma (INAF) Capai R...</td>\n",
       "      <td>24 November 2022 11:00 WIB</td>\n",
       "    </tr>\n",
       "    <tr>\n",
       "      <th>3</th>\n",
       "      <td>Penjualan Turun, Indofarma (INAF) Berbalik Rug...</td>\n",
       "      <td>16 Agustus 2022 19:18 WIB</td>\n",
       "    </tr>\n",
       "    <tr>\n",
       "      <th>4</th>\n",
       "      <td>HISTORIA BISNIS : INAF Ekspansi Apotek</td>\n",
       "      <td>29 Juli 2022 02:00 WIB</td>\n",
       "    </tr>\n",
       "    <tr>\n",
       "      <th>...</th>\n",
       "      <td>...</td>\n",
       "      <td>...</td>\n",
       "    </tr>\n",
       "    <tr>\n",
       "      <th>347</th>\n",
       "      <td>Masih rugi, Indofarma tak bagi dividen</td>\n",
       "      <td>09 Juni 2011 06:56 WIB</td>\n",
       "    </tr>\n",
       "    <tr>\n",
       "      <th>348</th>\n",
       "      <td>Indofarma incar pertumbuhan 13,3%</td>\n",
       "      <td>24 Mei 2011 05:31 WIB</td>\n",
       "    </tr>\n",
       "    <tr>\n",
       "      <th>349</th>\n",
       "      <td>Indofarma belum berencana realisasi rights issue</td>\n",
       "      <td>17 Februari 2011 11:48 WIB</td>\n",
       "    </tr>\n",
       "    <tr>\n",
       "      <th>350</th>\n",
       "      <td>Indofarma incar pendapatan Rp1,4 triliun</td>\n",
       "      <td>17 Februari 2011 08:25 WIB</td>\n",
       "    </tr>\n",
       "    <tr>\n",
       "      <th>351</th>\n",
       "      <td>Indofarma FY10 net income to soar 550%</td>\n",
       "      <td>17 Februari 2011 06:08 WIB</td>\n",
       "    </tr>\n",
       "  </tbody>\n",
       "</table>\n",
       "<p>352 rows × 2 columns</p>\n",
       "</div>"
      ],
      "text/plain": [
       "                                            News Title  \\\n",
       "0    Indofarma (INAF) Resmi Rombak Petinggi, Angkat...   \n",
       "1    10 Saham Top Losers Sepekan, Ada Emiten Farmas...   \n",
       "2    Penjualan Turun, Rugi Indofarma (INAF) Capai R...   \n",
       "3    Penjualan Turun, Indofarma (INAF) Berbalik Rug...   \n",
       "4               HISTORIA BISNIS : INAF Ekspansi Apotek   \n",
       "..                                                 ...   \n",
       "347             Masih rugi, Indofarma tak bagi dividen   \n",
       "348                  Indofarma incar pertumbuhan 13,3%   \n",
       "349   Indofarma belum berencana realisasi rights issue   \n",
       "350           Indofarma incar pendapatan Rp1,4 triliun   \n",
       "351             Indofarma FY10 net income to soar 550%   \n",
       "\n",
       "                      News Date  \n",
       "0     30 Januari 2023 17:42 WIB  \n",
       "1     07 Januari 2023 08:36 WIB  \n",
       "2    24 November 2022 11:00 WIB  \n",
       "3     16 Agustus 2022 19:18 WIB  \n",
       "4        29 Juli 2022 02:00 WIB  \n",
       "..                          ...  \n",
       "347      09 Juni 2011 06:56 WIB  \n",
       "348       24 Mei 2011 05:31 WIB  \n",
       "349  17 Februari 2011 11:48 WIB  \n",
       "350  17 Februari 2011 08:25 WIB  \n",
       "351  17 Februari 2011 06:08 WIB  \n",
       "\n",
       "[352 rows x 2 columns]"
      ]
     },
     "execution_count": 38,
     "metadata": {},
     "output_type": "execute_result"
    }
   ],
   "source": [
    "df"
   ]
  },
  {
   "cell_type": "code",
   "execution_count": 4,
   "id": "18c2eb00",
   "metadata": {},
   "outputs": [],
   "source": [
    "import pandas as pd\n",
    "from bardapi import Bard\n",
    "import numpy as np"
   ]
  },
  {
   "cell_type": "code",
   "execution_count": 2,
   "id": "ad5f5f59",
   "metadata": {},
   "outputs": [],
   "source": [
    "df = pd.read_csv('INAF_news.csv')"
   ]
  },
  {
   "cell_type": "code",
   "execution_count": 56,
   "id": "e037154e",
   "metadata": {},
   "outputs": [],
   "source": [
    "import pandas as pd\n",
    "from bardapi import Bard\n",
    "import os\n",
    "os.environ['_BARD_API_KEY']=\"bgibNPHv_LeqLvGMOHNRumY5cLPE8feW6GItrfm7zZLY7Ovkg6d23AZtvUEul7ZewxA3WA.\"\n",
    "token = \"bgibNPHv_LeqLvGMOHNRumY5cLPE8feW6GItrfm7zZLY7Ovkg6d23AZtvUEul7ZewxA3WA.\"\n",
    "bard = Bard(token=token,timeout=30) \n",
    "def get_sentiment(title):\n",
    "    \"\"\"Gets the sentiment of a news title.\n",
    "\n",
    "    Args:\n",
    "        title: The news title.\n",
    "\n",
    "    Returns:\n",
    "        A tuple of (sentiment, score), where sentiment is a string\n",
    "        representing the sentiment of the title (e.g., \"positive\",\n",
    "        \"negative\", or \"neutral\") and score is a float representing\n",
    "        the strength of the sentiment.\n",
    "    \"\"\"\n",
    "\n",
    "    response = bard.get_answer(f\"Bard, please analyze the following Bahasa Indonesian text and identify the sentiment score on a scale of -1 to 1, with -1 being the most negative and 1 being the most positive:'{title}'?\")\n",
    "    return response['choices'][0]['content'][0]"
   ]
  },
  {
   "cell_type": "code",
   "execution_count": 40,
   "id": "93adae0c",
   "metadata": {},
   "outputs": [
    {
     "ename": "KeyError",
     "evalue": "'choices'",
     "output_type": "error",
     "traceback": [
      "\u001b[1;31m---------------------------------------------------------------------------\u001b[0m",
      "\u001b[1;31mKeyError\u001b[0m                                  Traceback (most recent call last)",
      "Cell \u001b[1;32mIn[40], line 5\u001b[0m\n\u001b[0;32m      3\u001b[0m \u001b[38;5;28;01mfor\u001b[39;00m i \u001b[38;5;129;01min\u001b[39;00m \u001b[38;5;28mrange\u001b[39m(df\u001b[38;5;241m.\u001b[39mshape[\u001b[38;5;241m0\u001b[39m]):\n\u001b[0;32m      4\u001b[0m     title \u001b[38;5;241m=\u001b[39m df\u001b[38;5;241m.\u001b[39mloc[i, \u001b[38;5;124m\"\u001b[39m\u001b[38;5;124mNews Title\u001b[39m\u001b[38;5;124m\"\u001b[39m]\n\u001b[1;32m----> 5\u001b[0m     response \u001b[38;5;241m=\u001b[39m \u001b[43mget_sentiment\u001b[49m\u001b[43m(\u001b[49m\u001b[43mtitle\u001b[49m\u001b[43m)\u001b[49m\n\u001b[0;32m      6\u001b[0m     df\u001b[38;5;241m.\u001b[39mloc[i, \u001b[38;5;124m\"\u001b[39m\u001b[38;5;124mResponse\u001b[39m\u001b[38;5;124m\"\u001b[39m] \u001b[38;5;241m=\u001b[39m response\n",
      "Cell \u001b[1;32mIn[39], line 21\u001b[0m, in \u001b[0;36mget_sentiment\u001b[1;34m(title)\u001b[0m\n\u001b[0;32m      8\u001b[0m \u001b[38;5;250m\u001b[39m\u001b[38;5;124;03m\"\"\"Gets the sentiment of a news title.\u001b[39;00m\n\u001b[0;32m      9\u001b[0m \n\u001b[0;32m     10\u001b[0m \u001b[38;5;124;03mArgs:\u001b[39;00m\n\u001b[1;32m   (...)\u001b[0m\n\u001b[0;32m     17\u001b[0m \u001b[38;5;124;03m    the strength of the sentiment.\u001b[39;00m\n\u001b[0;32m     18\u001b[0m \u001b[38;5;124;03m\"\"\"\u001b[39;00m\n\u001b[0;32m     20\u001b[0m response \u001b[38;5;241m=\u001b[39m bard\u001b[38;5;241m.\u001b[39mget_answer(\u001b[38;5;124mf\u001b[39m\u001b[38;5;124m\"\u001b[39m\u001b[38;5;124mBard, please analyze the following Bahasa Indonesian text and identify the sentiment score on a scale of -1 to 1, with -1 being the most negative and 1 being the most positive:\u001b[39m\u001b[38;5;124m'\u001b[39m\u001b[38;5;132;01m{\u001b[39;00mtitle\u001b[38;5;132;01m}\u001b[39;00m\u001b[38;5;124m'\u001b[39m\u001b[38;5;124m?\u001b[39m\u001b[38;5;124m\"\u001b[39m)\n\u001b[1;32m---> 21\u001b[0m \u001b[38;5;28;01mreturn\u001b[39;00m \u001b[43mresponse\u001b[49m\u001b[43m[\u001b[49m\u001b[38;5;124;43m'\u001b[39;49m\u001b[38;5;124;43mchoices\u001b[39;49m\u001b[38;5;124;43m'\u001b[39;49m\u001b[43m]\u001b[49m[\u001b[38;5;241m0\u001b[39m][\u001b[38;5;124m'\u001b[39m\u001b[38;5;124mcontent\u001b[39m\u001b[38;5;124m'\u001b[39m][\u001b[38;5;241m0\u001b[39m]\n",
      "\u001b[1;31mKeyError\u001b[0m: 'choices'"
     ]
    }
   ],
   "source": [
    "# Get the sentiment of each news title\n",
    "df[\"Response\"] = \"\"\n",
    "for i in range(df.shape[0]):\n",
    "    title = df.loc[i, \"News Title\"]\n",
    "    response = get_sentiment(title)\n",
    "    df.loc[i, \"Response\"] = response"
   ]
  },
  {
   "cell_type": "code",
   "execution_count": 1,
   "id": "be22fe66",
   "metadata": {},
   "outputs": [],
   "source": [
    "import pandas as pd\n",
    "from bardapi import Bard\n",
    "import numpy as np"
   ]
  },
  {
   "cell_type": "code",
   "execution_count": 2,
   "id": "d1dca2db",
   "metadata": {},
   "outputs": [],
   "source": [
    "import warnings\n",
    "warnings.filterwarnings(\"ignore\")"
   ]
  },
  {
   "cell_type": "code",
   "execution_count": 85,
   "id": "b5feaa92",
   "metadata": {},
   "outputs": [],
   "source": [
    "import pandas as pd\n",
    "from bardapi import Bard\n",
    "import os\n",
    "os.environ['_BARD_API_KEY']=\"bgikZb0VYIOBbZyRhLQ82EeqKyUvtQVWYJpuo2wXce2iRk681MTISNRXstlD1xJMBNZLOg.\"\n",
    "token = \"bgikZb0VYIOBbZyRhLQ82EeqKyUvtQVWYJpuo2wXce2iRk681MTISNRXstlD1xJMBNZLOg.\"\n",
    "bard = Bard(token=token,timeout=30) \n",
    "def get_sentiment(title):\n",
    "    \"\"\"Gets the sentiment of a news title.\n",
    "\n",
    "    Args:\n",
    "        title: The news title.\n",
    "\n",
    "    Returns:\n",
    "        A tuple of (sentiment, score), where sentiment is a string\n",
    "        representing the sentiment of the title (e.g., \"positive\",\n",
    "        \"negative\", or \"neutral\") and score is a float representing\n",
    "        the strength of the sentiment.\n",
    "    \"\"\"\n",
    "\n",
    "    response = bard.get_answer(f\"Bard, please analyze the following Bahasa Indonesian text and identify the sentiment score on a scale of -1 to 1, with -1 being the most negative and 1 being the most positive:'{title}'?\")\n",
    "    return response['choices'][0]['content'][0]"
   ]
  },
  {
   "cell_type": "code",
   "execution_count": 6,
   "id": "6ae5600e",
   "metadata": {},
   "outputs": [],
   "source": [
    "df = pd.read_csv('INAF_sentiment_analysis.csv')"
   ]
  },
  {
   "cell_type": "code",
   "execution_count": 7,
   "id": "dfd2ec00",
   "metadata": {},
   "outputs": [
    {
     "data": {
      "text/html": [
       "<div>\n",
       "<style scoped>\n",
       "    .dataframe tbody tr th:only-of-type {\n",
       "        vertical-align: middle;\n",
       "    }\n",
       "\n",
       "    .dataframe tbody tr th {\n",
       "        vertical-align: top;\n",
       "    }\n",
       "\n",
       "    .dataframe thead th {\n",
       "        text-align: right;\n",
       "    }\n",
       "</style>\n",
       "<table border=\"1\" class=\"dataframe\">\n",
       "  <thead>\n",
       "    <tr style=\"text-align: right;\">\n",
       "      <th></th>\n",
       "      <th>News Title</th>\n",
       "      <th>News Date</th>\n",
       "      <th>Response</th>\n",
       "    </tr>\n",
       "  </thead>\n",
       "  <tbody>\n",
       "    <tr>\n",
       "      <th>0</th>\n",
       "      <td>Indofarma (INAF) Resmi Rombak Petinggi, Angkat...</td>\n",
       "      <td>30 Januari 2023 17:42 WIB</td>\n",
       "      <td>I do not have enough information about that pe...</td>\n",
       "    </tr>\n",
       "    <tr>\n",
       "      <th>1</th>\n",
       "      <td>10 Saham Top Losers Sepekan, Ada Emiten Farmas...</td>\n",
       "      <td>07 Januari 2023 08:36 WIB</td>\n",
       "      <td>The sentiment score of the text \"10 Saham Top ...</td>\n",
       "    </tr>\n",
       "    <tr>\n",
       "      <th>2</th>\n",
       "      <td>Penjualan Turun, Rugi Indofarma (INAF) Capai R...</td>\n",
       "      <td>24 November 2022 11:00 WIB</td>\n",
       "      <td>The sentiment score of the text \"Penjualan Tur...</td>\n",
       "    </tr>\n",
       "    <tr>\n",
       "      <th>3</th>\n",
       "      <td>Penjualan Turun, Indofarma (INAF) Berbalik Rug...</td>\n",
       "      <td>16 Agustus 2022 19:18 WIB</td>\n",
       "      <td>The sentiment of the Bahasa Indonesian text \"P...</td>\n",
       "    </tr>\n",
       "    <tr>\n",
       "      <th>4</th>\n",
       "      <td>HISTORIA BISNIS : INAF Ekspansi Apotek</td>\n",
       "      <td>29 Juli 2022 02:00 WIB</td>\n",
       "      <td>The sentiment score of the Bahasa Indonesian t...</td>\n",
       "    </tr>\n",
       "    <tr>\n",
       "      <th>...</th>\n",
       "      <td>...</td>\n",
       "      <td>...</td>\n",
       "      <td>...</td>\n",
       "    </tr>\n",
       "    <tr>\n",
       "      <th>347</th>\n",
       "      <td>Masih rugi, Indofarma tak bagi dividen</td>\n",
       "      <td>09 Juni 2011 06:56 WIB</td>\n",
       "      <td>NaN</td>\n",
       "    </tr>\n",
       "    <tr>\n",
       "      <th>348</th>\n",
       "      <td>Indofarma incar pertumbuhan 13,3%</td>\n",
       "      <td>24 Mei 2011 05:31 WIB</td>\n",
       "      <td>NaN</td>\n",
       "    </tr>\n",
       "    <tr>\n",
       "      <th>349</th>\n",
       "      <td>Indofarma belum berencana realisasi rights issue</td>\n",
       "      <td>17 Februari 2011 11:48 WIB</td>\n",
       "      <td>NaN</td>\n",
       "    </tr>\n",
       "    <tr>\n",
       "      <th>350</th>\n",
       "      <td>Indofarma incar pendapatan Rp1,4 triliun</td>\n",
       "      <td>17 Februari 2011 08:25 WIB</td>\n",
       "      <td>NaN</td>\n",
       "    </tr>\n",
       "    <tr>\n",
       "      <th>351</th>\n",
       "      <td>Indofarma FY10 net income to soar 550%</td>\n",
       "      <td>17 Februari 2011 06:08 WIB</td>\n",
       "      <td>NaN</td>\n",
       "    </tr>\n",
       "  </tbody>\n",
       "</table>\n",
       "<p>352 rows × 3 columns</p>\n",
       "</div>"
      ],
      "text/plain": [
       "                                            News Title  \\\n",
       "0    Indofarma (INAF) Resmi Rombak Petinggi, Angkat...   \n",
       "1    10 Saham Top Losers Sepekan, Ada Emiten Farmas...   \n",
       "2    Penjualan Turun, Rugi Indofarma (INAF) Capai R...   \n",
       "3    Penjualan Turun, Indofarma (INAF) Berbalik Rug...   \n",
       "4               HISTORIA BISNIS : INAF Ekspansi Apotek   \n",
       "..                                                 ...   \n",
       "347             Masih rugi, Indofarma tak bagi dividen   \n",
       "348                  Indofarma incar pertumbuhan 13,3%   \n",
       "349   Indofarma belum berencana realisasi rights issue   \n",
       "350           Indofarma incar pendapatan Rp1,4 triliun   \n",
       "351             Indofarma FY10 net income to soar 550%   \n",
       "\n",
       "                      News Date  \\\n",
       "0     30 Januari 2023 17:42 WIB   \n",
       "1     07 Januari 2023 08:36 WIB   \n",
       "2    24 November 2022 11:00 WIB   \n",
       "3     16 Agustus 2022 19:18 WIB   \n",
       "4        29 Juli 2022 02:00 WIB   \n",
       "..                          ...   \n",
       "347      09 Juni 2011 06:56 WIB   \n",
       "348       24 Mei 2011 05:31 WIB   \n",
       "349  17 Februari 2011 11:48 WIB   \n",
       "350  17 Februari 2011 08:25 WIB   \n",
       "351  17 Februari 2011 06:08 WIB   \n",
       "\n",
       "                                              Response  \n",
       "0    I do not have enough information about that pe...  \n",
       "1    The sentiment score of the text \"10 Saham Top ...  \n",
       "2    The sentiment score of the text \"Penjualan Tur...  \n",
       "3    The sentiment of the Bahasa Indonesian text \"P...  \n",
       "4    The sentiment score of the Bahasa Indonesian t...  \n",
       "..                                                 ...  \n",
       "347                                                NaN  \n",
       "348                                                NaN  \n",
       "349                                                NaN  \n",
       "350                                                NaN  \n",
       "351                                                NaN  \n",
       "\n",
       "[352 rows x 3 columns]"
      ]
     },
     "execution_count": 7,
     "metadata": {},
     "output_type": "execute_result"
    }
   ],
   "source": [
    "df"
   ]
  },
  {
   "cell_type": "code",
   "execution_count": 8,
   "id": "d2cb21fa",
   "metadata": {},
   "outputs": [],
   "source": [
    "df_null = df[df['Response'].isnull()]"
   ]
  },
  {
   "cell_type": "code",
   "execution_count": 9,
   "id": "7b0e3959",
   "metadata": {},
   "outputs": [],
   "source": [
    "df_null = df_null.reset_index()"
   ]
  },
  {
   "cell_type": "code",
   "execution_count": 10,
   "id": "8a5edcbf",
   "metadata": {},
   "outputs": [
    {
     "ename": "KeyError",
     "evalue": "'choices'",
     "output_type": "error",
     "traceback": [
      "\u001b[1;31m---------------------------------------------------------------------------\u001b[0m",
      "\u001b[1;31mKeyError\u001b[0m                                  Traceback (most recent call last)",
      "Cell \u001b[1;32mIn[10], line 4\u001b[0m\n\u001b[0;32m      2\u001b[0m \u001b[38;5;28;01mfor\u001b[39;00m i \u001b[38;5;129;01min\u001b[39;00m \u001b[38;5;28mrange\u001b[39m(df_null\u001b[38;5;241m.\u001b[39mshape[\u001b[38;5;241m0\u001b[39m]):\n\u001b[0;32m      3\u001b[0m     title \u001b[38;5;241m=\u001b[39m df_null\u001b[38;5;241m.\u001b[39mloc[i, \u001b[38;5;124m\"\u001b[39m\u001b[38;5;124mNews Title\u001b[39m\u001b[38;5;124m\"\u001b[39m]\n\u001b[1;32m----> 4\u001b[0m     response \u001b[38;5;241m=\u001b[39m \u001b[43mget_sentiment\u001b[49m\u001b[43m(\u001b[49m\u001b[43mtitle\u001b[49m\u001b[43m)\u001b[49m\n\u001b[0;32m      5\u001b[0m     df_null\u001b[38;5;241m.\u001b[39mloc[i, \u001b[38;5;124m\"\u001b[39m\u001b[38;5;124mResponse\u001b[39m\u001b[38;5;124m\"\u001b[39m] \u001b[38;5;241m=\u001b[39m response\n",
      "Cell \u001b[1;32mIn[4], line 21\u001b[0m, in \u001b[0;36mget_sentiment\u001b[1;34m(title)\u001b[0m\n\u001b[0;32m      8\u001b[0m \u001b[38;5;250m\u001b[39m\u001b[38;5;124;03m\"\"\"Gets the sentiment of a news title.\u001b[39;00m\n\u001b[0;32m      9\u001b[0m \n\u001b[0;32m     10\u001b[0m \u001b[38;5;124;03mArgs:\u001b[39;00m\n\u001b[1;32m   (...)\u001b[0m\n\u001b[0;32m     17\u001b[0m \u001b[38;5;124;03m    the strength of the sentiment.\u001b[39;00m\n\u001b[0;32m     18\u001b[0m \u001b[38;5;124;03m\"\"\"\u001b[39;00m\n\u001b[0;32m     20\u001b[0m response \u001b[38;5;241m=\u001b[39m bard\u001b[38;5;241m.\u001b[39mget_answer(\u001b[38;5;124mf\u001b[39m\u001b[38;5;124m\"\u001b[39m\u001b[38;5;124mBard, please analyze the following Bahasa Indonesian text and identify the sentiment score on a scale of -1 to 1, with -1 being the most negative and 1 being the most positive:\u001b[39m\u001b[38;5;124m'\u001b[39m\u001b[38;5;132;01m{\u001b[39;00mtitle\u001b[38;5;132;01m}\u001b[39;00m\u001b[38;5;124m'\u001b[39m\u001b[38;5;124m?\u001b[39m\u001b[38;5;124m\"\u001b[39m)\n\u001b[1;32m---> 21\u001b[0m \u001b[38;5;28;01mreturn\u001b[39;00m \u001b[43mresponse\u001b[49m\u001b[43m[\u001b[49m\u001b[38;5;124;43m'\u001b[39;49m\u001b[38;5;124;43mchoices\u001b[39;49m\u001b[38;5;124;43m'\u001b[39;49m\u001b[43m]\u001b[49m[\u001b[38;5;241m0\u001b[39m][\u001b[38;5;124m'\u001b[39m\u001b[38;5;124mcontent\u001b[39m\u001b[38;5;124m'\u001b[39m][\u001b[38;5;241m0\u001b[39m]\n",
      "\u001b[1;31mKeyError\u001b[0m: 'choices'"
     ]
    }
   ],
   "source": [
    "# Get the sentiment of each news title\n",
    "for i in range(df_null.shape[0]):\n",
    "    title = df_null.loc[i, \"News Title\"]\n",
    "    response = get_sentiment(title)\n",
    "    df_null.loc[i, \"Response\"] = response"
   ]
  },
  {
   "cell_type": "code",
   "execution_count": 16,
   "id": "bb558291",
   "metadata": {},
   "outputs": [],
   "source": [
    "df_null[df_null['Response'].notnull()].to_csv('INAF Sentiment 2.csv',index=False)"
   ]
  },
  {
   "cell_type": "code",
   "execution_count": 17,
   "id": "1d3e4a80",
   "metadata": {},
   "outputs": [],
   "source": [
    "df_null_1 = df_null[df_null['Response'].isnull()]"
   ]
  },
  {
   "cell_type": "code",
   "execution_count": 20,
   "id": "eb0eb07c",
   "metadata": {},
   "outputs": [],
   "source": [
    "df_null_1 = df_null_1.drop('index',axis=1)"
   ]
  },
  {
   "cell_type": "code",
   "execution_count": 24,
   "id": "5c5176f9",
   "metadata": {},
   "outputs": [],
   "source": [
    "df_null_1 = df_null_1.reset_index().drop('index',axis=1)"
   ]
  },
  {
   "cell_type": "code",
   "execution_count": 25,
   "id": "bf4f9b01",
   "metadata": {},
   "outputs": [
    {
     "ename": "KeyError",
     "evalue": "'choices'",
     "output_type": "error",
     "traceback": [
      "\u001b[1;31m---------------------------------------------------------------------------\u001b[0m",
      "\u001b[1;31mKeyError\u001b[0m                                  Traceback (most recent call last)",
      "Cell \u001b[1;32mIn[25], line 4\u001b[0m\n\u001b[0;32m      2\u001b[0m \u001b[38;5;28;01mfor\u001b[39;00m i \u001b[38;5;129;01min\u001b[39;00m \u001b[38;5;28mrange\u001b[39m(df_null_1\u001b[38;5;241m.\u001b[39mshape[\u001b[38;5;241m0\u001b[39m]):\n\u001b[0;32m      3\u001b[0m     title \u001b[38;5;241m=\u001b[39m df_null_1\u001b[38;5;241m.\u001b[39mloc[i, \u001b[38;5;124m\"\u001b[39m\u001b[38;5;124mNews Title\u001b[39m\u001b[38;5;124m\"\u001b[39m]\n\u001b[1;32m----> 4\u001b[0m     response \u001b[38;5;241m=\u001b[39m \u001b[43mget_sentiment\u001b[49m\u001b[43m(\u001b[49m\u001b[43mtitle\u001b[49m\u001b[43m)\u001b[49m\n\u001b[0;32m      5\u001b[0m     df_null_1\u001b[38;5;241m.\u001b[39mloc[i, \u001b[38;5;124m\"\u001b[39m\u001b[38;5;124mResponse\u001b[39m\u001b[38;5;124m\"\u001b[39m] \u001b[38;5;241m=\u001b[39m response\n",
      "Cell \u001b[1;32mIn[4], line 21\u001b[0m, in \u001b[0;36mget_sentiment\u001b[1;34m(title)\u001b[0m\n\u001b[0;32m      8\u001b[0m \u001b[38;5;250m\u001b[39m\u001b[38;5;124;03m\"\"\"Gets the sentiment of a news title.\u001b[39;00m\n\u001b[0;32m      9\u001b[0m \n\u001b[0;32m     10\u001b[0m \u001b[38;5;124;03mArgs:\u001b[39;00m\n\u001b[1;32m   (...)\u001b[0m\n\u001b[0;32m     17\u001b[0m \u001b[38;5;124;03m    the strength of the sentiment.\u001b[39;00m\n\u001b[0;32m     18\u001b[0m \u001b[38;5;124;03m\"\"\"\u001b[39;00m\n\u001b[0;32m     20\u001b[0m response \u001b[38;5;241m=\u001b[39m bard\u001b[38;5;241m.\u001b[39mget_answer(\u001b[38;5;124mf\u001b[39m\u001b[38;5;124m\"\u001b[39m\u001b[38;5;124mBard, please analyze the following Bahasa Indonesian text and identify the sentiment score on a scale of -1 to 1, with -1 being the most negative and 1 being the most positive:\u001b[39m\u001b[38;5;124m'\u001b[39m\u001b[38;5;132;01m{\u001b[39;00mtitle\u001b[38;5;132;01m}\u001b[39;00m\u001b[38;5;124m'\u001b[39m\u001b[38;5;124m?\u001b[39m\u001b[38;5;124m\"\u001b[39m)\n\u001b[1;32m---> 21\u001b[0m \u001b[38;5;28;01mreturn\u001b[39;00m \u001b[43mresponse\u001b[49m\u001b[43m[\u001b[49m\u001b[38;5;124;43m'\u001b[39;49m\u001b[38;5;124;43mchoices\u001b[39;49m\u001b[38;5;124;43m'\u001b[39;49m\u001b[43m]\u001b[49m[\u001b[38;5;241m0\u001b[39m][\u001b[38;5;124m'\u001b[39m\u001b[38;5;124mcontent\u001b[39m\u001b[38;5;124m'\u001b[39m][\u001b[38;5;241m0\u001b[39m]\n",
      "\u001b[1;31mKeyError\u001b[0m: 'choices'"
     ]
    }
   ],
   "source": [
    "# Get the sentiment of each news title\n",
    "for i in range(df_null_1.shape[0]):\n",
    "    title = df_null_1.loc[i, \"News Title\"]\n",
    "    response = get_sentiment(title)\n",
    "    df_null_1.loc[i, \"Response\"] = response"
   ]
  },
  {
   "cell_type": "code",
   "execution_count": 60,
   "id": "fbcf1894",
   "metadata": {
    "scrolled": true
   },
   "outputs": [],
   "source": [
    "df_null_1[df_null_1['Response'].notnull()].to_csv('INAF Sentiment 3.csv',index=False)"
   ]
  },
  {
   "cell_type": "code",
   "execution_count": 42,
   "id": "3cfeadb3",
   "metadata": {},
   "outputs": [],
   "source": [
    "df_null_2 = df_null_1[df_null_1['Response'].isnull()]"
   ]
  },
  {
   "cell_type": "code",
   "execution_count": 43,
   "id": "fefd6081",
   "metadata": {},
   "outputs": [],
   "source": [
    "df_null_2 = df_null_2.reset_index().drop('index',axis=1)"
   ]
  },
  {
   "cell_type": "code",
   "execution_count": 45,
   "id": "2a7109aa",
   "metadata": {},
   "outputs": [
    {
     "ename": "KeyError",
     "evalue": "'choices'",
     "output_type": "error",
     "traceback": [
      "\u001b[1;31m---------------------------------------------------------------------------\u001b[0m",
      "\u001b[1;31mKeyError\u001b[0m                                  Traceback (most recent call last)",
      "Cell \u001b[1;32mIn[45], line 4\u001b[0m\n\u001b[0;32m      2\u001b[0m \u001b[38;5;28;01mfor\u001b[39;00m i \u001b[38;5;129;01min\u001b[39;00m \u001b[38;5;28mrange\u001b[39m(df_null_2\u001b[38;5;241m.\u001b[39mshape[\u001b[38;5;241m0\u001b[39m]):\n\u001b[0;32m      3\u001b[0m     title \u001b[38;5;241m=\u001b[39m df_null_2\u001b[38;5;241m.\u001b[39mloc[i, \u001b[38;5;124m\"\u001b[39m\u001b[38;5;124mNews Title\u001b[39m\u001b[38;5;124m\"\u001b[39m]\n\u001b[1;32m----> 4\u001b[0m     response \u001b[38;5;241m=\u001b[39m \u001b[43mget_sentiment\u001b[49m\u001b[43m(\u001b[49m\u001b[43mtitle\u001b[49m\u001b[43m)\u001b[49m\n\u001b[0;32m      5\u001b[0m     df_null_2\u001b[38;5;241m.\u001b[39mloc[i, \u001b[38;5;124m\"\u001b[39m\u001b[38;5;124mResponse\u001b[39m\u001b[38;5;124m\"\u001b[39m] \u001b[38;5;241m=\u001b[39m response\n",
      "Cell \u001b[1;32mIn[39], line 21\u001b[0m, in \u001b[0;36mget_sentiment\u001b[1;34m(title)\u001b[0m\n\u001b[0;32m      8\u001b[0m \u001b[38;5;250m\u001b[39m\u001b[38;5;124;03m\"\"\"Gets the sentiment of a news title.\u001b[39;00m\n\u001b[0;32m      9\u001b[0m \n\u001b[0;32m     10\u001b[0m \u001b[38;5;124;03mArgs:\u001b[39;00m\n\u001b[1;32m   (...)\u001b[0m\n\u001b[0;32m     17\u001b[0m \u001b[38;5;124;03m    the strength of the sentiment.\u001b[39;00m\n\u001b[0;32m     18\u001b[0m \u001b[38;5;124;03m\"\"\"\u001b[39;00m\n\u001b[0;32m     20\u001b[0m response \u001b[38;5;241m=\u001b[39m bard\u001b[38;5;241m.\u001b[39mget_answer(\u001b[38;5;124mf\u001b[39m\u001b[38;5;124m\"\u001b[39m\u001b[38;5;124mBard, please analyze the following Bahasa Indonesian text and identify the sentiment score on a scale of -1 to 1, with -1 being the most negative and 1 being the most positive:\u001b[39m\u001b[38;5;124m'\u001b[39m\u001b[38;5;132;01m{\u001b[39;00mtitle\u001b[38;5;132;01m}\u001b[39;00m\u001b[38;5;124m'\u001b[39m\u001b[38;5;124m?\u001b[39m\u001b[38;5;124m\"\u001b[39m)\n\u001b[1;32m---> 21\u001b[0m \u001b[38;5;28;01mreturn\u001b[39;00m \u001b[43mresponse\u001b[49m\u001b[43m[\u001b[49m\u001b[38;5;124;43m'\u001b[39;49m\u001b[38;5;124;43mchoices\u001b[39;49m\u001b[38;5;124;43m'\u001b[39;49m\u001b[43m]\u001b[49m[\u001b[38;5;241m0\u001b[39m][\u001b[38;5;124m'\u001b[39m\u001b[38;5;124mcontent\u001b[39m\u001b[38;5;124m'\u001b[39m][\u001b[38;5;241m0\u001b[39m]\n",
      "\u001b[1;31mKeyError\u001b[0m: 'choices'"
     ]
    }
   ],
   "source": [
    "# Get the sentiment of each news title\n",
    "for i in range(df_null_2.shape[0]):\n",
    "    title = df_null_2.loc[i, \"News Title\"]\n",
    "    response = get_sentiment(title)\n",
    "    df_null_2.loc[i, \"Response\"] = response"
   ]
  },
  {
   "cell_type": "code",
   "execution_count": 61,
   "id": "c1145286",
   "metadata": {},
   "outputs": [],
   "source": [
    "df_null_2[df_null_2['Response'].notnull()].to_csv('INAF Sentiment 4.csv',index=False)"
   ]
  },
  {
   "cell_type": "code",
   "execution_count": 49,
   "id": "24c83eaf",
   "metadata": {},
   "outputs": [],
   "source": [
    "df_null_3 = df_null_2[df_null_2['Response'].isnull()]"
   ]
  },
  {
   "cell_type": "code",
   "execution_count": 52,
   "id": "de435432",
   "metadata": {},
   "outputs": [],
   "source": [
    "df_null_3 = df_null_3.reset_index().drop('index',axis=1)"
   ]
  },
  {
   "cell_type": "code",
   "execution_count": 57,
   "id": "a8da9dda",
   "metadata": {},
   "outputs": [
    {
     "ename": "KeyError",
     "evalue": "'choices'",
     "output_type": "error",
     "traceback": [
      "\u001b[1;31m---------------------------------------------------------------------------\u001b[0m",
      "\u001b[1;31mKeyError\u001b[0m                                  Traceback (most recent call last)",
      "Cell \u001b[1;32mIn[57], line 4\u001b[0m\n\u001b[0;32m      2\u001b[0m \u001b[38;5;28;01mfor\u001b[39;00m i \u001b[38;5;129;01min\u001b[39;00m \u001b[38;5;28mrange\u001b[39m(df_null_3\u001b[38;5;241m.\u001b[39mshape[\u001b[38;5;241m0\u001b[39m]):\n\u001b[0;32m      3\u001b[0m     title \u001b[38;5;241m=\u001b[39m df_null_3\u001b[38;5;241m.\u001b[39mloc[i, \u001b[38;5;124m\"\u001b[39m\u001b[38;5;124mNews Title\u001b[39m\u001b[38;5;124m\"\u001b[39m]\n\u001b[1;32m----> 4\u001b[0m     response \u001b[38;5;241m=\u001b[39m \u001b[43mget_sentiment\u001b[49m\u001b[43m(\u001b[49m\u001b[43mtitle\u001b[49m\u001b[43m)\u001b[49m\n\u001b[0;32m      5\u001b[0m     df_null_3\u001b[38;5;241m.\u001b[39mloc[i, \u001b[38;5;124m\"\u001b[39m\u001b[38;5;124mResponse\u001b[39m\u001b[38;5;124m\"\u001b[39m] \u001b[38;5;241m=\u001b[39m response\n",
      "Cell \u001b[1;32mIn[56], line 21\u001b[0m, in \u001b[0;36mget_sentiment\u001b[1;34m(title)\u001b[0m\n\u001b[0;32m      8\u001b[0m \u001b[38;5;250m\u001b[39m\u001b[38;5;124;03m\"\"\"Gets the sentiment of a news title.\u001b[39;00m\n\u001b[0;32m      9\u001b[0m \n\u001b[0;32m     10\u001b[0m \u001b[38;5;124;03mArgs:\u001b[39;00m\n\u001b[1;32m   (...)\u001b[0m\n\u001b[0;32m     17\u001b[0m \u001b[38;5;124;03m    the strength of the sentiment.\u001b[39;00m\n\u001b[0;32m     18\u001b[0m \u001b[38;5;124;03m\"\"\"\u001b[39;00m\n\u001b[0;32m     20\u001b[0m response \u001b[38;5;241m=\u001b[39m bard\u001b[38;5;241m.\u001b[39mget_answer(\u001b[38;5;124mf\u001b[39m\u001b[38;5;124m\"\u001b[39m\u001b[38;5;124mBard, please analyze the following Bahasa Indonesian text and identify the sentiment score on a scale of -1 to 1, with -1 being the most negative and 1 being the most positive:\u001b[39m\u001b[38;5;124m'\u001b[39m\u001b[38;5;132;01m{\u001b[39;00mtitle\u001b[38;5;132;01m}\u001b[39;00m\u001b[38;5;124m'\u001b[39m\u001b[38;5;124m?\u001b[39m\u001b[38;5;124m\"\u001b[39m)\n\u001b[1;32m---> 21\u001b[0m \u001b[38;5;28;01mreturn\u001b[39;00m \u001b[43mresponse\u001b[49m\u001b[43m[\u001b[49m\u001b[38;5;124;43m'\u001b[39;49m\u001b[38;5;124;43mchoices\u001b[39;49m\u001b[38;5;124;43m'\u001b[39;49m\u001b[43m]\u001b[49m[\u001b[38;5;241m0\u001b[39m][\u001b[38;5;124m'\u001b[39m\u001b[38;5;124mcontent\u001b[39m\u001b[38;5;124m'\u001b[39m][\u001b[38;5;241m0\u001b[39m]\n",
      "\u001b[1;31mKeyError\u001b[0m: 'choices'"
     ]
    }
   ],
   "source": [
    "# Get the sentiment of each news title\n",
    "for i in range(df_null_3.shape[0]):\n",
    "    title = df_null_3.loc[i, \"News Title\"]\n",
    "    response = get_sentiment(title)\n",
    "    df_null_3.loc[i, \"Response\"] = response"
   ]
  },
  {
   "cell_type": "code",
   "execution_count": 62,
   "id": "3ea23eb2",
   "metadata": {},
   "outputs": [],
   "source": [
    "df_null_3[df_null_3['Response'].notnull()].to_csv('INAF Sentiment 5.csv',index=False)"
   ]
  },
  {
   "cell_type": "code",
   "execution_count": 66,
   "id": "489f7803",
   "metadata": {},
   "outputs": [],
   "source": [
    "df_null_4 = df_null_3[df_null_3['Response'].isnull()].reset_index().drop('index',axis=1)"
   ]
  },
  {
   "cell_type": "code",
   "execution_count": 70,
   "id": "3fb3e186",
   "metadata": {},
   "outputs": [
    {
     "ename": "KeyError",
     "evalue": "'choices'",
     "output_type": "error",
     "traceback": [
      "\u001b[1;31m---------------------------------------------------------------------------\u001b[0m",
      "\u001b[1;31mKeyError\u001b[0m                                  Traceback (most recent call last)",
      "Cell \u001b[1;32mIn[70], line 4\u001b[0m\n\u001b[0;32m      2\u001b[0m \u001b[38;5;28;01mfor\u001b[39;00m i \u001b[38;5;129;01min\u001b[39;00m \u001b[38;5;28mrange\u001b[39m(df_null_4\u001b[38;5;241m.\u001b[39mshape[\u001b[38;5;241m0\u001b[39m]):\n\u001b[0;32m      3\u001b[0m     title \u001b[38;5;241m=\u001b[39m df_null_4\u001b[38;5;241m.\u001b[39mloc[i, \u001b[38;5;124m\"\u001b[39m\u001b[38;5;124mNews Title\u001b[39m\u001b[38;5;124m\"\u001b[39m]\n\u001b[1;32m----> 4\u001b[0m     response \u001b[38;5;241m=\u001b[39m \u001b[43mget_sentiment\u001b[49m\u001b[43m(\u001b[49m\u001b[43mtitle\u001b[49m\u001b[43m)\u001b[49m\n\u001b[0;32m      5\u001b[0m     df_null_4\u001b[38;5;241m.\u001b[39mloc[i, \u001b[38;5;124m\"\u001b[39m\u001b[38;5;124mResponse\u001b[39m\u001b[38;5;124m\"\u001b[39m] \u001b[38;5;241m=\u001b[39m response\n",
      "Cell \u001b[1;32mIn[69], line 21\u001b[0m, in \u001b[0;36mget_sentiment\u001b[1;34m(title)\u001b[0m\n\u001b[0;32m      8\u001b[0m \u001b[38;5;250m\u001b[39m\u001b[38;5;124;03m\"\"\"Gets the sentiment of a news title.\u001b[39;00m\n\u001b[0;32m      9\u001b[0m \n\u001b[0;32m     10\u001b[0m \u001b[38;5;124;03mArgs:\u001b[39;00m\n\u001b[1;32m   (...)\u001b[0m\n\u001b[0;32m     17\u001b[0m \u001b[38;5;124;03m    the strength of the sentiment.\u001b[39;00m\n\u001b[0;32m     18\u001b[0m \u001b[38;5;124;03m\"\"\"\u001b[39;00m\n\u001b[0;32m     20\u001b[0m response \u001b[38;5;241m=\u001b[39m bard\u001b[38;5;241m.\u001b[39mget_answer(\u001b[38;5;124mf\u001b[39m\u001b[38;5;124m\"\u001b[39m\u001b[38;5;124mBard, please analyze the following Bahasa Indonesian text and identify the sentiment score on a scale of -1 to 1, with -1 being the most negative and 1 being the most positive:\u001b[39m\u001b[38;5;124m'\u001b[39m\u001b[38;5;132;01m{\u001b[39;00mtitle\u001b[38;5;132;01m}\u001b[39;00m\u001b[38;5;124m'\u001b[39m\u001b[38;5;124m?\u001b[39m\u001b[38;5;124m\"\u001b[39m)\n\u001b[1;32m---> 21\u001b[0m \u001b[38;5;28;01mreturn\u001b[39;00m \u001b[43mresponse\u001b[49m\u001b[43m[\u001b[49m\u001b[38;5;124;43m'\u001b[39;49m\u001b[38;5;124;43mchoices\u001b[39;49m\u001b[38;5;124;43m'\u001b[39;49m\u001b[43m]\u001b[49m[\u001b[38;5;241m0\u001b[39m][\u001b[38;5;124m'\u001b[39m\u001b[38;5;124mcontent\u001b[39m\u001b[38;5;124m'\u001b[39m][\u001b[38;5;241m0\u001b[39m]\n",
      "\u001b[1;31mKeyError\u001b[0m: 'choices'"
     ]
    }
   ],
   "source": [
    "# Get the sentiment of each news title\n",
    "for i in range(df_null_4.shape[0]):\n",
    "    title = df_null_4.loc[i, \"News Title\"]\n",
    "    response = get_sentiment(title)\n",
    "    df_null_4.loc[i, \"Response\"] = response"
   ]
  },
  {
   "cell_type": "code",
   "execution_count": 72,
   "id": "dc36d418",
   "metadata": {},
   "outputs": [],
   "source": [
    "df_null_4[df_null_4['Response'].notnull()].to_csv('INAF Sentiment 6.csv',index=False)"
   ]
  },
  {
   "cell_type": "code",
   "execution_count": 73,
   "id": "a615e58d",
   "metadata": {},
   "outputs": [],
   "source": [
    "df_null_5 = df_null_4[df_null_4['Response'].isnull()].reset_index().drop('index',axis=1)"
   ]
  },
  {
   "cell_type": "code",
   "execution_count": 86,
   "id": "8171e43d",
   "metadata": {},
   "outputs": [],
   "source": [
    "# Get the sentiment of each news title\n",
    "for i in range(df_null_5.shape[0]):\n",
    "    title = df_null_5.loc[i, \"News Title\"]\n",
    "    response = get_sentiment(title)\n",
    "    df_null_5.loc[i, \"Response\"] = response"
   ]
  },
  {
   "cell_type": "code",
   "execution_count": 88,
   "id": "fe9177e7",
   "metadata": {},
   "outputs": [],
   "source": [
    "df_null_5.to_csv('INAF Sentiment 6.csv',index=False)"
   ]
  },
  {
   "cell_type": "code",
   "execution_count": 6,
   "id": "4005bb6a",
   "metadata": {},
   "outputs": [],
   "source": [
    "df_1 = pd.read_csv('INAF Sentiment 1.csv')\n",
    "df_2 = pd.read_csv('INAF Sentiment 2.csv')\n",
    "df_3 = pd.read_csv('INAF Sentiment 3.csv')\n",
    "df_4 = pd.read_csv('INAF Sentiment 4.csv')\n",
    "df_5 = pd.read_csv('INAF Sentiment 5.csv')\n",
    "df_6 = pd.read_csv('INAF Sentiment 6.csv')\n",
    "df_2.drop('index',axis=1,inplace=True)"
   ]
  },
  {
   "cell_type": "code",
   "execution_count": 16,
   "id": "363a9098",
   "metadata": {},
   "outputs": [],
   "source": [
    "df = pd.concat([df_1,df_2,df_3,df_4,df_5,df_6],axis=0)"
   ]
  },
  {
   "cell_type": "code",
   "execution_count": 22,
   "id": "a703d0e6",
   "metadata": {},
   "outputs": [],
   "source": [
    "df.to_excel('INAF Sentiment Analysis.xlsx',index=False)"
   ]
  },
  {
   "cell_type": "code",
   "execution_count": 25,
   "id": "a168bd5b",
   "metadata": {},
   "outputs": [],
   "source": [
    "from textblob import TextBlob"
   ]
  },
  {
   "cell_type": "code",
   "execution_count": 30,
   "id": "2d62458f",
   "metadata": {},
   "outputs": [],
   "source": [
    "import re"
   ]
  },
  {
   "cell_type": "code",
   "execution_count": 27,
   "id": "25b62bd4",
   "metadata": {},
   "outputs": [],
   "source": [
    "# Define a function to calculate sentiment scores using TextBlob\n",
    "def calculate_sentiment(text):\n",
    "    blob = TextBlob(text)\n",
    "    sentiment_score = blob.sentiment.polarity  # Polarity ranges from -1 to 1 (negative to positive)\n",
    "    return sentiment_score\n",
    "\n",
    "# Apply the calculate_sentiment function to the \"Response\" column\n",
    "df[\"Sentiment_Score\"] = df[\"Response\"].apply(calculate_sentiment)"
   ]
  },
  {
   "cell_type": "code",
   "execution_count": 34,
   "id": "e4cc8222",
   "metadata": {},
   "outputs": [],
   "source": [
    "# Define a function to extract sentiment scores as numbers\n",
    "def extract_sentiment_score(text):\n",
    "    # Use regular expression to find the sentiment score pattern\n",
    "    match = re.search(r'\\*\\*([-+]?\\d*\\.\\d+)\\*\\*', text)\n",
    "    if match:\n",
    "        sentiment_score = float(match.group(1))\n",
    "        return sentiment_score\n",
    "    else:\n",
    "        return None\n",
    "\n",
    "# Apply the extract_sentiment_score function to the \"Response\" column\n",
    "df[\"Sentiment_Score\"] = df[\"Response\"].apply(extract_sentiment_score)"
   ]
  },
  {
   "cell_type": "code",
   "execution_count": 40,
   "id": "984f2bd6",
   "metadata": {
    "scrolled": true
   },
   "outputs": [
    {
     "data": {
      "text/html": [
       "<div>\n",
       "<style scoped>\n",
       "    .dataframe tbody tr th:only-of-type {\n",
       "        vertical-align: middle;\n",
       "    }\n",
       "\n",
       "    .dataframe tbody tr th {\n",
       "        vertical-align: top;\n",
       "    }\n",
       "\n",
       "    .dataframe thead th {\n",
       "        text-align: right;\n",
       "    }\n",
       "</style>\n",
       "<table border=\"1\" class=\"dataframe\">\n",
       "  <thead>\n",
       "    <tr style=\"text-align: right;\">\n",
       "      <th></th>\n",
       "      <th>News Title</th>\n",
       "      <th>News Date</th>\n",
       "      <th>Response</th>\n",
       "      <th>Sentiment_Score</th>\n",
       "    </tr>\n",
       "  </thead>\n",
       "  <tbody>\n",
       "    <tr>\n",
       "      <th>0</th>\n",
       "      <td>Indofarma (INAF) Resmi Rombak Petinggi, Angkat...</td>\n",
       "      <td>30 Januari 2023 17:42 WIB</td>\n",
       "      <td>I do not have enough information about that pe...</td>\n",
       "      <td>NaN</td>\n",
       "    </tr>\n",
       "    <tr>\n",
       "      <th>1</th>\n",
       "      <td>10 Saham Top Losers Sepekan, Ada Emiten Farmas...</td>\n",
       "      <td>07 Januari 2023 08:36 WIB</td>\n",
       "      <td>The sentiment score of the text \"10 Saham Top ...</td>\n",
       "      <td>-0.45</td>\n",
       "    </tr>\n",
       "    <tr>\n",
       "      <th>2</th>\n",
       "      <td>Penjualan Turun, Rugi Indofarma (INAF) Capai R...</td>\n",
       "      <td>24 November 2022 11:00 WIB</td>\n",
       "      <td>The sentiment score of the text \"Penjualan Tur...</td>\n",
       "      <td>-0.45</td>\n",
       "    </tr>\n",
       "    <tr>\n",
       "      <th>3</th>\n",
       "      <td>Penjualan Turun, Indofarma (INAF) Berbalik Rug...</td>\n",
       "      <td>16 Agustus 2022 19:18 WIB</td>\n",
       "      <td>The sentiment of the Bahasa Indonesian text \"P...</td>\n",
       "      <td>NaN</td>\n",
       "    </tr>\n",
       "    <tr>\n",
       "      <th>4</th>\n",
       "      <td>HISTORIA BISNIS : INAF Ekspansi Apotek</td>\n",
       "      <td>29 Juli 2022 02:00 WIB</td>\n",
       "      <td>The sentiment score of the Bahasa Indonesian t...</td>\n",
       "      <td>0.50</td>\n",
       "    </tr>\n",
       "    <tr>\n",
       "      <th>...</th>\n",
       "      <td>...</td>\n",
       "      <td>...</td>\n",
       "      <td>...</td>\n",
       "      <td>...</td>\n",
       "    </tr>\n",
       "    <tr>\n",
       "      <th>48</th>\n",
       "      <td>KINERJA EMITEN: Indofarma Cetak Kenaikan Laba ...</td>\n",
       "      <td>08 Maret 2013 09:54 WIB</td>\n",
       "      <td>The sentiment score for the Bahasa Indonesia t...</td>\n",
       "      <td>1.30</td>\n",
       "    </tr>\n",
       "    <tr>\n",
       "      <th>0</th>\n",
       "      <td>Indofarma incar pertumbuhan 13,3%</td>\n",
       "      <td>24 Mei 2011 05:31 WIB</td>\n",
       "      <td>The Indonesian text \"Indofarma incar pertumbuh...</td>\n",
       "      <td>0.50</td>\n",
       "    </tr>\n",
       "    <tr>\n",
       "      <th>1</th>\n",
       "      <td>Indofarma belum berencana realisasi rights issue</td>\n",
       "      <td>17 Februari 2011 11:48 WIB</td>\n",
       "      <td>The Indonesian text \"Indofarma belum berencana...</td>\n",
       "      <td>NaN</td>\n",
       "    </tr>\n",
       "    <tr>\n",
       "      <th>2</th>\n",
       "      <td>Indofarma incar pendapatan Rp1,4 triliun</td>\n",
       "      <td>17 Februari 2011 08:25 WIB</td>\n",
       "      <td>The Indonesian text \"Indofarma incar pendapata...</td>\n",
       "      <td>0.50</td>\n",
       "    </tr>\n",
       "    <tr>\n",
       "      <th>3</th>\n",
       "      <td>Indofarma FY10 net income to soar 550%</td>\n",
       "      <td>17 Februari 2011 06:08 WIB</td>\n",
       "      <td>The Indonesian text \"Indofarma FY10 net income...</td>\n",
       "      <td>0.50</td>\n",
       "    </tr>\n",
       "  </tbody>\n",
       "</table>\n",
       "<p>325 rows × 4 columns</p>\n",
       "</div>"
      ],
      "text/plain": [
       "                                           News Title  \\\n",
       "0   Indofarma (INAF) Resmi Rombak Petinggi, Angkat...   \n",
       "1   10 Saham Top Losers Sepekan, Ada Emiten Farmas...   \n",
       "2   Penjualan Turun, Rugi Indofarma (INAF) Capai R...   \n",
       "3   Penjualan Turun, Indofarma (INAF) Berbalik Rug...   \n",
       "4              HISTORIA BISNIS : INAF Ekspansi Apotek   \n",
       "..                                                ...   \n",
       "48  KINERJA EMITEN: Indofarma Cetak Kenaikan Laba ...   \n",
       "0                   Indofarma incar pertumbuhan 13,3%   \n",
       "1    Indofarma belum berencana realisasi rights issue   \n",
       "2            Indofarma incar pendapatan Rp1,4 triliun   \n",
       "3              Indofarma FY10 net income to soar 550%   \n",
       "\n",
       "                     News Date  \\\n",
       "0    30 Januari 2023 17:42 WIB   \n",
       "1    07 Januari 2023 08:36 WIB   \n",
       "2   24 November 2022 11:00 WIB   \n",
       "3    16 Agustus 2022 19:18 WIB   \n",
       "4       29 Juli 2022 02:00 WIB   \n",
       "..                         ...   \n",
       "48     08 Maret 2013 09:54 WIB   \n",
       "0        24 Mei 2011 05:31 WIB   \n",
       "1   17 Februari 2011 11:48 WIB   \n",
       "2   17 Februari 2011 08:25 WIB   \n",
       "3   17 Februari 2011 06:08 WIB   \n",
       "\n",
       "                                             Response  Sentiment_Score  \n",
       "0   I do not have enough information about that pe...              NaN  \n",
       "1   The sentiment score of the text \"10 Saham Top ...            -0.45  \n",
       "2   The sentiment score of the text \"Penjualan Tur...            -0.45  \n",
       "3   The sentiment of the Bahasa Indonesian text \"P...              NaN  \n",
       "4   The sentiment score of the Bahasa Indonesian t...             0.50  \n",
       "..                                                ...              ...  \n",
       "48  The sentiment score for the Bahasa Indonesia t...             1.30  \n",
       "0   The Indonesian text \"Indofarma incar pertumbuh...             0.50  \n",
       "1   The Indonesian text \"Indofarma belum berencana...              NaN  \n",
       "2   The Indonesian text \"Indofarma incar pendapata...             0.50  \n",
       "3   The Indonesian text \"Indofarma FY10 net income...             0.50  \n",
       "\n",
       "[325 rows x 4 columns]"
      ]
     },
     "execution_count": 40,
     "metadata": {},
     "output_type": "execute_result"
    }
   ],
   "source": [
    "df"
   ]
  },
  {
   "cell_type": "code",
   "execution_count": 3,
   "id": "fca315c3",
   "metadata": {},
   "outputs": [],
   "source": [
    "df = pd.read_csv('INAF_news.csv')"
   ]
  },
  {
   "cell_type": "code",
   "execution_count": 4,
   "id": "176a3c3e",
   "metadata": {},
   "outputs": [
    {
     "name": "stdout",
     "output_type": "stream",
     "text": [
      "Error: HTTPSConnectionPool(host='bard.google.com', port=443): Read timed out. (read timeout=30)\n",
      "Error: HTTPSConnectionPool(host='bard.google.com', port=443): Read timed out. (read timeout=30)\n",
      "Error: 'choices'\n",
      "Error: 'choices'\n",
      "Error: 'choices'\n",
      "Error: 'choices'\n",
      "Error: 'choices'\n",
      "Error: 'choices'\n",
      "Error: 'choices'\n",
      "Error: 'choices'\n",
      "Error: 'choices'\n",
      "Error: 'choices'\n",
      "Error: 'choices'\n",
      "Error: 'choices'\n",
      "Error: 'choices'\n",
      "Error: 'choices'\n",
      "Error: 'choices'\n",
      "Error: 'choices'\n",
      "Max retries and API key changes reached. Exiting.\n"
     ]
    }
   ],
   "source": [
    "import pandas as pd\n",
    "from bardapi import Bard\n",
    "import os\n",
    "\n",
    "# Set your initial API key\n",
    "initial_api_key = \"bgikZa0TekUv4HHECJEiba6iVjefhcRwDx7ry1CNPI9iDCgKEyyYpFbrzIgPP0U3uI7urQ.\"\n",
    "\n",
    "os.environ['_BARD_API_KEY'] = initial_api_key\n",
    "\n",
    "bard = Bard(token=initial_api_key, timeout=30)\n",
    "\n",
    "def get_sentiment(title):\n",
    "    \"\"\"Gets the sentiment of a news title.\n",
    "\n",
    "    Args:\n",
    "        title: The news title.\n",
    "\n",
    "    Returns:\n",
    "        A tuple of (sentiment, score), where sentiment is a string\n",
    "        representing the sentiment of the title (e.g., \"positive\",\n",
    "        \"negative\", or \"neutral\") and score is a float representing\n",
    "        the strength of the sentiment.\n",
    "    \"\"\"\n",
    "\n",
    "    response = bard.get_answer(f\"Bard, please analyze the following Bahasa Indonesian text and identify the sentiment score on a scale of -1 to 1, with -1 being the most negative and 1 being the most positive:'{title}'?\")\n",
    "    return response['choices'][0]['content'][0]\n",
    "\n",
    "def automate_sentiment_analysis(df, max_retries=3, api_key_change_limit=5):\n",
    "    retries = 0\n",
    "    api_key_change_count = 0\n",
    "\n",
    "    for i in range(df.shape[0]):\n",
    "        title = df.loc[i, \"News Title\"]\n",
    "        current_api_key = os.environ.get('_BARD_API_KEY')\n",
    "\n",
    "        if retries >= max_retries:\n",
    "            if api_key_change_count >= api_key_change_limit:\n",
    "                print(\"Max retries and API key changes reached. Exiting.\")\n",
    "                break\n",
    "\n",
    "            # Change the API key\n",
    "            new_api_key = \"bwibNNDAVNBvCPSeFEd4NgEpYRvv-gm0Rfag8AknlIuZycRCzICPPZ7LgzY_andSqCWV3w.\"  # Replace with your new API key\n",
    "            os.environ['_BARD_API_KEY'] = new_api_key\n",
    "            bard.token = new_api_key\n",
    "            api_key_change_count += 1\n",
    "            retries = 0  # Reset retries\n",
    "\n",
    "        try:\n",
    "            response = get_sentiment(title)\n",
    "            df.loc[i, \"Response\"] = response\n",
    "        except Exception as e:\n",
    "            print(f\"Error: {e}\")\n",
    "            retries += 1\n",
    "\n",
    "    return df\n",
    "\n",
    "# Create or load your DataFrame 'df' here\n",
    "\n",
    "# Call the function to automate sentiment analysis with API key change option\n",
    "df = automate_sentiment_analysis(df, max_retries=3, api_key_change_limit=5)\n"
   ]
  }
 ],
 "metadata": {
  "kernelspec": {
   "display_name": "Python 3 (ipykernel)",
   "language": "python",
   "name": "python3"
  },
  "language_info": {
   "codemirror_mode": {
    "name": "ipython",
    "version": 3
   },
   "file_extension": ".py",
   "mimetype": "text/x-python",
   "name": "python",
   "nbconvert_exporter": "python",
   "pygments_lexer": "ipython3",
   "version": "3.10.12"
  }
 },
 "nbformat": 4,
 "nbformat_minor": 5
}
