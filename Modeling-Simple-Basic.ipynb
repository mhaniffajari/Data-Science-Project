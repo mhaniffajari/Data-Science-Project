{
 "cells": [
  {
   "cell_type": "code",
   "execution_count": 1,
   "id": "ddc7b17f",
   "metadata": {},
   "outputs": [],
   "source": [
    "import pandas as pd\n",
    "import numpy as np\n",
    "import seaborn as sns\n",
    "import matplotlib.pyplot as plt\n",
    "import warnings\n",
    "warnings.filterwarnings(\"ignore\")"
   ]
  },
  {
   "cell_type": "code",
   "execution_count": 2,
   "id": "a8f79493",
   "metadata": {},
   "outputs": [],
   "source": [
    "model_table = pd.read_csv('model_table.csv')"
   ]
  },
  {
   "cell_type": "code",
   "execution_count": 3,
   "id": "f5996803",
   "metadata": {},
   "outputs": [],
   "source": [
    "X = model_table.iloc[:,:14]\n",
    "y = model_table['churn']"
   ]
  },
  {
   "cell_type": "code",
   "execution_count": 130,
   "id": "94935c94",
   "metadata": {},
   "outputs": [],
   "source": [
    "numeric = model_table.describe().columns.tolist()"
   ]
  },
  {
   "cell_type": "code",
   "execution_count": 4,
   "id": "486951ae",
   "metadata": {},
   "outputs": [],
   "source": [
    "from sklearn.model_selection import train_test_split\n",
    "X_train, X_test, y_train,y_test = train_test_split(X,y,test_size=0.3, random_state=21)"
   ]
  },
  {
   "cell_type": "code",
   "execution_count": 5,
   "id": "6fb19408",
   "metadata": {},
   "outputs": [],
   "source": [
    "from imblearn.over_sampling import SMOTE \n",
    "smote = SMOTE()\n",
    "X_train, y_train = smote.fit_resample(X_train, y_train)"
   ]
  },
  {
   "cell_type": "code",
   "execution_count": 6,
   "id": "9c5e565a",
   "metadata": {},
   "outputs": [
    {
     "data": {
      "text/plain": [
       "Index(['cons_12m', 'cons_gas_12m', 'cons_last_month', 'has_gas', 'imp_cons',\n",
       "       'margin_gross_pow_ele', 'margin_net_pow_ele', 'nb_prod_act',\n",
       "       'net_margin', 'num_years_antig', 'pow_max', 'length_contract',\n",
       "       'offpeak_diff_dec_january_energy', 'offpeak_diff_dec_january_power'],\n",
       "      dtype='object')"
      ]
     },
     "execution_count": 6,
     "metadata": {},
     "output_type": "execute_result"
    }
   ],
   "source": [
    "X_train.columns"
   ]
  },
  {
   "cell_type": "code",
   "execution_count": 7,
   "id": "45e548f6",
   "metadata": {},
   "outputs": [],
   "source": [
    "skew_feature = ['cons_12m','cons_gas_12m','imp_cons','net_margin','pow_max']\n",
    "normal_feature = ['margin_net_pow_ele']\n",
    "outlier_feature = ['offpeak_diff_dec_january_energy','offpeak_diff_dec_january_power']"
   ]
  },
  {
   "cell_type": "code",
   "execution_count": 8,
   "id": "c1452f79",
   "metadata": {},
   "outputs": [],
   "source": [
    "from sklearn.preprocessing import StandardScaler\n",
    "for x in skew_feature:\n",
    "    scaler = StandardScaler()\n",
    "    scaler.fit(X_train[x].values.reshape(-1,1))\n",
    "    X_train[x] = scaler.transform(X_train[x].values.reshape(-1,1))\n",
    "    X_test[x] = scaler.transform(X_test[x].values.reshape(-1,1))"
   ]
  },
  {
   "cell_type": "code",
   "execution_count": 9,
   "id": "ee3a77b7",
   "metadata": {},
   "outputs": [],
   "source": [
    "from sklearn.preprocessing import MinMaxScaler\n",
    "for x in normal_feature:\n",
    "    scaler =  MinMaxScaler()\n",
    "    scaler.fit(X_train[x].values.reshape(-1,1))\n",
    "    X_train[x] = scaler.transform(X_train[x].values.reshape(-1,1))\n",
    "    X_test[x] = scaler.transform(X_test[x].values.reshape(-1,1))"
   ]
  },
  {
   "cell_type": "code",
   "execution_count": 10,
   "id": "0812d17c",
   "metadata": {},
   "outputs": [],
   "source": [
    "from sklearn.preprocessing import RobustScaler\n",
    "for x in outlier_feature :\n",
    "    scaler =  RobustScaler()\n",
    "    scaler.fit(X_train[x].values.reshape(-1,1))\n",
    "    X_train[x] = scaler.transform(X_train[x].values.reshape(-1,1))\n",
    "    X_test[x] = scaler.transform(X_test[x].values.reshape(-1,1))"
   ]
  },
  {
   "cell_type": "code",
   "execution_count": 11,
   "id": "a87a2cd9",
   "metadata": {},
   "outputs": [],
   "source": [
    "features_train = X_train\n",
    "features_test = X_test\n",
    "label_train = y_train\n",
    "label_test = y_test"
   ]
  },
  {
   "cell_type": "code",
   "execution_count": 12,
   "id": "4974da40",
   "metadata": {
    "scrolled": false
   },
   "outputs": [
    {
     "data": {
      "text/plain": [
       "0    9226\n",
       "1    9226\n",
       "Name: churn, dtype: int64"
      ]
     },
     "execution_count": 12,
     "metadata": {},
     "output_type": "execute_result"
    }
   ],
   "source": [
    "label_train.value_counts()"
   ]
  },
  {
   "cell_type": "markdown",
   "id": "940e50a9",
   "metadata": {},
   "source": [
    "## Logistic Regression"
   ]
  },
  {
   "cell_type": "code",
   "execution_count": 13,
   "id": "994083f9",
   "metadata": {},
   "outputs": [
    {
     "data": {
      "text/html": [
       "<div>\n",
       "<style scoped>\n",
       "    .dataframe tbody tr th:only-of-type {\n",
       "        vertical-align: middle;\n",
       "    }\n",
       "\n",
       "    .dataframe tbody tr th {\n",
       "        vertical-align: top;\n",
       "    }\n",
       "\n",
       "    .dataframe thead th {\n",
       "        text-align: right;\n",
       "    }\n",
       "</style>\n",
       "<table border=\"1\" class=\"dataframe\">\n",
       "  <thead>\n",
       "    <tr style=\"text-align: right;\">\n",
       "      <th></th>\n",
       "      <th>accuracy_test</th>\n",
       "      <th>accuracy_train</th>\n",
       "      <th>precision_test</th>\n",
       "      <th>precision_train</th>\n",
       "      <th>recall_test</th>\n",
       "      <th>recall_train</th>\n",
       "      <th>f1_test</th>\n",
       "      <th>f1_train</th>\n",
       "      <th>auc_test</th>\n",
       "      <th>auc_train</th>\n",
       "    </tr>\n",
       "  </thead>\n",
       "  <tbody>\n",
       "    <tr>\n",
       "      <th>0</th>\n",
       "      <td>0.68188</td>\n",
       "      <td>0.621938</td>\n",
       "      <td>0.494062</td>\n",
       "      <td>0.529915</td>\n",
       "      <td>0.149748</td>\n",
       "      <td>0.649442</td>\n",
       "      <td>0.229834</td>\n",
       "      <td>0.583622</td>\n",
       "      <td>0.621383</td>\n",
       "      <td>0.668535</td>\n",
       "    </tr>\n",
       "  </tbody>\n",
       "</table>\n",
       "</div>"
      ],
      "text/plain": [
       "   accuracy_test  accuracy_train  precision_test  precision_train  \\\n",
       "0        0.68188        0.621938        0.494062         0.529915   \n",
       "\n",
       "   recall_test  recall_train   f1_test  f1_train  auc_test  auc_train  \n",
       "0     0.149748      0.649442  0.229834  0.583622  0.621383   0.668535  "
      ]
     },
     "execution_count": 13,
     "metadata": {},
     "output_type": "execute_result"
    }
   ],
   "source": [
    "from sklearn.linear_model import LogisticRegression\n",
    "clf = LogisticRegression()\n",
    "\n",
    "clf.fit(features_train,label_train)\n",
    "\n",
    "pred_train = clf.predict(features_train)\n",
    "pred_test = clf.predict(features_test)\n",
    "pred_proba = clf.predict_proba(features_test)[:,1]\n",
    "\n",
    "from sklearn.metrics import accuracy_score\n",
    "accuracy_train_lr = accuracy_score(pred_train,label_train)\n",
    "accuracy_test_lr = accuracy_score(pred_test,label_test)\n",
    "\n",
    "from sklearn.metrics import precision_score\n",
    "precision_train_lr = precision_score(pred_train,label_train)\n",
    "precision_test_lr = precision_score(pred_test,label_test)\n",
    "\n",
    "from sklearn.metrics import recall_score\n",
    "recall_train_lr = recall_score(pred_train,label_train)\n",
    "recall_test_lr = recall_score(pred_test,label_test)\n",
    "\n",
    "from sklearn.metrics import f1_score\n",
    "f1_train_lr = f1_score(pred_train,label_train)\n",
    "f1_test_lr = f1_score(pred_test,label_test)\n",
    "\n",
    "from sklearn import metrics\n",
    "fpr, tpr, _ = metrics.roc_curve(np.array(label_train), clf.predict_proba(features_train)[:,1])\n",
    "auc_train_lr = metrics.auc(fpr,tpr)\n",
    "\n",
    "fpr, tpr, _ = metrics.roc_curve(np.array(label_test), clf.predict_proba(features_test)[:,1])\n",
    "auc_test_lr = metrics.auc(fpr,tpr)\n",
    "auc_overfitting_lr = auc_test_lr-auc_train_lr\n",
    "\n",
    "\n",
    "pd.DataFrame({'accuracy_test':[accuracy_test_lr],'accuracy_train':[accuracy_train_lr],\n",
    "             'precision_test':[precision_test_lr],'precision_train':[precision_train_lr],\n",
    "             'recall_test':[recall_test_lr],'recall_train':[recall_train_lr],\n",
    "             'f1_test':[f1_test_lr],'f1_train':[f1_train_lr],\n",
    "             'auc_test':[auc_test_lr],'auc_train':[auc_train_lr]})"
   ]
  },
  {
   "cell_type": "code",
   "execution_count": 14,
   "id": "cddce6f9",
   "metadata": {},
   "outputs": [
    {
     "data": {
      "image/png": "[encoded data removed]",
      "text/plain": [
       "<Figure size 720x360 with 2 Axes>"
      ]
     },
     "metadata": {
      "needs_background": "light"
     },
     "output_type": "display_data"
    }
   ],
   "source": [
    "from sklearn.metrics import confusion_matrix\n",
    "fig, ax = plt.subplots(figsize=(10,5))\n",
    "ax = sns.heatmap((confusion_matrix(label_test,pred_test)), annot=True, cmap='Blues', fmt='g')\n",
    "\n",
    "\n",
    "\n",
    "ax.set_title('Seaborn Confusion Matrix with labels\\n\\n');\n",
    "ax.set_xlabel('\\nPredicted Values')\n",
    "ax.set_ylabel('Actual Values ');\n",
    "\n",
    "## Ticket labels - List must be in alphabetical order\n",
    "ax.xaxis.set_ticklabels(['False','True'])\n",
    "ax.yaxis.set_ticklabels(['False','True'])\n",
    "\n",
    "\n",
    "## Display the visualization of the Confusion Matrix.\n",
    "plt.show()"
   ]
  },
  {
   "cell_type": "markdown",
   "id": "5208d56f",
   "metadata": {},
   "source": [
    "## Decision Tree"
   ]
  },
  {
   "cell_type": "code",
   "execution_count": 15,
   "id": "9432e904",
   "metadata": {},
   "outputs": [
    {
     "data": {
      "text/html": [
       "<div>\n",
       "<style scoped>\n",
       "    .dataframe tbody tr th:only-of-type {\n",
       "        vertical-align: middle;\n",
       "    }\n",
       "\n",
       "    .dataframe tbody tr th {\n",
       "        vertical-align: top;\n",
       "    }\n",
       "\n",
       "    .dataframe thead th {\n",
       "        text-align: right;\n",
       "    }\n",
       "</style>\n",
       "<table border=\"1\" class=\"dataframe\">\n",
       "  <thead>\n",
       "    <tr style=\"text-align: right;\">\n",
       "      <th></th>\n",
       "      <th>accuracy_test</th>\n",
       "      <th>accuracy_train</th>\n",
       "      <th>precision_test</th>\n",
       "      <th>precision_train</th>\n",
       "      <th>recall_test</th>\n",
       "      <th>recall_train</th>\n",
       "      <th>f1_test</th>\n",
       "      <th>f1_train</th>\n",
       "      <th>auc_test</th>\n",
       "      <th>auc_train</th>\n",
       "    </tr>\n",
       "  </thead>\n",
       "  <tbody>\n",
       "    <tr>\n",
       "      <th>0</th>\n",
       "      <td>0.822227</td>\n",
       "      <td>1.0</td>\n",
       "      <td>0.258907</td>\n",
       "      <td>1.0</td>\n",
       "      <td>0.189236</td>\n",
       "      <td>1.0</td>\n",
       "      <td>0.218656</td>\n",
       "      <td>1.0</td>\n",
       "      <td>0.570504</td>\n",
       "      <td>1.0</td>\n",
       "    </tr>\n",
       "  </tbody>\n",
       "</table>\n",
       "</div>"
      ],
      "text/plain": [
       "   accuracy_test  accuracy_train  precision_test  precision_train  \\\n",
       "0       0.822227             1.0        0.258907              1.0   \n",
       "\n",
       "   recall_test  recall_train   f1_test  f1_train  auc_test  auc_train  \n",
       "0     0.189236           1.0  0.218656       1.0  0.570504        1.0  "
      ]
     },
     "execution_count": 15,
     "metadata": {},
     "output_type": "execute_result"
    }
   ],
   "source": [
    "from sklearn import tree\n",
    "clf = tree.DecisionTreeClassifier()\n",
    "\n",
    "clf.fit(features_train,label_train)\n",
    "\n",
    "pred_train = clf.predict(features_train)\n",
    "pred_test = clf.predict(features_test)\n",
    "pred_proba = clf.predict_proba(features_test)[:,1]\n",
    "\n",
    "from sklearn.metrics import accuracy_score\n",
    "accuracy_train_dct = accuracy_score(pred_train,label_train)\n",
    "accuracy_test_dct = accuracy_score(pred_test,label_test)\n",
    "\n",
    "from sklearn.metrics import precision_score\n",
    "precision_train_dct = precision_score(pred_train,label_train)\n",
    "precision_test_dct = precision_score(pred_test,label_test)\n",
    "\n",
    "from sklearn.metrics import recall_score\n",
    "recall_train_dct = recall_score(pred_train,label_train)\n",
    "recall_test_dct = recall_score(pred_test,label_test)\n",
    "\n",
    "from sklearn.metrics import f1_score\n",
    "f1_train_dct = f1_score(pred_train,label_train)\n",
    "f1_test_dct = f1_score(pred_test,label_test)\n",
    "\n",
    "from sklearn import metrics\n",
    "fpr, tpr, _ = metrics.roc_curve(np.array(label_train), clf.predict_proba(features_train)[:,1])\n",
    "auc_train_dct = metrics.auc(fpr,tpr)\n",
    "\n",
    "fpr, tpr, _ = metrics.roc_curve(np.array(label_test), clf.predict_proba(features_test)[:,1])\n",
    "auc_test_dct = metrics.auc(fpr,tpr)\n",
    "auc_overfitting_dct = auc_test_dct-auc_train_dct\n",
    "pd.DataFrame({'accuracy_test':[accuracy_test_dct],'accuracy_train':[accuracy_train_dct],\n",
    "             'precision_test':[precision_test_dct],'precision_train':[precision_train_dct],\n",
    "             'recall_test':[recall_test_dct],'recall_train':[recall_train_dct],\n",
    "             'f1_test':[f1_test_dct],'f1_train':[f1_train_dct],\n",
    "             'auc_test':[auc_test_dct],'auc_train':[auc_train_dct]})"
   ]
  },
  {
   "cell_type": "code",
   "execution_count": 16,
   "id": "90c55b08",
   "metadata": {},
   "outputs": [
    {
     "data": {
      "image/png": "[encoded data removed]",
      "text/plain": [
       "<Figure size 720x360 with 2 Axes>"
      ]
     },
     "metadata": {
      "needs_background": "light"
     },
     "output_type": "display_data"
    }
   ],
   "source": [
    "from sklearn.metrics import confusion_matrix\n",
    "fig, ax = plt.subplots(figsize=(10,5))\n",
    "ax = sns.heatmap((confusion_matrix(label_test,pred_test)), annot=True, cmap='Blues', fmt='g')\n",
    "\n",
    "\n",
    "\n",
    "ax.set_title('Seaborn Confusion Matrix with labels\\n\\n');\n",
    "ax.set_xlabel('\\nPredicted Values')\n",
    "ax.set_ylabel('Actual Values ');\n",
    "\n",
    "## Ticket labels - List must be in alphabetical order\n",
    "ax.xaxis.set_ticklabels(['False','True'])\n",
    "ax.yaxis.set_ticklabels(['False','True'])\n",
    "\n",
    "\n",
    "## Display the visualization of the Confusion Matrix.\n",
    "plt.show()"
   ]
  },
  {
   "cell_type": "markdown",
   "id": "29e0b4c7",
   "metadata": {},
   "source": [
    "## Naive Baiyes"
   ]
  },
  {
   "cell_type": "code",
   "execution_count": 17,
   "id": "033f4495",
   "metadata": {},
   "outputs": [
    {
     "data": {
      "text/html": [
       "<div>\n",
       "<style scoped>\n",
       "    .dataframe tbody tr th:only-of-type {\n",
       "        vertical-align: middle;\n",
       "    }\n",
       "\n",
       "    .dataframe tbody tr th {\n",
       "        vertical-align: top;\n",
       "    }\n",
       "\n",
       "    .dataframe thead th {\n",
       "        text-align: right;\n",
       "    }\n",
       "</style>\n",
       "<table border=\"1\" class=\"dataframe\">\n",
       "  <thead>\n",
       "    <tr style=\"text-align: right;\">\n",
       "      <th></th>\n",
       "      <th>accuracy_test</th>\n",
       "      <th>accuracy_train</th>\n",
       "      <th>precision_test</th>\n",
       "      <th>precision_train</th>\n",
       "      <th>recall_test</th>\n",
       "      <th>recall_train</th>\n",
       "      <th>f1_test</th>\n",
       "      <th>f1_train</th>\n",
       "      <th>auc_test</th>\n",
       "      <th>auc_train</th>\n",
       "    </tr>\n",
       "  </thead>\n",
       "  <tbody>\n",
       "    <tr>\n",
       "      <th>0</th>\n",
       "      <td>0.193747</td>\n",
       "      <td>0.52791</td>\n",
       "      <td>0.938242</td>\n",
       "      <td>0.940603</td>\n",
       "      <td>0.10123</td>\n",
       "      <td>0.51529</td>\n",
       "      <td>0.182743</td>\n",
       "      <td>0.665823</td>\n",
       "      <td>0.620634</td>\n",
       "      <td>0.659307</td>\n",
       "    </tr>\n",
       "  </tbody>\n",
       "</table>\n",
       "</div>"
      ],
      "text/plain": [
       "   accuracy_test  accuracy_train  precision_test  precision_train  \\\n",
       "0       0.193747         0.52791        0.938242         0.940603   \n",
       "\n",
       "   recall_test  recall_train   f1_test  f1_train  auc_test  auc_train  \n",
       "0      0.10123       0.51529  0.182743  0.665823  0.620634   0.659307  "
      ]
     },
     "execution_count": 17,
     "metadata": {},
     "output_type": "execute_result"
    }
   ],
   "source": [
    "from sklearn.naive_bayes import GaussianNB \n",
    "clf = GaussianNB()\n",
    "\n",
    "clf.fit(features_train,label_train)\n",
    "\n",
    "pred_train = clf.predict(features_train)\n",
    "pred_test = clf.predict(features_test)\n",
    "pred_proba = clf.predict_proba(features_test)[:,1]\n",
    "\n",
    "\n",
    "from sklearn.metrics import accuracy_score\n",
    "accuracy_train_nb = accuracy_score(pred_train,label_train)\n",
    "accuracy_test_nb = accuracy_score(pred_test,label_test)\n",
    "\n",
    "from sklearn.metrics import precision_score\n",
    "precision_train_nb = precision_score(pred_train,label_train)\n",
    "precision_test_nb = precision_score(pred_test,label_test)\n",
    "\n",
    "from sklearn.metrics import recall_score\n",
    "recall_train_nb = recall_score(pred_train,label_train)\n",
    "recall_test_nb = recall_score(pred_test,label_test)\n",
    "\n",
    "from sklearn.metrics import f1_score\n",
    "f1_train_nb = f1_score(pred_train,label_train)\n",
    "f1_test_nb = f1_score(pred_test,label_test)\n",
    "\n",
    "from sklearn import metrics\n",
    "fpr, tpr, _ = metrics.roc_curve(np.array(label_train), clf.predict_proba(features_train)[:,1])\n",
    "auc_train_nb = metrics.auc(fpr,tpr)\n",
    "\n",
    "fpr, tpr, _ = metrics.roc_curve(np.array(label_test), clf.predict_proba(features_test)[:,1])\n",
    "auc_test_nb = metrics.auc(fpr,tpr)\n",
    "auc_overfitting_nb = auc_test_nb-auc_train_nb\n",
    "pd.DataFrame({'accuracy_test':[accuracy_test_nb],'accuracy_train':[accuracy_train_nb],\n",
    "             'precision_test':[precision_test_nb],'precision_train':[precision_train_nb],\n",
    "             'recall_test':[recall_test_nb],'recall_train':[recall_train_nb],\n",
    "             'f1_test':[f1_test_nb],'f1_train':[f1_train_nb],\n",
    "             'auc_test':[auc_test_nb],'auc_train':[auc_train_nb]})"
   ]
  },
  {
   "cell_type": "code",
   "execution_count": 18,
   "id": "cb4df387",
   "metadata": {},
   "outputs": [
    {
     "data": {
      "image/png": "[encoded data removed]",
      "text/plain": [
       "<Figure size 720x360 with 2 Axes>"
      ]
     },
     "metadata": {
      "needs_background": "light"
     },
     "output_type": "display_data"
    }
   ],
   "source": [
    "from sklearn.metrics import confusion_matrix\n",
    "fig, ax = plt.subplots(figsize=(10,5))\n",
    "ax = sns.heatmap((confusion_matrix(label_test,pred_test)), annot=True, cmap='Blues', fmt='g')\n",
    "\n",
    "\n",
    "\n",
    "ax.set_title('Seaborn Confusion Matrix with labels\\n\\n');\n",
    "ax.set_xlabel('\\nPredicted Values')\n",
    "ax.set_ylabel('Actual Values ');\n",
    "\n",
    "## Ticket labels - List must be in alphabetical order\n",
    "ax.xaxis.set_ticklabels(['False','True'])\n",
    "ax.yaxis.set_ticklabels(['False','True'])\n",
    "\n",
    "\n",
    "## Display the visualization of the Confusion Matrix.\n",
    "plt.show()"
   ]
  },
  {
   "cell_type": "markdown",
   "id": "7c746e4a",
   "metadata": {},
   "source": [
    "## Linear SVC"
   ]
  },
  {
   "cell_type": "code",
   "execution_count": 19,
   "id": "75d98f77",
   "metadata": {},
   "outputs": [
    {
     "data": {
      "text/html": [
       "<div>\n",
       "<style scoped>\n",
       "    .dataframe tbody tr th:only-of-type {\n",
       "        vertical-align: middle;\n",
       "    }\n",
       "\n",
       "    .dataframe tbody tr th {\n",
       "        vertical-align: top;\n",
       "    }\n",
       "\n",
       "    .dataframe thead th {\n",
       "        text-align: right;\n",
       "    }\n",
       "</style>\n",
       "<table border=\"1\" class=\"dataframe\">\n",
       "  <thead>\n",
       "    <tr style=\"text-align: right;\">\n",
       "      <th></th>\n",
       "      <th>accuracy_test</th>\n",
       "      <th>accuracy_train</th>\n",
       "      <th>precision_test</th>\n",
       "      <th>precision_train</th>\n",
       "      <th>recall_test</th>\n",
       "      <th>recall_train</th>\n",
       "      <th>f1_test</th>\n",
       "      <th>f1_train</th>\n",
       "      <th>auc_test</th>\n",
       "      <th>auc_train</th>\n",
       "    </tr>\n",
       "  </thead>\n",
       "  <tbody>\n",
       "    <tr>\n",
       "      <th>0</th>\n",
       "      <td>0.405751</td>\n",
       "      <td>0.629579</td>\n",
       "      <td>0.712589</td>\n",
       "      <td>0.872643</td>\n",
       "      <td>0.107797</td>\n",
       "      <td>0.587193</td>\n",
       "      <td>0.187266</td>\n",
       "      <td>0.70201</td>\n",
       "      <td>0.605342</td>\n",
       "      <td>0.729918</td>\n",
       "    </tr>\n",
       "  </tbody>\n",
       "</table>\n",
       "</div>"
      ],
      "text/plain": [
       "   accuracy_test  accuracy_train  precision_test  precision_train  \\\n",
       "0       0.405751        0.629579        0.712589         0.872643   \n",
       "\n",
       "   recall_test  recall_train   f1_test  f1_train  auc_test  auc_train  \n",
       "0     0.107797      0.587193  0.187266   0.70201  0.605342   0.729918  "
      ]
     },
     "execution_count": 19,
     "metadata": {},
     "output_type": "execute_result"
    }
   ],
   "source": [
    "from sklearn.svm import LinearSVC\n",
    "from sklearn.calibration import CalibratedClassifierCV\n",
    "clf = LinearSVC()\n",
    "\n",
    "clf.fit(features_train,label_train)\n",
    "\n",
    "pred_train = clf.predict(features_train)\n",
    "pred_test = clf.predict(features_test)\n",
    "\n",
    "from sklearn.metrics import accuracy_score\n",
    "accuracy_train_svc = accuracy_score(pred_train,label_train)\n",
    "accuracy_test_svc = accuracy_score(pred_test,label_test)\n",
    "\n",
    "from sklearn.metrics import precision_score\n",
    "precision_train_svc = precision_score(pred_train,label_train)\n",
    "precision_test_svc = precision_score(pred_test,label_test)\n",
    "\n",
    "from sklearn.metrics import recall_score\n",
    "recall_train_svc = recall_score(pred_train,label_train)\n",
    "recall_test_svc = recall_score(pred_test,label_test)\n",
    "\n",
    "from sklearn.metrics import f1_score\n",
    "f1_train_svc = f1_score(pred_train,label_train)\n",
    "f1_test_svc = f1_score(pred_test,label_test)\n",
    "\n",
    "from sklearn import metrics\n",
    "clf_new = CalibratedClassifierCV(clf)\n",
    "clf_new.fit(features_train,label_train)\n",
    "pred_proba = clf_new.predict_proba(features_train)[:,1]\n",
    "fpr, tpr, _ = metrics.roc_curve(np.array(label_train), clf_new.predict_proba(features_train)[:,1])\n",
    "auc_train_svc = metrics.auc(fpr,tpr)\n",
    "fpr, tpr, _ = metrics.roc_curve(np.array(label_test), clf_new.predict_proba(features_test)[:,1])\n",
    "auc_test_svc = metrics.auc(fpr,tpr)\n",
    "auc_overfitting_svc = auc_test_svc-auc_train_svc\n",
    "pd.DataFrame({'accuracy_test':[accuracy_test_svc],'accuracy_train':[accuracy_train_svc],\n",
    "             'precision_test':[precision_test_svc],'precision_train':[precision_train_svc],\n",
    "             'recall_test':[recall_test_svc],'recall_train':[recall_train_svc],\n",
    "             'f1_test':[f1_test_svc],'f1_train':[f1_train_svc],\n",
    "             'auc_test':[auc_test_svc],'auc_train':[auc_train_svc]})"
   ]
  },
  {
   "cell_type": "code",
   "execution_count": 20,
   "id": "ec73e8df",
   "metadata": {
    "scrolled": true
   },
   "outputs": [
    {
     "data": {
      "image/png": "[encoded data removed]",
      "text/plain": [
       "<Figure size 720x360 with 2 Axes>"
      ]
     },
     "metadata": {
      "needs_background": "light"
     },
     "output_type": "display_data"
    }
   ],
   "source": [
    "from sklearn.metrics import confusion_matrix\n",
    "fig, ax = plt.subplots(figsize=(10,5))\n",
    "ax = sns.heatmap((confusion_matrix(label_test,pred_test)), annot=True, cmap='Blues', fmt='g')\n",
    "\n",
    "\n",
    "\n",
    "ax.set_title('Seaborn Confusion Matrix with labels\\n\\n');\n",
    "ax.set_xlabel('\\nPredicted Values')\n",
    "ax.set_ylabel('Actual Values ');\n",
    "\n",
    "## Ticket labels - List must be in alphabetical order\n",
    "ax.xaxis.set_ticklabels(['False','True'])\n",
    "ax.yaxis.set_ticklabels(['False','True'])\n",
    "\n",
    "\n",
    "## Display the visualization of the Confusion Matrix.\n",
    "plt.show()"
   ]
  },
  {
   "cell_type": "markdown",
   "id": "0b07b870",
   "metadata": {},
   "source": [
    "## Random Forest"
   ]
  },
  {
   "cell_type": "code",
   "execution_count": 21,
   "id": "c63bab89",
   "metadata": {},
   "outputs": [
    {
     "data": {
      "text/html": [
       "<div>\n",
       "<style scoped>\n",
       "    .dataframe tbody tr th:only-of-type {\n",
       "        vertical-align: middle;\n",
       "    }\n",
       "\n",
       "    .dataframe tbody tr th {\n",
       "        vertical-align: top;\n",
       "    }\n",
       "\n",
       "    .dataframe thead th {\n",
       "        text-align: right;\n",
       "    }\n",
       "</style>\n",
       "<table border=\"1\" class=\"dataframe\">\n",
       "  <thead>\n",
       "    <tr style=\"text-align: right;\">\n",
       "      <th></th>\n",
       "      <th>accuracy_test</th>\n",
       "      <th>accuracy_train</th>\n",
       "      <th>precision_test</th>\n",
       "      <th>precision_train</th>\n",
       "      <th>recall_test</th>\n",
       "      <th>recall_train</th>\n",
       "      <th>f1_test</th>\n",
       "      <th>f1_train</th>\n",
       "      <th>auc_test</th>\n",
       "      <th>auc_train</th>\n",
       "    </tr>\n",
       "  </thead>\n",
       "  <tbody>\n",
       "    <tr>\n",
       "      <th>0</th>\n",
       "      <td>0.89183</td>\n",
       "      <td>1.0</td>\n",
       "      <td>0.11639</td>\n",
       "      <td>1.0</td>\n",
       "      <td>0.324503</td>\n",
       "      <td>1.0</td>\n",
       "      <td>0.171329</td>\n",
       "      <td>1.0</td>\n",
       "      <td>0.666588</td>\n",
       "      <td>1.0</td>\n",
       "    </tr>\n",
       "  </tbody>\n",
       "</table>\n",
       "</div>"
      ],
      "text/plain": [
       "   accuracy_test  accuracy_train  precision_test  precision_train  \\\n",
       "0        0.89183             1.0         0.11639              1.0   \n",
       "\n",
       "   recall_test  recall_train   f1_test  f1_train  auc_test  auc_train  \n",
       "0     0.324503           1.0  0.171329       1.0  0.666588        1.0  "
      ]
     },
     "execution_count": 21,
     "metadata": {},
     "output_type": "execute_result"
    }
   ],
   "source": [
    "from sklearn.ensemble import RandomForestClassifier\n",
    "clf = RandomForestClassifier(class_weight='balanced')\n",
    "\n",
    "clf.fit(features_train,label_train)\n",
    "\n",
    "pred_train = clf.predict(features_train)\n",
    "pred_test = clf.predict(features_test)\n",
    "pred_proba = clf.predict_proba(features_test)[:,1]\n",
    "\n",
    "\n",
    "from sklearn.metrics import accuracy_score\n",
    "accuracy_train_rf = accuracy_score(pred_train,label_train)\n",
    "accuracy_test_rf = accuracy_score(pred_test,label_test)\n",
    "\n",
    "from sklearn.metrics import precision_score\n",
    "precision_train_rf = precision_score(pred_train,label_train)\n",
    "precision_test_rf = precision_score(pred_test,label_test)\n",
    "\n",
    "from sklearn.metrics import recall_score\n",
    "recall_train_rf = recall_score(pred_train,label_train)\n",
    "recall_test_rf = recall_score(pred_test,label_test)\n",
    "\n",
    "from sklearn.metrics import f1_score\n",
    "f1_train_rf = f1_score(pred_train,label_train)\n",
    "f1_test_rf = f1_score(pred_test,label_test)\n",
    "\n",
    "from sklearn import metrics\n",
    "fpr, tpr, _ = metrics.roc_curve(np.array(label_train), clf.predict_proba(features_train)[:,1])\n",
    "auc_train_rf = metrics.auc(fpr,tpr)\n",
    "\n",
    "fpr, tpr, _ = metrics.roc_curve(np.array(label_test), clf.predict_proba(features_test)[:,1])\n",
    "auc_test_rf = metrics.auc(fpr,tpr)\n",
    "auc_overfitting_rf = auc_test_rf-auc_train_rf\n",
    "\n",
    "\n",
    "pd.DataFrame({'accuracy_test':[accuracy_test_rf],'accuracy_train':[accuracy_train_rf],\n",
    "             'precision_test':[precision_test_rf],'precision_train':[precision_train_rf],\n",
    "             'recall_test':[recall_test_rf],'recall_train':[recall_train_rf],\n",
    "             'f1_test':[f1_test_rf],'f1_train':[f1_train_rf],\n",
    "             'auc_test':[auc_test_rf],'auc_train':[auc_train_rf]})"
   ]
  },
  {
   "cell_type": "code",
   "execution_count": 22,
   "id": "7f6f66d9",
   "metadata": {},
   "outputs": [
    {
     "data": {
      "image/png": "[encoded data removed]",
      "text/plain": [
       "<Figure size 720x360 with 2 Axes>"
      ]
     },
     "metadata": {
      "needs_background": "light"
     },
     "output_type": "display_data"
    }
   ],
   "source": [
    "from sklearn.metrics import confusion_matrix\n",
    "fig, ax = plt.subplots(figsize=(10,5))\n",
    "ax = sns.heatmap((confusion_matrix(label_test,pred_test)), annot=True, cmap='Blues', fmt='g')\n",
    "\n",
    "\n",
    "\n",
    "ax.set_title('Seaborn Confusion Matrix with labels\\n\\n');\n",
    "ax.set_xlabel('\\nPredicted Values')\n",
    "ax.set_ylabel('Actual Values ');\n",
    "\n",
    "## Ticket labels - List must be in alphabetical order\n",
    "ax.xaxis.set_ticklabels(['False','True'])\n",
    "ax.yaxis.set_ticklabels(['False','True'])\n",
    "\n",
    "\n",
    "## Display the visualization of the Confusion Matrix.\n",
    "plt.show()"
   ]
  },
  {
   "cell_type": "markdown",
   "id": "483c86fb",
   "metadata": {},
   "source": [
    "## Gradient Boosting"
   ]
  },
  {
   "cell_type": "code",
   "execution_count": 23,
   "id": "76e9830a",
   "metadata": {},
   "outputs": [
    {
     "data": {
      "text/html": [
       "<div>\n",
       "<style scoped>\n",
       "    .dataframe tbody tr th:only-of-type {\n",
       "        vertical-align: middle;\n",
       "    }\n",
       "\n",
       "    .dataframe tbody tr th {\n",
       "        vertical-align: top;\n",
       "    }\n",
       "\n",
       "    .dataframe thead th {\n",
       "        text-align: right;\n",
       "    }\n",
       "</style>\n",
       "<table border=\"1\" class=\"dataframe\">\n",
       "  <thead>\n",
       "    <tr style=\"text-align: right;\">\n",
       "      <th></th>\n",
       "      <th>accuracy_test</th>\n",
       "      <th>accuracy_train</th>\n",
       "      <th>precision_test</th>\n",
       "      <th>precision_train</th>\n",
       "      <th>recall_test</th>\n",
       "      <th>recall_train</th>\n",
       "      <th>f1_test</th>\n",
       "      <th>f1_train</th>\n",
       "      <th>auc_test</th>\n",
       "      <th>auc_train</th>\n",
       "    </tr>\n",
       "  </thead>\n",
       "  <tbody>\n",
       "    <tr>\n",
       "      <th>0</th>\n",
       "      <td>0.886581</td>\n",
       "      <td>0.903263</td>\n",
       "      <td>0.052257</td>\n",
       "      <td>0.828095</td>\n",
       "      <td>0.183333</td>\n",
       "      <td>0.974614</td>\n",
       "      <td>0.081331</td>\n",
       "      <td>0.8954</td>\n",
       "      <td>0.631322</td>\n",
       "      <td>0.952604</td>\n",
       "    </tr>\n",
       "  </tbody>\n",
       "</table>\n",
       "</div>"
      ],
      "text/plain": [
       "   accuracy_test  accuracy_train  precision_test  precision_train  \\\n",
       "0       0.886581        0.903263        0.052257         0.828095   \n",
       "\n",
       "   recall_test  recall_train   f1_test  f1_train  auc_test  auc_train  \n",
       "0     0.183333      0.974614  0.081331    0.8954  0.631322   0.952604  "
      ]
     },
     "execution_count": 23,
     "metadata": {},
     "output_type": "execute_result"
    }
   ],
   "source": [
    "from sklearn.ensemble import GradientBoostingClassifier\n",
    "clf = GradientBoostingClassifier()\n",
    "\n",
    "clf.fit(features_train,label_train)\n",
    "\n",
    "pred_train = clf.predict(features_train)\n",
    "pred_test = clf.predict(features_test)\n",
    "pred_proba = clf.predict_proba(features_test)[:,1]\n",
    "\n",
    "\n",
    "from sklearn.metrics import accuracy_score\n",
    "accuracy_train_gb = accuracy_score(pred_train,label_train)\n",
    "accuracy_test_gb = accuracy_score(pred_test,label_test)\n",
    "\n",
    "from sklearn.metrics import precision_score\n",
    "precision_train_gb = precision_score(pred_train,label_train)\n",
    "precision_test_gb = precision_score(pred_test,label_test)\n",
    "\n",
    "from sklearn.metrics import recall_score\n",
    "recall_train_gb = recall_score(pred_train,label_train)\n",
    "recall_test_gb = recall_score(pred_test,label_test)\n",
    "\n",
    "from sklearn.metrics import f1_score\n",
    "f1_train_gb = f1_score(pred_train,label_train)\n",
    "f1_test_gb = f1_score(pred_test,label_test)\n",
    "\n",
    "from sklearn import metrics\n",
    "fpr, tpr, _ = metrics.roc_curve(np.array(label_train), clf.predict_proba(features_train)[:,1])\n",
    "auc_train_gb = metrics.auc(fpr,tpr)\n",
    "\n",
    "fpr, tpr, _ = metrics.roc_curve(np.array(label_test), clf.predict_proba(features_test)[:,1])\n",
    "auc_test_gb = metrics.auc(fpr,tpr)\n",
    "auc_overfitting_gb = auc_test_gb-auc_train_gb\n",
    "\n",
    "pd.DataFrame({'accuracy_test':[accuracy_test_gb],'accuracy_train':[accuracy_train_gb],\n",
    "             'precision_test':[precision_test_gb],'precision_train':[precision_train_gb],\n",
    "             'recall_test':[recall_test_gb],'recall_train':[recall_train_gb],\n",
    "             'f1_test':[f1_test_gb],'f1_train':[f1_train_gb],\n",
    "             'auc_test':[auc_test_gb],'auc_train':[auc_train_gb]})"
   ]
  },
  {
   "cell_type": "code",
   "execution_count": 24,
   "id": "93a521f2",
   "metadata": {},
   "outputs": [
    {
     "data": {
      "image/png": "[encoded data removed]",
      "text/plain": [
       "<Figure size 720x360 with 2 Axes>"
      ]
     },
     "metadata": {
      "needs_background": "light"
     },
     "output_type": "display_data"
    }
   ],
   "source": [
    "from sklearn.metrics import confusion_matrix\n",
    "fig, ax = plt.subplots(figsize=(10,5))\n",
    "ax = sns.heatmap((confusion_matrix(label_test,pred_test)), annot=True, cmap='Blues', fmt='g')\n",
    "\n",
    "\n",
    "\n",
    "ax.set_title('Seaborn Confusion Matrix with labels\\n\\n');\n",
    "ax.set_xlabel('\\nPredicted Values')\n",
    "ax.set_ylabel('Actual Values ');\n",
    "\n",
    "## Ticket labels - List must be in alphabetical order\n",
    "ax.xaxis.set_ticklabels(['False','True'])\n",
    "ax.yaxis.set_ticklabels(['False','True'])\n",
    "\n",
    "\n",
    "## Display the visualization of the Confusion Matrix.\n",
    "plt.show()"
   ]
  },
  {
   "cell_type": "markdown",
   "id": "a0f2c970",
   "metadata": {},
   "source": [
    "## Light GBM"
   ]
  },
  {
   "cell_type": "code",
   "execution_count": 25,
   "id": "f04484bf",
   "metadata": {},
   "outputs": [
    {
     "data": {
      "text/html": [
       "<div>\n",
       "<style scoped>\n",
       "    .dataframe tbody tr th:only-of-type {\n",
       "        vertical-align: middle;\n",
       "    }\n",
       "\n",
       "    .dataframe tbody tr th {\n",
       "        vertical-align: top;\n",
       "    }\n",
       "\n",
       "    .dataframe thead th {\n",
       "        text-align: right;\n",
       "    }\n",
       "</style>\n",
       "<table border=\"1\" class=\"dataframe\">\n",
       "  <thead>\n",
       "    <tr style=\"text-align: right;\">\n",
       "      <th></th>\n",
       "      <th>accuracy_test</th>\n",
       "      <th>accuracy_train</th>\n",
       "      <th>precision_test</th>\n",
       "      <th>precision_train</th>\n",
       "      <th>recall_test</th>\n",
       "      <th>recall_train</th>\n",
       "      <th>f1_test</th>\n",
       "      <th>f1_train</th>\n",
       "      <th>auc_test</th>\n",
       "      <th>auc_train</th>\n",
       "    </tr>\n",
       "  </thead>\n",
       "  <tbody>\n",
       "    <tr>\n",
       "      <th>0</th>\n",
       "      <td>0.900274</td>\n",
       "      <td>0.949978</td>\n",
       "      <td>0.085511</td>\n",
       "      <td>0.904401</td>\n",
       "      <td>0.409091</td>\n",
       "      <td>0.99511</td>\n",
       "      <td>0.141454</td>\n",
       "      <td>0.94759</td>\n",
       "      <td>0.659456</td>\n",
       "      <td>0.986249</td>\n",
       "    </tr>\n",
       "  </tbody>\n",
       "</table>\n",
       "</div>"
      ],
      "text/plain": [
       "   accuracy_test  accuracy_train  precision_test  precision_train  \\\n",
       "0       0.900274        0.949978        0.085511         0.904401   \n",
       "\n",
       "   recall_test  recall_train   f1_test  f1_train  auc_test  auc_train  \n",
       "0     0.409091       0.99511  0.141454   0.94759  0.659456   0.986249  "
      ]
     },
     "execution_count": 25,
     "metadata": {},
     "output_type": "execute_result"
    }
   ],
   "source": [
    "import lightgbm as lgb\n",
    "clf = lgb.LGBMClassifier()\n",
    "\n",
    "clf.fit(features_train,label_train)\n",
    "\n",
    "pred_train = clf.predict(features_train)\n",
    "pred_test = clf.predict(features_test)\n",
    "pred_proba = clf.predict_proba(features_test)[:,1]\n",
    "\n",
    "\n",
    "from sklearn.metrics import accuracy_score\n",
    "accuracy_train_lgb = accuracy_score(pred_train,label_train)\n",
    "accuracy_test_lgb = accuracy_score(pred_test,label_test)\n",
    "\n",
    "from sklearn.metrics import precision_score\n",
    "precision_train_lgb = precision_score(pred_train,label_train)\n",
    "precision_test_lgb = precision_score(pred_test,label_test)\n",
    "\n",
    "from sklearn.metrics import recall_score\n",
    "recall_train_lgb = recall_score(pred_train,label_train)\n",
    "recall_test_lgb = recall_score(pred_test,label_test)\n",
    "\n",
    "from sklearn.metrics import f1_score\n",
    "f1_train_lgb = f1_score(pred_train,label_train)\n",
    "f1_test_lgb = f1_score(pred_test,label_test)\n",
    "\n",
    "from sklearn import metrics\n",
    "fpr, tpr, _ = metrics.roc_curve(np.array(label_train), clf.predict_proba(features_train)[:,1])\n",
    "auc_train_lgb = metrics.auc(fpr,tpr)\n",
    "\n",
    "fpr, tpr, _ = metrics.roc_curve(np.array(label_test), clf.predict_proba(features_test)[:,1])\n",
    "auc_test_lgb = metrics.auc(fpr,tpr)\n",
    "auc_overfitting_lgb = auc_test_lgb-auc_train_lgb\n",
    "\n",
    "pd.DataFrame({'accuracy_test':[accuracy_test_lgb],'accuracy_train':[accuracy_train_lgb],\n",
    "             'precision_test':[precision_test_lgb],'precision_train':[precision_train_lgb],\n",
    "             'recall_test':[recall_test_lgb],'recall_train':[recall_train_lgb],\n",
    "             'f1_test':[f1_test_lgb],'f1_train':[f1_train_lgb],\n",
    "             'auc_test':[auc_test_lgb],'auc_train':[auc_train_lgb]})"
   ]
  },
  {
   "cell_type": "code",
   "execution_count": 26,
   "id": "341aa35f",
   "metadata": {},
   "outputs": [
    {
     "data": {
      "image/png": "[encoded data removed]",
      "text/plain": [
       "<Figure size 720x360 with 2 Axes>"
      ]
     },
     "metadata": {
      "needs_background": "light"
     },
     "output_type": "display_data"
    }
   ],
   "source": [
    "from sklearn.metrics import confusion_matrix\n",
    "fig, ax = plt.subplots(figsize=(10,5))\n",
    "ax = sns.heatmap((confusion_matrix(label_test,pred_test)), annot=True, cmap='Blues', fmt='g')\n",
    "\n",
    "\n",
    "\n",
    "ax.set_title('Seaborn Confusion Matrix with labels\\n\\n');\n",
    "ax.set_xlabel('\\nPredicted Values')\n",
    "ax.set_ylabel('Actual Values ');\n",
    "\n",
    "## Ticket labels - List must be in alphabetical order\n",
    "ax.xaxis.set_ticklabels(['False','True'])\n",
    "ax.yaxis.set_ticklabels(['False','True'])\n",
    "\n",
    "\n",
    "## Display the visualization of the Confusion Matrix.\n",
    "plt.show()"
   ]
  },
  {
   "cell_type": "markdown",
   "id": "f19f00ae",
   "metadata": {},
   "source": [
    "## XGBoost"
   ]
  },
  {
   "cell_type": "code",
   "execution_count": 27,
   "id": "1e0755b5",
   "metadata": {},
   "outputs": [
    {
     "data": {
      "text/html": [
       "<div>\n",
       "<style scoped>\n",
       "    .dataframe tbody tr th:only-of-type {\n",
       "        vertical-align: middle;\n",
       "    }\n",
       "\n",
       "    .dataframe tbody tr th {\n",
       "        vertical-align: top;\n",
       "    }\n",
       "\n",
       "    .dataframe thead th {\n",
       "        text-align: right;\n",
       "    }\n",
       "</style>\n",
       "<table border=\"1\" class=\"dataframe\">\n",
       "  <thead>\n",
       "    <tr style=\"text-align: right;\">\n",
       "      <th></th>\n",
       "      <th>accuracy_test</th>\n",
       "      <th>accuracy_train</th>\n",
       "      <th>precision_test</th>\n",
       "      <th>precision_train</th>\n",
       "      <th>recall_test</th>\n",
       "      <th>recall_train</th>\n",
       "      <th>f1_test</th>\n",
       "      <th>f1_train</th>\n",
       "      <th>auc_test</th>\n",
       "      <th>auc_train</th>\n",
       "    </tr>\n",
       "  </thead>\n",
       "  <tbody>\n",
       "    <tr>\n",
       "      <th>0</th>\n",
       "      <td>0.899361</td>\n",
       "      <td>0.971439</td>\n",
       "      <td>0.111639</td>\n",
       "      <td>0.944505</td>\n",
       "      <td>0.412281</td>\n",
       "      <td>0.998282</td>\n",
       "      <td>0.175701</td>\n",
       "      <td>0.970649</td>\n",
       "      <td>0.666607</td>\n",
       "      <td>0.996895</td>\n",
       "    </tr>\n",
       "  </tbody>\n",
       "</table>\n",
       "</div>"
      ],
      "text/plain": [
       "   accuracy_test  accuracy_train  precision_test  precision_train  \\\n",
       "0       0.899361        0.971439        0.111639         0.944505   \n",
       "\n",
       "   recall_test  recall_train   f1_test  f1_train  auc_test  auc_train  \n",
       "0     0.412281      0.998282  0.175701  0.970649  0.666607   0.996895  "
      ]
     },
     "execution_count": 27,
     "metadata": {},
     "output_type": "execute_result"
    }
   ],
   "source": [
    "import xgboost as xgb\n",
    "clf = xgb.XGBClassifier()\n",
    "\n",
    "clf.fit(features_train,label_train)\n",
    "\n",
    "pred_train = clf.predict(features_train)\n",
    "pred_test = clf.predict(features_test)\n",
    "pred_proba = clf.predict_proba(features_test)[:,1]\n",
    "\n",
    "\n",
    "from sklearn.metrics import accuracy_score\n",
    "accuracy_train_xgb = accuracy_score(pred_train,label_train)\n",
    "accuracy_test_xgb = accuracy_score(pred_test,label_test)\n",
    "\n",
    "from sklearn.metrics import precision_score\n",
    "precision_train_xgb = precision_score(pred_train,label_train)\n",
    "precision_test_xgb = precision_score(pred_test,label_test)\n",
    "\n",
    "from sklearn.metrics import recall_score\n",
    "recall_train_xgb = recall_score(pred_train,label_train)\n",
    "recall_test_xgb = recall_score(pred_test,label_test)\n",
    "\n",
    "from sklearn.metrics import f1_score\n",
    "f1_train_xgb = f1_score(pred_train,label_train)\n",
    "f1_test_xgb = f1_score(pred_test,label_test)\n",
    "\n",
    "from sklearn import metrics\n",
    "fpr, tpr, _ = metrics.roc_curve(np.array(label_train), clf.predict_proba(features_train)[:,1])\n",
    "auc_train_xgb = metrics.auc(fpr,tpr)\n",
    "\n",
    "fpr, tpr, _ = metrics.roc_curve(np.array(label_test), clf.predict_proba(features_test)[:,1])\n",
    "auc_test_xgb = metrics.auc(fpr,tpr)\n",
    "auc_overfitting_xgb = auc_test_xgb-auc_train_xgb\n",
    "\n",
    "pd.DataFrame({'accuracy_test':[accuracy_test_xgb],'accuracy_train':[accuracy_train_xgb],\n",
    "             'precision_test':[precision_test_xgb],'precision_train':[precision_train_xgb],\n",
    "             'recall_test':[recall_test_xgb],'recall_train':[recall_train_xgb],\n",
    "             'f1_test':[f1_test_xgb],'f1_train':[f1_train_xgb],\n",
    "             'auc_test':[auc_test_xgb],'auc_train':[auc_train_xgb]})"
   ]
  },
  {
   "cell_type": "code",
   "execution_count": 28,
   "id": "e00fccf2",
   "metadata": {},
   "outputs": [
    {
     "data": {
      "image/png": "[encoded data removed]",
      "text/plain": [
       "<Figure size 720x360 with 2 Axes>"
      ]
     },
     "metadata": {
      "needs_background": "light"
     },
     "output_type": "display_data"
    }
   ],
   "source": [
    "from sklearn.metrics import confusion_matrix\n",
    "fig, ax = plt.subplots(figsize=(10,5))\n",
    "ax = sns.heatmap((confusion_matrix(label_test,pred_test)), annot=True, cmap='Blues', fmt='g')\n",
    "\n",
    "\n",
    "\n",
    "ax.set_title('Seaborn Confusion Matrix with labels\\n\\n');\n",
    "ax.set_xlabel('\\nPredicted Values')\n",
    "ax.set_ylabel('Actual Values ');\n",
    "\n",
    "## Ticket labels - List must be in alphabetical order\n",
    "ax.xaxis.set_ticklabels(['False','True'])\n",
    "ax.yaxis.set_ticklabels(['False','True'])\n",
    "\n",
    "\n",
    "## Display the visualization of the Confusion Matrix.\n",
    "plt.show()"
   ]
  },
  {
   "cell_type": "markdown",
   "id": "1983d55d",
   "metadata": {},
   "source": [
    "## Neural Network"
   ]
  },
  {
   "cell_type": "code",
   "execution_count": 29,
   "id": "90f48e2e",
   "metadata": {},
   "outputs": [
    {
     "data": {
      "text/html": [
       "<div>\n",
       "<style scoped>\n",
       "    .dataframe tbody tr th:only-of-type {\n",
       "        vertical-align: middle;\n",
       "    }\n",
       "\n",
       "    .dataframe tbody tr th {\n",
       "        vertical-align: top;\n",
       "    }\n",
       "\n",
       "    .dataframe thead th {\n",
       "        text-align: right;\n",
       "    }\n",
       "</style>\n",
       "<table border=\"1\" class=\"dataframe\">\n",
       "  <thead>\n",
       "    <tr style=\"text-align: right;\">\n",
       "      <th></th>\n",
       "      <th>accuracy_test</th>\n",
       "      <th>accuracy_train</th>\n",
       "      <th>precision_test</th>\n",
       "      <th>precision_train</th>\n",
       "      <th>recall_test</th>\n",
       "      <th>recall_train</th>\n",
       "      <th>f1_test</th>\n",
       "      <th>f1_train</th>\n",
       "      <th>auc_test</th>\n",
       "      <th>auc_train</th>\n",
       "    </tr>\n",
       "  </thead>\n",
       "  <tbody>\n",
       "    <tr>\n",
       "      <th>0</th>\n",
       "      <td>0.408489</td>\n",
       "      <td>0.609311</td>\n",
       "      <td>0.781473</td>\n",
       "      <td>0.847605</td>\n",
       "      <td>0.116296</td>\n",
       "      <td>0.574029</td>\n",
       "      <td>0.202462</td>\n",
       "      <td>0.684494</td>\n",
       "      <td>0.59011</td>\n",
       "      <td>0.656428</td>\n",
       "    </tr>\n",
       "  </tbody>\n",
       "</table>\n",
       "</div>"
      ],
      "text/plain": [
       "   accuracy_test  accuracy_train  precision_test  precision_train  \\\n",
       "0       0.408489        0.609311        0.781473         0.847605   \n",
       "\n",
       "   recall_test  recall_train   f1_test  f1_train  auc_test  auc_train  \n",
       "0     0.116296      0.574029  0.202462  0.684494   0.59011   0.656428  "
      ]
     },
     "execution_count": 29,
     "metadata": {},
     "output_type": "execute_result"
    }
   ],
   "source": [
    "from sklearn.neural_network import MLPClassifier\n",
    "clf = MLPClassifier()\n",
    "\n",
    "clf.fit(features_train,label_train)\n",
    "\n",
    "pred_train = clf.predict(features_train)\n",
    "pred_test = clf.predict(features_test)\n",
    "pred_proba = clf.predict_proba(features_test)[:,1]\n",
    "\n",
    "\n",
    "from sklearn.metrics import accuracy_score\n",
    "accuracy_train_nn = accuracy_score(pred_train,label_train)\n",
    "accuracy_test_nn = accuracy_score(pred_test,label_test)\n",
    "\n",
    "from sklearn.metrics import precision_score\n",
    "precision_train_nn = precision_score(pred_train,label_train)\n",
    "precision_test_nn = precision_score(pred_test,label_test)\n",
    "\n",
    "from sklearn.metrics import recall_score\n",
    "recall_train_nn = recall_score(pred_train,label_train)\n",
    "recall_test_nn = recall_score(pred_test,label_test)\n",
    "\n",
    "from sklearn.metrics import f1_score\n",
    "f1_train_nn = f1_score(pred_train,label_train)\n",
    "f1_test_nn = f1_score(pred_test,label_test)\n",
    "\n",
    "from sklearn import metrics\n",
    "fpr, tpr, _ = metrics.roc_curve(np.array(label_train), clf.predict_proba(features_train)[:,1])\n",
    "auc_train_nn = metrics.auc(fpr,tpr)\n",
    "\n",
    "fpr, tpr, _ = metrics.roc_curve(np.array(label_test), clf.predict_proba(features_test)[:,1])\n",
    "auc_test_nn = metrics.auc(fpr,tpr)\n",
    "auc_overfitting_nn = auc_test_nn-auc_train_nn\n",
    "\n",
    "\n",
    "pd.DataFrame({'accuracy_test':[accuracy_test_nn],'accuracy_train':[accuracy_train_nn],\n",
    "             'precision_test':[precision_test_nn],'precision_train':[precision_train_nn],\n",
    "             'recall_test':[recall_test_nn],'recall_train':[recall_train_nn],\n",
    "             'f1_test':[f1_test_nn],'f1_train':[f1_train_nn],\n",
    "             'auc_test':[auc_test_nn],'auc_train':[auc_train_nn]})"
   ]
  },
  {
   "cell_type": "code",
   "execution_count": 30,
   "id": "aa916f51",
   "metadata": {},
   "outputs": [
    {
     "data": {
      "image/png": "[encoded data removed]",
      "text/plain": [
       "<Figure size 720x360 with 2 Axes>"
      ]
     },
     "metadata": {
      "needs_background": "light"
     },
     "output_type": "display_data"
    }
   ],
   "source": [
    "from sklearn.metrics import confusion_matrix\n",
    "fig, ax = plt.subplots(figsize=(10,5))\n",
    "ax = sns.heatmap((confusion_matrix(label_test,pred_test)), annot=True, cmap='Blues', fmt='g')\n",
    "\n",
    "\n",
    "\n",
    "ax.set_title('Seaborn Confusion Matrix with labels\\n\\n');\n",
    "ax.set_xlabel('\\nPredicted Values')\n",
    "ax.set_ylabel('Actual Values ');\n",
    "\n",
    "## Ticket labels - List must be in alphabetical order\n",
    "ax.xaxis.set_ticklabels(['False','True'])\n",
    "ax.yaxis.set_ticklabels(['False','True'])\n",
    "\n",
    "\n",
    "## Display the visualization of the Confusion Matrix.\n",
    "plt.show()"
   ]
  },
  {
   "cell_type": "markdown",
   "id": "26169699",
   "metadata": {},
   "source": [
    "## Summary Model Performance"
   ]
  },
  {
   "cell_type": "code",
   "execution_count": 31,
   "id": "7544c99d",
   "metadata": {
    "scrolled": true
   },
   "outputs": [
    {
     "data": {
      "text/html": [
       "<div>\n",
       "<style scoped>\n",
       "    .dataframe tbody tr th:only-of-type {\n",
       "        vertical-align: middle;\n",
       "    }\n",
       "\n",
       "    .dataframe tbody tr th {\n",
       "        vertical-align: top;\n",
       "    }\n",
       "\n",
       "    .dataframe thead th {\n",
       "        text-align: right;\n",
       "    }\n",
       "</style>\n",
       "<table border=\"1\" class=\"dataframe\">\n",
       "  <thead>\n",
       "    <tr style=\"text-align: right;\">\n",
       "      <th></th>\n",
       "      <th>Model</th>\n",
       "      <th>AUC Test</th>\n",
       "      <th>AUC Train</th>\n",
       "      <th>Recall Test</th>\n",
       "      <th>Recall Train</th>\n",
       "    </tr>\n",
       "  </thead>\n",
       "  <tbody>\n",
       "    <tr>\n",
       "      <th>3</th>\n",
       "      <td>XGBoost</td>\n",
       "      <td>66.660690</td>\n",
       "      <td>99.689510</td>\n",
       "      <td>41.228070</td>\n",
       "      <td>99.828159</td>\n",
       "    </tr>\n",
       "    <tr>\n",
       "      <th>4</th>\n",
       "      <td>Light GBM</td>\n",
       "      <td>65.945552</td>\n",
       "      <td>98.624881</td>\n",
       "      <td>40.909091</td>\n",
       "      <td>99.511032</td>\n",
       "    </tr>\n",
       "    <tr>\n",
       "      <th>2</th>\n",
       "      <td>Random Forest</td>\n",
       "      <td>66.658831</td>\n",
       "      <td>100.000000</td>\n",
       "      <td>32.450331</td>\n",
       "      <td>100.000000</td>\n",
       "    </tr>\n",
       "    <tr>\n",
       "      <th>1</th>\n",
       "      <td>Decision Tree</td>\n",
       "      <td>57.050392</td>\n",
       "      <td>100.000000</td>\n",
       "      <td>18.923611</td>\n",
       "      <td>100.000000</td>\n",
       "    </tr>\n",
       "    <tr>\n",
       "      <th>8</th>\n",
       "      <td>Gradient Boosting</td>\n",
       "      <td>63.132226</td>\n",
       "      <td>95.260403</td>\n",
       "      <td>18.333333</td>\n",
       "      <td>97.461411</td>\n",
       "    </tr>\n",
       "    <tr>\n",
       "      <th>0</th>\n",
       "      <td>Linear Regression</td>\n",
       "      <td>62.138331</td>\n",
       "      <td>66.853550</td>\n",
       "      <td>14.974802</td>\n",
       "      <td>64.944208</td>\n",
       "    </tr>\n",
       "    <tr>\n",
       "      <th>5</th>\n",
       "      <td>Neural Network</td>\n",
       "      <td>59.011047</td>\n",
       "      <td>65.642768</td>\n",
       "      <td>11.629551</td>\n",
       "      <td>57.402922</td>\n",
       "    </tr>\n",
       "    <tr>\n",
       "      <th>6</th>\n",
       "      <td>Linear SVC</td>\n",
       "      <td>60.534151</td>\n",
       "      <td>72.991821</td>\n",
       "      <td>10.779734</td>\n",
       "      <td>58.719276</td>\n",
       "    </tr>\n",
       "    <tr>\n",
       "      <th>7</th>\n",
       "      <td>Naive Baiyes</td>\n",
       "      <td>62.063372</td>\n",
       "      <td>65.930672</td>\n",
       "      <td>10.123014</td>\n",
       "      <td>51.529007</td>\n",
       "    </tr>\n",
       "  </tbody>\n",
       "</table>\n",
       "</div>"
      ],
      "text/plain": [
       "               Model   AUC Test   AUC Train  Recall Test  Recall Train\n",
       "3            XGBoost  66.660690   99.689510    41.228070     99.828159\n",
       "4          Light GBM  65.945552   98.624881    40.909091     99.511032\n",
       "2      Random Forest  66.658831  100.000000    32.450331    100.000000\n",
       "1      Decision Tree  57.050392  100.000000    18.923611    100.000000\n",
       "8  Gradient Boosting  63.132226   95.260403    18.333333     97.461411\n",
       "0  Linear Regression  62.138331   66.853550    14.974802     64.944208\n",
       "5     Neural Network  59.011047   65.642768    11.629551     57.402922\n",
       "6         Linear SVC  60.534151   72.991821    10.779734     58.719276\n",
       "7       Naive Baiyes  62.063372   65.930672    10.123014     51.529007"
      ]
     },
     "execution_count": 31,
     "metadata": {},
     "output_type": "execute_result"
    }
   ],
   "source": [
    "kesimpulan = pd.DataFrame({'Model':['Linear Regression','Decision Tree','Random Forest','XGBoost','Light GBM','Neural Network','Linear SVC','Naive Baiyes','Gradient Boosting'],\n",
    "                          'AUC Test':list(np.array([auc_test_lr,auc_test_dct,auc_test_rf,auc_test_xgb,auc_test_lgb,auc_test_nn,auc_test_svc,auc_test_nb,auc_test_gb])*100),\n",
    "                           'AUC Train':list(np.array([auc_train_lr,auc_train_dct,auc_train_rf,auc_train_xgb,auc_train_lgb,auc_train_nn,auc_train_svc,auc_train_nb,auc_train_gb])*100),\n",
    "                           'Recall Test':list(np.array([recall_test_lr,recall_test_dct,recall_test_rf,recall_test_xgb,recall_test_lgb,recall_test_nn,recall_test_svc,recall_test_nb,recall_test_gb])*100),\n",
    "                          'Recall Train':list(np.array([recall_train_lr,recall_train_dct,recall_train_rf,recall_train_xgb,recall_train_lgb,recall_train_nn,recall_train_svc,recall_train_nb,recall_train_gb])*100)})\n",
    "kesimpulan.sort_values('Recall Test',ascending=False)"
   ]
  },
  {
   "cell_type": "code",
   "execution_count": 32,
   "id": "2615e468",
   "metadata": {
    "scrolled": true
   },
   "outputs": [
    {
     "data": {
      "text/html": [
       "<div>\n",
       "<style scoped>\n",
       "    .dataframe tbody tr th:only-of-type {\n",
       "        vertical-align: middle;\n",
       "    }\n",
       "\n",
       "    .dataframe tbody tr th {\n",
       "        vertical-align: top;\n",
       "    }\n",
       "\n",
       "    .dataframe thead th {\n",
       "        text-align: right;\n",
       "    }\n",
       "</style>\n",
       "<table border=\"1\" class=\"dataframe\">\n",
       "  <thead>\n",
       "    <tr style=\"text-align: right;\">\n",
       "      <th></th>\n",
       "      <th>Model</th>\n",
       "      <th>AUC Test</th>\n",
       "      <th>AUC Train</th>\n",
       "      <th>Precision Test</th>\n",
       "      <th>Precision Train</th>\n",
       "    </tr>\n",
       "  </thead>\n",
       "  <tbody>\n",
       "    <tr>\n",
       "      <th>7</th>\n",
       "      <td>Naive Baiyes</td>\n",
       "      <td>62.063372</td>\n",
       "      <td>65.930672</td>\n",
       "      <td>93.824228</td>\n",
       "      <td>94.060264</td>\n",
       "    </tr>\n",
       "    <tr>\n",
       "      <th>5</th>\n",
       "      <td>Neural Network</td>\n",
       "      <td>59.011047</td>\n",
       "      <td>65.642768</td>\n",
       "      <td>78.147268</td>\n",
       "      <td>84.760460</td>\n",
       "    </tr>\n",
       "    <tr>\n",
       "      <th>6</th>\n",
       "      <td>Linear SVC</td>\n",
       "      <td>60.534151</td>\n",
       "      <td>72.991821</td>\n",
       "      <td>71.258907</td>\n",
       "      <td>87.264253</td>\n",
       "    </tr>\n",
       "    <tr>\n",
       "      <th>0</th>\n",
       "      <td>Linear Regression</td>\n",
       "      <td>62.138331</td>\n",
       "      <td>66.853550</td>\n",
       "      <td>49.406176</td>\n",
       "      <td>52.991546</td>\n",
       "    </tr>\n",
       "    <tr>\n",
       "      <th>1</th>\n",
       "      <td>Decision Tree</td>\n",
       "      <td>57.050392</td>\n",
       "      <td>100.000000</td>\n",
       "      <td>25.890736</td>\n",
       "      <td>100.000000</td>\n",
       "    </tr>\n",
       "    <tr>\n",
       "      <th>2</th>\n",
       "      <td>Random Forest</td>\n",
       "      <td>66.658831</td>\n",
       "      <td>100.000000</td>\n",
       "      <td>11.638955</td>\n",
       "      <td>100.000000</td>\n",
       "    </tr>\n",
       "    <tr>\n",
       "      <th>3</th>\n",
       "      <td>XGBoost</td>\n",
       "      <td>66.660690</td>\n",
       "      <td>99.689510</td>\n",
       "      <td>11.163895</td>\n",
       "      <td>94.450466</td>\n",
       "    </tr>\n",
       "    <tr>\n",
       "      <th>4</th>\n",
       "      <td>Light GBM</td>\n",
       "      <td>65.945552</td>\n",
       "      <td>98.624881</td>\n",
       "      <td>8.551069</td>\n",
       "      <td>90.440061</td>\n",
       "    </tr>\n",
       "    <tr>\n",
       "      <th>8</th>\n",
       "      <td>Gradient Boosting</td>\n",
       "      <td>63.132226</td>\n",
       "      <td>95.260403</td>\n",
       "      <td>5.225653</td>\n",
       "      <td>82.809452</td>\n",
       "    </tr>\n",
       "  </tbody>\n",
       "</table>\n",
       "</div>"
      ],
      "text/plain": [
       "               Model   AUC Test   AUC Train  Precision Test  Precision Train\n",
       "7       Naive Baiyes  62.063372   65.930672       93.824228        94.060264\n",
       "5     Neural Network  59.011047   65.642768       78.147268        84.760460\n",
       "6         Linear SVC  60.534151   72.991821       71.258907        87.264253\n",
       "0  Linear Regression  62.138331   66.853550       49.406176        52.991546\n",
       "1      Decision Tree  57.050392  100.000000       25.890736       100.000000\n",
       "2      Random Forest  66.658831  100.000000       11.638955       100.000000\n",
       "3            XGBoost  66.660690   99.689510       11.163895        94.450466\n",
       "4          Light GBM  65.945552   98.624881        8.551069        90.440061\n",
       "8  Gradient Boosting  63.132226   95.260403        5.225653        82.809452"
      ]
     },
     "execution_count": 32,
     "metadata": {},
     "output_type": "execute_result"
    }
   ],
   "source": [
    "kesimpulan = pd.DataFrame({'Model':['Linear Regression','Decision Tree','Random Forest','XGBoost','Light GBM','Neural Network','Linear SVC','Naive Baiyes','Gradient Boosting'],\n",
    "                          'AUC Test':list(np.array([auc_test_lr,auc_test_dct,auc_test_rf,auc_test_xgb,auc_test_lgb,auc_test_nn,auc_test_svc,auc_test_nb,auc_test_gb])*100),\n",
    "                           'AUC Train':list(np.array([auc_train_lr,auc_train_dct,auc_train_rf,auc_train_xgb,auc_train_lgb,auc_train_nn,auc_train_svc,auc_train_nb,auc_train_gb])*100),\n",
    "                           'Precision Test':list(np.array([precision_test_lr,precision_test_dct,precision_test_rf,precision_test_xgb,precision_test_lgb,precision_test_nn,precision_test_svc,precision_test_nb,precision_test_gb])*100),\n",
    "                          'Precision Train':list(np.array([precision_train_lr,precision_train_dct,precision_train_rf,precision_train_xgb,precision_train_lgb,precision_train_nn,precision_train_svc,precision_train_nb,precision_train_gb])*100)})\n",
    "kesimpulan.sort_values('Precision Test',ascending=False)"
   ]
  },
  {
   "cell_type": "code",
   "execution_count": 33,
   "id": "b12a7efe",
   "metadata": {},
   "outputs": [
    {
     "data": {
      "text/html": [
       "<div>\n",
       "<style scoped>\n",
       "    .dataframe tbody tr th:only-of-type {\n",
       "        vertical-align: middle;\n",
       "    }\n",
       "\n",
       "    .dataframe tbody tr th {\n",
       "        vertical-align: top;\n",
       "    }\n",
       "\n",
       "    .dataframe thead th {\n",
       "        text-align: right;\n",
       "    }\n",
       "</style>\n",
       "<table border=\"1\" class=\"dataframe\">\n",
       "  <thead>\n",
       "    <tr style=\"text-align: right;\">\n",
       "      <th></th>\n",
       "      <th>Model</th>\n",
       "      <th>AUC Test</th>\n",
       "      <th>AUC Train</th>\n",
       "      <th>Accuracy Test</th>\n",
       "      <th>Accuracy Train</th>\n",
       "    </tr>\n",
       "  </thead>\n",
       "  <tbody>\n",
       "    <tr>\n",
       "      <th>4</th>\n",
       "      <td>Light GBM</td>\n",
       "      <td>65.945552</td>\n",
       "      <td>98.624881</td>\n",
       "      <td>90.027385</td>\n",
       "      <td>94.997832</td>\n",
       "    </tr>\n",
       "    <tr>\n",
       "      <th>3</th>\n",
       "      <td>XGBoost</td>\n",
       "      <td>66.660690</td>\n",
       "      <td>99.689510</td>\n",
       "      <td>89.936102</td>\n",
       "      <td>97.143941</td>\n",
       "    </tr>\n",
       "    <tr>\n",
       "      <th>2</th>\n",
       "      <td>Random Forest</td>\n",
       "      <td>66.658831</td>\n",
       "      <td>100.000000</td>\n",
       "      <td>89.183021</td>\n",
       "      <td>100.000000</td>\n",
       "    </tr>\n",
       "    <tr>\n",
       "      <th>8</th>\n",
       "      <td>Gradient Boosting</td>\n",
       "      <td>63.132226</td>\n",
       "      <td>95.260403</td>\n",
       "      <td>88.658147</td>\n",
       "      <td>90.326252</td>\n",
       "    </tr>\n",
       "    <tr>\n",
       "      <th>1</th>\n",
       "      <td>Decision Tree</td>\n",
       "      <td>57.050392</td>\n",
       "      <td>100.000000</td>\n",
       "      <td>82.222729</td>\n",
       "      <td>100.000000</td>\n",
       "    </tr>\n",
       "    <tr>\n",
       "      <th>0</th>\n",
       "      <td>Linear Regression</td>\n",
       "      <td>62.138331</td>\n",
       "      <td>66.853550</td>\n",
       "      <td>68.188042</td>\n",
       "      <td>62.193800</td>\n",
       "    </tr>\n",
       "    <tr>\n",
       "      <th>5</th>\n",
       "      <td>Neural Network</td>\n",
       "      <td>59.011047</td>\n",
       "      <td>65.642768</td>\n",
       "      <td>40.848927</td>\n",
       "      <td>60.931064</td>\n",
       "    </tr>\n",
       "    <tr>\n",
       "      <th>6</th>\n",
       "      <td>Linear SVC</td>\n",
       "      <td>60.534151</td>\n",
       "      <td>72.991821</td>\n",
       "      <td>40.575080</td>\n",
       "      <td>62.957945</td>\n",
       "    </tr>\n",
       "    <tr>\n",
       "      <th>7</th>\n",
       "      <td>Naive Baiyes</td>\n",
       "      <td>62.063372</td>\n",
       "      <td>65.930672</td>\n",
       "      <td>19.374715</td>\n",
       "      <td>52.791025</td>\n",
       "    </tr>\n",
       "  </tbody>\n",
       "</table>\n",
       "</div>"
      ],
      "text/plain": [
       "               Model   AUC Test   AUC Train  Accuracy Test  Accuracy Train\n",
       "4          Light GBM  65.945552   98.624881      90.027385       94.997832\n",
       "3            XGBoost  66.660690   99.689510      89.936102       97.143941\n",
       "2      Random Forest  66.658831  100.000000      89.183021      100.000000\n",
       "8  Gradient Boosting  63.132226   95.260403      88.658147       90.326252\n",
       "1      Decision Tree  57.050392  100.000000      82.222729      100.000000\n",
       "0  Linear Regression  62.138331   66.853550      68.188042       62.193800\n",
       "5     Neural Network  59.011047   65.642768      40.848927       60.931064\n",
       "6         Linear SVC  60.534151   72.991821      40.575080       62.957945\n",
       "7       Naive Baiyes  62.063372   65.930672      19.374715       52.791025"
      ]
     },
     "execution_count": 33,
     "metadata": {},
     "output_type": "execute_result"
    }
   ],
   "source": [
    "kesimpulan = pd.DataFrame({'Model':['Linear Regression','Decision Tree','Random Forest','XGBoost','Light GBM','Neural Network','Linear SVC','Naive Baiyes','Gradient Boosting'],\n",
    "                          'AUC Test':list(np.array([auc_test_lr,auc_test_dct,auc_test_rf,auc_test_xgb,auc_test_lgb,auc_test_nn,auc_test_svc,auc_test_nb,auc_test_gb])*100),\n",
    "                           'AUC Train':list(np.array([auc_train_lr,auc_train_dct,auc_train_rf,auc_train_xgb,auc_train_lgb,auc_train_nn,auc_train_svc,auc_train_nb,auc_train_gb])*100),\n",
    "                           'Accuracy Test':list(np.array([accuracy_test_lr,accuracy_test_dct,accuracy_test_rf,accuracy_test_xgb,accuracy_test_lgb,accuracy_test_nn,accuracy_test_svc,accuracy_test_nb,accuracy_test_gb])*100),\n",
    "                          'Accuracy Train':list(np.array([accuracy_train_lr,accuracy_train_dct,accuracy_train_rf,accuracy_train_xgb,accuracy_train_lgb,accuracy_train_nn,accuracy_train_svc,accuracy_train_nb,accuracy_train_gb])*100)})\n",
    "kesimpulan.sort_values('Accuracy Test',ascending=False)"
   ]
  },
  {
   "cell_type": "markdown",
   "id": "fb09b0c3",
   "metadata": {},
   "source": [
    "**Data Insight**\n",
    "\n",
    "XGBoost will be choosen because high recall and AUC. That's model can approach more churn customer than other model efficiently."
   ]
  },
  {
   "cell_type": "markdown",
   "id": "109fea3c",
   "metadata": {},
   "source": [
    "# Hyperparameter Tuning"
   ]
  },
  {
   "cell_type": "markdown",
   "id": "7659f20d",
   "metadata": {},
   "source": [
    "Hyperparameter can focused to optimize the parameter and make the model more robust than base model.\n",
    "\n",
    "Hyperparameter can focused to increase the recall to decrease the false-negatif"
   ]
  },
  {
   "cell_type": "markdown",
   "id": "ca817abc",
   "metadata": {},
   "source": [
    "## Base Model"
   ]
  },
  {
   "cell_type": "code",
   "execution_count": 291,
   "id": "15dfd522",
   "metadata": {},
   "outputs": [
    {
     "data": {
      "text/html": [
       "<div>\n",
       "<style scoped>\n",
       "    .dataframe tbody tr th:only-of-type {\n",
       "        vertical-align: middle;\n",
       "    }\n",
       "\n",
       "    .dataframe tbody tr th {\n",
       "        vertical-align: top;\n",
       "    }\n",
       "\n",
       "    .dataframe thead th {\n",
       "        text-align: right;\n",
       "    }\n",
       "</style>\n",
       "<table border=\"1\" class=\"dataframe\">\n",
       "  <thead>\n",
       "    <tr style=\"text-align: right;\">\n",
       "      <th></th>\n",
       "      <th>accuracy_test</th>\n",
       "      <th>accuracy_train</th>\n",
       "      <th>precision_test</th>\n",
       "      <th>precision_train</th>\n",
       "      <th>recall_test</th>\n",
       "      <th>recall_train</th>\n",
       "      <th>f1_test</th>\n",
       "      <th>f1_train</th>\n",
       "      <th>auc_test</th>\n",
       "      <th>auc_train</th>\n",
       "    </tr>\n",
       "  </thead>\n",
       "  <tbody>\n",
       "    <tr>\n",
       "      <th>0</th>\n",
       "      <td>0.899361</td>\n",
       "      <td>0.971439</td>\n",
       "      <td>0.111639</td>\n",
       "      <td>0.944505</td>\n",
       "      <td>0.412281</td>\n",
       "      <td>0.998282</td>\n",
       "      <td>0.175701</td>\n",
       "      <td>0.970649</td>\n",
       "      <td>0.666607</td>\n",
       "      <td>0.996895</td>\n",
       "    </tr>\n",
       "  </tbody>\n",
       "</table>\n",
       "</div>"
      ],
      "text/plain": [
       "   accuracy_test  accuracy_train  precision_test  precision_train  \\\n",
       "0       0.899361        0.971439        0.111639         0.944505   \n",
       "\n",
       "   recall_test  recall_train   f1_test  f1_train  auc_test  auc_train  \n",
       "0     0.412281      0.998282  0.175701  0.970649  0.666607   0.996895  "
      ]
     },
     "execution_count": 291,
     "metadata": {},
     "output_type": "execute_result"
    }
   ],
   "source": [
    "import xgboost as xgb\n",
    "clf = xgb.XGBClassifier()\n",
    "\n",
    "clf.fit(features_train,label_train)\n",
    "\n",
    "pred_train = clf.predict(features_train)\n",
    "pred_test = clf.predict(features_test)\n",
    "pred_proba = clf.predict_proba(features_test)[:,1]\n",
    "\n",
    "\n",
    "from sklearn.metrics import accuracy_score\n",
    "accuracy_train_xgb = accuracy_score(pred_train,label_train)\n",
    "accuracy_test_xgb = accuracy_score(pred_test,label_test)\n",
    "\n",
    "from sklearn.metrics import precision_score\n",
    "precision_train_xgb = precision_score(pred_train,label_train)\n",
    "precision_test_xgb = precision_score(pred_test,label_test)\n",
    "\n",
    "from sklearn.metrics import recall_score\n",
    "recall_train_xgb = recall_score(pred_train,label_train)\n",
    "recall_test_xgb = recall_score(pred_test,label_test)\n",
    "\n",
    "from sklearn.metrics import f1_score\n",
    "f1_train_xgb = f1_score(pred_train,label_train)\n",
    "f1_test_xgb = f1_score(pred_test,label_test)\n",
    "\n",
    "from sklearn import metrics\n",
    "fpr, tpr, _ = metrics.roc_curve(np.array(label_train), clf.predict_proba(features_train)[:,1])\n",
    "auc_train_xgb = metrics.auc(fpr,tpr)\n",
    "\n",
    "fpr, tpr, _ = metrics.roc_curve(np.array(label_test), clf.predict_proba(features_test)[:,1])\n",
    "auc_test_xgb = metrics.auc(fpr,tpr)\n",
    "auc_overfitting_xgb = auc_test_xgb-auc_train_xgb\n",
    "\n",
    "pd.DataFrame({'accuracy_test':[accuracy_test_xgb],'accuracy_train':[accuracy_train_xgb],\n",
    "             'precision_test':[precision_test_xgb],'precision_train':[precision_train_xgb],\n",
    "             'recall_test':[recall_test_xgb],'recall_train':[recall_train_xgb],\n",
    "             'f1_test':[f1_test_xgb],'f1_train':[f1_train_xgb],\n",
    "             'auc_test':[auc_test_xgb],'auc_train':[auc_train_xgb]})"
   ]
  },
  {
   "cell_type": "code",
   "execution_count": 284,
   "id": "a221d708",
   "metadata": {},
   "outputs": [
    {
     "data": {
      "image/png": "[encoded data removed]",
      "text/plain": [
       "<Figure size 720x360 with 2 Axes>"
      ]
     },
     "metadata": {
      "needs_background": "light"
     },
     "output_type": "display_data"
    }
   ],
   "source": [
    "from sklearn.metrics import confusion_matrix\n",
    "fig, ax = plt.subplots(figsize=(10,5))\n",
    "ax = sns.heatmap((confusion_matrix(label_test,pred_test)), annot=True, cmap='Blues', fmt='g')\n",
    "\n",
    "\n",
    "\n",
    "ax.set_title('Seaborn Confusion Matrix with labels\\n\\n');\n",
    "ax.set_xlabel('\\nPredicted Values')\n",
    "ax.set_ylabel('Actual Values ');\n",
    "\n",
    "## Ticket labels - List must be in alphabetical order\n",
    "ax.xaxis.set_ticklabels(['False','True'])\n",
    "ax.yaxis.set_ticklabels(['False','True'])\n",
    "\n",
    "\n",
    "## Display the visualization of the Confusion Matrix.\n",
    "plt.show()"
   ]
  },
  {
   "cell_type": "code",
   "execution_count": 288,
   "id": "2ff5feea",
   "metadata": {},
   "outputs": [],
   "source": [
    "from sklearn.model_selection import StratifiedKFold, cross_val_score, GridSearchCV, RandomizedSearchCV\n",
    "param_grid = { \n",
    "    # Percentage of columns to be randomly samples for each tree.\n",
    "    \"colsample_bytree\": [ 0.3, 0.5 , 0.8 ],\n",
    "    # reg_alpha provides l1 regularization to the weight, higher values result in more conservative models\n",
    "    \"reg_alpha\": [0, 0.5, 1, 5],\n",
    "    # reg_lambda provides l2 regularization to the weight, higher values result in more conservative models\n",
    "    \"reg_lambda\": [0, 0.5, 1, 5]\n",
    "    }\n",
    "# Set up score\n",
    "scoring = ['recall']\n",
    "# Set up the k-fold cross-validation\n",
    "kfold = StratifiedKFold(n_splits=3, shuffle=True, random_state=0)"
   ]
  },
  {
   "cell_type": "code",
   "execution_count": 292,
   "id": "4dea812e",
   "metadata": {},
   "outputs": [
    {
     "name": "stdout",
     "output_type": "stream",
     "text": [
      "The best score is 0.8990\n",
      "The best score standard deviation is 0.0027\n",
      "The best hyperparameters are {'colsample_bytree': 0.8, 'reg_alpha': 0.5, 'reg_lambda': 0.5}\n"
     ]
    }
   ],
   "source": [
    "import xgboost as xgb\n",
    "# Define grid search\n",
    "grid_search = GridSearchCV(estimator=clf, \n",
    "                           param_grid=param_grid, \n",
    "                           scoring=scoring, \n",
    "                           refit='recall', \n",
    "                           n_jobs=-1, \n",
    "                           cv=kfold, \n",
    "                           verbose=0)\n",
    "# Fit grid search\n",
    "grid_result = grid_search.fit(features_train,label_train)\n",
    "# Print grid search summary\n",
    "grid_result\n",
    "# Print the best score and the corresponding hyperparameters\n",
    "print(f'The best score is {grid_result.best_score_:.4f}')\n",
    "print('The best score standard deviation is', round(grid_result.cv_results_['std_test_recall'][grid_result.best_index_], 4))\n",
    "print(f'The best hyperparameters are {grid_result.best_params_}')"
   ]
  },
  {
   "cell_type": "markdown",
   "id": "e88aa798",
   "metadata": {},
   "source": [
    "# Impact for Business Metrics"
   ]
  },
  {
   "cell_type": "code",
   "execution_count": 342,
   "id": "84bb907a",
   "metadata": {},
   "outputs": [
    {
     "data": {
      "text/html": [
       "<div>\n",
       "<style scoped>\n",
       "    .dataframe tbody tr th:only-of-type {\n",
       "        vertical-align: middle;\n",
       "    }\n",
       "\n",
       "    .dataframe tbody tr th {\n",
       "        vertical-align: top;\n",
       "    }\n",
       "\n",
       "    .dataframe thead th {\n",
       "        text-align: right;\n",
       "    }\n",
       "</style>\n",
       "<table border=\"1\" class=\"dataframe\">\n",
       "  <thead>\n",
       "    <tr style=\"text-align: right;\">\n",
       "      <th></th>\n",
       "      <th>accuracy_test</th>\n",
       "      <th>accuracy_train</th>\n",
       "      <th>precision_test</th>\n",
       "      <th>precision_train</th>\n",
       "      <th>recall_test</th>\n",
       "      <th>recall_train</th>\n",
       "      <th>f1_test</th>\n",
       "      <th>f1_train</th>\n",
       "      <th>auc_test</th>\n",
       "      <th>auc_train</th>\n",
       "    </tr>\n",
       "  </thead>\n",
       "  <tbody>\n",
       "    <tr>\n",
       "      <th>0</th>\n",
       "      <td>0.898905</td>\n",
       "      <td>0.973228</td>\n",
       "      <td>0.118765</td>\n",
       "      <td>0.94754</td>\n",
       "      <td>0.409836</td>\n",
       "      <td>0.998857</td>\n",
       "      <td>0.184162</td>\n",
       "      <td>0.972522</td>\n",
       "      <td>0.665331</td>\n",
       "      <td>0.996783</td>\n",
       "    </tr>\n",
       "  </tbody>\n",
       "</table>\n",
       "</div>"
      ],
      "text/plain": [
       "   accuracy_test  accuracy_train  precision_test  precision_train  \\\n",
       "0       0.898905        0.973228        0.118765          0.94754   \n",
       "\n",
       "   recall_test  recall_train   f1_test  f1_train  auc_test  auc_train  \n",
       "0     0.409836      0.998857  0.184162  0.972522  0.665331   0.996783  "
      ]
     },
     "execution_count": 342,
     "metadata": {},
     "output_type": "execute_result"
    }
   ],
   "source": [
    "import xgboost as xgb\n",
    "clf = xgb.XGBClassifier(colsample_bytree= 0.8, reg_alpha= 0.5,reg_lambda= 0.5)\n",
    "\n",
    "clf.fit(features_train,label_train)\n",
    "\n",
    "pred_train = clf.predict(features_train)\n",
    "pred_test = clf.predict(features_test)\n",
    "pred_proba = clf.predict_proba(features_test)[:,1]\n",
    "\n",
    "\n",
    "from sklearn.metrics import accuracy_score\n",
    "accuracy_train_xgb = accuracy_score(pred_train,label_train)\n",
    "accuracy_test_xgb = accuracy_score(pred_test,label_test)\n",
    "\n",
    "from sklearn.metrics import precision_score\n",
    "precision_train_xgb = precision_score(pred_train,label_train)\n",
    "precision_test_xgb = precision_score(pred_test,label_test)\n",
    "\n",
    "from sklearn.metrics import recall_score\n",
    "recall_train_xgb = recall_score(pred_train,label_train)\n",
    "recall_test_xgb = recall_score(pred_test,label_test)\n",
    "\n",
    "from sklearn.metrics import f1_score\n",
    "f1_train_xgb = f1_score(pred_train,label_train)\n",
    "f1_test_xgb = f1_score(pred_test,label_test)\n",
    "\n",
    "from sklearn import metrics\n",
    "fpr, tpr, _ = metrics.roc_curve(np.array(label_train), clf.predict_proba(features_train)[:,1])\n",
    "auc_train_xgb = metrics.auc(fpr,tpr)\n",
    "\n",
    "fpr, tpr, _ = metrics.roc_curve(np.array(label_test), clf.predict_proba(features_test)[:,1])\n",
    "auc_test_xgb = metrics.auc(fpr,tpr)\n",
    "auc_overfitting_xgb = auc_test_xgb-auc_train_xgb\n",
    "\n",
    "pd.DataFrame({'accuracy_test':[accuracy_test_xgb],'accuracy_train':[accuracy_train_xgb],\n",
    "             'precision_test':[precision_test_xgb],'precision_train':[precision_train_xgb],\n",
    "             'recall_test':[recall_test_xgb],'recall_train':[recall_train_xgb],\n",
    "             'f1_test':[f1_test_xgb],'f1_train':[f1_train_xgb],\n",
    "             'auc_test':[auc_test_xgb],'auc_train':[auc_train_xgb]})"
   ]
  },
  {
   "cell_type": "code",
   "execution_count": 343,
   "id": "fb59a08c",
   "metadata": {},
   "outputs": [
    {
     "data": {
      "image/png": "[encoded data removed]",
      "text/plain": [
       "<Figure size 720x360 with 2 Axes>"
      ]
     },
     "metadata": {
      "needs_background": "light"
     },
     "output_type": "display_data"
    }
   ],
   "source": [
    "from sklearn.metrics import confusion_matrix\n",
    "fig, ax = plt.subplots(figsize=(10,5))\n",
    "ax = sns.heatmap((confusion_matrix(label_test,pred_test)), annot=True, cmap='Blues', fmt='g')\n",
    "\n",
    "\n",
    "\n",
    "ax.set_title('Seaborn Confusion Matrix with labels\\n\\n');\n",
    "ax.set_xlabel('\\nPredicted Values')\n",
    "ax.set_ylabel('Actual Values ');\n",
    "\n",
    "## Ticket labels - List must be in alphabetical order\n",
    "ax.xaxis.set_ticklabels(['False','True'])\n",
    "ax.yaxis.set_ticklabels(['False','True'])\n",
    "\n",
    "\n",
    "## Display the visualization of the Confusion Matrix.\n",
    "plt.show()"
   ]
  },
  {
   "cell_type": "code",
   "execution_count": 344,
   "id": "98552c0f",
   "metadata": {},
   "outputs": [],
   "source": [
    "client = pd.read_csv('client_data.csv')"
   ]
  },
  {
   "cell_type": "code",
   "execution_count": 345,
   "id": "9752b838",
   "metadata": {},
   "outputs": [],
   "source": [
    "price = pd.read_csv('price_data.csv')"
   ]
  },
  {
   "cell_type": "code",
   "execution_count": 346,
   "id": "fb9365f2",
   "metadata": {},
   "outputs": [],
   "source": [
    "X = client.drop('churn',axis=1)\n",
    "y = model_table['churn']"
   ]
  },
  {
   "cell_type": "code",
   "execution_count": 347,
   "id": "249045e2",
   "metadata": {},
   "outputs": [],
   "source": [
    "from sklearn.model_selection import train_test_split\n",
    "X_train_business, X_test_business, y_train,y_test = train_test_split(X,y,test_size=0.3, random_state=21)"
   ]
  },
  {
   "cell_type": "code",
   "execution_count": 348,
   "id": "fcb4e36a",
   "metadata": {},
   "outputs": [],
   "source": [
    "X_test_business['label_test'] = label_test"
   ]
  },
  {
   "cell_type": "code",
   "execution_count": 349,
   "id": "2c4ff4d6",
   "metadata": {},
   "outputs": [],
   "source": [
    "X_test_business['label_pred'] = pred_test"
   ]
  },
  {
   "cell_type": "code",
   "execution_count": 350,
   "id": "f8133185",
   "metadata": {},
   "outputs": [],
   "source": [
    "X_test_business['pred_prob'] = pred_proba"
   ]
  },
  {
   "cell_type": "code",
   "execution_count": 351,
   "id": "28a1072b",
   "metadata": {
    "scrolled": true
   },
   "outputs": [
    {
     "data": {
      "text/html": [
       "<div>\n",
       "<style scoped>\n",
       "    .dataframe tbody tr th:only-of-type {\n",
       "        vertical-align: middle;\n",
       "    }\n",
       "\n",
       "    .dataframe tbody tr th {\n",
       "        vertical-align: top;\n",
       "    }\n",
       "\n",
       "    .dataframe thead th {\n",
       "        text-align: right;\n",
       "    }\n",
       "</style>\n",
       "<table border=\"1\" class=\"dataframe\">\n",
       "  <thead>\n",
       "    <tr style=\"text-align: right;\">\n",
       "      <th></th>\n",
       "      <th>id</th>\n",
       "      <th>channel_sales</th>\n",
       "      <th>cons_12m</th>\n",
       "      <th>cons_gas_12m</th>\n",
       "      <th>cons_last_month</th>\n",
       "      <th>date_activ</th>\n",
       "      <th>date_end</th>\n",
       "      <th>date_modif_prod</th>\n",
       "      <th>date_renewal</th>\n",
       "      <th>forecast_cons_12m</th>\n",
       "      <th>...</th>\n",
       "      <th>margin_gross_pow_ele</th>\n",
       "      <th>margin_net_pow_ele</th>\n",
       "      <th>nb_prod_act</th>\n",
       "      <th>net_margin</th>\n",
       "      <th>num_years_antig</th>\n",
       "      <th>origin_up</th>\n",
       "      <th>pow_max</th>\n",
       "      <th>label_test</th>\n",
       "      <th>label_pred</th>\n",
       "      <th>pred_prob</th>\n",
       "    </tr>\n",
       "  </thead>\n",
       "  <tbody>\n",
       "    <tr>\n",
       "      <th>10992</th>\n",
       "      <td>cde7e58c25b60ee66df70b1fd26363d5</td>\n",
       "      <td>lmkebamcaaclubfxadlmueccxoimlema</td>\n",
       "      <td>2940360</td>\n",
       "      <td>155531</td>\n",
       "      <td>269980</td>\n",
       "      <td>2010-11-26</td>\n",
       "      <td>2016-11-26</td>\n",
       "      <td>2010-11-26</td>\n",
       "      <td>2015-11-27</td>\n",
       "      <td>1467.84</td>\n",
       "      <td>...</td>\n",
       "      <td>4.83</td>\n",
       "      <td>4.83</td>\n",
       "      <td>2</td>\n",
       "      <td>134.54</td>\n",
       "      <td>5</td>\n",
       "      <td>kamkkxfxxuwbdslkwifmmcsiusiuosws</td>\n",
       "      <td>10.350</td>\n",
       "      <td>0</td>\n",
       "      <td>0</td>\n",
       "      <td>0.001375</td>\n",
       "    </tr>\n",
       "    <tr>\n",
       "      <th>13559</th>\n",
       "      <td>1b998ba935afe9d61fa94177501efad7</td>\n",
       "      <td>MISSING</td>\n",
       "      <td>12752</td>\n",
       "      <td>0</td>\n",
       "      <td>0</td>\n",
       "      <td>2009-09-11</td>\n",
       "      <td>2016-09-03</td>\n",
       "      <td>2015-09-03</td>\n",
       "      <td>2014-09-12</td>\n",
       "      <td>1285.56</td>\n",
       "      <td>...</td>\n",
       "      <td>11.95</td>\n",
       "      <td>11.95</td>\n",
       "      <td>2</td>\n",
       "      <td>75.64</td>\n",
       "      <td>6</td>\n",
       "      <td>kamkkxfxxuwbdslkwifmmcsiusiuosws</td>\n",
       "      <td>13.856</td>\n",
       "      <td>0</td>\n",
       "      <td>0</td>\n",
       "      <td>0.059737</td>\n",
       "    </tr>\n",
       "    <tr>\n",
       "      <th>13402</th>\n",
       "      <td>073b1aefdf0d99049952cab892a4f274</td>\n",
       "      <td>foosdfpfkusacimwkcsosbicdxkicaua</td>\n",
       "      <td>983659</td>\n",
       "      <td>0</td>\n",
       "      <td>192253</td>\n",
       "      <td>2012-03-15</td>\n",
       "      <td>2016-03-15</td>\n",
       "      <td>2012-03-15</td>\n",
       "      <td>2015-03-16</td>\n",
       "      <td>917.26</td>\n",
       "      <td>...</td>\n",
       "      <td>27.14</td>\n",
       "      <td>27.14</td>\n",
       "      <td>1</td>\n",
       "      <td>103.59</td>\n",
       "      <td>4</td>\n",
       "      <td>lxidpiddsbxsbosboudacockeimpuepw</td>\n",
       "      <td>13.200</td>\n",
       "      <td>0</td>\n",
       "      <td>0</td>\n",
       "      <td>0.041740</td>\n",
       "    </tr>\n",
       "    <tr>\n",
       "      <th>9463</th>\n",
       "      <td>a82964ec7bcf43aab87191bbe4c91e25</td>\n",
       "      <td>MISSING</td>\n",
       "      <td>5055</td>\n",
       "      <td>2848</td>\n",
       "      <td>0</td>\n",
       "      <td>2009-12-17</td>\n",
       "      <td>2016-12-03</td>\n",
       "      <td>2015-11-01</td>\n",
       "      <td>2015-12-04</td>\n",
       "      <td>749.42</td>\n",
       "      <td>...</td>\n",
       "      <td>3.24</td>\n",
       "      <td>3.24</td>\n",
       "      <td>2</td>\n",
       "      <td>68.40</td>\n",
       "      <td>6</td>\n",
       "      <td>lxidpiddsbxsbosboudacockeimpuepw</td>\n",
       "      <td>10.392</td>\n",
       "      <td>0</td>\n",
       "      <td>0</td>\n",
       "      <td>0.018563</td>\n",
       "    </tr>\n",
       "    <tr>\n",
       "      <th>12748</th>\n",
       "      <td>7b4d57c7890d389b72fda5e2bdfe7509</td>\n",
       "      <td>usilxuppasemubllopkaafesmlibmsdf</td>\n",
       "      <td>3981</td>\n",
       "      <td>0</td>\n",
       "      <td>1169</td>\n",
       "      <td>2012-12-31</td>\n",
       "      <td>2016-12-31</td>\n",
       "      <td>2012-12-31</td>\n",
       "      <td>2016-01-01</td>\n",
       "      <td>1079.39</td>\n",
       "      <td>...</td>\n",
       "      <td>0.12</td>\n",
       "      <td>0.12</td>\n",
       "      <td>1</td>\n",
       "      <td>373.07</td>\n",
       "      <td>3</td>\n",
       "      <td>lxidpiddsbxsbosboudacockeimpuepw</td>\n",
       "      <td>15.000</td>\n",
       "      <td>0</td>\n",
       "      <td>0</td>\n",
       "      <td>0.327939</td>\n",
       "    </tr>\n",
       "    <tr>\n",
       "      <th>...</th>\n",
       "      <td>...</td>\n",
       "      <td>...</td>\n",
       "      <td>...</td>\n",
       "      <td>...</td>\n",
       "      <td>...</td>\n",
       "      <td>...</td>\n",
       "      <td>...</td>\n",
       "      <td>...</td>\n",
       "      <td>...</td>\n",
       "      <td>...</td>\n",
       "      <td>...</td>\n",
       "      <td>...</td>\n",
       "      <td>...</td>\n",
       "      <td>...</td>\n",
       "      <td>...</td>\n",
       "      <td>...</td>\n",
       "      <td>...</td>\n",
       "      <td>...</td>\n",
       "      <td>...</td>\n",
       "      <td>...</td>\n",
       "      <td>...</td>\n",
       "    </tr>\n",
       "    <tr>\n",
       "      <th>6495</th>\n",
       "      <td>b9e126f2a62cc9708311d4eaf3ec36b8</td>\n",
       "      <td>usilxuppasemubllopkaafesmlibmsdf</td>\n",
       "      <td>44551</td>\n",
       "      <td>0</td>\n",
       "      <td>3529</td>\n",
       "      <td>2011-08-26</td>\n",
       "      <td>2016-08-26</td>\n",
       "      <td>2015-07-11</td>\n",
       "      <td>2015-08-27</td>\n",
       "      <td>191.65</td>\n",
       "      <td>...</td>\n",
       "      <td>23.64</td>\n",
       "      <td>23.64</td>\n",
       "      <td>1</td>\n",
       "      <td>22.75</td>\n",
       "      <td>4</td>\n",
       "      <td>kamkkxfxxuwbdslkwifmmcsiusiuosws</td>\n",
       "      <td>21.000</td>\n",
       "      <td>0</td>\n",
       "      <td>0</td>\n",
       "      <td>0.015358</td>\n",
       "    </tr>\n",
       "    <tr>\n",
       "      <th>4465</th>\n",
       "      <td>f8a925b570b5094e3706add741536b39</td>\n",
       "      <td>foosdfpfkusacimwkcsosbicdxkicaua</td>\n",
       "      <td>3178</td>\n",
       "      <td>0</td>\n",
       "      <td>0</td>\n",
       "      <td>2009-08-21</td>\n",
       "      <td>2016-08-21</td>\n",
       "      <td>2015-06-17</td>\n",
       "      <td>2015-08-24</td>\n",
       "      <td>469.67</td>\n",
       "      <td>...</td>\n",
       "      <td>16.38</td>\n",
       "      <td>16.38</td>\n",
       "      <td>1</td>\n",
       "      <td>36.78</td>\n",
       "      <td>6</td>\n",
       "      <td>kamkkxfxxuwbdslkwifmmcsiusiuosws</td>\n",
       "      <td>13.800</td>\n",
       "      <td>0</td>\n",
       "      <td>0</td>\n",
       "      <td>0.116406</td>\n",
       "    </tr>\n",
       "    <tr>\n",
       "      <th>5943</th>\n",
       "      <td>dd256147f4c951bb49ae906bc483dbfe</td>\n",
       "      <td>foosdfpfkusacimwkcsosbicdxkicaua</td>\n",
       "      <td>29160</td>\n",
       "      <td>0</td>\n",
       "      <td>3552</td>\n",
       "      <td>2010-08-14</td>\n",
       "      <td>2016-08-14</td>\n",
       "      <td>2010-08-14</td>\n",
       "      <td>2015-08-16</td>\n",
       "      <td>3017.46</td>\n",
       "      <td>...</td>\n",
       "      <td>12.36</td>\n",
       "      <td>12.36</td>\n",
       "      <td>1</td>\n",
       "      <td>367.32</td>\n",
       "      <td>5</td>\n",
       "      <td>lxidpiddsbxsbosboudacockeimpuepw</td>\n",
       "      <td>19.700</td>\n",
       "      <td>0</td>\n",
       "      <td>0</td>\n",
       "      <td>0.275293</td>\n",
       "    </tr>\n",
       "    <tr>\n",
       "      <th>6173</th>\n",
       "      <td>009c4f0e98c8dc8bd69f318724b2f1d5</td>\n",
       "      <td>foosdfpfkusacimwkcsosbicdxkicaua</td>\n",
       "      <td>17285</td>\n",
       "      <td>0</td>\n",
       "      <td>3947</td>\n",
       "      <td>2011-11-01</td>\n",
       "      <td>2016-11-01</td>\n",
       "      <td>2011-11-01</td>\n",
       "      <td>2015-11-02</td>\n",
       "      <td>2193.78</td>\n",
       "      <td>...</td>\n",
       "      <td>7.59</td>\n",
       "      <td>7.59</td>\n",
       "      <td>1</td>\n",
       "      <td>230.58</td>\n",
       "      <td>4</td>\n",
       "      <td>lxidpiddsbxsbosboudacockeimpuepw</td>\n",
       "      <td>40.000</td>\n",
       "      <td>0</td>\n",
       "      <td>0</td>\n",
       "      <td>0.036500</td>\n",
       "    </tr>\n",
       "    <tr>\n",
       "      <th>10307</th>\n",
       "      <td>492dd49c9173ba0edcf5d4431f0e5ef4</td>\n",
       "      <td>MISSING</td>\n",
       "      <td>3030</td>\n",
       "      <td>0</td>\n",
       "      <td>0</td>\n",
       "      <td>2011-04-14</td>\n",
       "      <td>2016-04-14</td>\n",
       "      <td>2011-04-14</td>\n",
       "      <td>2015-04-15</td>\n",
       "      <td>451.08</td>\n",
       "      <td>...</td>\n",
       "      <td>23.56</td>\n",
       "      <td>23.56</td>\n",
       "      <td>2</td>\n",
       "      <td>39.44</td>\n",
       "      <td>5</td>\n",
       "      <td>kamkkxfxxuwbdslkwifmmcsiusiuosws</td>\n",
       "      <td>11.400</td>\n",
       "      <td>0</td>\n",
       "      <td>0</td>\n",
       "      <td>0.129430</td>\n",
       "    </tr>\n",
       "  </tbody>\n",
       "</table>\n",
       "<p>4382 rows × 28 columns</p>\n",
       "</div>"
      ],
      "text/plain": [
       "                                     id                     channel_sales  \\\n",
       "10992  cde7e58c25b60ee66df70b1fd26363d5  lmkebamcaaclubfxadlmueccxoimlema   \n",
       "13559  1b998ba935afe9d61fa94177501efad7                           MISSING   \n",
       "13402  073b1aefdf0d99049952cab892a4f274  foosdfpfkusacimwkcsosbicdxkicaua   \n",
       "9463   a82964ec7bcf43aab87191bbe4c91e25                           MISSING   \n",
       "12748  7b4d57c7890d389b72fda5e2bdfe7509  usilxuppasemubllopkaafesmlibmsdf   \n",
       "...                                 ...                               ...   \n",
       "6495   b9e126f2a62cc9708311d4eaf3ec36b8  usilxuppasemubllopkaafesmlibmsdf   \n",
       "4465   f8a925b570b5094e3706add741536b39  foosdfpfkusacimwkcsosbicdxkicaua   \n",
       "5943   dd256147f4c951bb49ae906bc483dbfe  foosdfpfkusacimwkcsosbicdxkicaua   \n",
       "6173   009c4f0e98c8dc8bd69f318724b2f1d5  foosdfpfkusacimwkcsosbicdxkicaua   \n",
       "10307  492dd49c9173ba0edcf5d4431f0e5ef4                           MISSING   \n",
       "\n",
       "       cons_12m  cons_gas_12m  cons_last_month  date_activ    date_end  \\\n",
       "10992   2940360        155531           269980  2010-11-26  2016-11-26   \n",
       "13559     12752             0                0  2009-09-11  2016-09-03   \n",
       "13402    983659             0           192253  2012-03-15  2016-03-15   \n",
       "9463       5055          2848                0  2009-12-17  2016-12-03   \n",
       "12748      3981             0             1169  2012-12-31  2016-12-31   \n",
       "...         ...           ...              ...         ...         ...   \n",
       "6495      44551             0             3529  2011-08-26  2016-08-26   \n",
       "4465       3178             0                0  2009-08-21  2016-08-21   \n",
       "5943      29160             0             3552  2010-08-14  2016-08-14   \n",
       "6173      17285             0             3947  2011-11-01  2016-11-01   \n",
       "10307      3030             0                0  2011-04-14  2016-04-14   \n",
       "\n",
       "      date_modif_prod date_renewal  forecast_cons_12m  ...  \\\n",
       "10992      2010-11-26   2015-11-27            1467.84  ...   \n",
       "13559      2015-09-03   2014-09-12            1285.56  ...   \n",
       "13402      2012-03-15   2015-03-16             917.26  ...   \n",
       "9463       2015-11-01   2015-12-04             749.42  ...   \n",
       "12748      2012-12-31   2016-01-01            1079.39  ...   \n",
       "...               ...          ...                ...  ...   \n",
       "6495       2015-07-11   2015-08-27             191.65  ...   \n",
       "4465       2015-06-17   2015-08-24             469.67  ...   \n",
       "5943       2010-08-14   2015-08-16            3017.46  ...   \n",
       "6173       2011-11-01   2015-11-02            2193.78  ...   \n",
       "10307      2011-04-14   2015-04-15             451.08  ...   \n",
       "\n",
       "       margin_gross_pow_ele  margin_net_pow_ele  nb_prod_act  net_margin  \\\n",
       "10992                  4.83                4.83            2      134.54   \n",
       "13559                 11.95               11.95            2       75.64   \n",
       "13402                 27.14               27.14            1      103.59   \n",
       "9463                   3.24                3.24            2       68.40   \n",
       "12748                  0.12                0.12            1      373.07   \n",
       "...                     ...                 ...          ...         ...   \n",
       "6495                  23.64               23.64            1       22.75   \n",
       "4465                  16.38               16.38            1       36.78   \n",
       "5943                  12.36               12.36            1      367.32   \n",
       "6173                   7.59                7.59            1      230.58   \n",
       "10307                 23.56               23.56            2       39.44   \n",
       "\n",
       "       num_years_antig                         origin_up pow_max  label_test  \\\n",
       "10992                5  kamkkxfxxuwbdslkwifmmcsiusiuosws  10.350           0   \n",
       "13559                6  kamkkxfxxuwbdslkwifmmcsiusiuosws  13.856           0   \n",
       "13402                4  lxidpiddsbxsbosboudacockeimpuepw  13.200           0   \n",
       "9463                 6  lxidpiddsbxsbosboudacockeimpuepw  10.392           0   \n",
       "12748                3  lxidpiddsbxsbosboudacockeimpuepw  15.000           0   \n",
       "...                ...                               ...     ...         ...   \n",
       "6495                 4  kamkkxfxxuwbdslkwifmmcsiusiuosws  21.000           0   \n",
       "4465                 6  kamkkxfxxuwbdslkwifmmcsiusiuosws  13.800           0   \n",
       "5943                 5  lxidpiddsbxsbosboudacockeimpuepw  19.700           0   \n",
       "6173                 4  lxidpiddsbxsbosboudacockeimpuepw  40.000           0   \n",
       "10307                5  kamkkxfxxuwbdslkwifmmcsiusiuosws  11.400           0   \n",
       "\n",
       "       label_pred  pred_prob  \n",
       "10992           0   0.001375  \n",
       "13559           0   0.059737  \n",
       "13402           0   0.041740  \n",
       "9463            0   0.018563  \n",
       "12748           0   0.327939  \n",
       "...           ...        ...  \n",
       "6495            0   0.015358  \n",
       "4465            0   0.116406  \n",
       "5943            0   0.275293  \n",
       "6173            0   0.036500  \n",
       "10307           0   0.129430  \n",
       "\n",
       "[4382 rows x 28 columns]"
      ]
     },
     "execution_count": 351,
     "metadata": {},
     "output_type": "execute_result"
    }
   ],
   "source": [
    "X_test_business"
   ]
  },
  {
   "cell_type": "code",
   "execution_count": 352,
   "id": "7d6b4786",
   "metadata": {},
   "outputs": [],
   "source": [
    "total_margin = round(X_test_business['net_margin'].sum())\n",
    "discount_20 = round(X_test_business['net_margin'].sum()*0.2)\n",
    "margin_churn_customer = round(X_test_business[X_test_business['label_test']==1]['net_margin'].sum())"
   ]
  },
  {
   "cell_type": "code",
   "execution_count": 353,
   "id": "0bc779f1",
   "metadata": {},
   "outputs": [],
   "source": [
    "discount_20_churn_customer = round(X_test_business[(X_test_business['label_pred']==1)]['net_margin'].sum()*0.2)"
   ]
  },
  {
   "cell_type": "code",
   "execution_count": 354,
   "id": "5e44c1e7",
   "metadata": {},
   "outputs": [],
   "source": [
    "total_margin_model = round(X_test_business[(X_test_business['label_pred']==1)|(X_test_business['label_test']==0)]['net_margin'].sum())"
   ]
  },
  {
   "cell_type": "code",
   "execution_count": 355,
   "id": "830c7aaa",
   "metadata": {},
   "outputs": [],
   "source": [
    "model_churn_customer = X_test_business[(X_test_business['label_pred']==1)&(X_test_business['label_test']==1)]['id'].count()"
   ]
  },
  {
   "cell_type": "code",
   "execution_count": 356,
   "id": "a9319fb3",
   "metadata": {},
   "outputs": [],
   "source": [
    "total_churn_customer = X_test_business[(X_test_business['label_test']==1)]['id'].count()"
   ]
  },
  {
   "cell_type": "code",
   "execution_count": 357,
   "id": "dc96eb5f",
   "metadata": {},
   "outputs": [
    {
     "name": "stdout",
     "output_type": "stream",
     "text": [
      "Total net margin per year $ 825839\n"
     ]
    }
   ],
   "source": [
    "print('Total net margin per year $',total_margin)"
   ]
  },
  {
   "cell_type": "code",
   "execution_count": 358,
   "id": "c9dd58ba",
   "metadata": {
    "scrolled": false
   },
   "outputs": [
    {
     "name": "stdout",
     "output_type": "stream",
     "text": [
      "Total net margin + 20% discount $ 660671\n"
     ]
    }
   ],
   "source": [
    "print('Total net margin + 20% discount $',total_margin - discount_20)"
   ]
  },
  {
   "cell_type": "code",
   "execution_count": 359,
   "id": "7af42739",
   "metadata": {
    "scrolled": true
   },
   "outputs": [
    {
     "name": "stdout",
     "output_type": "stream",
     "text": [
      "total 20% discount without model $ 165168\n"
     ]
    }
   ],
   "source": [
    "print('total 20% discount without model $',discount_20)"
   ]
  },
  {
   "cell_type": "code",
   "execution_count": 360,
   "id": "c5d49f4c",
   "metadata": {},
   "outputs": [
    {
     "name": "stdout",
     "output_type": "stream",
     "text": [
      "Potential revenue by lost churn customer $ 86827\n"
     ]
    }
   ],
   "source": [
    "print('Potential revenue by lost churn customer $',margin_churn_customer)"
   ]
  },
  {
   "cell_type": "code",
   "execution_count": 361,
   "id": "c924b345",
   "metadata": {},
   "outputs": [
    {
     "name": "stdout",
     "output_type": "stream",
     "text": [
      "total 20% discount with model $ 6077\n"
     ]
    }
   ],
   "source": [
    "print('total 20% discount with model $',discount_20_churn_customer)"
   ]
  },
  {
   "cell_type": "code",
   "execution_count": 362,
   "id": "475be26f",
   "metadata": {},
   "outputs": [
    {
     "name": "stdout",
     "output_type": "stream",
     "text": [
      "predicted margin without model $ 739012\n"
     ]
    }
   ],
   "source": [
    "print('predicted margin without model $',total_margin - margin_churn_customer)"
   ]
  },
  {
   "cell_type": "code",
   "execution_count": 363,
   "id": "e76a6fe0",
   "metadata": {
    "scrolled": true
   },
   "outputs": [
    {
     "name": "stdout",
     "output_type": "stream",
     "text": [
      "predicted margin with model $ 743036\n"
     ]
    }
   ],
   "source": [
    "print('predicted margin with model $',total_margin_model - discount_20_churn_customer)"
   ]
  },
  {
   "cell_type": "code",
   "execution_count": 364,
   "id": "6e0962f4",
   "metadata": {
    "scrolled": true
   },
   "outputs": [
    {
     "name": "stdout",
     "output_type": "stream",
     "text": [
      "predicted churn customer with model 50\n"
     ]
    }
   ],
   "source": [
    "print('predicted churn customer with model',model_churn_customer)"
   ]
  },
  {
   "cell_type": "code",
   "execution_count": 365,
   "id": "eb78774d",
   "metadata": {},
   "outputs": [
    {
     "name": "stdout",
     "output_type": "stream",
     "text": [
      "total churn customer with model 421\n"
     ]
    }
   ],
   "source": [
    "print('total churn customer with model',total_churn_customer)"
   ]
  },
  {
   "cell_type": "markdown",
   "id": "9a6ec10c",
   "metadata": {},
   "source": [
    "**Data Insight**\n",
    "\n",
    "steeped discount must applied to reduce margin lost. Deciling score can be consideration to steeped discount."
   ]
  },
  {
   "cell_type": "markdown",
   "id": "f06e5582",
   "metadata": {},
   "source": [
    "## Deciling the score"
   ]
  },
  {
   "cell_type": "code",
   "execution_count": 366,
   "id": "11d86527",
   "metadata": {},
   "outputs": [],
   "source": [
    "from collections import OrderedDict\n",
    "import pandas as pd\n",
    "import sys\n",
    "%matplotlib inline\n",
    "    \n",
    "def plot_pandas_style(styler):\n",
    "    from IPython.core.display import HTML\n",
    "    html = '\\n'.join([line.lstrip() for line in styler.render().split('\\n')])\n",
    "    return HTML(html)\n",
    "\n",
    "def highlight_max(s,color='yellow'):\n",
    "    '''\n",
    "    highlight the maximum in a Series yellow.\n",
    "    '''\n",
    "    is_max = s == s.max()\n",
    "    return ['background-color: {}'.format(color) if v else '' for v in is_max]\n",
    "\n",
    "def decile_labels(agg1,label,color='skyblue'):\n",
    "    agg_dummy = pd.DataFrame(OrderedDict((('TOTAL',0),('TARGET',0),('NONTARGET',0),('PCT_TAR',0),('CUM_TAR',0),('CUM_NONTAR',0),('DIST_TAR',0),('DIST_NONTAR',0),('SPREAD',0))),index=[0])\n",
    "    agg1 = agg1.append(agg_dummy).sort_index()\n",
    "    agg1.index.name = label\n",
    "    agg1 = agg1.style.apply(highlight_max, color = 'yellow', subset=['SPREAD'])\n",
    "    agg1.bar(subset=['TARGET'], color='{}'.format(color))\n",
    "    agg1.bar(subset=['TOTAL'], color='{}'.format(color))\n",
    "    agg1.bar(subset=['PCT_TAR'], color='{}'.format(color))\n",
    "    return(agg1)\n",
    "\n",
    "def deciling(data,decile_by,target,nontarget):\n",
    "    inputs = list(decile_by)\n",
    "    inputs.extend((target,nontarget))\n",
    "    decile = data[inputs]\n",
    "    grouped = decile.groupby(decile_by)\n",
    "    agg1 = pd.DataFrame({},index=[])\n",
    "    agg1['TOTAL'] = grouped.sum()[nontarget] + grouped.sum()[target]\n",
    "    agg1['TARGET'] = grouped.sum()[target]\n",
    "    agg1['NONTARGET'] = grouped.sum()[nontarget]\n",
    "    agg1['PCT_TAR'] = grouped.mean()[target]*100\n",
    "    agg1['CUM_TAR'] = grouped.sum()[target].cumsum()\n",
    "    agg1['CUM_NONTAR'] = grouped.sum()[nontarget].cumsum()\n",
    "    agg1['DIST_TAR'] = agg1['CUM_TAR']/agg1['TARGET'].sum()*100\n",
    "    agg1['DIST_NONTAR'] = agg1['CUM_NONTAR']/agg1['NONTARGET'].sum()*100\n",
    "    agg1['SPREAD'] = (agg1['DIST_TAR'] - agg1['DIST_NONTAR'])\n",
    "    agg1 = decile_labels(agg1,'DECILE',color='skyblue')\n",
    "    return(plot_pandas_style(agg1))"
   ]
  },
  {
   "cell_type": "code",
   "execution_count": 367,
   "id": "6936b4fb",
   "metadata": {},
   "outputs": [],
   "source": [
    "def scoring(features,clf,target):\n",
    "    score = pd.DataFrame(clf.predict_proba(features)[:,1], columns = ['SCORE'])\n",
    "    score['DECILE'] = pd.qcut(score['SCORE'].rank(method = 'first'),10,labels=range(10,0,-1))\n",
    "    score['DECILE'] = score['DECILE'].astype(float)\n",
    "    score['TARGET'] = target\n",
    "    score['NONTARGET'] = 1 - target\n",
    "    return(score)"
   ]
  },
  {
   "cell_type": "code",
   "execution_count": 368,
   "id": "7ef1f36b",
   "metadata": {},
   "outputs": [],
   "source": [
    "scores_train = scoring(features_train,clf,label_train)"
   ]
  },
  {
   "cell_type": "code",
   "execution_count": 369,
   "id": "271640d3",
   "metadata": {},
   "outputs": [
    {
     "data": {
      "text/html": [
       "<style type=\"text/css\">\n",
       "#T_d79d1_row0_col0, #T_d79d1_row0_col1, #T_d79d1_row0_col3, #T_d79d1_row10_col1, #T_d79d1_row10_col3 {\n",
       "width: 10em;\n",
       "}\n",
       "#T_d79d1_row1_col0, #T_d79d1_row1_col1, #T_d79d1_row1_col3, #T_d79d1_row2_col3, #T_d79d1_row3_col3, #T_d79d1_row4_col3, #T_d79d1_row10_col0 {\n",
       "width: 10em;\n",
       "background: linear-gradient(90deg, skyblue 100.0%, transparent 100.0%);\n",
       "}\n",
       "#T_d79d1_row2_col0, #T_d79d1_row2_col1, #T_d79d1_row3_col0, #T_d79d1_row3_col1, #T_d79d1_row4_col0, #T_d79d1_row4_col1, #T_d79d1_row5_col0, #T_d79d1_row6_col0, #T_d79d1_row7_col0, #T_d79d1_row8_col0, #T_d79d1_row9_col0 {\n",
       "width: 10em;\n",
       "background: linear-gradient(90deg, skyblue 99.9%, transparent 99.9%);\n",
       "}\n",
       "#T_d79d1_row5_col1 {\n",
       "width: 10em;\n",
       "background: linear-gradient(90deg, skyblue 88.8%, transparent 88.8%);\n",
       "}\n",
       "#T_d79d1_row5_col3 {\n",
       "width: 10em;\n",
       "background: linear-gradient(90deg, skyblue 88.9%, transparent 88.9%);\n",
       "}\n",
       "#T_d79d1_row5_col8 {\n",
       "background-color: yellow;\n",
       "}\n",
       "#T_d79d1_row6_col1, #T_d79d1_row6_col3 {\n",
       "width: 10em;\n",
       "background: linear-gradient(90deg, skyblue 8.9%, transparent 8.9%);\n",
       "}\n",
       "#T_d79d1_row7_col1, #T_d79d1_row7_col3 {\n",
       "width: 10em;\n",
       "background: linear-gradient(90deg, skyblue 1.5%, transparent 1.5%);\n",
       "}\n",
       "#T_d79d1_row8_col1, #T_d79d1_row8_col3 {\n",
       "width: 10em;\n",
       "background: linear-gradient(90deg, skyblue 0.5%, transparent 0.5%);\n",
       "}\n",
       "#T_d79d1_row9_col1, #T_d79d1_row9_col3 {\n",
       "width: 10em;\n",
       "background: linear-gradient(90deg, skyblue 0.2%, transparent 0.2%);\n",
       "}\n",
       "</style>\n",
       "<table id=\"T_d79d1\">\n",
       "<thead>\n",
       "<tr>\n",
       "<th class=\"blank level0\" >&nbsp;</th>\n",
       "<th id=\"T_d79d1_level0_col0\" class=\"col_heading level0 col0\" >TOTAL</th>\n",
       "<th id=\"T_d79d1_level0_col1\" class=\"col_heading level0 col1\" >TARGET</th>\n",
       "<th id=\"T_d79d1_level0_col2\" class=\"col_heading level0 col2\" >NONTARGET</th>\n",
       "<th id=\"T_d79d1_level0_col3\" class=\"col_heading level0 col3\" >PCT_TAR</th>\n",
       "<th id=\"T_d79d1_level0_col4\" class=\"col_heading level0 col4\" >CUM_TAR</th>\n",
       "<th id=\"T_d79d1_level0_col5\" class=\"col_heading level0 col5\" >CUM_NONTAR</th>\n",
       "<th id=\"T_d79d1_level0_col6\" class=\"col_heading level0 col6\" >DIST_TAR</th>\n",
       "<th id=\"T_d79d1_level0_col7\" class=\"col_heading level0 col7\" >DIST_NONTAR</th>\n",
       "<th id=\"T_d79d1_level0_col8\" class=\"col_heading level0 col8\" >SPREAD</th>\n",
       "</tr>\n",
       "<tr>\n",
       "<th class=\"index_name level0\" >DECILE</th>\n",
       "<th class=\"blank col0\" >&nbsp;</th>\n",
       "<th class=\"blank col1\" >&nbsp;</th>\n",
       "<th class=\"blank col2\" >&nbsp;</th>\n",
       "<th class=\"blank col3\" >&nbsp;</th>\n",
       "<th class=\"blank col4\" >&nbsp;</th>\n",
       "<th class=\"blank col5\" >&nbsp;</th>\n",
       "<th class=\"blank col6\" >&nbsp;</th>\n",
       "<th class=\"blank col7\" >&nbsp;</th>\n",
       "<th class=\"blank col8\" >&nbsp;</th>\n",
       "</tr>\n",
       "</thead>\n",
       "<tbody>\n",
       "<tr>\n",
       "<th id=\"T_d79d1_level0_row0\" class=\"row_heading level0 row0\" >0.000000</th>\n",
       "<td id=\"T_d79d1_row0_col0\" class=\"data row0 col0\" >0</td>\n",
       "<td id=\"T_d79d1_row0_col1\" class=\"data row0 col1\" >0</td>\n",
       "<td id=\"T_d79d1_row0_col2\" class=\"data row0 col2\" >0</td>\n",
       "<td id=\"T_d79d1_row0_col3\" class=\"data row0 col3\" >0.000000</td>\n",
       "<td id=\"T_d79d1_row0_col4\" class=\"data row0 col4\" >0</td>\n",
       "<td id=\"T_d79d1_row0_col5\" class=\"data row0 col5\" >0</td>\n",
       "<td id=\"T_d79d1_row0_col6\" class=\"data row0 col6\" >0.000000</td>\n",
       "<td id=\"T_d79d1_row0_col7\" class=\"data row0 col7\" >0.000000</td>\n",
       "<td id=\"T_d79d1_row0_col8\" class=\"data row0 col8\" >0.000000</td>\n",
       "</tr>\n",
       "<tr>\n",
       "<th id=\"T_d79d1_level0_row1\" class=\"row_heading level0 row1\" >1.000000</th>\n",
       "<td id=\"T_d79d1_row1_col0\" class=\"data row1 col0\" >1846</td>\n",
       "<td id=\"T_d79d1_row1_col1\" class=\"data row1 col1\" >1846</td>\n",
       "<td id=\"T_d79d1_row1_col2\" class=\"data row1 col2\" >0</td>\n",
       "<td id=\"T_d79d1_row1_col3\" class=\"data row1 col3\" >100.000000</td>\n",
       "<td id=\"T_d79d1_row1_col4\" class=\"data row1 col4\" >1846</td>\n",
       "<td id=\"T_d79d1_row1_col5\" class=\"data row1 col5\" >0</td>\n",
       "<td id=\"T_d79d1_row1_col6\" class=\"data row1 col6\" >20.008671</td>\n",
       "<td id=\"T_d79d1_row1_col7\" class=\"data row1 col7\" >0.000000</td>\n",
       "<td id=\"T_d79d1_row1_col8\" class=\"data row1 col8\" >20.008671</td>\n",
       "</tr>\n",
       "<tr>\n",
       "<th id=\"T_d79d1_level0_row2\" class=\"row_heading level0 row2\" >2.000000</th>\n",
       "<td id=\"T_d79d1_row2_col0\" class=\"data row2 col0\" >1845</td>\n",
       "<td id=\"T_d79d1_row2_col1\" class=\"data row2 col1\" >1845</td>\n",
       "<td id=\"T_d79d1_row2_col2\" class=\"data row2 col2\" >0</td>\n",
       "<td id=\"T_d79d1_row2_col3\" class=\"data row2 col3\" >100.000000</td>\n",
       "<td id=\"T_d79d1_row2_col4\" class=\"data row2 col4\" >3691</td>\n",
       "<td id=\"T_d79d1_row2_col5\" class=\"data row2 col5\" >0</td>\n",
       "<td id=\"T_d79d1_row2_col6\" class=\"data row2 col6\" >40.006503</td>\n",
       "<td id=\"T_d79d1_row2_col7\" class=\"data row2 col7\" >0.000000</td>\n",
       "<td id=\"T_d79d1_row2_col8\" class=\"data row2 col8\" >40.006503</td>\n",
       "</tr>\n",
       "<tr>\n",
       "<th id=\"T_d79d1_level0_row3\" class=\"row_heading level0 row3\" >3.000000</th>\n",
       "<td id=\"T_d79d1_row3_col0\" class=\"data row3 col0\" >1845</td>\n",
       "<td id=\"T_d79d1_row3_col1\" class=\"data row3 col1\" >1845</td>\n",
       "<td id=\"T_d79d1_row3_col2\" class=\"data row3 col2\" >0</td>\n",
       "<td id=\"T_d79d1_row3_col3\" class=\"data row3 col3\" >100.000000</td>\n",
       "<td id=\"T_d79d1_row3_col4\" class=\"data row3 col4\" >5536</td>\n",
       "<td id=\"T_d79d1_row3_col5\" class=\"data row3 col5\" >0</td>\n",
       "<td id=\"T_d79d1_row3_col6\" class=\"data row3 col6\" >60.004336</td>\n",
       "<td id=\"T_d79d1_row3_col7\" class=\"data row3 col7\" >0.000000</td>\n",
       "<td id=\"T_d79d1_row3_col8\" class=\"data row3 col8\" >60.004336</td>\n",
       "</tr>\n",
       "<tr>\n",
       "<th id=\"T_d79d1_level0_row4\" class=\"row_heading level0 row4\" >4.000000</th>\n",
       "<td id=\"T_d79d1_row4_col0\" class=\"data row4 col0\" >1845</td>\n",
       "<td id=\"T_d79d1_row4_col1\" class=\"data row4 col1\" >1845</td>\n",
       "<td id=\"T_d79d1_row4_col2\" class=\"data row4 col2\" >0</td>\n",
       "<td id=\"T_d79d1_row4_col3\" class=\"data row4 col3\" >100.000000</td>\n",
       "<td id=\"T_d79d1_row4_col4\" class=\"data row4 col4\" >7381</td>\n",
       "<td id=\"T_d79d1_row4_col5\" class=\"data row4 col5\" >0</td>\n",
       "<td id=\"T_d79d1_row4_col6\" class=\"data row4 col6\" >80.002168</td>\n",
       "<td id=\"T_d79d1_row4_col7\" class=\"data row4 col7\" >0.000000</td>\n",
       "<td id=\"T_d79d1_row4_col8\" class=\"data row4 col8\" >80.002168</td>\n",
       "</tr>\n",
       "<tr>\n",
       "<th id=\"T_d79d1_level0_row5\" class=\"row_heading level0 row5\" >5.000000</th>\n",
       "<td id=\"T_d79d1_row5_col0\" class=\"data row5 col0\" >1845</td>\n",
       "<td id=\"T_d79d1_row5_col1\" class=\"data row5 col1\" >1640</td>\n",
       "<td id=\"T_d79d1_row5_col2\" class=\"data row5 col2\" >205</td>\n",
       "<td id=\"T_d79d1_row5_col3\" class=\"data row5 col3\" >88.888889</td>\n",
       "<td id=\"T_d79d1_row5_col4\" class=\"data row5 col4\" >9021</td>\n",
       "<td id=\"T_d79d1_row5_col5\" class=\"data row5 col5\" >205</td>\n",
       "<td id=\"T_d79d1_row5_col6\" class=\"data row5 col6\" >97.778019</td>\n",
       "<td id=\"T_d79d1_row5_col7\" class=\"data row5 col7\" >2.221981</td>\n",
       "<td id=\"T_d79d1_row5_col8\" class=\"data row5 col8\" >95.556037</td>\n",
       "</tr>\n",
       "<tr>\n",
       "<th id=\"T_d79d1_level0_row6\" class=\"row_heading level0 row6\" >6.000000</th>\n",
       "<td id=\"T_d79d1_row6_col0\" class=\"data row6 col0\" >1845</td>\n",
       "<td id=\"T_d79d1_row6_col1\" class=\"data row6 col1\" >165</td>\n",
       "<td id=\"T_d79d1_row6_col2\" class=\"data row6 col2\" >1680</td>\n",
       "<td id=\"T_d79d1_row6_col3\" class=\"data row6 col3\" >8.943089</td>\n",
       "<td id=\"T_d79d1_row6_col4\" class=\"data row6 col4\" >9186</td>\n",
       "<td id=\"T_d79d1_row6_col5\" class=\"data row6 col5\" >1885</td>\n",
       "<td id=\"T_d79d1_row6_col6\" class=\"data row6 col6\" >99.566443</td>\n",
       "<td id=\"T_d79d1_row6_col7\" class=\"data row6 col7\" >20.431390</td>\n",
       "<td id=\"T_d79d1_row6_col8\" class=\"data row6 col8\" >79.135053</td>\n",
       "</tr>\n",
       "<tr>\n",
       "<th id=\"T_d79d1_level0_row7\" class=\"row_heading level0 row7\" >7.000000</th>\n",
       "<td id=\"T_d79d1_row7_col0\" class=\"data row7 col0\" >1845</td>\n",
       "<td id=\"T_d79d1_row7_col1\" class=\"data row7 col1\" >27</td>\n",
       "<td id=\"T_d79d1_row7_col2\" class=\"data row7 col2\" >1818</td>\n",
       "<td id=\"T_d79d1_row7_col3\" class=\"data row7 col3\" >1.463415</td>\n",
       "<td id=\"T_d79d1_row7_col4\" class=\"data row7 col4\" >9213</td>\n",
       "<td id=\"T_d79d1_row7_col5\" class=\"data row7 col5\" >3703</td>\n",
       "<td id=\"T_d79d1_row7_col6\" class=\"data row7 col6\" >99.859094</td>\n",
       "<td id=\"T_d79d1_row7_col7\" class=\"data row7 col7\" >40.136571</td>\n",
       "<td id=\"T_d79d1_row7_col8\" class=\"data row7 col8\" >59.722523</td>\n",
       "</tr>\n",
       "<tr>\n",
       "<th id=\"T_d79d1_level0_row8\" class=\"row_heading level0 row8\" >8.000000</th>\n",
       "<td id=\"T_d79d1_row8_col0\" class=\"data row8 col0\" >1845</td>\n",
       "<td id=\"T_d79d1_row8_col1\" class=\"data row8 col1\" >9</td>\n",
       "<td id=\"T_d79d1_row8_col2\" class=\"data row8 col2\" >1836</td>\n",
       "<td id=\"T_d79d1_row8_col3\" class=\"data row8 col3\" >0.487805</td>\n",
       "<td id=\"T_d79d1_row8_col4\" class=\"data row8 col4\" >9222</td>\n",
       "<td id=\"T_d79d1_row8_col5\" class=\"data row8 col5\" >5539</td>\n",
       "<td id=\"T_d79d1_row8_col6\" class=\"data row8 col6\" >99.956644</td>\n",
       "<td id=\"T_d79d1_row8_col7\" class=\"data row8 col7\" >60.036852</td>\n",
       "<td id=\"T_d79d1_row8_col8\" class=\"data row8 col8\" >39.919792</td>\n",
       "</tr>\n",
       "<tr>\n",
       "<th id=\"T_d79d1_level0_row9\" class=\"row_heading level0 row9\" >9.000000</th>\n",
       "<td id=\"T_d79d1_row9_col0\" class=\"data row9 col0\" >1845</td>\n",
       "<td id=\"T_d79d1_row9_col1\" class=\"data row9 col1\" >4</td>\n",
       "<td id=\"T_d79d1_row9_col2\" class=\"data row9 col2\" >1841</td>\n",
       "<td id=\"T_d79d1_row9_col3\" class=\"data row9 col3\" >0.216802</td>\n",
       "<td id=\"T_d79d1_row9_col4\" class=\"data row9 col4\" >9226</td>\n",
       "<td id=\"T_d79d1_row9_col5\" class=\"data row9 col5\" >7380</td>\n",
       "<td id=\"T_d79d1_row9_col6\" class=\"data row9 col6\" >100.000000</td>\n",
       "<td id=\"T_d79d1_row9_col7\" class=\"data row9 col7\" >79.991329</td>\n",
       "<td id=\"T_d79d1_row9_col8\" class=\"data row9 col8\" >20.008671</td>\n",
       "</tr>\n",
       "<tr>\n",
       "<th id=\"T_d79d1_level0_row10\" class=\"row_heading level0 row10\" >10.000000</th>\n",
       "<td id=\"T_d79d1_row10_col0\" class=\"data row10 col0\" >1846</td>\n",
       "<td id=\"T_d79d1_row10_col1\" class=\"data row10 col1\" >0</td>\n",
       "<td id=\"T_d79d1_row10_col2\" class=\"data row10 col2\" >1846</td>\n",
       "<td id=\"T_d79d1_row10_col3\" class=\"data row10 col3\" >0.000000</td>\n",
       "<td id=\"T_d79d1_row10_col4\" class=\"data row10 col4\" >9226</td>\n",
       "<td id=\"T_d79d1_row10_col5\" class=\"data row10 col5\" >9226</td>\n",
       "<td id=\"T_d79d1_row10_col6\" class=\"data row10 col6\" >100.000000</td>\n",
       "<td id=\"T_d79d1_row10_col7\" class=\"data row10 col7\" >100.000000</td>\n",
       "<td id=\"T_d79d1_row10_col8\" class=\"data row10 col8\" >0.000000</td>\n",
       "</tr>\n",
       "</tbody>\n",
       "</table>\n"
      ],
      "text/plain": [
       "<IPython.core.display.HTML object>"
      ]
     },
     "execution_count": 369,
     "metadata": {},
     "output_type": "execute_result"
    }
   ],
   "source": [
    "deciling(scores_train,['DECILE'],'TARGET','NONTARGET')"
   ]
  },
  {
   "cell_type": "code",
   "execution_count": 370,
   "id": "d3db4ec1",
   "metadata": {},
   "outputs": [],
   "source": [
    "scores_train.to_excel('score-train.xlsx',index=False)"
   ]
  },
  {
   "cell_type": "code",
   "execution_count": 371,
   "id": "b6ab3c56",
   "metadata": {},
   "outputs": [],
   "source": [
    "table_score = scores_train.groupby('DECILE').agg({'SCORE':['min','max']}).reset_index()"
   ]
  },
  {
   "cell_type": "code",
   "execution_count": 372,
   "id": "69a8c537",
   "metadata": {},
   "outputs": [],
   "source": [
    "table_score.columns = ['DECILE','min','max']"
   ]
  },
  {
   "cell_type": "code",
   "execution_count": 373,
   "id": "b9f618ff",
   "metadata": {
    "scrolled": true
   },
   "outputs": [
    {
     "data": {
      "text/html": [
       "<div>\n",
       "<style scoped>\n",
       "    .dataframe tbody tr th:only-of-type {\n",
       "        vertical-align: middle;\n",
       "    }\n",
       "\n",
       "    .dataframe tbody tr th {\n",
       "        vertical-align: top;\n",
       "    }\n",
       "\n",
       "    .dataframe thead th {\n",
       "        text-align: right;\n",
       "    }\n",
       "</style>\n",
       "<table border=\"1\" class=\"dataframe\">\n",
       "  <thead>\n",
       "    <tr style=\"text-align: right;\">\n",
       "      <th></th>\n",
       "      <th>DECILE</th>\n",
       "      <th>min</th>\n",
       "      <th>max</th>\n",
       "    </tr>\n",
       "  </thead>\n",
       "  <tbody>\n",
       "    <tr>\n",
       "      <th>0</th>\n",
       "      <td>1.0</td>\n",
       "      <td>0.999578</td>\n",
       "      <td>0.999988</td>\n",
       "    </tr>\n",
       "    <tr>\n",
       "      <th>1</th>\n",
       "      <td>2.0</td>\n",
       "      <td>0.998212</td>\n",
       "      <td>0.999578</td>\n",
       "    </tr>\n",
       "    <tr>\n",
       "      <th>2</th>\n",
       "      <td>3.0</td>\n",
       "      <td>0.991312</td>\n",
       "      <td>0.998212</td>\n",
       "    </tr>\n",
       "    <tr>\n",
       "      <th>3</th>\n",
       "      <td>4.0</td>\n",
       "      <td>0.940309</td>\n",
       "      <td>0.991310</td>\n",
       "    </tr>\n",
       "    <tr>\n",
       "      <th>4</th>\n",
       "      <td>5.0</td>\n",
       "      <td>0.281881</td>\n",
       "      <td>0.940309</td>\n",
       "    </tr>\n",
       "    <tr>\n",
       "      <th>5</th>\n",
       "      <td>6.0</td>\n",
       "      <td>0.110705</td>\n",
       "      <td>0.281575</td>\n",
       "    </tr>\n",
       "    <tr>\n",
       "      <th>6</th>\n",
       "      <td>7.0</td>\n",
       "      <td>0.065843</td>\n",
       "      <td>0.110705</td>\n",
       "    </tr>\n",
       "    <tr>\n",
       "      <th>7</th>\n",
       "      <td>8.0</td>\n",
       "      <td>0.041303</td>\n",
       "      <td>0.065818</td>\n",
       "    </tr>\n",
       "    <tr>\n",
       "      <th>8</th>\n",
       "      <td>9.0</td>\n",
       "      <td>0.022292</td>\n",
       "      <td>0.041289</td>\n",
       "    </tr>\n",
       "    <tr>\n",
       "      <th>9</th>\n",
       "      <td>10.0</td>\n",
       "      <td>0.000065</td>\n",
       "      <td>0.022288</td>\n",
       "    </tr>\n",
       "  </tbody>\n",
       "</table>\n",
       "</div>"
      ],
      "text/plain": [
       "   DECILE       min       max\n",
       "0     1.0  0.999578  0.999988\n",
       "1     2.0  0.998212  0.999578\n",
       "2     3.0  0.991312  0.998212\n",
       "3     4.0  0.940309  0.991310\n",
       "4     5.0  0.281881  0.940309\n",
       "5     6.0  0.110705  0.281575\n",
       "6     7.0  0.065843  0.110705\n",
       "7     8.0  0.041303  0.065818\n",
       "8     9.0  0.022292  0.041289\n",
       "9    10.0  0.000065  0.022288"
      ]
     },
     "execution_count": 373,
     "metadata": {},
     "output_type": "execute_result"
    }
   ],
   "source": [
    "table_score"
   ]
  },
  {
   "cell_type": "markdown",
   "id": "f335c0ab",
   "metadata": {},
   "source": [
    "**Data Insight**\n",
    "\n",
    "DECILE with higher than 6 have litle probability to churn <1%. We can applied discount start from DECILE 5.\n",
    "\n",
    "categorize DECILE :\n",
    "\n",
    "    0-1 : Lost Customer\n",
    "    2-3 : Risk to Lost\n",
    "    4-5 : General Customer\n",
    "    6-9 : Loyal Customer"
   ]
  },
  {
   "cell_type": "code",
   "execution_count": 374,
   "id": "fb6605e4",
   "metadata": {},
   "outputs": [],
   "source": [
    "bins = sorted(np.array(table_score['max']))"
   ]
  },
  {
   "cell_type": "code",
   "execution_count": 375,
   "id": "efb13513",
   "metadata": {},
   "outputs": [],
   "source": [
    "array= np.array(X_test_business['pred_prob'])"
   ]
  },
  {
   "cell_type": "code",
   "execution_count": 376,
   "id": "59324399",
   "metadata": {},
   "outputs": [],
   "source": [
    "bin_indices  = np.digitize(array, bins)\n",
    "bin_indices = list(bin_indices)"
   ]
  },
  {
   "cell_type": "code",
   "execution_count": 410,
   "id": "6af0f105",
   "metadata": {},
   "outputs": [],
   "source": [
    "X_test_business['DECILE'] = bin_indices"
   ]
  },
  {
   "cell_type": "code",
   "execution_count": 411,
   "id": "5799a975",
   "metadata": {},
   "outputs": [],
   "source": [
    "discount_10 = round(X_test_business[(X_test_business['DECILE']<=5)&(X_test_business['DECILE']>=4)]['net_margin'].sum()*0.1)"
   ]
  },
  {
   "cell_type": "code",
   "execution_count": 412,
   "id": "52da884a",
   "metadata": {},
   "outputs": [],
   "source": [
    "discount_20 = round(X_test_business[(X_test_business['DECILE']<=3)&(X_test_business['DECILE']>=2)]['net_margin'].sum()*0.2)"
   ]
  },
  {
   "cell_type": "code",
   "execution_count": 413,
   "id": "f5cf2dd4",
   "metadata": {},
   "outputs": [],
   "source": [
    "total_discount = discount_10 + discount_20"
   ]
  },
  {
   "cell_type": "code",
   "execution_count": 414,
   "id": "f489c5fc",
   "metadata": {},
   "outputs": [],
   "source": [
    "total_margin_model = round(X_test_business[(X_test_business['DECILE']<=5)&(X_test_business['DECILE']>=2)|(X_test_business['label_test']==0)]['net_margin'].sum())"
   ]
  },
  {
   "cell_type": "code",
   "execution_count": 415,
   "id": "67597630",
   "metadata": {},
   "outputs": [],
   "source": [
    "model_churn_customer = X_test_business[(X_test_business['DECILE']<=5)&(X_test_business['DECILE']>=2)&(X_test_business['label_test']==1)]['id'].count()"
   ]
  },
  {
   "cell_type": "code",
   "execution_count": 416,
   "id": "b229d42d",
   "metadata": {
    "scrolled": false
   },
   "outputs": [
    {
     "name": "stdout",
     "output_type": "stream",
     "text": [
      "predicted margin with model $ 733816\n"
     ]
    }
   ],
   "source": [
    "print('predicted margin with model $',total_margin_model - total_discount)"
   ]
  },
  {
   "cell_type": "code",
   "execution_count": 417,
   "id": "36256164",
   "metadata": {
    "scrolled": true
   },
   "outputs": [
    {
     "name": "stdout",
     "output_type": "stream",
     "text": [
      "predicted churn customer with model 338\n"
     ]
    }
   ],
   "source": [
    "print('predicted churn customer with model',model_churn_customer)"
   ]
  },
  {
   "cell_type": "code",
   "execution_count": 392,
   "id": "bbd01123",
   "metadata": {},
   "outputs": [
    {
     "data": {
      "text/plain": [
       "<AxesSubplot:xlabel='DECILE', ylabel='id'>"
      ]
     },
     "execution_count": 392,
     "metadata": {},
     "output_type": "execute_result"
    },
    {
     "data": {
      "image/png": "[encoded data removed]",
      "text/plain": [
       "<Figure size 432x288 with 1 Axes>"
      ]
     },
     "metadata": {
      "needs_background": "light"
     },
     "output_type": "display_data"
    }
   ],
   "source": [
    "customer_churn = X_test_business[X_test_business['label_test']==1]\n",
    "customer_churn = customer_churn.groupby('DECILE')['id'].count().reset_index()\n",
    "sns.barplot(x='DECILE',y='id',data=customer_churn)"
   ]
  },
  {
   "cell_type": "markdown",
   "id": "9896c295",
   "metadata": {},
   "source": [
    "**Data Insight**\n",
    "\n",
    "We can choose deceiling scoring to reach more churn customer but we lost much in revenue because not all customer is profitable."
   ]
  },
  {
   "cell_type": "markdown",
   "id": "c4892473",
   "metadata": {},
   "source": [
    "## Feature Importance"
   ]
  },
  {
   "cell_type": "code",
   "execution_count": 418,
   "id": "225bfe29",
   "metadata": {},
   "outputs": [
    {
     "data": {
      "text/html": [
       "<div>\n",
       "<style scoped>\n",
       "    .dataframe tbody tr th:only-of-type {\n",
       "        vertical-align: middle;\n",
       "    }\n",
       "\n",
       "    .dataframe tbody tr th {\n",
       "        vertical-align: top;\n",
       "    }\n",
       "\n",
       "    .dataframe thead th {\n",
       "        text-align: right;\n",
       "    }\n",
       "</style>\n",
       "<table border=\"1\" class=\"dataframe\">\n",
       "  <thead>\n",
       "    <tr style=\"text-align: right;\">\n",
       "      <th></th>\n",
       "      <th>accuracy_test</th>\n",
       "      <th>accuracy_train</th>\n",
       "      <th>precision_test</th>\n",
       "      <th>precision_train</th>\n",
       "      <th>recall_test</th>\n",
       "      <th>recall_train</th>\n",
       "      <th>f1_test</th>\n",
       "      <th>f1_train</th>\n",
       "      <th>auc_test</th>\n",
       "      <th>auc_train</th>\n",
       "    </tr>\n",
       "  </thead>\n",
       "  <tbody>\n",
       "    <tr>\n",
       "      <th>0</th>\n",
       "      <td>0.898905</td>\n",
       "      <td>0.973228</td>\n",
       "      <td>0.118765</td>\n",
       "      <td>0.94754</td>\n",
       "      <td>0.409836</td>\n",
       "      <td>0.998857</td>\n",
       "      <td>0.184162</td>\n",
       "      <td>0.972522</td>\n",
       "      <td>0.665331</td>\n",
       "      <td>0.996783</td>\n",
       "    </tr>\n",
       "  </tbody>\n",
       "</table>\n",
       "</div>"
      ],
      "text/plain": [
       "   accuracy_test  accuracy_train  precision_test  precision_train  \\\n",
       "0       0.898905        0.973228        0.118765          0.94754   \n",
       "\n",
       "   recall_test  recall_train   f1_test  f1_train  auc_test  auc_train  \n",
       "0     0.409836      0.998857  0.184162  0.972522  0.665331   0.996783  "
      ]
     },
     "execution_count": 418,
     "metadata": {},
     "output_type": "execute_result"
    }
   ],
   "source": [
    "import xgboost as xgb\n",
    "clf = xgb.XGBClassifier(colsample_bytree= 0.8, reg_alpha= 0.5,reg_lambda= 0.5)\n",
    "\n",
    "clf.fit(features_train,label_train)\n",
    "\n",
    "pred_train = clf.predict(features_train)\n",
    "pred_test = clf.predict(features_test)\n",
    "pred_proba = clf.predict_proba(features_test)[:,1]\n",
    "\n",
    "\n",
    "from sklearn.metrics import accuracy_score\n",
    "accuracy_train_xgb = accuracy_score(pred_train,label_train)\n",
    "accuracy_test_xgb = accuracy_score(pred_test,label_test)\n",
    "\n",
    "from sklearn.metrics import precision_score\n",
    "precision_train_xgb = precision_score(pred_train,label_train)\n",
    "precision_test_xgb = precision_score(pred_test,label_test)\n",
    "\n",
    "from sklearn.metrics import recall_score\n",
    "recall_train_xgb = recall_score(pred_train,label_train)\n",
    "recall_test_xgb = recall_score(pred_test,label_test)\n",
    "\n",
    "from sklearn.metrics import f1_score\n",
    "f1_train_xgb = f1_score(pred_train,label_train)\n",
    "f1_test_xgb = f1_score(pred_test,label_test)\n",
    "\n",
    "from sklearn import metrics\n",
    "fpr, tpr, _ = metrics.roc_curve(np.array(label_train), clf.predict_proba(features_train)[:,1])\n",
    "auc_train_xgb = metrics.auc(fpr,tpr)\n",
    "\n",
    "fpr, tpr, _ = metrics.roc_curve(np.array(label_test), clf.predict_proba(features_test)[:,1])\n",
    "auc_test_xgb = metrics.auc(fpr,tpr)\n",
    "auc_overfitting_xgb = auc_test_xgb-auc_train_xgb\n",
    "\n",
    "pd.DataFrame({'accuracy_test':[accuracy_test_xgb],'accuracy_train':[accuracy_train_xgb],\n",
    "             'precision_test':[precision_test_xgb],'precision_train':[precision_train_xgb],\n",
    "             'recall_test':[recall_test_xgb],'recall_train':[recall_train_xgb],\n",
    "             'f1_test':[f1_test_xgb],'f1_train':[f1_train_xgb],\n",
    "             'auc_test':[auc_test_xgb],'auc_train':[auc_train_xgb]})"
   ]
  },
  {
   "cell_type": "code",
   "execution_count": 422,
   "id": "045fe927",
   "metadata": {},
   "outputs": [
    {
     "data": {
      "image/png": "[encoded data removed]",
      "text/plain": [
       "<Figure size 720x720 with 1 Axes>"
      ]
     },
     "metadata": {
      "needs_background": "light"
     },
     "output_type": "display_data"
    }
   ],
   "source": [
    "X_train_col = X_train\n",
    "X_test_col = X_test\n",
    "features_important = pd.DataFrame({'Feature':X_train_col.columns.tolist(),\n",
    "                          'Value':list(clf.feature_importances_)})\n",
    "features_important = features_important.sort_values('Value',ascending=False)\n",
    "plt.figure(figsize=(10,10))\n",
    "sns.barplot(x='Value',y='Feature',data=features_important)\n",
    "plt.show()"
   ]
  },
  {
   "cell_type": "code",
   "execution_count": 425,
   "id": "e9521510",
   "metadata": {},
   "outputs": [],
   "source": [
    "column_important = features_important['Feature'].tolist()"
   ]
  },
  {
   "cell_type": "markdown",
   "id": "292d467e",
   "metadata": {},
   "source": [
    "### Length of Contract"
   ]
  },
  {
   "cell_type": "code",
   "execution_count": null,
   "id": "c366d056",
   "metadata": {},
   "outputs": [],
   "source": []
  }
 ],
 "metadata": {
  "kernelspec": {
   "display_name": "Python 3 (ipykernel)",
   "language": "python",
   "name": "python3"
  },
  "language_info": {
   "codemirror_mode": {
    "name": "ipython",
    "version": 3
   },
   "file_extension": ".py",
   "mimetype": "text/x-python",
   "name": "python",
   "nbconvert_exporter": "python",
   "pygments_lexer": "ipython3",
   "version": "3.9.12"
  }
 },
 "nbformat": 4,
 "nbformat_minor": 5
}
