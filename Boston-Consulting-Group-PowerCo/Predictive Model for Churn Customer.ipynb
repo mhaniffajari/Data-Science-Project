{
 "cells": [
  {
   "cell_type": "code",
   "execution_count": 1,
   "id": "ddc7b17f",
   "metadata": {},
   "outputs": [],
   "source": [
    "import pandas as pd\n",
    "import numpy as np\n",
    "import seaborn as sns\n",
    "import matplotlib.pyplot as plt\n",
    "import warnings\n",
    "warnings.filterwarnings(\"ignore\")"
   ]
  },
  {
   "cell_type": "code",
   "execution_count": 2,
   "id": "a8f79493",
   "metadata": {},
   "outputs": [],
   "source": [
    "model_table = pd.read_csv('model_table.csv')"
   ]
  },
  {
   "cell_type": "code",
   "execution_count": 3,
   "id": "37004cbe",
   "metadata": {},
   "outputs": [
    {
     "data": {
      "text/plain": [
       "0    0.902848\n",
       "1    0.097152\n",
       "Name: churn, dtype: float64"
      ]
     },
     "execution_count": 3,
     "metadata": {},
     "output_type": "execute_result"
    }
   ],
   "source": [
    "model_table['churn'].value_counts()/model_table.shape[0]"
   ]
  },
  {
   "cell_type": "code",
   "execution_count": 4,
   "id": "f5996803",
   "metadata": {},
   "outputs": [],
   "source": [
    "X = model_table.iloc[:,:14]\n",
    "y = model_table['churn']"
   ]
  },
  {
   "cell_type": "code",
   "execution_count": 5,
   "id": "8ceae0d4",
   "metadata": {},
   "outputs": [],
   "source": [
    "numeric = model_table.describe().columns.tolist()"
   ]
  },
  {
   "cell_type": "code",
   "execution_count": 6,
   "id": "486951ae",
   "metadata": {},
   "outputs": [],
   "source": [
    "from sklearn.model_selection import train_test_split\n",
    "X_train, X_test, y_train,y_test = train_test_split(X,y,test_size=0.3, random_state=21)"
   ]
  },
  {
   "cell_type": "code",
   "execution_count": 7,
   "id": "6fb19408",
   "metadata": {},
   "outputs": [],
   "source": [
    "from imblearn.over_sampling import SMOTE \n",
    "smote = SMOTE()\n",
    "X_train, y_train = smote.fit_resample(X_train, y_train)"
   ]
  },
  {
   "cell_type": "code",
   "execution_count": 8,
   "id": "9c5e565a",
   "metadata": {},
   "outputs": [
    {
     "data": {
      "text/plain": [
       "Index(['cons_12m', 'cons_gas_12m', 'cons_last_month', 'has_gas', 'imp_cons',\n",
       "       'margin_gross_pow_ele', 'margin_net_pow_ele', 'nb_prod_act',\n",
       "       'net_margin', 'num_years_antig', 'pow_max', 'length_contract',\n",
       "       'offpeak_diff_dec_january_energy', 'offpeak_diff_dec_january_power'],\n",
       "      dtype='object')"
      ]
     },
     "execution_count": 8,
     "metadata": {},
     "output_type": "execute_result"
    }
   ],
   "source": [
    "X_train.columns"
   ]
  },
  {
   "cell_type": "code",
   "execution_count": 9,
   "id": "45e548f6",
   "metadata": {},
   "outputs": [],
   "source": [
    "skew_feature = ['cons_12m','cons_gas_12m','imp_cons','net_margin','pow_max']\n",
    "normal_feature = ['margin_net_pow_ele']\n",
    "outlier_feature = ['offpeak_diff_dec_january_energy','offpeak_diff_dec_january_power']"
   ]
  },
  {
   "cell_type": "code",
   "execution_count": 10,
   "id": "c1452f79",
   "metadata": {},
   "outputs": [],
   "source": [
    "from sklearn.preprocessing import StandardScaler\n",
    "for x in skew_feature:\n",
    "    scaler = StandardScaler()\n",
    "    scaler.fit(X_train[x].values.reshape(-1,1))\n",
    "    X_train[x] = scaler.transform(X_train[x].values.reshape(-1,1))\n",
    "    X_test[x] = scaler.transform(X_test[x].values.reshape(-1,1))"
   ]
  },
  {
   "cell_type": "code",
   "execution_count": 11,
   "id": "ee3a77b7",
   "metadata": {},
   "outputs": [],
   "source": [
    "from sklearn.preprocessing import MinMaxScaler\n",
    "for x in normal_feature:\n",
    "    scaler =  MinMaxScaler()\n",
    "    scaler.fit(X_train[x].values.reshape(-1,1))\n",
    "    X_train[x] = scaler.transform(X_train[x].values.reshape(-1,1))\n",
    "    X_test[x] = scaler.transform(X_test[x].values.reshape(-1,1))"
   ]
  },
  {
   "cell_type": "code",
   "execution_count": 12,
   "id": "0812d17c",
   "metadata": {},
   "outputs": [],
   "source": [
    "from sklearn.preprocessing import RobustScaler\n",
    "for x in outlier_feature :\n",
    "    scaler =  RobustScaler()\n",
    "    scaler.fit(X_train[x].values.reshape(-1,1))\n",
    "    X_train[x] = scaler.transform(X_train[x].values.reshape(-1,1))\n",
    "    X_test[x] = scaler.transform(X_test[x].values.reshape(-1,1))"
   ]
  },
  {
   "cell_type": "code",
   "execution_count": 13,
   "id": "a87a2cd9",
   "metadata": {},
   "outputs": [],
   "source": [
    "features_train = X_train\n",
    "features_test = X_test\n",
    "label_train = y_train\n",
    "label_test = y_test"
   ]
  },
  {
   "cell_type": "code",
   "execution_count": 14,
   "id": "4974da40",
   "metadata": {
    "scrolled": false
   },
   "outputs": [
    {
     "data": {
      "text/plain": [
       "0    9226\n",
       "1    9226\n",
       "Name: churn, dtype: int64"
      ]
     },
     "execution_count": 14,
     "metadata": {},
     "output_type": "execute_result"
    }
   ],
   "source": [
    "label_train.value_counts()"
   ]
  },
  {
   "cell_type": "markdown",
   "id": "940e50a9",
   "metadata": {},
   "source": [
    "## Logistic Regression"
   ]
  },
  {
   "cell_type": "code",
   "execution_count": 15,
   "id": "994083f9",
   "metadata": {},
   "outputs": [
    {
     "data": {
      "text/html": [
       "<div>\n",
       "<style scoped>\n",
       "    .dataframe tbody tr th:only-of-type {\n",
       "        vertical-align: middle;\n",
       "    }\n",
       "\n",
       "    .dataframe tbody tr th {\n",
       "        vertical-align: top;\n",
       "    }\n",
       "\n",
       "    .dataframe thead th {\n",
       "        text-align: right;\n",
       "    }\n",
       "</style>\n",
       "<table border=\"1\" class=\"dataframe\">\n",
       "  <thead>\n",
       "    <tr style=\"text-align: right;\">\n",
       "      <th></th>\n",
       "      <th>accuracy_test</th>\n",
       "      <th>accuracy_train</th>\n",
       "      <th>precision_test</th>\n",
       "      <th>precision_train</th>\n",
       "      <th>recall_test</th>\n",
       "      <th>recall_train</th>\n",
       "      <th>f1_test</th>\n",
       "      <th>f1_train</th>\n",
       "      <th>auc_test</th>\n",
       "      <th>auc_train</th>\n",
       "    </tr>\n",
       "  </thead>\n",
       "  <tbody>\n",
       "    <tr>\n",
       "      <th>0</th>\n",
       "      <td>0.68188</td>\n",
       "      <td>0.617928</td>\n",
       "      <td>0.489311</td>\n",
       "      <td>0.523195</td>\n",
       "      <td>0.148736</td>\n",
       "      <td>0.645493</td>\n",
       "      <td>0.228128</td>\n",
       "      <td>0.577945</td>\n",
       "      <td>0.62101</td>\n",
       "      <td>0.664482</td>\n",
       "    </tr>\n",
       "  </tbody>\n",
       "</table>\n",
       "</div>"
      ],
      "text/plain": [
       "   accuracy_test  accuracy_train  precision_test  precision_train  \\\n",
       "0        0.68188        0.617928        0.489311         0.523195   \n",
       "\n",
       "   recall_test  recall_train   f1_test  f1_train  auc_test  auc_train  \n",
       "0     0.148736      0.645493  0.228128  0.577945   0.62101   0.664482  "
      ]
     },
     "execution_count": 15,
     "metadata": {},
     "output_type": "execute_result"
    }
   ],
   "source": [
    "from sklearn.linear_model import LogisticRegression\n",
    "clf = LogisticRegression()\n",
    "\n",
    "clf.fit(features_train,label_train)\n",
    "\n",
    "pred_train = clf.predict(features_train)\n",
    "pred_test = clf.predict(features_test)\n",
    "pred_proba = clf.predict_proba(features_test)[:,1]\n",
    "\n",
    "from sklearn.metrics import accuracy_score\n",
    "accuracy_train_lr = accuracy_score(pred_train,label_train)\n",
    "accuracy_test_lr = accuracy_score(pred_test,label_test)\n",
    "\n",
    "from sklearn.metrics import precision_score\n",
    "precision_train_lr = precision_score(pred_train,label_train)\n",
    "precision_test_lr = precision_score(pred_test,label_test)\n",
    "\n",
    "from sklearn.metrics import recall_score\n",
    "recall_train_lr = recall_score(pred_train,label_train)\n",
    "recall_test_lr = recall_score(pred_test,label_test)\n",
    "\n",
    "from sklearn.metrics import f1_score\n",
    "f1_train_lr = f1_score(pred_train,label_train)\n",
    "f1_test_lr = f1_score(pred_test,label_test)\n",
    "\n",
    "from sklearn import metrics\n",
    "fpr, tpr, _ = metrics.roc_curve(np.array(label_train), clf.predict_proba(features_train)[:,1])\n",
    "auc_train_lr = metrics.auc(fpr,tpr)\n",
    "\n",
    "fpr, tpr, _ = metrics.roc_curve(np.array(label_test), clf.predict_proba(features_test)[:,1])\n",
    "auc_test_lr = metrics.auc(fpr,tpr)\n",
    "auc_overfitting_lr = auc_test_lr-auc_train_lr\n",
    "\n",
    "\n",
    "pd.DataFrame({'accuracy_test':[accuracy_test_lr],'accuracy_train':[accuracy_train_lr],\n",
    "             'precision_test':[precision_test_lr],'precision_train':[precision_train_lr],\n",
    "             'recall_test':[recall_test_lr],'recall_train':[recall_train_lr],\n",
    "             'f1_test':[f1_test_lr],'f1_train':[f1_train_lr],\n",
    "             'auc_test':[auc_test_lr],'auc_train':[auc_train_lr]})"
   ]
  },
  {
   "cell_type": "code",
   "execution_count": 16,
   "id": "cddce6f9",
   "metadata": {},
   "outputs": [
    {
     "data": {
      "image/png": "[encoded data removed]",
      "text/plain": [
       "<Figure size 720x360 with 2 Axes>"
      ]
     },
     "metadata": {
      "needs_background": "light"
     },
     "output_type": "display_data"
    }
   ],
   "source": [
    "from sklearn.metrics import confusion_matrix\n",
    "fig, ax = plt.subplots(figsize=(10,5))\n",
    "ax = sns.heatmap((confusion_matrix(label_test,pred_test)), annot=True, cmap='Blues', fmt='g')\n",
    "\n",
    "\n",
    "\n",
    "ax.set_title('Seaborn Confusion Matrix with labels\\n\\n');\n",
    "ax.set_xlabel('\\nPredicted Values')\n",
    "ax.set_ylabel('Actual Values ');\n",
    "\n",
    "## Ticket labels - List must be in alphabetical order\n",
    "ax.xaxis.set_ticklabels(['False','True'])\n",
    "ax.yaxis.set_ticklabels(['False','True'])\n",
    "\n",
    "\n",
    "## Display the visualization of the Confusion Matrix.\n",
    "plt.show()"
   ]
  },
  {
   "cell_type": "markdown",
   "id": "5208d56f",
   "metadata": {},
   "source": [
    "## Decision Tree"
   ]
  },
  {
   "cell_type": "code",
   "execution_count": 17,
   "id": "9432e904",
   "metadata": {},
   "outputs": [
    {
     "data": {
      "text/html": [
       "<div>\n",
       "<style scoped>\n",
       "    .dataframe tbody tr th:only-of-type {\n",
       "        vertical-align: middle;\n",
       "    }\n",
       "\n",
       "    .dataframe tbody tr th {\n",
       "        vertical-align: top;\n",
       "    }\n",
       "\n",
       "    .dataframe thead th {\n",
       "        text-align: right;\n",
       "    }\n",
       "</style>\n",
       "<table border=\"1\" class=\"dataframe\">\n",
       "  <thead>\n",
       "    <tr style=\"text-align: right;\">\n",
       "      <th></th>\n",
       "      <th>accuracy_test</th>\n",
       "      <th>accuracy_train</th>\n",
       "      <th>precision_test</th>\n",
       "      <th>precision_train</th>\n",
       "      <th>recall_test</th>\n",
       "      <th>recall_train</th>\n",
       "      <th>f1_test</th>\n",
       "      <th>f1_train</th>\n",
       "      <th>auc_test</th>\n",
       "      <th>auc_train</th>\n",
       "    </tr>\n",
       "  </thead>\n",
       "  <tbody>\n",
       "    <tr>\n",
       "      <th>0</th>\n",
       "      <td>0.820173</td>\n",
       "      <td>1.0</td>\n",
       "      <td>0.247031</td>\n",
       "      <td>1.0</td>\n",
       "      <td>0.18087</td>\n",
       "      <td>1.0</td>\n",
       "      <td>0.208835</td>\n",
       "      <td>1.0</td>\n",
       "      <td>0.564061</td>\n",
       "      <td>1.0</td>\n",
       "    </tr>\n",
       "  </tbody>\n",
       "</table>\n",
       "</div>"
      ],
      "text/plain": [
       "   accuracy_test  accuracy_train  precision_test  precision_train  \\\n",
       "0       0.820173             1.0        0.247031              1.0   \n",
       "\n",
       "   recall_test  recall_train   f1_test  f1_train  auc_test  auc_train  \n",
       "0      0.18087           1.0  0.208835       1.0  0.564061        1.0  "
      ]
     },
     "execution_count": 17,
     "metadata": {},
     "output_type": "execute_result"
    }
   ],
   "source": [
    "from sklearn import tree\n",
    "clf = tree.DecisionTreeClassifier()\n",
    "\n",
    "clf.fit(features_train,label_train)\n",
    "\n",
    "pred_train = clf.predict(features_train)\n",
    "pred_test = clf.predict(features_test)\n",
    "pred_proba = clf.predict_proba(features_test)[:,1]\n",
    "\n",
    "from sklearn.metrics import accuracy_score\n",
    "accuracy_train_dct = accuracy_score(pred_train,label_train)\n",
    "accuracy_test_dct = accuracy_score(pred_test,label_test)\n",
    "\n",
    "from sklearn.metrics import precision_score\n",
    "precision_train_dct = precision_score(pred_train,label_train)\n",
    "precision_test_dct = precision_score(pred_test,label_test)\n",
    "\n",
    "from sklearn.metrics import recall_score\n",
    "recall_train_dct = recall_score(pred_train,label_train)\n",
    "recall_test_dct = recall_score(pred_test,label_test)\n",
    "\n",
    "from sklearn.metrics import f1_score\n",
    "f1_train_dct = f1_score(pred_train,label_train)\n",
    "f1_test_dct = f1_score(pred_test,label_test)\n",
    "\n",
    "from sklearn import metrics\n",
    "fpr, tpr, _ = metrics.roc_curve(np.array(label_train), clf.predict_proba(features_train)[:,1])\n",
    "auc_train_dct = metrics.auc(fpr,tpr)\n",
    "\n",
    "fpr, tpr, _ = metrics.roc_curve(np.array(label_test), clf.predict_proba(features_test)[:,1])\n",
    "auc_test_dct = metrics.auc(fpr,tpr)\n",
    "auc_overfitting_dct = auc_test_dct-auc_train_dct\n",
    "pd.DataFrame({'accuracy_test':[accuracy_test_dct],'accuracy_train':[accuracy_train_dct],\n",
    "             'precision_test':[precision_test_dct],'precision_train':[precision_train_dct],\n",
    "             'recall_test':[recall_test_dct],'recall_train':[recall_train_dct],\n",
    "             'f1_test':[f1_test_dct],'f1_train':[f1_train_dct],\n",
    "             'auc_test':[auc_test_dct],'auc_train':[auc_train_dct]})"
   ]
  },
  {
   "cell_type": "code",
   "execution_count": 18,
   "id": "90c55b08",
   "metadata": {},
   "outputs": [
    {
     "data": {
      "image/png": "[encoded data removed]",
      "text/plain": [
       "<Figure size 720x360 with 2 Axes>"
      ]
     },
     "metadata": {
      "needs_background": "light"
     },
     "output_type": "display_data"
    }
   ],
   "source": [
    "from sklearn.metrics import confusion_matrix\n",
    "fig, ax = plt.subplots(figsize=(10,5))\n",
    "ax = sns.heatmap((confusion_matrix(label_test,pred_test)), annot=True, cmap='Blues', fmt='g')\n",
    "\n",
    "\n",
    "\n",
    "ax.set_title('Seaborn Confusion Matrix with labels\\n\\n');\n",
    "ax.set_xlabel('\\nPredicted Values')\n",
    "ax.set_ylabel('Actual Values ');\n",
    "\n",
    "## Ticket labels - List must be in alphabetical order\n",
    "ax.xaxis.set_ticklabels(['False','True'])\n",
    "ax.yaxis.set_ticklabels(['False','True'])\n",
    "\n",
    "\n",
    "## Display the visualization of the Confusion Matrix.\n",
    "plt.show()"
   ]
  },
  {
   "cell_type": "markdown",
   "id": "29e0b4c7",
   "metadata": {},
   "source": [
    "## Naive Baiyes"
   ]
  },
  {
   "cell_type": "code",
   "execution_count": 19,
   "id": "033f4495",
   "metadata": {},
   "outputs": [
    {
     "data": {
      "text/html": [
       "<div>\n",
       "<style scoped>\n",
       "    .dataframe tbody tr th:only-of-type {\n",
       "        vertical-align: middle;\n",
       "    }\n",
       "\n",
       "    .dataframe tbody tr th {\n",
       "        vertical-align: top;\n",
       "    }\n",
       "\n",
       "    .dataframe thead th {\n",
       "        text-align: right;\n",
       "    }\n",
       "</style>\n",
       "<table border=\"1\" class=\"dataframe\">\n",
       "  <thead>\n",
       "    <tr style=\"text-align: right;\">\n",
       "      <th></th>\n",
       "      <th>accuracy_test</th>\n",
       "      <th>accuracy_train</th>\n",
       "      <th>precision_test</th>\n",
       "      <th>precision_train</th>\n",
       "      <th>recall_test</th>\n",
       "      <th>recall_train</th>\n",
       "      <th>f1_test</th>\n",
       "      <th>f1_train</th>\n",
       "      <th>auc_test</th>\n",
       "      <th>auc_train</th>\n",
       "    </tr>\n",
       "  </thead>\n",
       "  <tbody>\n",
       "    <tr>\n",
       "      <th>0</th>\n",
       "      <td>0.193519</td>\n",
       "      <td>0.527639</td>\n",
       "      <td>0.938242</td>\n",
       "      <td>0.940386</td>\n",
       "      <td>0.101204</td>\n",
       "      <td>0.515141</td>\n",
       "      <td>0.182701</td>\n",
       "      <td>0.665644</td>\n",
       "      <td>0.62079</td>\n",
       "      <td>0.657906</td>\n",
       "    </tr>\n",
       "  </tbody>\n",
       "</table>\n",
       "</div>"
      ],
      "text/plain": [
       "   accuracy_test  accuracy_train  precision_test  precision_train  \\\n",
       "0       0.193519        0.527639        0.938242         0.940386   \n",
       "\n",
       "   recall_test  recall_train   f1_test  f1_train  auc_test  auc_train  \n",
       "0     0.101204      0.515141  0.182701  0.665644   0.62079   0.657906  "
      ]
     },
     "execution_count": 19,
     "metadata": {},
     "output_type": "execute_result"
    }
   ],
   "source": [
    "from sklearn.naive_bayes import GaussianNB \n",
    "clf = GaussianNB()\n",
    "\n",
    "clf.fit(features_train,label_train)\n",
    "\n",
    "pred_train = clf.predict(features_train)\n",
    "pred_test = clf.predict(features_test)\n",
    "pred_proba = clf.predict_proba(features_test)[:,1]\n",
    "\n",
    "\n",
    "from sklearn.metrics import accuracy_score\n",
    "accuracy_train_nb = accuracy_score(pred_train,label_train)\n",
    "accuracy_test_nb = accuracy_score(pred_test,label_test)\n",
    "\n",
    "from sklearn.metrics import precision_score\n",
    "precision_train_nb = precision_score(pred_train,label_train)\n",
    "precision_test_nb = precision_score(pred_test,label_test)\n",
    "\n",
    "from sklearn.metrics import recall_score\n",
    "recall_train_nb = recall_score(pred_train,label_train)\n",
    "recall_test_nb = recall_score(pred_test,label_test)\n",
    "\n",
    "from sklearn.metrics import f1_score\n",
    "f1_train_nb = f1_score(pred_train,label_train)\n",
    "f1_test_nb = f1_score(pred_test,label_test)\n",
    "\n",
    "from sklearn import metrics\n",
    "fpr, tpr, _ = metrics.roc_curve(np.array(label_train), clf.predict_proba(features_train)[:,1])\n",
    "auc_train_nb = metrics.auc(fpr,tpr)\n",
    "\n",
    "fpr, tpr, _ = metrics.roc_curve(np.array(label_test), clf.predict_proba(features_test)[:,1])\n",
    "auc_test_nb = metrics.auc(fpr,tpr)\n",
    "auc_overfitting_nb = auc_test_nb-auc_train_nb\n",
    "pd.DataFrame({'accuracy_test':[accuracy_test_nb],'accuracy_train':[accuracy_train_nb],\n",
    "             'precision_test':[precision_test_nb],'precision_train':[precision_train_nb],\n",
    "             'recall_test':[recall_test_nb],'recall_train':[recall_train_nb],\n",
    "             'f1_test':[f1_test_nb],'f1_train':[f1_train_nb],\n",
    "             'auc_test':[auc_test_nb],'auc_train':[auc_train_nb]})"
   ]
  },
  {
   "cell_type": "code",
   "execution_count": 20,
   "id": "cb4df387",
   "metadata": {},
   "outputs": [
    {
     "data": {
      "image/png": "[encoded data removed]",
      "text/plain": [
       "<Figure size 720x360 with 2 Axes>"
      ]
     },
     "metadata": {
      "needs_background": "light"
     },
     "output_type": "display_data"
    }
   ],
   "source": [
    "from sklearn.metrics import confusion_matrix\n",
    "fig, ax = plt.subplots(figsize=(10,5))\n",
    "ax = sns.heatmap((confusion_matrix(label_test,pred_test)), annot=True, cmap='Blues', fmt='g')\n",
    "\n",
    "\n",
    "\n",
    "ax.set_title('Seaborn Confusion Matrix with labels\\n\\n');\n",
    "ax.set_xlabel('\\nPredicted Values')\n",
    "ax.set_ylabel('Actual Values ');\n",
    "\n",
    "## Ticket labels - List must be in alphabetical order\n",
    "ax.xaxis.set_ticklabels(['False','True'])\n",
    "ax.yaxis.set_ticklabels(['False','True'])\n",
    "\n",
    "\n",
    "## Display the visualization of the Confusion Matrix.\n",
    "plt.show()"
   ]
  },
  {
   "cell_type": "markdown",
   "id": "7c746e4a",
   "metadata": {},
   "source": [
    "## Linear SVC"
   ]
  },
  {
   "cell_type": "code",
   "execution_count": 21,
   "id": "75d98f77",
   "metadata": {},
   "outputs": [
    {
     "data": {
      "text/html": [
       "<div>\n",
       "<style scoped>\n",
       "    .dataframe tbody tr th:only-of-type {\n",
       "        vertical-align: middle;\n",
       "    }\n",
       "\n",
       "    .dataframe tbody tr th {\n",
       "        vertical-align: top;\n",
       "    }\n",
       "\n",
       "    .dataframe thead th {\n",
       "        text-align: right;\n",
       "    }\n",
       "</style>\n",
       "<table border=\"1\" class=\"dataframe\">\n",
       "  <thead>\n",
       "    <tr style=\"text-align: right;\">\n",
       "      <th></th>\n",
       "      <th>accuracy_test</th>\n",
       "      <th>accuracy_train</th>\n",
       "      <th>precision_test</th>\n",
       "      <th>precision_train</th>\n",
       "      <th>recall_test</th>\n",
       "      <th>recall_train</th>\n",
       "      <th>f1_test</th>\n",
       "      <th>f1_train</th>\n",
       "      <th>auc_test</th>\n",
       "      <th>auc_train</th>\n",
       "    </tr>\n",
       "  </thead>\n",
       "  <tbody>\n",
       "    <tr>\n",
       "      <th>0</th>\n",
       "      <td>0.749886</td>\n",
       "      <td>0.553002</td>\n",
       "      <td>0.294537</td>\n",
       "      <td>0.315413</td>\n",
       "      <td>0.134345</td>\n",
       "      <td>0.600991</td>\n",
       "      <td>0.184524</td>\n",
       "      <td>0.413705</td>\n",
       "      <td>0.600775</td>\n",
       "      <td>0.649576</td>\n",
       "    </tr>\n",
       "  </tbody>\n",
       "</table>\n",
       "</div>"
      ],
      "text/plain": [
       "   accuracy_test  accuracy_train  precision_test  precision_train  \\\n",
       "0       0.749886        0.553002        0.294537         0.315413   \n",
       "\n",
       "   recall_test  recall_train   f1_test  f1_train  auc_test  auc_train  \n",
       "0     0.134345      0.600991  0.184524  0.413705  0.600775   0.649576  "
      ]
     },
     "execution_count": 21,
     "metadata": {},
     "output_type": "execute_result"
    }
   ],
   "source": [
    "from sklearn.svm import LinearSVC\n",
    "from sklearn.calibration import CalibratedClassifierCV\n",
    "clf = LinearSVC()\n",
    "\n",
    "clf.fit(features_train,label_train)\n",
    "\n",
    "pred_train = clf.predict(features_train)\n",
    "pred_test = clf.predict(features_test)\n",
    "\n",
    "from sklearn.metrics import accuracy_score\n",
    "accuracy_train_svc = accuracy_score(pred_train,label_train)\n",
    "accuracy_test_svc = accuracy_score(pred_test,label_test)\n",
    "\n",
    "from sklearn.metrics import precision_score\n",
    "precision_train_svc = precision_score(pred_train,label_train)\n",
    "precision_test_svc = precision_score(pred_test,label_test)\n",
    "\n",
    "from sklearn.metrics import recall_score\n",
    "recall_train_svc = recall_score(pred_train,label_train)\n",
    "recall_test_svc = recall_score(pred_test,label_test)\n",
    "\n",
    "from sklearn.metrics import f1_score\n",
    "f1_train_svc = f1_score(pred_train,label_train)\n",
    "f1_test_svc = f1_score(pred_test,label_test)\n",
    "\n",
    "from sklearn import metrics\n",
    "clf_new = CalibratedClassifierCV(clf)\n",
    "clf_new.fit(features_train,label_train)\n",
    "pred_proba = clf_new.predict_proba(features_train)[:,1]\n",
    "fpr, tpr, _ = metrics.roc_curve(np.array(label_train), clf_new.predict_proba(features_train)[:,1])\n",
    "auc_train_svc = metrics.auc(fpr,tpr)\n",
    "fpr, tpr, _ = metrics.roc_curve(np.array(label_test), clf_new.predict_proba(features_test)[:,1])\n",
    "auc_test_svc = metrics.auc(fpr,tpr)\n",
    "auc_overfitting_svc = auc_test_svc-auc_train_svc\n",
    "pd.DataFrame({'accuracy_test':[accuracy_test_svc],'accuracy_train':[accuracy_train_svc],\n",
    "             'precision_test':[precision_test_svc],'precision_train':[precision_train_svc],\n",
    "             'recall_test':[recall_test_svc],'recall_train':[recall_train_svc],\n",
    "             'f1_test':[f1_test_svc],'f1_train':[f1_train_svc],\n",
    "             'auc_test':[auc_test_svc],'auc_train':[auc_train_svc]})"
   ]
  },
  {
   "cell_type": "code",
   "execution_count": 22,
   "id": "ec73e8df",
   "metadata": {
    "scrolled": true
   },
   "outputs": [
    {
     "data": {
      "image/png": "[encoded data removed]",
      "text/plain": [
       "<Figure size 720x360 with 2 Axes>"
      ]
     },
     "metadata": {
      "needs_background": "light"
     },
     "output_type": "display_data"
    }
   ],
   "source": [
    "from sklearn.metrics import confusion_matrix\n",
    "fig, ax = plt.subplots(figsize=(10,5))\n",
    "ax = sns.heatmap((confusion_matrix(label_test,pred_test)), annot=True, cmap='Blues', fmt='g')\n",
    "\n",
    "\n",
    "\n",
    "ax.set_title('Seaborn Confusion Matrix with labels\\n\\n');\n",
    "ax.set_xlabel('\\nPredicted Values')\n",
    "ax.set_ylabel('Actual Values ');\n",
    "\n",
    "## Ticket labels - List must be in alphabetical order\n",
    "ax.xaxis.set_ticklabels(['False','True'])\n",
    "ax.yaxis.set_ticklabels(['False','True'])\n",
    "\n",
    "\n",
    "## Display the visualization of the Confusion Matrix.\n",
    "plt.show()"
   ]
  },
  {
   "cell_type": "markdown",
   "id": "0b07b870",
   "metadata": {},
   "source": [
    "## Random Forest"
   ]
  },
  {
   "cell_type": "code",
   "execution_count": 23,
   "id": "c63bab89",
   "metadata": {},
   "outputs": [
    {
     "data": {
      "text/html": [
       "<div>\n",
       "<style scoped>\n",
       "    .dataframe tbody tr th:only-of-type {\n",
       "        vertical-align: middle;\n",
       "    }\n",
       "\n",
       "    .dataframe tbody tr th {\n",
       "        vertical-align: top;\n",
       "    }\n",
       "\n",
       "    .dataframe thead th {\n",
       "        text-align: right;\n",
       "    }\n",
       "</style>\n",
       "<table border=\"1\" class=\"dataframe\">\n",
       "  <thead>\n",
       "    <tr style=\"text-align: right;\">\n",
       "      <th></th>\n",
       "      <th>accuracy_test</th>\n",
       "      <th>accuracy_train</th>\n",
       "      <th>precision_test</th>\n",
       "      <th>precision_train</th>\n",
       "      <th>recall_test</th>\n",
       "      <th>recall_train</th>\n",
       "      <th>f1_test</th>\n",
       "      <th>f1_train</th>\n",
       "      <th>auc_test</th>\n",
       "      <th>auc_train</th>\n",
       "    </tr>\n",
       "  </thead>\n",
       "  <tbody>\n",
       "    <tr>\n",
       "      <th>0</th>\n",
       "      <td>0.895938</td>\n",
       "      <td>1.0</td>\n",
       "      <td>0.118765</td>\n",
       "      <td>1.0</td>\n",
       "      <td>0.37037</td>\n",
       "      <td>1.0</td>\n",
       "      <td>0.179856</td>\n",
       "      <td>1.0</td>\n",
       "      <td>0.662959</td>\n",
       "      <td>1.0</td>\n",
       "    </tr>\n",
       "  </tbody>\n",
       "</table>\n",
       "</div>"
      ],
      "text/plain": [
       "   accuracy_test  accuracy_train  precision_test  precision_train  \\\n",
       "0       0.895938             1.0        0.118765              1.0   \n",
       "\n",
       "   recall_test  recall_train   f1_test  f1_train  auc_test  auc_train  \n",
       "0      0.37037           1.0  0.179856       1.0  0.662959        1.0  "
      ]
     },
     "execution_count": 23,
     "metadata": {},
     "output_type": "execute_result"
    }
   ],
   "source": [
    "from sklearn.ensemble import RandomForestClassifier\n",
    "clf = RandomForestClassifier(class_weight='balanced')\n",
    "\n",
    "clf.fit(features_train,label_train)\n",
    "\n",
    "pred_train = clf.predict(features_train)\n",
    "pred_test = clf.predict(features_test)\n",
    "pred_proba = clf.predict_proba(features_test)[:,1]\n",
    "\n",
    "\n",
    "from sklearn.metrics import accuracy_score\n",
    "accuracy_train_rf = accuracy_score(pred_train,label_train)\n",
    "accuracy_test_rf = accuracy_score(pred_test,label_test)\n",
    "\n",
    "from sklearn.metrics import precision_score\n",
    "precision_train_rf = precision_score(pred_train,label_train)\n",
    "precision_test_rf = precision_score(pred_test,label_test)\n",
    "\n",
    "from sklearn.metrics import recall_score\n",
    "recall_train_rf = recall_score(pred_train,label_train)\n",
    "recall_test_rf = recall_score(pred_test,label_test)\n",
    "\n",
    "from sklearn.metrics import f1_score\n",
    "f1_train_rf = f1_score(pred_train,label_train)\n",
    "f1_test_rf = f1_score(pred_test,label_test)\n",
    "\n",
    "from sklearn import metrics\n",
    "fpr, tpr, _ = metrics.roc_curve(np.array(label_train), clf.predict_proba(features_train)[:,1])\n",
    "auc_train_rf = metrics.auc(fpr,tpr)\n",
    "\n",
    "fpr, tpr, _ = metrics.roc_curve(np.array(label_test), clf.predict_proba(features_test)[:,1])\n",
    "auc_test_rf = metrics.auc(fpr,tpr)\n",
    "auc_overfitting_rf = auc_test_rf-auc_train_rf\n",
    "\n",
    "\n",
    "pd.DataFrame({'accuracy_test':[accuracy_test_rf],'accuracy_train':[accuracy_train_rf],\n",
    "             'precision_test':[precision_test_rf],'precision_train':[precision_train_rf],\n",
    "             'recall_test':[recall_test_rf],'recall_train':[recall_train_rf],\n",
    "             'f1_test':[f1_test_rf],'f1_train':[f1_train_rf],\n",
    "             'auc_test':[auc_test_rf],'auc_train':[auc_train_rf]})"
   ]
  },
  {
   "cell_type": "code",
   "execution_count": 24,
   "id": "7f6f66d9",
   "metadata": {},
   "outputs": [
    {
     "data": {
      "image/png": "[encoded data removed]",
      "text/plain": [
       "<Figure size 720x360 with 2 Axes>"
      ]
     },
     "metadata": {
      "needs_background": "light"
     },
     "output_type": "display_data"
    }
   ],
   "source": [
    "from sklearn.metrics import confusion_matrix\n",
    "fig, ax = plt.subplots(figsize=(10,5))\n",
    "ax = sns.heatmap((confusion_matrix(label_test,pred_test)), annot=True, cmap='Blues', fmt='g')\n",
    "\n",
    "\n",
    "\n",
    "ax.set_title('Seaborn Confusion Matrix with labels\\n\\n');\n",
    "ax.set_xlabel('\\nPredicted Values')\n",
    "ax.set_ylabel('Actual Values ');\n",
    "\n",
    "## Ticket labels - List must be in alphabetical order\n",
    "ax.xaxis.set_ticklabels(['False','True'])\n",
    "ax.yaxis.set_ticklabels(['False','True'])\n",
    "\n",
    "\n",
    "## Display the visualization of the Confusion Matrix.\n",
    "plt.show()"
   ]
  },
  {
   "cell_type": "markdown",
   "id": "483c86fb",
   "metadata": {},
   "source": [
    "## Gradient Boosting"
   ]
  },
  {
   "cell_type": "code",
   "execution_count": 25,
   "id": "76e9830a",
   "metadata": {},
   "outputs": [
    {
     "data": {
      "text/html": [
       "<div>\n",
       "<style scoped>\n",
       "    .dataframe tbody tr th:only-of-type {\n",
       "        vertical-align: middle;\n",
       "    }\n",
       "\n",
       "    .dataframe tbody tr th {\n",
       "        vertical-align: top;\n",
       "    }\n",
       "\n",
       "    .dataframe thead th {\n",
       "        text-align: right;\n",
       "    }\n",
       "</style>\n",
       "<table border=\"1\" class=\"dataframe\">\n",
       "  <thead>\n",
       "    <tr style=\"text-align: right;\">\n",
       "      <th></th>\n",
       "      <th>accuracy_test</th>\n",
       "      <th>accuracy_train</th>\n",
       "      <th>precision_test</th>\n",
       "      <th>precision_train</th>\n",
       "      <th>recall_test</th>\n",
       "      <th>recall_train</th>\n",
       "      <th>f1_test</th>\n",
       "      <th>f1_train</th>\n",
       "      <th>auc_test</th>\n",
       "      <th>auc_train</th>\n",
       "    </tr>\n",
       "  </thead>\n",
       "  <tbody>\n",
       "    <tr>\n",
       "      <th>0</th>\n",
       "      <td>0.891146</td>\n",
       "      <td>0.903804</td>\n",
       "      <td>0.049881</td>\n",
       "      <td>0.826469</td>\n",
       "      <td>0.214286</td>\n",
       "      <td>0.977689</td>\n",
       "      <td>0.080925</td>\n",
       "      <td>0.895742</td>\n",
       "      <td>0.633037</td>\n",
       "      <td>0.95249</td>\n",
       "    </tr>\n",
       "  </tbody>\n",
       "</table>\n",
       "</div>"
      ],
      "text/plain": [
       "   accuracy_test  accuracy_train  precision_test  precision_train  \\\n",
       "0       0.891146        0.903804        0.049881         0.826469   \n",
       "\n",
       "   recall_test  recall_train   f1_test  f1_train  auc_test  auc_train  \n",
       "0     0.214286      0.977689  0.080925  0.895742  0.633037    0.95249  "
      ]
     },
     "execution_count": 25,
     "metadata": {},
     "output_type": "execute_result"
    }
   ],
   "source": [
    "from sklearn.ensemble import GradientBoostingClassifier\n",
    "clf = GradientBoostingClassifier()\n",
    "\n",
    "clf.fit(features_train,label_train)\n",
    "\n",
    "pred_train = clf.predict(features_train)\n",
    "pred_test = clf.predict(features_test)\n",
    "pred_proba = clf.predict_proba(features_test)[:,1]\n",
    "\n",
    "\n",
    "from sklearn.metrics import accuracy_score\n",
    "accuracy_train_gb = accuracy_score(pred_train,label_train)\n",
    "accuracy_test_gb = accuracy_score(pred_test,label_test)\n",
    "\n",
    "from sklearn.metrics import precision_score\n",
    "precision_train_gb = precision_score(pred_train,label_train)\n",
    "precision_test_gb = precision_score(pred_test,label_test)\n",
    "\n",
    "from sklearn.metrics import recall_score\n",
    "recall_train_gb = recall_score(pred_train,label_train)\n",
    "recall_test_gb = recall_score(pred_test,label_test)\n",
    "\n",
    "from sklearn.metrics import f1_score\n",
    "f1_train_gb = f1_score(pred_train,label_train)\n",
    "f1_test_gb = f1_score(pred_test,label_test)\n",
    "\n",
    "from sklearn import metrics\n",
    "fpr, tpr, _ = metrics.roc_curve(np.array(label_train), clf.predict_proba(features_train)[:,1])\n",
    "auc_train_gb = metrics.auc(fpr,tpr)\n",
    "\n",
    "fpr, tpr, _ = metrics.roc_curve(np.array(label_test), clf.predict_proba(features_test)[:,1])\n",
    "auc_test_gb = metrics.auc(fpr,tpr)\n",
    "auc_overfitting_gb = auc_test_gb-auc_train_gb\n",
    "\n",
    "pd.DataFrame({'accuracy_test':[accuracy_test_gb],'accuracy_train':[accuracy_train_gb],\n",
    "             'precision_test':[precision_test_gb],'precision_train':[precision_train_gb],\n",
    "             'recall_test':[recall_test_gb],'recall_train':[recall_train_gb],\n",
    "             'f1_test':[f1_test_gb],'f1_train':[f1_train_gb],\n",
    "             'auc_test':[auc_test_gb],'auc_train':[auc_train_gb]})"
   ]
  },
  {
   "cell_type": "code",
   "execution_count": 26,
   "id": "93a521f2",
   "metadata": {},
   "outputs": [
    {
     "data": {
      "image/png": "[encoded data removed]",
      "text/plain": [
       "<Figure size 720x360 with 2 Axes>"
      ]
     },
     "metadata": {
      "needs_background": "light"
     },
     "output_type": "display_data"
    }
   ],
   "source": [
    "from sklearn.metrics import confusion_matrix\n",
    "fig, ax = plt.subplots(figsize=(10,5))\n",
    "ax = sns.heatmap((confusion_matrix(label_test,pred_test)), annot=True, cmap='Blues', fmt='g')\n",
    "\n",
    "\n",
    "\n",
    "ax.set_title('Seaborn Confusion Matrix with labels\\n\\n');\n",
    "ax.set_xlabel('\\nPredicted Values')\n",
    "ax.set_ylabel('Actual Values ');\n",
    "\n",
    "## Ticket labels - List must be in alphabetical order\n",
    "ax.xaxis.set_ticklabels(['False','True'])\n",
    "ax.yaxis.set_ticklabels(['False','True'])\n",
    "\n",
    "\n",
    "## Display the visualization of the Confusion Matrix.\n",
    "plt.show()"
   ]
  },
  {
   "cell_type": "markdown",
   "id": "a0f2c970",
   "metadata": {},
   "source": [
    "## Light GBM"
   ]
  },
  {
   "cell_type": "code",
   "execution_count": 27,
   "id": "f04484bf",
   "metadata": {},
   "outputs": [
    {
     "data": {
      "text/html": [
       "<div>\n",
       "<style scoped>\n",
       "    .dataframe tbody tr th:only-of-type {\n",
       "        vertical-align: middle;\n",
       "    }\n",
       "\n",
       "    .dataframe tbody tr th {\n",
       "        vertical-align: top;\n",
       "    }\n",
       "\n",
       "    .dataframe thead th {\n",
       "        text-align: right;\n",
       "    }\n",
       "</style>\n",
       "<table border=\"1\" class=\"dataframe\">\n",
       "  <thead>\n",
       "    <tr style=\"text-align: right;\">\n",
       "      <th></th>\n",
       "      <th>accuracy_test</th>\n",
       "      <th>accuracy_train</th>\n",
       "      <th>precision_test</th>\n",
       "      <th>precision_train</th>\n",
       "      <th>recall_test</th>\n",
       "      <th>recall_train</th>\n",
       "      <th>f1_test</th>\n",
       "      <th>f1_train</th>\n",
       "      <th>auc_test</th>\n",
       "      <th>auc_train</th>\n",
       "    </tr>\n",
       "  </thead>\n",
       "  <tbody>\n",
       "    <tr>\n",
       "      <th>0</th>\n",
       "      <td>0.899589</td>\n",
       "      <td>0.949653</td>\n",
       "      <td>0.066508</td>\n",
       "      <td>0.904184</td>\n",
       "      <td>0.373333</td>\n",
       "      <td>0.994635</td>\n",
       "      <td>0.112903</td>\n",
       "      <td>0.947255</td>\n",
       "      <td>0.652456</td>\n",
       "      <td>0.986935</td>\n",
       "    </tr>\n",
       "  </tbody>\n",
       "</table>\n",
       "</div>"
      ],
      "text/plain": [
       "   accuracy_test  accuracy_train  precision_test  precision_train  \\\n",
       "0       0.899589        0.949653        0.066508         0.904184   \n",
       "\n",
       "   recall_test  recall_train   f1_test  f1_train  auc_test  auc_train  \n",
       "0     0.373333      0.994635  0.112903  0.947255  0.652456   0.986935  "
      ]
     },
     "execution_count": 27,
     "metadata": {},
     "output_type": "execute_result"
    }
   ],
   "source": [
    "import lightgbm as lgb\n",
    "clf = lgb.LGBMClassifier()\n",
    "\n",
    "clf.fit(features_train,label_train)\n",
    "\n",
    "pred_train = clf.predict(features_train)\n",
    "pred_test = clf.predict(features_test)\n",
    "pred_proba = clf.predict_proba(features_test)[:,1]\n",
    "\n",
    "\n",
    "from sklearn.metrics import accuracy_score\n",
    "accuracy_train_lgb = accuracy_score(pred_train,label_train)\n",
    "accuracy_test_lgb = accuracy_score(pred_test,label_test)\n",
    "\n",
    "from sklearn.metrics import precision_score\n",
    "precision_train_lgb = precision_score(pred_train,label_train)\n",
    "precision_test_lgb = precision_score(pred_test,label_test)\n",
    "\n",
    "from sklearn.metrics import recall_score\n",
    "recall_train_lgb = recall_score(pred_train,label_train)\n",
    "recall_test_lgb = recall_score(pred_test,label_test)\n",
    "\n",
    "from sklearn.metrics import f1_score\n",
    "f1_train_lgb = f1_score(pred_train,label_train)\n",
    "f1_test_lgb = f1_score(pred_test,label_test)\n",
    "\n",
    "from sklearn import metrics\n",
    "fpr, tpr, _ = metrics.roc_curve(np.array(label_train), clf.predict_proba(features_train)[:,1])\n",
    "auc_train_lgb = metrics.auc(fpr,tpr)\n",
    "\n",
    "fpr, tpr, _ = metrics.roc_curve(np.array(label_test), clf.predict_proba(features_test)[:,1])\n",
    "auc_test_lgb = metrics.auc(fpr,tpr)\n",
    "auc_overfitting_lgb = auc_test_lgb-auc_train_lgb\n",
    "\n",
    "pd.DataFrame({'accuracy_test':[accuracy_test_lgb],'accuracy_train':[accuracy_train_lgb],\n",
    "             'precision_test':[precision_test_lgb],'precision_train':[precision_train_lgb],\n",
    "             'recall_test':[recall_test_lgb],'recall_train':[recall_train_lgb],\n",
    "             'f1_test':[f1_test_lgb],'f1_train':[f1_train_lgb],\n",
    "             'auc_test':[auc_test_lgb],'auc_train':[auc_train_lgb]})"
   ]
  },
  {
   "cell_type": "code",
   "execution_count": 28,
   "id": "341aa35f",
   "metadata": {},
   "outputs": [
    {
     "data": {
      "image/png": "[encoded data removed]",
      "text/plain": [
       "<Figure size 720x360 with 2 Axes>"
      ]
     },
     "metadata": {
      "needs_background": "light"
     },
     "output_type": "display_data"
    }
   ],
   "source": [
    "from sklearn.metrics import confusion_matrix\n",
    "fig, ax = plt.subplots(figsize=(10,5))\n",
    "ax = sns.heatmap((confusion_matrix(label_test,pred_test)), annot=True, cmap='Blues', fmt='g')\n",
    "\n",
    "\n",
    "\n",
    "ax.set_title('Seaborn Confusion Matrix with labels\\n\\n');\n",
    "ax.set_xlabel('\\nPredicted Values')\n",
    "ax.set_ylabel('Actual Values ');\n",
    "\n",
    "## Ticket labels - List must be in alphabetical order\n",
    "ax.xaxis.set_ticklabels(['False','True'])\n",
    "ax.yaxis.set_ticklabels(['False','True'])\n",
    "\n",
    "\n",
    "## Display the visualization of the Confusion Matrix.\n",
    "plt.show()"
   ]
  },
  {
   "cell_type": "markdown",
   "id": "f19f00ae",
   "metadata": {},
   "source": [
    "## XGBoost"
   ]
  },
  {
   "cell_type": "code",
   "execution_count": 29,
   "id": "1e0755b5",
   "metadata": {},
   "outputs": [
    {
     "data": {
      "text/html": [
       "<div>\n",
       "<style scoped>\n",
       "    .dataframe tbody tr th:only-of-type {\n",
       "        vertical-align: middle;\n",
       "    }\n",
       "\n",
       "    .dataframe tbody tr th {\n",
       "        vertical-align: top;\n",
       "    }\n",
       "\n",
       "    .dataframe thead th {\n",
       "        text-align: right;\n",
       "    }\n",
       "</style>\n",
       "<table border=\"1\" class=\"dataframe\">\n",
       "  <thead>\n",
       "    <tr style=\"text-align: right;\">\n",
       "      <th></th>\n",
       "      <th>accuracy_test</th>\n",
       "      <th>accuracy_train</th>\n",
       "      <th>precision_test</th>\n",
       "      <th>precision_train</th>\n",
       "      <th>recall_test</th>\n",
       "      <th>recall_train</th>\n",
       "      <th>f1_test</th>\n",
       "      <th>f1_train</th>\n",
       "      <th>auc_test</th>\n",
       "      <th>auc_train</th>\n",
       "    </tr>\n",
       "  </thead>\n",
       "  <tbody>\n",
       "    <tr>\n",
       "      <th>0</th>\n",
       "      <td>0.896166</td>\n",
       "      <td>0.972036</td>\n",
       "      <td>0.095012</td>\n",
       "      <td>0.944938</td>\n",
       "      <td>0.350877</td>\n",
       "      <td>0.999083</td>\n",
       "      <td>0.149533</td>\n",
       "      <td>0.971257</td>\n",
       "      <td>0.655316</td>\n",
       "      <td>0.996888</td>\n",
       "    </tr>\n",
       "  </tbody>\n",
       "</table>\n",
       "</div>"
      ],
      "text/plain": [
       "   accuracy_test  accuracy_train  precision_test  precision_train  \\\n",
       "0       0.896166        0.972036        0.095012         0.944938   \n",
       "\n",
       "   recall_test  recall_train   f1_test  f1_train  auc_test  auc_train  \n",
       "0     0.350877      0.999083  0.149533  0.971257  0.655316   0.996888  "
      ]
     },
     "execution_count": 29,
     "metadata": {},
     "output_type": "execute_result"
    }
   ],
   "source": [
    "import xgboost as xgb\n",
    "clf = xgb.XGBClassifier()\n",
    "\n",
    "clf.fit(features_train,label_train)\n",
    "\n",
    "pred_train = clf.predict(features_train)\n",
    "pred_test = clf.predict(features_test)\n",
    "pred_proba = clf.predict_proba(features_test)[:,1]\n",
    "\n",
    "\n",
    "from sklearn.metrics import accuracy_score\n",
    "accuracy_train_xgb = accuracy_score(pred_train,label_train)\n",
    "accuracy_test_xgb = accuracy_score(pred_test,label_test)\n",
    "\n",
    "from sklearn.metrics import precision_score\n",
    "precision_train_xgb = precision_score(pred_train,label_train)\n",
    "precision_test_xgb = precision_score(pred_test,label_test)\n",
    "\n",
    "from sklearn.metrics import recall_score\n",
    "recall_train_xgb = recall_score(pred_train,label_train)\n",
    "recall_test_xgb = recall_score(pred_test,label_test)\n",
    "\n",
    "from sklearn.metrics import f1_score\n",
    "f1_train_xgb = f1_score(pred_train,label_train)\n",
    "f1_test_xgb = f1_score(pred_test,label_test)\n",
    "\n",
    "from sklearn import metrics\n",
    "fpr, tpr, _ = metrics.roc_curve(np.array(label_train), clf.predict_proba(features_train)[:,1])\n",
    "auc_train_xgb = metrics.auc(fpr,tpr)\n",
    "\n",
    "fpr, tpr, _ = metrics.roc_curve(np.array(label_test), clf.predict_proba(features_test)[:,1])\n",
    "auc_test_xgb = metrics.auc(fpr,tpr)\n",
    "auc_overfitting_xgb = auc_test_xgb-auc_train_xgb\n",
    "\n",
    "pd.DataFrame({'accuracy_test':[accuracy_test_xgb],'accuracy_train':[accuracy_train_xgb],\n",
    "             'precision_test':[precision_test_xgb],'precision_train':[precision_train_xgb],\n",
    "             'recall_test':[recall_test_xgb],'recall_train':[recall_train_xgb],\n",
    "             'f1_test':[f1_test_xgb],'f1_train':[f1_train_xgb],\n",
    "             'auc_test':[auc_test_xgb],'auc_train':[auc_train_xgb]})"
   ]
  },
  {
   "cell_type": "code",
   "execution_count": 30,
   "id": "e00fccf2",
   "metadata": {},
   "outputs": [
    {
     "data": {
      "image/png": "[encoded data removed]",
      "text/plain": [
       "<Figure size 720x360 with 2 Axes>"
      ]
     },
     "metadata": {
      "needs_background": "light"
     },
     "output_type": "display_data"
    }
   ],
   "source": [
    "from sklearn.metrics import confusion_matrix\n",
    "fig, ax = plt.subplots(figsize=(10,5))\n",
    "ax = sns.heatmap((confusion_matrix(label_test,pred_test)), annot=True, cmap='Blues', fmt='g')\n",
    "\n",
    "\n",
    "\n",
    "ax.set_title('Seaborn Confusion Matrix with labels\\n\\n');\n",
    "ax.set_xlabel('\\nPredicted Values')\n",
    "ax.set_ylabel('Actual Values ');\n",
    "\n",
    "## Ticket labels - List must be in alphabetical order\n",
    "ax.xaxis.set_ticklabels(['False','True'])\n",
    "ax.yaxis.set_ticklabels(['False','True'])\n",
    "\n",
    "\n",
    "## Display the visualization of the Confusion Matrix.\n",
    "plt.show()"
   ]
  },
  {
   "cell_type": "markdown",
   "id": "1983d55d",
   "metadata": {},
   "source": [
    "## Neural Network"
   ]
  },
  {
   "cell_type": "code",
   "execution_count": 31,
   "id": "90f48e2e",
   "metadata": {},
   "outputs": [
    {
     "data": {
      "text/html": [
       "<div>\n",
       "<style scoped>\n",
       "    .dataframe tbody tr th:only-of-type {\n",
       "        vertical-align: middle;\n",
       "    }\n",
       "\n",
       "    .dataframe tbody tr th {\n",
       "        vertical-align: top;\n",
       "    }\n",
       "\n",
       "    .dataframe thead th {\n",
       "        text-align: right;\n",
       "    }\n",
       "</style>\n",
       "<table border=\"1\" class=\"dataframe\">\n",
       "  <thead>\n",
       "    <tr style=\"text-align: right;\">\n",
       "      <th></th>\n",
       "      <th>accuracy_test</th>\n",
       "      <th>accuracy_train</th>\n",
       "      <th>precision_test</th>\n",
       "      <th>precision_train</th>\n",
       "      <th>recall_test</th>\n",
       "      <th>recall_train</th>\n",
       "      <th>f1_test</th>\n",
       "      <th>f1_train</th>\n",
       "      <th>auc_test</th>\n",
       "      <th>auc_train</th>\n",
       "    </tr>\n",
       "  </thead>\n",
       "  <tbody>\n",
       "    <tr>\n",
       "      <th>0</th>\n",
       "      <td>0.33455</td>\n",
       "      <td>0.581563</td>\n",
       "      <td>0.755344</td>\n",
       "      <td>0.862346</td>\n",
       "      <td>0.101565</td>\n",
       "      <td>0.552232</td>\n",
       "      <td>0.179054</td>\n",
       "      <td>0.673296</td>\n",
       "      <td>0.497196</td>\n",
       "      <td>0.587804</td>\n",
       "    </tr>\n",
       "  </tbody>\n",
       "</table>\n",
       "</div>"
      ],
      "text/plain": [
       "   accuracy_test  accuracy_train  precision_test  precision_train  \\\n",
       "0        0.33455        0.581563        0.755344         0.862346   \n",
       "\n",
       "   recall_test  recall_train   f1_test  f1_train  auc_test  auc_train  \n",
       "0     0.101565      0.552232  0.179054  0.673296  0.497196   0.587804  "
      ]
     },
     "execution_count": 31,
     "metadata": {},
     "output_type": "execute_result"
    }
   ],
   "source": [
    "from sklearn.neural_network import MLPClassifier\n",
    "clf = MLPClassifier()\n",
    "\n",
    "clf.fit(features_train,label_train)\n",
    "\n",
    "pred_train = clf.predict(features_train)\n",
    "pred_test = clf.predict(features_test)\n",
    "pred_proba = clf.predict_proba(features_test)[:,1]\n",
    "\n",
    "\n",
    "from sklearn.metrics import accuracy_score\n",
    "accuracy_train_nn = accuracy_score(pred_train,label_train)\n",
    "accuracy_test_nn = accuracy_score(pred_test,label_test)\n",
    "\n",
    "from sklearn.metrics import precision_score\n",
    "precision_train_nn = precision_score(pred_train,label_train)\n",
    "precision_test_nn = precision_score(pred_test,label_test)\n",
    "\n",
    "from sklearn.metrics import recall_score\n",
    "recall_train_nn = recall_score(pred_train,label_train)\n",
    "recall_test_nn = recall_score(pred_test,label_test)\n",
    "\n",
    "from sklearn.metrics import f1_score\n",
    "f1_train_nn = f1_score(pred_train,label_train)\n",
    "f1_test_nn = f1_score(pred_test,label_test)\n",
    "\n",
    "from sklearn import metrics\n",
    "fpr, tpr, _ = metrics.roc_curve(np.array(label_train), clf.predict_proba(features_train)[:,1])\n",
    "auc_train_nn = metrics.auc(fpr,tpr)\n",
    "\n",
    "fpr, tpr, _ = metrics.roc_curve(np.array(label_test), clf.predict_proba(features_test)[:,1])\n",
    "auc_test_nn = metrics.auc(fpr,tpr)\n",
    "auc_overfitting_nn = auc_test_nn-auc_train_nn\n",
    "\n",
    "\n",
    "pd.DataFrame({'accuracy_test':[accuracy_test_nn],'accuracy_train':[accuracy_train_nn],\n",
    "             'precision_test':[precision_test_nn],'precision_train':[precision_train_nn],\n",
    "             'recall_test':[recall_test_nn],'recall_train':[recall_train_nn],\n",
    "             'f1_test':[f1_test_nn],'f1_train':[f1_train_nn],\n",
    "             'auc_test':[auc_test_nn],'auc_train':[auc_train_nn]})"
   ]
  },
  {
   "cell_type": "code",
   "execution_count": 32,
   "id": "aa916f51",
   "metadata": {},
   "outputs": [
    {
     "data": {
      "image/png": "[encoded data removed]",
      "text/plain": [
       "<Figure size 720x360 with 2 Axes>"
      ]
     },
     "metadata": {
      "needs_background": "light"
     },
     "output_type": "display_data"
    }
   ],
   "source": [
    "from sklearn.metrics import confusion_matrix\n",
    "fig, ax = plt.subplots(figsize=(10,5))\n",
    "ax = sns.heatmap((confusion_matrix(label_test,pred_test)), annot=True, cmap='Blues', fmt='g')\n",
    "\n",
    "\n",
    "\n",
    "ax.set_title('Seaborn Confusion Matrix with labels\\n\\n');\n",
    "ax.set_xlabel('\\nPredicted Values')\n",
    "ax.set_ylabel('Actual Values ');\n",
    "\n",
    "## Ticket labels - List must be in alphabetical order\n",
    "ax.xaxis.set_ticklabels(['False','True'])\n",
    "ax.yaxis.set_ticklabels(['False','True'])\n",
    "\n",
    "\n",
    "## Display the visualization of the Confusion Matrix.\n",
    "plt.show()"
   ]
  },
  {
   "cell_type": "markdown",
   "id": "26169699",
   "metadata": {},
   "source": [
    "## Summary Model Performance"
   ]
  },
  {
   "cell_type": "code",
   "execution_count": 33,
   "id": "7544c99d",
   "metadata": {
    "scrolled": true
   },
   "outputs": [
    {
     "data": {
      "text/html": [
       "<div>\n",
       "<style scoped>\n",
       "    .dataframe tbody tr th:only-of-type {\n",
       "        vertical-align: middle;\n",
       "    }\n",
       "\n",
       "    .dataframe tbody tr th {\n",
       "        vertical-align: top;\n",
       "    }\n",
       "\n",
       "    .dataframe thead th {\n",
       "        text-align: right;\n",
       "    }\n",
       "</style>\n",
       "<table border=\"1\" class=\"dataframe\">\n",
       "  <thead>\n",
       "    <tr style=\"text-align: right;\">\n",
       "      <th></th>\n",
       "      <th>Model</th>\n",
       "      <th>AUC Test</th>\n",
       "      <th>AUC Train</th>\n",
       "      <th>Recall Test</th>\n",
       "      <th>Recall Train</th>\n",
       "    </tr>\n",
       "  </thead>\n",
       "  <tbody>\n",
       "    <tr>\n",
       "      <th>4</th>\n",
       "      <td>Light GBM</td>\n",
       "      <td>65.245616</td>\n",
       "      <td>98.693534</td>\n",
       "      <td>37.333333</td>\n",
       "      <td>99.463455</td>\n",
       "    </tr>\n",
       "    <tr>\n",
       "      <th>2</th>\n",
       "      <td>Random Forest</td>\n",
       "      <td>66.295940</td>\n",
       "      <td>100.000000</td>\n",
       "      <td>37.037037</td>\n",
       "      <td>100.000000</td>\n",
       "    </tr>\n",
       "    <tr>\n",
       "      <th>3</th>\n",
       "      <td>XGBoost</td>\n",
       "      <td>65.531569</td>\n",
       "      <td>99.688800</td>\n",
       "      <td>35.087719</td>\n",
       "      <td>99.908320</td>\n",
       "    </tr>\n",
       "    <tr>\n",
       "      <th>8</th>\n",
       "      <td>Gradient Boosting</td>\n",
       "      <td>63.303672</td>\n",
       "      <td>95.249013</td>\n",
       "      <td>21.428571</td>\n",
       "      <td>97.768945</td>\n",
       "    </tr>\n",
       "    <tr>\n",
       "      <th>1</th>\n",
       "      <td>Decision Tree</td>\n",
       "      <td>56.406076</td>\n",
       "      <td>100.000000</td>\n",
       "      <td>18.086957</td>\n",
       "      <td>100.000000</td>\n",
       "    </tr>\n",
       "    <tr>\n",
       "      <th>0</th>\n",
       "      <td>Linear Regression</td>\n",
       "      <td>62.101031</td>\n",
       "      <td>66.448212</td>\n",
       "      <td>14.873646</td>\n",
       "      <td>64.549345</td>\n",
       "    </tr>\n",
       "    <tr>\n",
       "      <th>6</th>\n",
       "      <td>Linear SVC</td>\n",
       "      <td>60.077501</td>\n",
       "      <td>64.957635</td>\n",
       "      <td>13.434453</td>\n",
       "      <td>60.099133</td>\n",
       "    </tr>\n",
       "    <tr>\n",
       "      <th>5</th>\n",
       "      <td>Neural Network</td>\n",
       "      <td>49.719564</td>\n",
       "      <td>58.780379</td>\n",
       "      <td>10.156500</td>\n",
       "      <td>55.223155</td>\n",
       "    </tr>\n",
       "    <tr>\n",
       "      <th>7</th>\n",
       "      <td>Naive Baiyes</td>\n",
       "      <td>62.079023</td>\n",
       "      <td>65.790570</td>\n",
       "      <td>10.120420</td>\n",
       "      <td>51.514072</td>\n",
       "    </tr>\n",
       "  </tbody>\n",
       "</table>\n",
       "</div>"
      ],
      "text/plain": [
       "               Model   AUC Test   AUC Train  Recall Test  Recall Train\n",
       "4          Light GBM  65.245616   98.693534    37.333333     99.463455\n",
       "2      Random Forest  66.295940  100.000000    37.037037    100.000000\n",
       "3            XGBoost  65.531569   99.688800    35.087719     99.908320\n",
       "8  Gradient Boosting  63.303672   95.249013    21.428571     97.768945\n",
       "1      Decision Tree  56.406076  100.000000    18.086957    100.000000\n",
       "0  Linear Regression  62.101031   66.448212    14.873646     64.549345\n",
       "6         Linear SVC  60.077501   64.957635    13.434453     60.099133\n",
       "5     Neural Network  49.719564   58.780379    10.156500     55.223155\n",
       "7       Naive Baiyes  62.079023   65.790570    10.120420     51.514072"
      ]
     },
     "execution_count": 33,
     "metadata": {},
     "output_type": "execute_result"
    }
   ],
   "source": [
    "kesimpulan = pd.DataFrame({'Model':['Linear Regression','Decision Tree','Random Forest','XGBoost','Light GBM','Neural Network','Linear SVC','Naive Baiyes','Gradient Boosting'],\n",
    "                          'AUC Test':list(np.array([auc_test_lr,auc_test_dct,auc_test_rf,auc_test_xgb,auc_test_lgb,auc_test_nn,auc_test_svc,auc_test_nb,auc_test_gb])*100),\n",
    "                           'AUC Train':list(np.array([auc_train_lr,auc_train_dct,auc_train_rf,auc_train_xgb,auc_train_lgb,auc_train_nn,auc_train_svc,auc_train_nb,auc_train_gb])*100),\n",
    "                           'Recall Test':list(np.array([recall_test_lr,recall_test_dct,recall_test_rf,recall_test_xgb,recall_test_lgb,recall_test_nn,recall_test_svc,recall_test_nb,recall_test_gb])*100),\n",
    "                          'Recall Train':list(np.array([recall_train_lr,recall_train_dct,recall_train_rf,recall_train_xgb,recall_train_lgb,recall_train_nn,recall_train_svc,recall_train_nb,recall_train_gb])*100)})\n",
    "kesimpulan.sort_values('Recall Test',ascending=False)"
   ]
  },
  {
   "cell_type": "code",
   "execution_count": 34,
   "id": "2615e468",
   "metadata": {
    "scrolled": true
   },
   "outputs": [
    {
     "data": {
      "text/html": [
       "<div>\n",
       "<style scoped>\n",
       "    .dataframe tbody tr th:only-of-type {\n",
       "        vertical-align: middle;\n",
       "    }\n",
       "\n",
       "    .dataframe tbody tr th {\n",
       "        vertical-align: top;\n",
       "    }\n",
       "\n",
       "    .dataframe thead th {\n",
       "        text-align: right;\n",
       "    }\n",
       "</style>\n",
       "<table border=\"1\" class=\"dataframe\">\n",
       "  <thead>\n",
       "    <tr style=\"text-align: right;\">\n",
       "      <th></th>\n",
       "      <th>Model</th>\n",
       "      <th>AUC Test</th>\n",
       "      <th>AUC Train</th>\n",
       "      <th>Precision Test</th>\n",
       "      <th>Precision Train</th>\n",
       "    </tr>\n",
       "  </thead>\n",
       "  <tbody>\n",
       "    <tr>\n",
       "      <th>7</th>\n",
       "      <td>Naive Baiyes</td>\n",
       "      <td>62.079023</td>\n",
       "      <td>65.790570</td>\n",
       "      <td>93.824228</td>\n",
       "      <td>94.038587</td>\n",
       "    </tr>\n",
       "    <tr>\n",
       "      <th>5</th>\n",
       "      <td>Neural Network</td>\n",
       "      <td>49.719564</td>\n",
       "      <td>58.780379</td>\n",
       "      <td>75.534442</td>\n",
       "      <td>86.234555</td>\n",
       "    </tr>\n",
       "    <tr>\n",
       "      <th>0</th>\n",
       "      <td>Linear Regression</td>\n",
       "      <td>62.101031</td>\n",
       "      <td>66.448212</td>\n",
       "      <td>48.931116</td>\n",
       "      <td>52.319532</td>\n",
       "    </tr>\n",
       "    <tr>\n",
       "      <th>6</th>\n",
       "      <td>Linear SVC</td>\n",
       "      <td>60.077501</td>\n",
       "      <td>64.957635</td>\n",
       "      <td>29.453682</td>\n",
       "      <td>31.541296</td>\n",
       "    </tr>\n",
       "    <tr>\n",
       "      <th>1</th>\n",
       "      <td>Decision Tree</td>\n",
       "      <td>56.406076</td>\n",
       "      <td>100.000000</td>\n",
       "      <td>24.703088</td>\n",
       "      <td>100.000000</td>\n",
       "    </tr>\n",
       "    <tr>\n",
       "      <th>2</th>\n",
       "      <td>Random Forest</td>\n",
       "      <td>66.295940</td>\n",
       "      <td>100.000000</td>\n",
       "      <td>11.876485</td>\n",
       "      <td>100.000000</td>\n",
       "    </tr>\n",
       "    <tr>\n",
       "      <th>3</th>\n",
       "      <td>XGBoost</td>\n",
       "      <td>65.531569</td>\n",
       "      <td>99.688800</td>\n",
       "      <td>9.501188</td>\n",
       "      <td>94.493822</td>\n",
       "    </tr>\n",
       "    <tr>\n",
       "      <th>4</th>\n",
       "      <td>Light GBM</td>\n",
       "      <td>65.245616</td>\n",
       "      <td>98.693534</td>\n",
       "      <td>6.650831</td>\n",
       "      <td>90.418383</td>\n",
       "    </tr>\n",
       "    <tr>\n",
       "      <th>8</th>\n",
       "      <td>Gradient Boosting</td>\n",
       "      <td>63.303672</td>\n",
       "      <td>95.249013</td>\n",
       "      <td>4.988124</td>\n",
       "      <td>82.646868</td>\n",
       "    </tr>\n",
       "  </tbody>\n",
       "</table>\n",
       "</div>"
      ],
      "text/plain": [
       "               Model   AUC Test   AUC Train  Precision Test  Precision Train\n",
       "7       Naive Baiyes  62.079023   65.790570       93.824228        94.038587\n",
       "5     Neural Network  49.719564   58.780379       75.534442        86.234555\n",
       "0  Linear Regression  62.101031   66.448212       48.931116        52.319532\n",
       "6         Linear SVC  60.077501   64.957635       29.453682        31.541296\n",
       "1      Decision Tree  56.406076  100.000000       24.703088       100.000000\n",
       "2      Random Forest  66.295940  100.000000       11.876485       100.000000\n",
       "3            XGBoost  65.531569   99.688800        9.501188        94.493822\n",
       "4          Light GBM  65.245616   98.693534        6.650831        90.418383\n",
       "8  Gradient Boosting  63.303672   95.249013        4.988124        82.646868"
      ]
     },
     "execution_count": 34,
     "metadata": {},
     "output_type": "execute_result"
    }
   ],
   "source": [
    "kesimpulan = pd.DataFrame({'Model':['Linear Regression','Decision Tree','Random Forest','XGBoost','Light GBM','Neural Network','Linear SVC','Naive Baiyes','Gradient Boosting'],\n",
    "                          'AUC Test':list(np.array([auc_test_lr,auc_test_dct,auc_test_rf,auc_test_xgb,auc_test_lgb,auc_test_nn,auc_test_svc,auc_test_nb,auc_test_gb])*100),\n",
    "                           'AUC Train':list(np.array([auc_train_lr,auc_train_dct,auc_train_rf,auc_train_xgb,auc_train_lgb,auc_train_nn,auc_train_svc,auc_train_nb,auc_train_gb])*100),\n",
    "                           'Precision Test':list(np.array([precision_test_lr,precision_test_dct,precision_test_rf,precision_test_xgb,precision_test_lgb,precision_test_nn,precision_test_svc,precision_test_nb,precision_test_gb])*100),\n",
    "                          'Precision Train':list(np.array([precision_train_lr,precision_train_dct,precision_train_rf,precision_train_xgb,precision_train_lgb,precision_train_nn,precision_train_svc,precision_train_nb,precision_train_gb])*100)})\n",
    "kesimpulan.sort_values('Precision Test',ascending=False)"
   ]
  },
  {
   "cell_type": "code",
   "execution_count": 35,
   "id": "b12a7efe",
   "metadata": {},
   "outputs": [
    {
     "data": {
      "text/html": [
       "<div>\n",
       "<style scoped>\n",
       "    .dataframe tbody tr th:only-of-type {\n",
       "        vertical-align: middle;\n",
       "    }\n",
       "\n",
       "    .dataframe tbody tr th {\n",
       "        vertical-align: top;\n",
       "    }\n",
       "\n",
       "    .dataframe thead th {\n",
       "        text-align: right;\n",
       "    }\n",
       "</style>\n",
       "<table border=\"1\" class=\"dataframe\">\n",
       "  <thead>\n",
       "    <tr style=\"text-align: right;\">\n",
       "      <th></th>\n",
       "      <th>Model</th>\n",
       "      <th>AUC Test</th>\n",
       "      <th>AUC Train</th>\n",
       "      <th>Accuracy Test</th>\n",
       "      <th>Accuracy Train</th>\n",
       "    </tr>\n",
       "  </thead>\n",
       "  <tbody>\n",
       "    <tr>\n",
       "      <th>4</th>\n",
       "      <td>Light GBM</td>\n",
       "      <td>65.245616</td>\n",
       "      <td>98.693534</td>\n",
       "      <td>89.958923</td>\n",
       "      <td>94.965315</td>\n",
       "    </tr>\n",
       "    <tr>\n",
       "      <th>3</th>\n",
       "      <td>XGBoost</td>\n",
       "      <td>65.531569</td>\n",
       "      <td>99.688800</td>\n",
       "      <td>89.616613</td>\n",
       "      <td>97.203555</td>\n",
       "    </tr>\n",
       "    <tr>\n",
       "      <th>2</th>\n",
       "      <td>Random Forest</td>\n",
       "      <td>66.295940</td>\n",
       "      <td>100.000000</td>\n",
       "      <td>89.593793</td>\n",
       "      <td>100.000000</td>\n",
       "    </tr>\n",
       "    <tr>\n",
       "      <th>8</th>\n",
       "      <td>Gradient Boosting</td>\n",
       "      <td>63.303672</td>\n",
       "      <td>95.249013</td>\n",
       "      <td>89.114560</td>\n",
       "      <td>90.380447</td>\n",
       "    </tr>\n",
       "    <tr>\n",
       "      <th>1</th>\n",
       "      <td>Decision Tree</td>\n",
       "      <td>56.406076</td>\n",
       "      <td>100.000000</td>\n",
       "      <td>82.017344</td>\n",
       "      <td>100.000000</td>\n",
       "    </tr>\n",
       "    <tr>\n",
       "      <th>6</th>\n",
       "      <td>Linear SVC</td>\n",
       "      <td>60.077501</td>\n",
       "      <td>64.957635</td>\n",
       "      <td>74.988590</td>\n",
       "      <td>55.300238</td>\n",
       "    </tr>\n",
       "    <tr>\n",
       "      <th>0</th>\n",
       "      <td>Linear Regression</td>\n",
       "      <td>62.101031</td>\n",
       "      <td>66.448212</td>\n",
       "      <td>68.188042</td>\n",
       "      <td>61.792760</td>\n",
       "    </tr>\n",
       "    <tr>\n",
       "      <th>5</th>\n",
       "      <td>Neural Network</td>\n",
       "      <td>49.719564</td>\n",
       "      <td>58.780379</td>\n",
       "      <td>33.455043</td>\n",
       "      <td>58.156297</td>\n",
       "    </tr>\n",
       "    <tr>\n",
       "      <th>7</th>\n",
       "      <td>Naive Baiyes</td>\n",
       "      <td>62.079023</td>\n",
       "      <td>65.790570</td>\n",
       "      <td>19.351894</td>\n",
       "      <td>52.763928</td>\n",
       "    </tr>\n",
       "  </tbody>\n",
       "</table>\n",
       "</div>"
      ],
      "text/plain": [
       "               Model   AUC Test   AUC Train  Accuracy Test  Accuracy Train\n",
       "4          Light GBM  65.245616   98.693534      89.958923       94.965315\n",
       "3            XGBoost  65.531569   99.688800      89.616613       97.203555\n",
       "2      Random Forest  66.295940  100.000000      89.593793      100.000000\n",
       "8  Gradient Boosting  63.303672   95.249013      89.114560       90.380447\n",
       "1      Decision Tree  56.406076  100.000000      82.017344      100.000000\n",
       "6         Linear SVC  60.077501   64.957635      74.988590       55.300238\n",
       "0  Linear Regression  62.101031   66.448212      68.188042       61.792760\n",
       "5     Neural Network  49.719564   58.780379      33.455043       58.156297\n",
       "7       Naive Baiyes  62.079023   65.790570      19.351894       52.763928"
      ]
     },
     "execution_count": 35,
     "metadata": {},
     "output_type": "execute_result"
    }
   ],
   "source": [
    "kesimpulan = pd.DataFrame({'Model':['Linear Regression','Decision Tree','Random Forest','XGBoost','Light GBM','Neural Network','Linear SVC','Naive Baiyes','Gradient Boosting'],\n",
    "                          'AUC Test':list(np.array([auc_test_lr,auc_test_dct,auc_test_rf,auc_test_xgb,auc_test_lgb,auc_test_nn,auc_test_svc,auc_test_nb,auc_test_gb])*100),\n",
    "                           'AUC Train':list(np.array([auc_train_lr,auc_train_dct,auc_train_rf,auc_train_xgb,auc_train_lgb,auc_train_nn,auc_train_svc,auc_train_nb,auc_train_gb])*100),\n",
    "                           'Accuracy Test':list(np.array([accuracy_test_lr,accuracy_test_dct,accuracy_test_rf,accuracy_test_xgb,accuracy_test_lgb,accuracy_test_nn,accuracy_test_svc,accuracy_test_nb,accuracy_test_gb])*100),\n",
    "                          'Accuracy Train':list(np.array([accuracy_train_lr,accuracy_train_dct,accuracy_train_rf,accuracy_train_xgb,accuracy_train_lgb,accuracy_train_nn,accuracy_train_svc,accuracy_train_nb,accuracy_train_gb])*100)})\n",
    "kesimpulan.sort_values('Accuracy Test',ascending=False)"
   ]
  },
  {
   "cell_type": "markdown",
   "id": "fb09b0c3",
   "metadata": {},
   "source": [
    "**Data Insight**\n",
    "\n",
    "XGBoost will be choosen because high recall and AUC. That's model can approach more churn customer than other model efficiently."
   ]
  },
  {
   "cell_type": "markdown",
   "id": "109fea3c",
   "metadata": {},
   "source": [
    "# Hyperparameter Tuning"
   ]
  },
  {
   "cell_type": "markdown",
   "id": "7659f20d",
   "metadata": {},
   "source": [
    "Hyperparameter can focused to optimize the parameter and make the model more robust than base model.\n",
    "\n",
    "Hyperparameter can focused to increase the recall to decrease the false-negatif"
   ]
  },
  {
   "cell_type": "markdown",
   "id": "e23d250d",
   "metadata": {},
   "source": [
    "## Base Model"
   ]
  },
  {
   "cell_type": "code",
   "execution_count": 36,
   "id": "868c6903",
   "metadata": {},
   "outputs": [
    {
     "data": {
      "text/html": [
       "<div>\n",
       "<style scoped>\n",
       "    .dataframe tbody tr th:only-of-type {\n",
       "        vertical-align: middle;\n",
       "    }\n",
       "\n",
       "    .dataframe tbody tr th {\n",
       "        vertical-align: top;\n",
       "    }\n",
       "\n",
       "    .dataframe thead th {\n",
       "        text-align: right;\n",
       "    }\n",
       "</style>\n",
       "<table border=\"1\" class=\"dataframe\">\n",
       "  <thead>\n",
       "    <tr style=\"text-align: right;\">\n",
       "      <th></th>\n",
       "      <th>accuracy_test</th>\n",
       "      <th>accuracy_train</th>\n",
       "      <th>precision_test</th>\n",
       "      <th>precision_train</th>\n",
       "      <th>recall_test</th>\n",
       "      <th>recall_train</th>\n",
       "      <th>f1_test</th>\n",
       "      <th>f1_train</th>\n",
       "      <th>auc_test</th>\n",
       "      <th>auc_train</th>\n",
       "    </tr>\n",
       "  </thead>\n",
       "  <tbody>\n",
       "    <tr>\n",
       "      <th>0</th>\n",
       "      <td>0.896166</td>\n",
       "      <td>0.972036</td>\n",
       "      <td>0.095012</td>\n",
       "      <td>0.944938</td>\n",
       "      <td>0.350877</td>\n",
       "      <td>0.999083</td>\n",
       "      <td>0.149533</td>\n",
       "      <td>0.971257</td>\n",
       "      <td>0.655316</td>\n",
       "      <td>0.996888</td>\n",
       "    </tr>\n",
       "  </tbody>\n",
       "</table>\n",
       "</div>"
      ],
      "text/plain": [
       "   accuracy_test  accuracy_train  precision_test  precision_train  \\\n",
       "0       0.896166        0.972036        0.095012         0.944938   \n",
       "\n",
       "   recall_test  recall_train   f1_test  f1_train  auc_test  auc_train  \n",
       "0     0.350877      0.999083  0.149533  0.971257  0.655316   0.996888  "
      ]
     },
     "execution_count": 36,
     "metadata": {},
     "output_type": "execute_result"
    }
   ],
   "source": [
    "import xgboost as xgb\n",
    "clf = xgb.XGBClassifier()\n",
    "\n",
    "clf.fit(features_train,label_train)\n",
    "\n",
    "pred_train = clf.predict(features_train)\n",
    "pred_test = clf.predict(features_test)\n",
    "pred_proba = clf.predict_proba(features_test)[:,1]\n",
    "\n",
    "\n",
    "from sklearn.metrics import accuracy_score\n",
    "accuracy_train_xgb = accuracy_score(pred_train,label_train)\n",
    "accuracy_test_xgb = accuracy_score(pred_test,label_test)\n",
    "\n",
    "from sklearn.metrics import precision_score\n",
    "precision_train_xgb = precision_score(pred_train,label_train)\n",
    "precision_test_xgb = precision_score(pred_test,label_test)\n",
    "\n",
    "from sklearn.metrics import recall_score\n",
    "recall_train_xgb = recall_score(pred_train,label_train)\n",
    "recall_test_xgb = recall_score(pred_test,label_test)\n",
    "\n",
    "from sklearn.metrics import f1_score\n",
    "f1_train_xgb = f1_score(pred_train,label_train)\n",
    "f1_test_xgb = f1_score(pred_test,label_test)\n",
    "\n",
    "from sklearn import metrics\n",
    "fpr, tpr, _ = metrics.roc_curve(np.array(label_train), clf.predict_proba(features_train)[:,1])\n",
    "auc_train_xgb = metrics.auc(fpr,tpr)\n",
    "\n",
    "fpr, tpr, _ = metrics.roc_curve(np.array(label_test), clf.predict_proba(features_test)[:,1])\n",
    "auc_test_xgb = metrics.auc(fpr,tpr)\n",
    "auc_overfitting_xgb = auc_test_xgb-auc_train_xgb\n",
    "\n",
    "pd.DataFrame({'accuracy_test':[accuracy_test_xgb],'accuracy_train':[accuracy_train_xgb],\n",
    "             'precision_test':[precision_test_xgb],'precision_train':[precision_train_xgb],\n",
    "             'recall_test':[recall_test_xgb],'recall_train':[recall_train_xgb],\n",
    "             'f1_test':[f1_test_xgb],'f1_train':[f1_train_xgb],\n",
    "             'auc_test':[auc_test_xgb],'auc_train':[auc_train_xgb]})"
   ]
  },
  {
   "cell_type": "code",
   "execution_count": 37,
   "id": "8f46b3d1",
   "metadata": {},
   "outputs": [
    {
     "data": {
      "image/png": "[encoded data removed]",
      "text/plain": [
       "<Figure size 720x360 with 2 Axes>"
      ]
     },
     "metadata": {
      "needs_background": "light"
     },
     "output_type": "display_data"
    }
   ],
   "source": [
    "from sklearn.metrics import confusion_matrix\n",
    "fig, ax = plt.subplots(figsize=(10,5))\n",
    "ax = sns.heatmap((confusion_matrix(label_test,pred_test)), annot=True, cmap='Blues', fmt='g')\n",
    "\n",
    "\n",
    "\n",
    "ax.set_title('Seaborn Confusion Matrix with labels\\n\\n');\n",
    "ax.set_xlabel('\\nPredicted Values')\n",
    "ax.set_ylabel('Actual Values ');\n",
    "\n",
    "## Ticket labels - List must be in alphabetical order\n",
    "ax.xaxis.set_ticklabels(['False','True'])\n",
    "ax.yaxis.set_ticklabels(['False','True'])\n",
    "\n",
    "\n",
    "## Display the visualization of the Confusion Matrix.\n",
    "plt.show()"
   ]
  },
  {
   "cell_type": "code",
   "execution_count": 38,
   "id": "fde0bd45",
   "metadata": {},
   "outputs": [],
   "source": [
    "from sklearn.model_selection import StratifiedKFold, cross_val_score, GridSearchCV, RandomizedSearchCV\n",
    "param_grid = { \n",
    "    # Percentage of columns to be randomly samples for each tree.\n",
    "    \"colsample_bytree\": [ 0.3, 0.5 , 0.8 ],\n",
    "    # reg_alpha provides l1 regularization to the weight, higher values result in more conservative models\n",
    "    \"reg_alpha\": [0, 0.5, 1, 5],\n",
    "    # reg_lambda provides l2 regularization to the weight, higher values result in more conservative models\n",
    "    \"reg_lambda\": [0, 0.5, 1, 5]\n",
    "    }\n",
    "# Set up score\n",
    "scoring = ['recall']\n",
    "# Set up the k-fold cross-validation\n",
    "kfold = StratifiedKFold(n_splits=3, shuffle=True, random_state=0)"
   ]
  },
  {
   "cell_type": "code",
   "execution_count": 39,
   "id": "676feab7",
   "metadata": {},
   "outputs": [
    {
     "name": "stdout",
     "output_type": "stream",
     "text": [
      "The best score is 0.9005\n",
      "The best score standard deviation is 0.0037\n",
      "The best hyperparameters are {'colsample_bytree': 0.8, 'reg_alpha': 1, 'reg_lambda': 0}\n"
     ]
    }
   ],
   "source": [
    "import xgboost as xgb\n",
    "# Define grid search\n",
    "grid_search = GridSearchCV(estimator=clf, \n",
    "                           param_grid=param_grid, \n",
    "                           scoring=scoring, \n",
    "                           refit='recall', \n",
    "                           n_jobs=-1, \n",
    "                           cv=kfold, \n",
    "                           verbose=0)\n",
    "# Fit grid search\n",
    "grid_result = grid_search.fit(features_train,label_train)\n",
    "# Print grid search summary\n",
    "grid_result\n",
    "# Print the best score and the corresponding hyperparameters\n",
    "print(f'The best score is {grid_result.best_score_:.4f}')\n",
    "print('The best score standard deviation is', round(grid_result.cv_results_['std_test_recall'][grid_result.best_index_], 4))\n",
    "print(f'The best hyperparameters are {grid_result.best_params_}')"
   ]
  },
  {
   "cell_type": "markdown",
   "id": "e88aa798",
   "metadata": {},
   "source": [
    "# Impact for Business Metrics"
   ]
  },
  {
   "cell_type": "code",
   "execution_count": 40,
   "id": "16a1086d",
   "metadata": {},
   "outputs": [
    {
     "data": {
      "text/html": [
       "<div>\n",
       "<style scoped>\n",
       "    .dataframe tbody tr th:only-of-type {\n",
       "        vertical-align: middle;\n",
       "    }\n",
       "\n",
       "    .dataframe tbody tr th {\n",
       "        vertical-align: top;\n",
       "    }\n",
       "\n",
       "    .dataframe thead th {\n",
       "        text-align: right;\n",
       "    }\n",
       "</style>\n",
       "<table border=\"1\" class=\"dataframe\">\n",
       "  <thead>\n",
       "    <tr style=\"text-align: right;\">\n",
       "      <th></th>\n",
       "      <th>accuracy_test</th>\n",
       "      <th>accuracy_train</th>\n",
       "      <th>precision_test</th>\n",
       "      <th>precision_train</th>\n",
       "      <th>recall_test</th>\n",
       "      <th>recall_train</th>\n",
       "      <th>f1_test</th>\n",
       "      <th>f1_train</th>\n",
       "      <th>auc_test</th>\n",
       "      <th>auc_train</th>\n",
       "    </tr>\n",
       "  </thead>\n",
       "  <tbody>\n",
       "    <tr>\n",
       "      <th>0</th>\n",
       "      <td>0.897535</td>\n",
       "      <td>0.972415</td>\n",
       "      <td>0.097387</td>\n",
       "      <td>0.946131</td>\n",
       "      <td>0.372727</td>\n",
       "      <td>0.998627</td>\n",
       "      <td>0.154426</td>\n",
       "      <td>0.97167</td>\n",
       "      <td>0.655758</td>\n",
       "      <td>0.996686</td>\n",
       "    </tr>\n",
       "  </tbody>\n",
       "</table>\n",
       "</div>"
      ],
      "text/plain": [
       "   accuracy_test  accuracy_train  precision_test  precision_train  \\\n",
       "0       0.897535        0.972415        0.097387         0.946131   \n",
       "\n",
       "   recall_test  recall_train   f1_test  f1_train  auc_test  auc_train  \n",
       "0     0.372727      0.998627  0.154426   0.97167  0.655758   0.996686  "
      ]
     },
     "execution_count": 40,
     "metadata": {},
     "output_type": "execute_result"
    }
   ],
   "source": [
    "import xgboost as xgb\n",
    "clf = xgb.XGBClassifier(colsample_bytree= 0.8, reg_alpha= 0.5,reg_lambda= 0.5)\n",
    "\n",
    "clf.fit(features_train,label_train)\n",
    "\n",
    "pred_train = clf.predict(features_train)\n",
    "pred_test = clf.predict(features_test)\n",
    "pred_proba = clf.predict_proba(features_test)[:,1]\n",
    "\n",
    "\n",
    "from sklearn.metrics import accuracy_score\n",
    "accuracy_train_xgb = accuracy_score(pred_train,label_train)\n",
    "accuracy_test_xgb = accuracy_score(pred_test,label_test)\n",
    "\n",
    "from sklearn.metrics import precision_score\n",
    "precision_train_xgb = precision_score(pred_train,label_train)\n",
    "precision_test_xgb = precision_score(pred_test,label_test)\n",
    "\n",
    "from sklearn.metrics import recall_score\n",
    "recall_train_xgb = recall_score(pred_train,label_train)\n",
    "recall_test_xgb = recall_score(pred_test,label_test)\n",
    "\n",
    "from sklearn.metrics import f1_score\n",
    "f1_train_xgb = f1_score(pred_train,label_train)\n",
    "f1_test_xgb = f1_score(pred_test,label_test)\n",
    "\n",
    "from sklearn import metrics\n",
    "fpr, tpr, _ = metrics.roc_curve(np.array(label_train), clf.predict_proba(features_train)[:,1])\n",
    "auc_train_xgb = metrics.auc(fpr,tpr)\n",
    "\n",
    "fpr, tpr, _ = metrics.roc_curve(np.array(label_test), clf.predict_proba(features_test)[:,1])\n",
    "auc_test_xgb = metrics.auc(fpr,tpr)\n",
    "auc_overfitting_xgb = auc_test_xgb-auc_train_xgb\n",
    "\n",
    "pd.DataFrame({'accuracy_test':[accuracy_test_xgb],'accuracy_train':[accuracy_train_xgb],\n",
    "             'precision_test':[precision_test_xgb],'precision_train':[precision_train_xgb],\n",
    "             'recall_test':[recall_test_xgb],'recall_train':[recall_train_xgb],\n",
    "             'f1_test':[f1_test_xgb],'f1_train':[f1_train_xgb],\n",
    "             'auc_test':[auc_test_xgb],'auc_train':[auc_train_xgb]})"
   ]
  },
  {
   "cell_type": "code",
   "execution_count": 127,
   "id": "fb59a08c",
   "metadata": {},
   "outputs": [
    {
     "data": {
      "image/png": "[encoded data removed]",
      "text/plain": [
       "<Figure size 720x360 with 2 Axes>"
      ]
     },
     "metadata": {
      "needs_background": "light"
     },
     "output_type": "display_data"
    }
   ],
   "source": [
    "from sklearn.metrics import confusion_matrix\n",
    "fig, ax = plt.subplots(figsize=(10,5))\n",
    "ax = sns.heatmap((confusion_matrix(label_test,pred_test)), annot=True, cmap='Blues', fmt='g')\n",
    "\n",
    "\n",
    "\n",
    "ax.set_title('Seaborn Confusion Matrix with labels\\n\\n');\n",
    "ax.set_xlabel('\\nPredicted Values')\n",
    "ax.set_ylabel('Actual Values ');\n",
    "\n",
    "## Ticket labels - List must be in alphabetical order\n",
    "ax.xaxis.set_ticklabels(['False','True'])\n",
    "ax.yaxis.set_ticklabels(['False','True'])\n",
    "\n",
    "\n",
    "## Display the visualization of the Confusion Matrix.\n",
    "plt.show()"
   ]
  },
  {
   "cell_type": "code",
   "execution_count": 128,
   "id": "98552c0f",
   "metadata": {},
   "outputs": [],
   "source": [
    "client = pd.read_csv('client_data.csv')"
   ]
  },
  {
   "cell_type": "code",
   "execution_count": 129,
   "id": "9752b838",
   "metadata": {},
   "outputs": [],
   "source": [
    "price = pd.read_csv('price_data.csv')"
   ]
  },
  {
   "cell_type": "code",
   "execution_count": 130,
   "id": "fb9365f2",
   "metadata": {},
   "outputs": [],
   "source": [
    "X = client.drop('churn',axis=1)\n",
    "y = model_table['churn']"
   ]
  },
  {
   "cell_type": "code",
   "execution_count": 131,
   "id": "249045e2",
   "metadata": {},
   "outputs": [],
   "source": [
    "from sklearn.model_selection import train_test_split\n",
    "X_train_business, X_test_business, y_train,y_test = train_test_split(X,y,test_size=0.3, random_state=21)"
   ]
  },
  {
   "cell_type": "code",
   "execution_count": 132,
   "id": "fcb4e36a",
   "metadata": {},
   "outputs": [],
   "source": [
    "X_test_business['label_test'] = label_test"
   ]
  },
  {
   "cell_type": "code",
   "execution_count": 133,
   "id": "2c4ff4d6",
   "metadata": {},
   "outputs": [],
   "source": [
    "X_test_business['label_pred'] = pred_test"
   ]
  },
  {
   "cell_type": "code",
   "execution_count": 134,
   "id": "f8133185",
   "metadata": {},
   "outputs": [],
   "source": [
    "X_test_business['pred_prob'] = pred_proba"
   ]
  },
  {
   "cell_type": "code",
   "execution_count": 135,
   "id": "28a1072b",
   "metadata": {
    "scrolled": true
   },
   "outputs": [
    {
     "data": {
      "text/html": [
       "<div>\n",
       "<style scoped>\n",
       "    .dataframe tbody tr th:only-of-type {\n",
       "        vertical-align: middle;\n",
       "    }\n",
       "\n",
       "    .dataframe tbody tr th {\n",
       "        vertical-align: top;\n",
       "    }\n",
       "\n",
       "    .dataframe thead th {\n",
       "        text-align: right;\n",
       "    }\n",
       "</style>\n",
       "<table border=\"1\" class=\"dataframe\">\n",
       "  <thead>\n",
       "    <tr style=\"text-align: right;\">\n",
       "      <th></th>\n",
       "      <th>id</th>\n",
       "      <th>channel_sales</th>\n",
       "      <th>cons_12m</th>\n",
       "      <th>cons_gas_12m</th>\n",
       "      <th>cons_last_month</th>\n",
       "      <th>date_activ</th>\n",
       "      <th>date_end</th>\n",
       "      <th>date_modif_prod</th>\n",
       "      <th>date_renewal</th>\n",
       "      <th>forecast_cons_12m</th>\n",
       "      <th>...</th>\n",
       "      <th>margin_gross_pow_ele</th>\n",
       "      <th>margin_net_pow_ele</th>\n",
       "      <th>nb_prod_act</th>\n",
       "      <th>net_margin</th>\n",
       "      <th>num_years_antig</th>\n",
       "      <th>origin_up</th>\n",
       "      <th>pow_max</th>\n",
       "      <th>label_test</th>\n",
       "      <th>label_pred</th>\n",
       "      <th>pred_prob</th>\n",
       "    </tr>\n",
       "  </thead>\n",
       "  <tbody>\n",
       "    <tr>\n",
       "      <th>10992</th>\n",
       "      <td>cde7e58c25b60ee66df70b1fd26363d5</td>\n",
       "      <td>lmkebamcaaclubfxadlmueccxoimlema</td>\n",
       "      <td>2940360</td>\n",
       "      <td>155531</td>\n",
       "      <td>269980</td>\n",
       "      <td>2010-11-26</td>\n",
       "      <td>2016-11-26</td>\n",
       "      <td>2010-11-26</td>\n",
       "      <td>2015-11-27</td>\n",
       "      <td>1467.84</td>\n",
       "      <td>...</td>\n",
       "      <td>4.83</td>\n",
       "      <td>4.83</td>\n",
       "      <td>2</td>\n",
       "      <td>134.54</td>\n",
       "      <td>5</td>\n",
       "      <td>kamkkxfxxuwbdslkwifmmcsiusiuosws</td>\n",
       "      <td>10.350</td>\n",
       "      <td>0</td>\n",
       "      <td>0</td>\n",
       "      <td>0.001604</td>\n",
       "    </tr>\n",
       "    <tr>\n",
       "      <th>13559</th>\n",
       "      <td>1b998ba935afe9d61fa94177501efad7</td>\n",
       "      <td>MISSING</td>\n",
       "      <td>12752</td>\n",
       "      <td>0</td>\n",
       "      <td>0</td>\n",
       "      <td>2009-09-11</td>\n",
       "      <td>2016-09-03</td>\n",
       "      <td>2015-09-03</td>\n",
       "      <td>2014-09-12</td>\n",
       "      <td>1285.56</td>\n",
       "      <td>...</td>\n",
       "      <td>11.95</td>\n",
       "      <td>11.95</td>\n",
       "      <td>2</td>\n",
       "      <td>75.64</td>\n",
       "      <td>6</td>\n",
       "      <td>kamkkxfxxuwbdslkwifmmcsiusiuosws</td>\n",
       "      <td>13.856</td>\n",
       "      <td>0</td>\n",
       "      <td>0</td>\n",
       "      <td>0.056841</td>\n",
       "    </tr>\n",
       "    <tr>\n",
       "      <th>13402</th>\n",
       "      <td>073b1aefdf0d99049952cab892a4f274</td>\n",
       "      <td>foosdfpfkusacimwkcsosbicdxkicaua</td>\n",
       "      <td>983659</td>\n",
       "      <td>0</td>\n",
       "      <td>192253</td>\n",
       "      <td>2012-03-15</td>\n",
       "      <td>2016-03-15</td>\n",
       "      <td>2012-03-15</td>\n",
       "      <td>2015-03-16</td>\n",
       "      <td>917.26</td>\n",
       "      <td>...</td>\n",
       "      <td>27.14</td>\n",
       "      <td>27.14</td>\n",
       "      <td>1</td>\n",
       "      <td>103.59</td>\n",
       "      <td>4</td>\n",
       "      <td>lxidpiddsbxsbosboudacockeimpuepw</td>\n",
       "      <td>13.200</td>\n",
       "      <td>0</td>\n",
       "      <td>0</td>\n",
       "      <td>0.027869</td>\n",
       "    </tr>\n",
       "    <tr>\n",
       "      <th>9463</th>\n",
       "      <td>a82964ec7bcf43aab87191bbe4c91e25</td>\n",
       "      <td>MISSING</td>\n",
       "      <td>5055</td>\n",
       "      <td>2848</td>\n",
       "      <td>0</td>\n",
       "      <td>2009-12-17</td>\n",
       "      <td>2016-12-03</td>\n",
       "      <td>2015-11-01</td>\n",
       "      <td>2015-12-04</td>\n",
       "      <td>749.42</td>\n",
       "      <td>...</td>\n",
       "      <td>3.24</td>\n",
       "      <td>3.24</td>\n",
       "      <td>2</td>\n",
       "      <td>68.40</td>\n",
       "      <td>6</td>\n",
       "      <td>lxidpiddsbxsbosboudacockeimpuepw</td>\n",
       "      <td>10.392</td>\n",
       "      <td>0</td>\n",
       "      <td>0</td>\n",
       "      <td>0.024524</td>\n",
       "    </tr>\n",
       "    <tr>\n",
       "      <th>12748</th>\n",
       "      <td>7b4d57c7890d389b72fda5e2bdfe7509</td>\n",
       "      <td>usilxuppasemubllopkaafesmlibmsdf</td>\n",
       "      <td>3981</td>\n",
       "      <td>0</td>\n",
       "      <td>1169</td>\n",
       "      <td>2012-12-31</td>\n",
       "      <td>2016-12-31</td>\n",
       "      <td>2012-12-31</td>\n",
       "      <td>2016-01-01</td>\n",
       "      <td>1079.39</td>\n",
       "      <td>...</td>\n",
       "      <td>0.12</td>\n",
       "      <td>0.12</td>\n",
       "      <td>1</td>\n",
       "      <td>373.07</td>\n",
       "      <td>3</td>\n",
       "      <td>lxidpiddsbxsbosboudacockeimpuepw</td>\n",
       "      <td>15.000</td>\n",
       "      <td>0</td>\n",
       "      <td>0</td>\n",
       "      <td>0.022367</td>\n",
       "    </tr>\n",
       "    <tr>\n",
       "      <th>...</th>\n",
       "      <td>...</td>\n",
       "      <td>...</td>\n",
       "      <td>...</td>\n",
       "      <td>...</td>\n",
       "      <td>...</td>\n",
       "      <td>...</td>\n",
       "      <td>...</td>\n",
       "      <td>...</td>\n",
       "      <td>...</td>\n",
       "      <td>...</td>\n",
       "      <td>...</td>\n",
       "      <td>...</td>\n",
       "      <td>...</td>\n",
       "      <td>...</td>\n",
       "      <td>...</td>\n",
       "      <td>...</td>\n",
       "      <td>...</td>\n",
       "      <td>...</td>\n",
       "      <td>...</td>\n",
       "      <td>...</td>\n",
       "      <td>...</td>\n",
       "    </tr>\n",
       "    <tr>\n",
       "      <th>6495</th>\n",
       "      <td>b9e126f2a62cc9708311d4eaf3ec36b8</td>\n",
       "      <td>usilxuppasemubllopkaafesmlibmsdf</td>\n",
       "      <td>44551</td>\n",
       "      <td>0</td>\n",
       "      <td>3529</td>\n",
       "      <td>2011-08-26</td>\n",
       "      <td>2016-08-26</td>\n",
       "      <td>2015-07-11</td>\n",
       "      <td>2015-08-27</td>\n",
       "      <td>191.65</td>\n",
       "      <td>...</td>\n",
       "      <td>23.64</td>\n",
       "      <td>23.64</td>\n",
       "      <td>1</td>\n",
       "      <td>22.75</td>\n",
       "      <td>4</td>\n",
       "      <td>kamkkxfxxuwbdslkwifmmcsiusiuosws</td>\n",
       "      <td>21.000</td>\n",
       "      <td>0</td>\n",
       "      <td>0</td>\n",
       "      <td>0.053029</td>\n",
       "    </tr>\n",
       "    <tr>\n",
       "      <th>4465</th>\n",
       "      <td>f8a925b570b5094e3706add741536b39</td>\n",
       "      <td>foosdfpfkusacimwkcsosbicdxkicaua</td>\n",
       "      <td>3178</td>\n",
       "      <td>0</td>\n",
       "      <td>0</td>\n",
       "      <td>2009-08-21</td>\n",
       "      <td>2016-08-21</td>\n",
       "      <td>2015-06-17</td>\n",
       "      <td>2015-08-24</td>\n",
       "      <td>469.67</td>\n",
       "      <td>...</td>\n",
       "      <td>16.38</td>\n",
       "      <td>16.38</td>\n",
       "      <td>1</td>\n",
       "      <td>36.78</td>\n",
       "      <td>6</td>\n",
       "      <td>kamkkxfxxuwbdslkwifmmcsiusiuosws</td>\n",
       "      <td>13.800</td>\n",
       "      <td>0</td>\n",
       "      <td>0</td>\n",
       "      <td>0.162681</td>\n",
       "    </tr>\n",
       "    <tr>\n",
       "      <th>5943</th>\n",
       "      <td>dd256147f4c951bb49ae906bc483dbfe</td>\n",
       "      <td>foosdfpfkusacimwkcsosbicdxkicaua</td>\n",
       "      <td>29160</td>\n",
       "      <td>0</td>\n",
       "      <td>3552</td>\n",
       "      <td>2010-08-14</td>\n",
       "      <td>2016-08-14</td>\n",
       "      <td>2010-08-14</td>\n",
       "      <td>2015-08-16</td>\n",
       "      <td>3017.46</td>\n",
       "      <td>...</td>\n",
       "      <td>12.36</td>\n",
       "      <td>12.36</td>\n",
       "      <td>1</td>\n",
       "      <td>367.32</td>\n",
       "      <td>5</td>\n",
       "      <td>lxidpiddsbxsbosboudacockeimpuepw</td>\n",
       "      <td>19.700</td>\n",
       "      <td>0</td>\n",
       "      <td>0</td>\n",
       "      <td>0.350155</td>\n",
       "    </tr>\n",
       "    <tr>\n",
       "      <th>6173</th>\n",
       "      <td>009c4f0e98c8dc8bd69f318724b2f1d5</td>\n",
       "      <td>foosdfpfkusacimwkcsosbicdxkicaua</td>\n",
       "      <td>17285</td>\n",
       "      <td>0</td>\n",
       "      <td>3947</td>\n",
       "      <td>2011-11-01</td>\n",
       "      <td>2016-11-01</td>\n",
       "      <td>2011-11-01</td>\n",
       "      <td>2015-11-02</td>\n",
       "      <td>2193.78</td>\n",
       "      <td>...</td>\n",
       "      <td>7.59</td>\n",
       "      <td>7.59</td>\n",
       "      <td>1</td>\n",
       "      <td>230.58</td>\n",
       "      <td>4</td>\n",
       "      <td>lxidpiddsbxsbosboudacockeimpuepw</td>\n",
       "      <td>40.000</td>\n",
       "      <td>0</td>\n",
       "      <td>0</td>\n",
       "      <td>0.011229</td>\n",
       "    </tr>\n",
       "    <tr>\n",
       "      <th>10307</th>\n",
       "      <td>492dd49c9173ba0edcf5d4431f0e5ef4</td>\n",
       "      <td>MISSING</td>\n",
       "      <td>3030</td>\n",
       "      <td>0</td>\n",
       "      <td>0</td>\n",
       "      <td>2011-04-14</td>\n",
       "      <td>2016-04-14</td>\n",
       "      <td>2011-04-14</td>\n",
       "      <td>2015-04-15</td>\n",
       "      <td>451.08</td>\n",
       "      <td>...</td>\n",
       "      <td>23.56</td>\n",
       "      <td>23.56</td>\n",
       "      <td>2</td>\n",
       "      <td>39.44</td>\n",
       "      <td>5</td>\n",
       "      <td>kamkkxfxxuwbdslkwifmmcsiusiuosws</td>\n",
       "      <td>11.400</td>\n",
       "      <td>0</td>\n",
       "      <td>0</td>\n",
       "      <td>0.114349</td>\n",
       "    </tr>\n",
       "  </tbody>\n",
       "</table>\n",
       "<p>4382 rows × 28 columns</p>\n",
       "</div>"
      ],
      "text/plain": [
       "                                     id                     channel_sales  \\\n",
       "10992  cde7e58c25b60ee66df70b1fd26363d5  lmkebamcaaclubfxadlmueccxoimlema   \n",
       "13559  1b998ba935afe9d61fa94177501efad7                           MISSING   \n",
       "13402  073b1aefdf0d99049952cab892a4f274  foosdfpfkusacimwkcsosbicdxkicaua   \n",
       "9463   a82964ec7bcf43aab87191bbe4c91e25                           MISSING   \n",
       "12748  7b4d57c7890d389b72fda5e2bdfe7509  usilxuppasemubllopkaafesmlibmsdf   \n",
       "...                                 ...                               ...   \n",
       "6495   b9e126f2a62cc9708311d4eaf3ec36b8  usilxuppasemubllopkaafesmlibmsdf   \n",
       "4465   f8a925b570b5094e3706add741536b39  foosdfpfkusacimwkcsosbicdxkicaua   \n",
       "5943   dd256147f4c951bb49ae906bc483dbfe  foosdfpfkusacimwkcsosbicdxkicaua   \n",
       "6173   009c4f0e98c8dc8bd69f318724b2f1d5  foosdfpfkusacimwkcsosbicdxkicaua   \n",
       "10307  492dd49c9173ba0edcf5d4431f0e5ef4                           MISSING   \n",
       "\n",
       "       cons_12m  cons_gas_12m  cons_last_month  date_activ    date_end  \\\n",
       "10992   2940360        155531           269980  2010-11-26  2016-11-26   \n",
       "13559     12752             0                0  2009-09-11  2016-09-03   \n",
       "13402    983659             0           192253  2012-03-15  2016-03-15   \n",
       "9463       5055          2848                0  2009-12-17  2016-12-03   \n",
       "12748      3981             0             1169  2012-12-31  2016-12-31   \n",
       "...         ...           ...              ...         ...         ...   \n",
       "6495      44551             0             3529  2011-08-26  2016-08-26   \n",
       "4465       3178             0                0  2009-08-21  2016-08-21   \n",
       "5943      29160             0             3552  2010-08-14  2016-08-14   \n",
       "6173      17285             0             3947  2011-11-01  2016-11-01   \n",
       "10307      3030             0                0  2011-04-14  2016-04-14   \n",
       "\n",
       "      date_modif_prod date_renewal  forecast_cons_12m  ...  \\\n",
       "10992      2010-11-26   2015-11-27            1467.84  ...   \n",
       "13559      2015-09-03   2014-09-12            1285.56  ...   \n",
       "13402      2012-03-15   2015-03-16             917.26  ...   \n",
       "9463       2015-11-01   2015-12-04             749.42  ...   \n",
       "12748      2012-12-31   2016-01-01            1079.39  ...   \n",
       "...               ...          ...                ...  ...   \n",
       "6495       2015-07-11   2015-08-27             191.65  ...   \n",
       "4465       2015-06-17   2015-08-24             469.67  ...   \n",
       "5943       2010-08-14   2015-08-16            3017.46  ...   \n",
       "6173       2011-11-01   2015-11-02            2193.78  ...   \n",
       "10307      2011-04-14   2015-04-15             451.08  ...   \n",
       "\n",
       "       margin_gross_pow_ele  margin_net_pow_ele  nb_prod_act  net_margin  \\\n",
       "10992                  4.83                4.83            2      134.54   \n",
       "13559                 11.95               11.95            2       75.64   \n",
       "13402                 27.14               27.14            1      103.59   \n",
       "9463                   3.24                3.24            2       68.40   \n",
       "12748                  0.12                0.12            1      373.07   \n",
       "...                     ...                 ...          ...         ...   \n",
       "6495                  23.64               23.64            1       22.75   \n",
       "4465                  16.38               16.38            1       36.78   \n",
       "5943                  12.36               12.36            1      367.32   \n",
       "6173                   7.59                7.59            1      230.58   \n",
       "10307                 23.56               23.56            2       39.44   \n",
       "\n",
       "       num_years_antig                         origin_up pow_max  label_test  \\\n",
       "10992                5  kamkkxfxxuwbdslkwifmmcsiusiuosws  10.350           0   \n",
       "13559                6  kamkkxfxxuwbdslkwifmmcsiusiuosws  13.856           0   \n",
       "13402                4  lxidpiddsbxsbosboudacockeimpuepw  13.200           0   \n",
       "9463                 6  lxidpiddsbxsbosboudacockeimpuepw  10.392           0   \n",
       "12748                3  lxidpiddsbxsbosboudacockeimpuepw  15.000           0   \n",
       "...                ...                               ...     ...         ...   \n",
       "6495                 4  kamkkxfxxuwbdslkwifmmcsiusiuosws  21.000           0   \n",
       "4465                 6  kamkkxfxxuwbdslkwifmmcsiusiuosws  13.800           0   \n",
       "5943                 5  lxidpiddsbxsbosboudacockeimpuepw  19.700           0   \n",
       "6173                 4  lxidpiddsbxsbosboudacockeimpuepw  40.000           0   \n",
       "10307                5  kamkkxfxxuwbdslkwifmmcsiusiuosws  11.400           0   \n",
       "\n",
       "       label_pred  pred_prob  \n",
       "10992           0   0.001604  \n",
       "13559           0   0.056841  \n",
       "13402           0   0.027869  \n",
       "9463            0   0.024524  \n",
       "12748           0   0.022367  \n",
       "...           ...        ...  \n",
       "6495            0   0.053029  \n",
       "4465            0   0.162681  \n",
       "5943            0   0.350155  \n",
       "6173            0   0.011229  \n",
       "10307           0   0.114349  \n",
       "\n",
       "[4382 rows x 28 columns]"
      ]
     },
     "execution_count": 135,
     "metadata": {},
     "output_type": "execute_result"
    }
   ],
   "source": [
    "X_test_business"
   ]
  },
  {
   "cell_type": "code",
   "execution_count": 136,
   "id": "7d6b4786",
   "metadata": {},
   "outputs": [],
   "source": [
    "total_margin = round(X_test_business['net_margin'].sum())\n",
    "discount_20 = round(X_test_business['net_margin'].sum()*0.2)\n",
    "margin_churn_customer = round(X_test_business[X_test_business['label_test']==1]['net_margin'].sum())"
   ]
  },
  {
   "cell_type": "code",
   "execution_count": 137,
   "id": "0bc779f1",
   "metadata": {},
   "outputs": [],
   "source": [
    "discount_20_churn_customer = round(X_test_business[(X_test_business['label_pred']==1)]['net_margin'].sum()*0.2)"
   ]
  },
  {
   "cell_type": "code",
   "execution_count": 138,
   "id": "5e44c1e7",
   "metadata": {},
   "outputs": [],
   "source": [
    "total_margin_model = round(X_test_business[(X_test_business['label_pred']==1)|(X_test_business['label_test']==0)]['net_margin'].sum())"
   ]
  },
  {
   "cell_type": "code",
   "execution_count": 139,
   "id": "7f22d1af",
   "metadata": {},
   "outputs": [],
   "source": [
    "model_churn_customer = X_test_business[(X_test_business['label_pred']==1)&(X_test_business['label_test']==1)]['id'].count()"
   ]
  },
  {
   "cell_type": "code",
   "execution_count": 140,
   "id": "ca91a4ff",
   "metadata": {},
   "outputs": [],
   "source": [
    "total_churn_customer = X_test_business[(X_test_business['label_test']==1)]['id'].count()"
   ]
  },
  {
   "cell_type": "code",
   "execution_count": 141,
   "id": "dc96eb5f",
   "metadata": {},
   "outputs": [
    {
     "name": "stdout",
     "output_type": "stream",
     "text": [
      "Total net margin per year $ 825839\n"
     ]
    }
   ],
   "source": [
    "print('Total net margin per year $',total_margin)"
   ]
  },
  {
   "cell_type": "code",
   "execution_count": 142,
   "id": "c9dd58ba",
   "metadata": {
    "scrolled": false
   },
   "outputs": [
    {
     "name": "stdout",
     "output_type": "stream",
     "text": [
      "Total net margin + 20% discount $ 660671\n"
     ]
    }
   ],
   "source": [
    "print('Total net margin + 20% discount $',total_margin - discount_20)"
   ]
  },
  {
   "cell_type": "code",
   "execution_count": 143,
   "id": "7af42739",
   "metadata": {
    "scrolled": true
   },
   "outputs": [
    {
     "name": "stdout",
     "output_type": "stream",
     "text": [
      "total 20% discount without model $ 165168\n"
     ]
    }
   ],
   "source": [
    "print('total 20% discount without model $',discount_20)"
   ]
  },
  {
   "cell_type": "code",
   "execution_count": 144,
   "id": "aac8a16e",
   "metadata": {},
   "outputs": [
    {
     "name": "stdout",
     "output_type": "stream",
     "text": [
      "Potential revenue by lost churn customer $ 86827\n"
     ]
    }
   ],
   "source": [
    "print('Potential revenue by lost churn customer $',margin_churn_customer)"
   ]
  },
  {
   "cell_type": "code",
   "execution_count": 145,
   "id": "c924b345",
   "metadata": {},
   "outputs": [
    {
     "name": "stdout",
     "output_type": "stream",
     "text": [
      "total 20% discount with model $ 6443\n"
     ]
    }
   ],
   "source": [
    "print('total 20% discount with model $',discount_20_churn_customer)"
   ]
  },
  {
   "cell_type": "code",
   "execution_count": 146,
   "id": "475be26f",
   "metadata": {},
   "outputs": [
    {
     "name": "stdout",
     "output_type": "stream",
     "text": [
      "predicted margin without model $ 739012\n"
     ]
    }
   ],
   "source": [
    "print('predicted margin without model $',total_margin - margin_churn_customer)"
   ]
  },
  {
   "cell_type": "code",
   "execution_count": 147,
   "id": "e76a6fe0",
   "metadata": {
    "scrolled": true
   },
   "outputs": [
    {
     "name": "stdout",
     "output_type": "stream",
     "text": [
      "predicted margin with model $ 742176\n"
     ]
    }
   ],
   "source": [
    "print('predicted margin with model $',total_margin_model - discount_20_churn_customer)"
   ]
  },
  {
   "cell_type": "code",
   "execution_count": 148,
   "id": "fb7f67bc",
   "metadata": {
    "scrolled": true
   },
   "outputs": [
    {
     "name": "stdout",
     "output_type": "stream",
     "text": [
      "predicted churn customer with model 41\n"
     ]
    }
   ],
   "source": [
    "print('predicted churn customer with model',model_churn_customer)"
   ]
  },
  {
   "cell_type": "code",
   "execution_count": 149,
   "id": "3807edd9",
   "metadata": {},
   "outputs": [
    {
     "name": "stdout",
     "output_type": "stream",
     "text": [
      "predicted customer acquistion cost $ 1.9022654243495687\n"
     ]
    }
   ],
   "source": [
    "print('predicted customer acquistion cost $',discount_20/margin_churn_customer)"
   ]
  },
  {
   "cell_type": "code",
   "execution_count": 150,
   "id": "b57bec72",
   "metadata": {},
   "outputs": [
    {
     "name": "stdout",
     "output_type": "stream",
     "text": [
      "total churn customer with model 421\n"
     ]
    }
   ],
   "source": [
    "print('total churn customer with model',total_churn_customer)"
   ]
  },
  {
   "cell_type": "markdown",
   "id": "9a6ec10c",
   "metadata": {},
   "source": [
    "**Data Insight**\n",
    "\n",
    "steeped discount must applied to reduce margin lost. Deciling score can be consideration to steeped discount."
   ]
  },
  {
   "cell_type": "markdown",
   "id": "f06e5582",
   "metadata": {},
   "source": [
    "## Deciling the score"
   ]
  },
  {
   "cell_type": "code",
   "execution_count": 64,
   "id": "11d86527",
   "metadata": {},
   "outputs": [],
   "source": [
    "from collections import OrderedDict\n",
    "import pandas as pd\n",
    "import sys\n",
    "%matplotlib inline\n",
    "    \n",
    "def plot_pandas_style(styler):\n",
    "    from IPython.core.display import HTML\n",
    "    html = '\\n'.join([line.lstrip() for line in styler.render().split('\\n')])\n",
    "    return HTML(html)\n",
    "\n",
    "def highlight_max(s,color='yellow'):\n",
    "    '''\n",
    "    highlight the maximum in a Series yellow.\n",
    "    '''\n",
    "    is_max = s == s.max()\n",
    "    return ['background-color: {}'.format(color) if v else '' for v in is_max]\n",
    "\n",
    "def decile_labels(agg1,label,color='skyblue'):\n",
    "    agg_dummy = pd.DataFrame(OrderedDict((('TOTAL',0),('TARGET',0),('NONTARGET',0),('PCT_TAR',0),('CUM_TAR',0),('CUM_NONTAR',0),('DIST_TAR',0),('DIST_NONTAR',0),('SPREAD',0))),index=[0])\n",
    "    agg1 = agg1.append(agg_dummy).sort_index()\n",
    "    agg1.index.name = label\n",
    "    agg1 = agg1.style.apply(highlight_max, color = 'yellow', subset=['SPREAD'])\n",
    "    agg1.bar(subset=['TARGET'], color='{}'.format(color))\n",
    "    agg1.bar(subset=['TOTAL'], color='{}'.format(color))\n",
    "    agg1.bar(subset=['PCT_TAR'], color='{}'.format(color))\n",
    "    return(agg1)\n",
    "\n",
    "def deciling(data,decile_by,target,nontarget):\n",
    "    inputs = list(decile_by)\n",
    "    inputs.extend((target,nontarget))\n",
    "    decile = data[inputs]\n",
    "    grouped = decile.groupby(decile_by)\n",
    "    agg1 = pd.DataFrame({},index=[])\n",
    "    agg1['TOTAL'] = grouped.sum()[nontarget] + grouped.sum()[target]\n",
    "    agg1['TARGET'] = grouped.sum()[target]\n",
    "    agg1['NONTARGET'] = grouped.sum()[nontarget]\n",
    "    agg1['PCT_TAR'] = grouped.mean()[target]*100\n",
    "    agg1['CUM_TAR'] = grouped.sum()[target].cumsum()\n",
    "    agg1['CUM_NONTAR'] = grouped.sum()[nontarget].cumsum()\n",
    "    agg1['DIST_TAR'] = agg1['CUM_TAR']/agg1['TARGET'].sum()*100\n",
    "    agg1['DIST_NONTAR'] = agg1['CUM_NONTAR']/agg1['NONTARGET'].sum()*100\n",
    "    agg1['SPREAD'] = (agg1['DIST_TAR'] - agg1['DIST_NONTAR'])\n",
    "    agg1 = decile_labels(agg1,'DECILE',color='skyblue')\n",
    "    return(plot_pandas_style(agg1))"
   ]
  },
  {
   "cell_type": "code",
   "execution_count": 65,
   "id": "6936b4fb",
   "metadata": {},
   "outputs": [],
   "source": [
    "def scoring(features,clf,target):\n",
    "    score = pd.DataFrame(clf.predict_proba(features)[:,1], columns = ['SCORE'])\n",
    "    score['DECILE'] = pd.qcut(score['SCORE'].rank(method = 'first'),10,labels=range(10,0,-1))\n",
    "    score['DECILE'] = score['DECILE'].astype(float)\n",
    "    score['TARGET'] = target\n",
    "    score['NONTARGET'] = 1 - target\n",
    "    return(score)"
   ]
  },
  {
   "cell_type": "code",
   "execution_count": 66,
   "id": "7ef1f36b",
   "metadata": {},
   "outputs": [],
   "source": [
    "scores_train = scoring(features_train,clf,label_train)"
   ]
  },
  {
   "cell_type": "code",
   "execution_count": 67,
   "id": "a3199a72",
   "metadata": {},
   "outputs": [
    {
     "data": {
      "text/html": [
       "<style type=\"text/css\">\n",
       "#T_0cdc7_row0_col0, #T_0cdc7_row0_col1, #T_0cdc7_row0_col3 {\n",
       "width: 10em;\n",
       "}\n",
       "#T_0cdc7_row1_col0, #T_0cdc7_row1_col1, #T_0cdc7_row1_col3, #T_0cdc7_row2_col3, #T_0cdc7_row3_col3, #T_0cdc7_row4_col3, #T_0cdc7_row10_col0 {\n",
       "width: 10em;\n",
       "background: linear-gradient(90deg, skyblue 100.0%, transparent 100.0%);\n",
       "}\n",
       "#T_0cdc7_row2_col0, #T_0cdc7_row2_col1, #T_0cdc7_row3_col0, #T_0cdc7_row3_col1, #T_0cdc7_row4_col0, #T_0cdc7_row4_col1, #T_0cdc7_row5_col0, #T_0cdc7_row6_col0, #T_0cdc7_row7_col0, #T_0cdc7_row8_col0, #T_0cdc7_row9_col0 {\n",
       "width: 10em;\n",
       "background: linear-gradient(90deg, skyblue 99.9%, transparent 99.9%);\n",
       "}\n",
       "#T_0cdc7_row5_col1 {\n",
       "width: 10em;\n",
       "background: linear-gradient(90deg, skyblue 88.9%, transparent 88.9%);\n",
       "}\n",
       "#T_0cdc7_row5_col3 {\n",
       "width: 10em;\n",
       "background: linear-gradient(90deg, skyblue 89.0%, transparent 89.0%);\n",
       "}\n",
       "#T_0cdc7_row5_col8 {\n",
       "background-color: yellow;\n",
       "}\n",
       "#T_0cdc7_row6_col1, #T_0cdc7_row6_col3 {\n",
       "width: 10em;\n",
       "background: linear-gradient(90deg, skyblue 8.7%, transparent 8.7%);\n",
       "}\n",
       "#T_0cdc7_row7_col1, #T_0cdc7_row7_col3 {\n",
       "width: 10em;\n",
       "background: linear-gradient(90deg, skyblue 1.4%, transparent 1.4%);\n",
       "}\n",
       "#T_0cdc7_row8_col1, #T_0cdc7_row8_col3 {\n",
       "width: 10em;\n",
       "background: linear-gradient(90deg, skyblue 0.5%, transparent 0.5%);\n",
       "}\n",
       "#T_0cdc7_row9_col1, #T_0cdc7_row9_col3 {\n",
       "width: 10em;\n",
       "background: linear-gradient(90deg, skyblue 0.3%, transparent 0.3%);\n",
       "}\n",
       "#T_0cdc7_row10_col1, #T_0cdc7_row10_col3 {\n",
       "width: 10em;\n",
       "background: linear-gradient(90deg, skyblue 0.1%, transparent 0.1%);\n",
       "}\n",
       "</style>\n",
       "<table id=\"T_0cdc7\">\n",
       "<thead>\n",
       "<tr>\n",
       "<th class=\"blank level0\" >&nbsp;</th>\n",
       "<th id=\"T_0cdc7_level0_col0\" class=\"col_heading level0 col0\" >TOTAL</th>\n",
       "<th id=\"T_0cdc7_level0_col1\" class=\"col_heading level0 col1\" >TARGET</th>\n",
       "<th id=\"T_0cdc7_level0_col2\" class=\"col_heading level0 col2\" >NONTARGET</th>\n",
       "<th id=\"T_0cdc7_level0_col3\" class=\"col_heading level0 col3\" >PCT_TAR</th>\n",
       "<th id=\"T_0cdc7_level0_col4\" class=\"col_heading level0 col4\" >CUM_TAR</th>\n",
       "<th id=\"T_0cdc7_level0_col5\" class=\"col_heading level0 col5\" >CUM_NONTAR</th>\n",
       "<th id=\"T_0cdc7_level0_col6\" class=\"col_heading level0 col6\" >DIST_TAR</th>\n",
       "<th id=\"T_0cdc7_level0_col7\" class=\"col_heading level0 col7\" >DIST_NONTAR</th>\n",
       "<th id=\"T_0cdc7_level0_col8\" class=\"col_heading level0 col8\" >SPREAD</th>\n",
       "</tr>\n",
       "<tr>\n",
       "<th class=\"index_name level0\" >DECILE</th>\n",
       "<th class=\"blank col0\" >&nbsp;</th>\n",
       "<th class=\"blank col1\" >&nbsp;</th>\n",
       "<th class=\"blank col2\" >&nbsp;</th>\n",
       "<th class=\"blank col3\" >&nbsp;</th>\n",
       "<th class=\"blank col4\" >&nbsp;</th>\n",
       "<th class=\"blank col5\" >&nbsp;</th>\n",
       "<th class=\"blank col6\" >&nbsp;</th>\n",
       "<th class=\"blank col7\" >&nbsp;</th>\n",
       "<th class=\"blank col8\" >&nbsp;</th>\n",
       "</tr>\n",
       "</thead>\n",
       "<tbody>\n",
       "<tr>\n",
       "<th id=\"T_0cdc7_level0_row0\" class=\"row_heading level0 row0\" >0.000000</th>\n",
       "<td id=\"T_0cdc7_row0_col0\" class=\"data row0 col0\" >0</td>\n",
       "<td id=\"T_0cdc7_row0_col1\" class=\"data row0 col1\" >0</td>\n",
       "<td id=\"T_0cdc7_row0_col2\" class=\"data row0 col2\" >0</td>\n",
       "<td id=\"T_0cdc7_row0_col3\" class=\"data row0 col3\" >0.000000</td>\n",
       "<td id=\"T_0cdc7_row0_col4\" class=\"data row0 col4\" >0</td>\n",
       "<td id=\"T_0cdc7_row0_col5\" class=\"data row0 col5\" >0</td>\n",
       "<td id=\"T_0cdc7_row0_col6\" class=\"data row0 col6\" >0.000000</td>\n",
       "<td id=\"T_0cdc7_row0_col7\" class=\"data row0 col7\" >0.000000</td>\n",
       "<td id=\"T_0cdc7_row0_col8\" class=\"data row0 col8\" >0.000000</td>\n",
       "</tr>\n",
       "<tr>\n",
       "<th id=\"T_0cdc7_level0_row1\" class=\"row_heading level0 row1\" >1.000000</th>\n",
       "<td id=\"T_0cdc7_row1_col0\" class=\"data row1 col0\" >1846</td>\n",
       "<td id=\"T_0cdc7_row1_col1\" class=\"data row1 col1\" >1846</td>\n",
       "<td id=\"T_0cdc7_row1_col2\" class=\"data row1 col2\" >0</td>\n",
       "<td id=\"T_0cdc7_row1_col3\" class=\"data row1 col3\" >100.000000</td>\n",
       "<td id=\"T_0cdc7_row1_col4\" class=\"data row1 col4\" >1846</td>\n",
       "<td id=\"T_0cdc7_row1_col5\" class=\"data row1 col5\" >0</td>\n",
       "<td id=\"T_0cdc7_row1_col6\" class=\"data row1 col6\" >20.008671</td>\n",
       "<td id=\"T_0cdc7_row1_col7\" class=\"data row1 col7\" >0.000000</td>\n",
       "<td id=\"T_0cdc7_row1_col8\" class=\"data row1 col8\" >20.008671</td>\n",
       "</tr>\n",
       "<tr>\n",
       "<th id=\"T_0cdc7_level0_row2\" class=\"row_heading level0 row2\" >2.000000</th>\n",
       "<td id=\"T_0cdc7_row2_col0\" class=\"data row2 col0\" >1845</td>\n",
       "<td id=\"T_0cdc7_row2_col1\" class=\"data row2 col1\" >1845</td>\n",
       "<td id=\"T_0cdc7_row2_col2\" class=\"data row2 col2\" >0</td>\n",
       "<td id=\"T_0cdc7_row2_col3\" class=\"data row2 col3\" >100.000000</td>\n",
       "<td id=\"T_0cdc7_row2_col4\" class=\"data row2 col4\" >3691</td>\n",
       "<td id=\"T_0cdc7_row2_col5\" class=\"data row2 col5\" >0</td>\n",
       "<td id=\"T_0cdc7_row2_col6\" class=\"data row2 col6\" >40.006503</td>\n",
       "<td id=\"T_0cdc7_row2_col7\" class=\"data row2 col7\" >0.000000</td>\n",
       "<td id=\"T_0cdc7_row2_col8\" class=\"data row2 col8\" >40.006503</td>\n",
       "</tr>\n",
       "<tr>\n",
       "<th id=\"T_0cdc7_level0_row3\" class=\"row_heading level0 row3\" >3.000000</th>\n",
       "<td id=\"T_0cdc7_row3_col0\" class=\"data row3 col0\" >1845</td>\n",
       "<td id=\"T_0cdc7_row3_col1\" class=\"data row3 col1\" >1845</td>\n",
       "<td id=\"T_0cdc7_row3_col2\" class=\"data row3 col2\" >0</td>\n",
       "<td id=\"T_0cdc7_row3_col3\" class=\"data row3 col3\" >100.000000</td>\n",
       "<td id=\"T_0cdc7_row3_col4\" class=\"data row3 col4\" >5536</td>\n",
       "<td id=\"T_0cdc7_row3_col5\" class=\"data row3 col5\" >0</td>\n",
       "<td id=\"T_0cdc7_row3_col6\" class=\"data row3 col6\" >60.004336</td>\n",
       "<td id=\"T_0cdc7_row3_col7\" class=\"data row3 col7\" >0.000000</td>\n",
       "<td id=\"T_0cdc7_row3_col8\" class=\"data row3 col8\" >60.004336</td>\n",
       "</tr>\n",
       "<tr>\n",
       "<th id=\"T_0cdc7_level0_row4\" class=\"row_heading level0 row4\" >4.000000</th>\n",
       "<td id=\"T_0cdc7_row4_col0\" class=\"data row4 col0\" >1845</td>\n",
       "<td id=\"T_0cdc7_row4_col1\" class=\"data row4 col1\" >1845</td>\n",
       "<td id=\"T_0cdc7_row4_col2\" class=\"data row4 col2\" >0</td>\n",
       "<td id=\"T_0cdc7_row4_col3\" class=\"data row4 col3\" >100.000000</td>\n",
       "<td id=\"T_0cdc7_row4_col4\" class=\"data row4 col4\" >7381</td>\n",
       "<td id=\"T_0cdc7_row4_col5\" class=\"data row4 col5\" >0</td>\n",
       "<td id=\"T_0cdc7_row4_col6\" class=\"data row4 col6\" >80.002168</td>\n",
       "<td id=\"T_0cdc7_row4_col7\" class=\"data row4 col7\" >0.000000</td>\n",
       "<td id=\"T_0cdc7_row4_col8\" class=\"data row4 col8\" >80.002168</td>\n",
       "</tr>\n",
       "<tr>\n",
       "<th id=\"T_0cdc7_level0_row5\" class=\"row_heading level0 row5\" >5.000000</th>\n",
       "<td id=\"T_0cdc7_row5_col0\" class=\"data row5 col0\" >1845</td>\n",
       "<td id=\"T_0cdc7_row5_col1\" class=\"data row5 col1\" >1642</td>\n",
       "<td id=\"T_0cdc7_row5_col2\" class=\"data row5 col2\" >203</td>\n",
       "<td id=\"T_0cdc7_row5_col3\" class=\"data row5 col3\" >88.997290</td>\n",
       "<td id=\"T_0cdc7_row5_col4\" class=\"data row5 col4\" >9023</td>\n",
       "<td id=\"T_0cdc7_row5_col5\" class=\"data row5 col5\" >203</td>\n",
       "<td id=\"T_0cdc7_row5_col6\" class=\"data row5 col6\" >97.799697</td>\n",
       "<td id=\"T_0cdc7_row5_col7\" class=\"data row5 col7\" >2.200303</td>\n",
       "<td id=\"T_0cdc7_row5_col8\" class=\"data row5 col8\" >95.599393</td>\n",
       "</tr>\n",
       "<tr>\n",
       "<th id=\"T_0cdc7_level0_row6\" class=\"row_heading level0 row6\" >6.000000</th>\n",
       "<td id=\"T_0cdc7_row6_col0\" class=\"data row6 col0\" >1845</td>\n",
       "<td id=\"T_0cdc7_row6_col1\" class=\"data row6 col1\" >161</td>\n",
       "<td id=\"T_0cdc7_row6_col2\" class=\"data row6 col2\" >1684</td>\n",
       "<td id=\"T_0cdc7_row6_col3\" class=\"data row6 col3\" >8.726287</td>\n",
       "<td id=\"T_0cdc7_row6_col4\" class=\"data row6 col4\" >9184</td>\n",
       "<td id=\"T_0cdc7_row6_col5\" class=\"data row6 col5\" >1887</td>\n",
       "<td id=\"T_0cdc7_row6_col6\" class=\"data row6 col6\" >99.544765</td>\n",
       "<td id=\"T_0cdc7_row6_col7\" class=\"data row6 col7\" >20.453067</td>\n",
       "<td id=\"T_0cdc7_row6_col8\" class=\"data row6 col8\" >79.091697</td>\n",
       "</tr>\n",
       "<tr>\n",
       "<th id=\"T_0cdc7_level0_row7\" class=\"row_heading level0 row7\" >7.000000</th>\n",
       "<td id=\"T_0cdc7_row7_col0\" class=\"data row7 col0\" >1845</td>\n",
       "<td id=\"T_0cdc7_row7_col1\" class=\"data row7 col1\" >26</td>\n",
       "<td id=\"T_0cdc7_row7_col2\" class=\"data row7 col2\" >1819</td>\n",
       "<td id=\"T_0cdc7_row7_col3\" class=\"data row7 col3\" >1.409214</td>\n",
       "<td id=\"T_0cdc7_row7_col4\" class=\"data row7 col4\" >9210</td>\n",
       "<td id=\"T_0cdc7_row7_col5\" class=\"data row7 col5\" >3706</td>\n",
       "<td id=\"T_0cdc7_row7_col6\" class=\"data row7 col6\" >99.826577</td>\n",
       "<td id=\"T_0cdc7_row7_col7\" class=\"data row7 col7\" >40.169087</td>\n",
       "<td id=\"T_0cdc7_row7_col8\" class=\"data row7 col8\" >59.657490</td>\n",
       "</tr>\n",
       "<tr>\n",
       "<th id=\"T_0cdc7_level0_row8\" class=\"row_heading level0 row8\" >8.000000</th>\n",
       "<td id=\"T_0cdc7_row8_col0\" class=\"data row8 col0\" >1845</td>\n",
       "<td id=\"T_0cdc7_row8_col1\" class=\"data row8 col1\" >10</td>\n",
       "<td id=\"T_0cdc7_row8_col2\" class=\"data row8 col2\" >1835</td>\n",
       "<td id=\"T_0cdc7_row8_col3\" class=\"data row8 col3\" >0.542005</td>\n",
       "<td id=\"T_0cdc7_row8_col4\" class=\"data row8 col4\" >9220</td>\n",
       "<td id=\"T_0cdc7_row8_col5\" class=\"data row8 col5\" >5541</td>\n",
       "<td id=\"T_0cdc7_row8_col6\" class=\"data row8 col6\" >99.934966</td>\n",
       "<td id=\"T_0cdc7_row8_col7\" class=\"data row8 col7\" >60.058530</td>\n",
       "<td id=\"T_0cdc7_row8_col8\" class=\"data row8 col8\" >39.876436</td>\n",
       "</tr>\n",
       "<tr>\n",
       "<th id=\"T_0cdc7_level0_row9\" class=\"row_heading level0 row9\" >9.000000</th>\n",
       "<td id=\"T_0cdc7_row9_col0\" class=\"data row9 col0\" >1845</td>\n",
       "<td id=\"T_0cdc7_row9_col1\" class=\"data row9 col1\" >5</td>\n",
       "<td id=\"T_0cdc7_row9_col2\" class=\"data row9 col2\" >1840</td>\n",
       "<td id=\"T_0cdc7_row9_col3\" class=\"data row9 col3\" >0.271003</td>\n",
       "<td id=\"T_0cdc7_row9_col4\" class=\"data row9 col4\" >9225</td>\n",
       "<td id=\"T_0cdc7_row9_col5\" class=\"data row9 col5\" >7381</td>\n",
       "<td id=\"T_0cdc7_row9_col6\" class=\"data row9 col6\" >99.989161</td>\n",
       "<td id=\"T_0cdc7_row9_col7\" class=\"data row9 col7\" >80.002168</td>\n",
       "<td id=\"T_0cdc7_row9_col8\" class=\"data row9 col8\" >19.986993</td>\n",
       "</tr>\n",
       "<tr>\n",
       "<th id=\"T_0cdc7_level0_row10\" class=\"row_heading level0 row10\" >10.000000</th>\n",
       "<td id=\"T_0cdc7_row10_col0\" class=\"data row10 col0\" >1846</td>\n",
       "<td id=\"T_0cdc7_row10_col1\" class=\"data row10 col1\" >1</td>\n",
       "<td id=\"T_0cdc7_row10_col2\" class=\"data row10 col2\" >1845</td>\n",
       "<td id=\"T_0cdc7_row10_col3\" class=\"data row10 col3\" >0.054171</td>\n",
       "<td id=\"T_0cdc7_row10_col4\" class=\"data row10 col4\" >9226</td>\n",
       "<td id=\"T_0cdc7_row10_col5\" class=\"data row10 col5\" >9226</td>\n",
       "<td id=\"T_0cdc7_row10_col6\" class=\"data row10 col6\" >100.000000</td>\n",
       "<td id=\"T_0cdc7_row10_col7\" class=\"data row10 col7\" >100.000000</td>\n",
       "<td id=\"T_0cdc7_row10_col8\" class=\"data row10 col8\" >0.000000</td>\n",
       "</tr>\n",
       "</tbody>\n",
       "</table>\n"
      ],
      "text/plain": [
       "<IPython.core.display.HTML object>"
      ]
     },
     "execution_count": 67,
     "metadata": {},
     "output_type": "execute_result"
    }
   ],
   "source": [
    "deciling(scores_train,['DECILE'],'TARGET','NONTARGET')"
   ]
  },
  {
   "cell_type": "code",
   "execution_count": 68,
   "id": "d3db4ec1",
   "metadata": {},
   "outputs": [],
   "source": [
    "scores_train.to_excel('score-train.xlsx',index=False)"
   ]
  },
  {
   "cell_type": "code",
   "execution_count": 69,
   "id": "b6ab3c56",
   "metadata": {},
   "outputs": [],
   "source": [
    "table_score = scores_train.groupby('DECILE').agg({'SCORE':['min','max']}).reset_index()"
   ]
  },
  {
   "cell_type": "code",
   "execution_count": 70,
   "id": "69a8c537",
   "metadata": {},
   "outputs": [],
   "source": [
    "table_score.columns = ['DECILE','min','max']"
   ]
  },
  {
   "cell_type": "code",
   "execution_count": 71,
   "id": "2ef27fd9",
   "metadata": {
    "scrolled": true
   },
   "outputs": [
    {
     "data": {
      "text/html": [
       "<div>\n",
       "<style scoped>\n",
       "    .dataframe tbody tr th:only-of-type {\n",
       "        vertical-align: middle;\n",
       "    }\n",
       "\n",
       "    .dataframe tbody tr th {\n",
       "        vertical-align: top;\n",
       "    }\n",
       "\n",
       "    .dataframe thead th {\n",
       "        text-align: right;\n",
       "    }\n",
       "</style>\n",
       "<table border=\"1\" class=\"dataframe\">\n",
       "  <thead>\n",
       "    <tr style=\"text-align: right;\">\n",
       "      <th></th>\n",
       "      <th>DECILE</th>\n",
       "      <th>min</th>\n",
       "      <th>max</th>\n",
       "    </tr>\n",
       "  </thead>\n",
       "  <tbody>\n",
       "    <tr>\n",
       "      <th>0</th>\n",
       "      <td>1.0</td>\n",
       "      <td>0.999734</td>\n",
       "      <td>0.999994</td>\n",
       "    </tr>\n",
       "    <tr>\n",
       "      <th>1</th>\n",
       "      <td>2.0</td>\n",
       "      <td>0.998613</td>\n",
       "      <td>0.999734</td>\n",
       "    </tr>\n",
       "    <tr>\n",
       "      <th>2</th>\n",
       "      <td>3.0</td>\n",
       "      <td>0.993146</td>\n",
       "      <td>0.998611</td>\n",
       "    </tr>\n",
       "    <tr>\n",
       "      <th>3</th>\n",
       "      <td>4.0</td>\n",
       "      <td>0.947868</td>\n",
       "      <td>0.993138</td>\n",
       "    </tr>\n",
       "    <tr>\n",
       "      <th>4</th>\n",
       "      <td>5.0</td>\n",
       "      <td>0.267647</td>\n",
       "      <td>0.947868</td>\n",
       "    </tr>\n",
       "    <tr>\n",
       "      <th>5</th>\n",
       "      <td>6.0</td>\n",
       "      <td>0.109586</td>\n",
       "      <td>0.267604</td>\n",
       "    </tr>\n",
       "    <tr>\n",
       "      <th>6</th>\n",
       "      <td>7.0</td>\n",
       "      <td>0.066569</td>\n",
       "      <td>0.109556</td>\n",
       "    </tr>\n",
       "    <tr>\n",
       "      <th>7</th>\n",
       "      <td>8.0</td>\n",
       "      <td>0.041096</td>\n",
       "      <td>0.066549</td>\n",
       "    </tr>\n",
       "    <tr>\n",
       "      <th>8</th>\n",
       "      <td>9.0</td>\n",
       "      <td>0.021737</td>\n",
       "      <td>0.041095</td>\n",
       "    </tr>\n",
       "    <tr>\n",
       "      <th>9</th>\n",
       "      <td>10.0</td>\n",
       "      <td>0.000111</td>\n",
       "      <td>0.021717</td>\n",
       "    </tr>\n",
       "  </tbody>\n",
       "</table>\n",
       "</div>"
      ],
      "text/plain": [
       "   DECILE       min       max\n",
       "0     1.0  0.999734  0.999994\n",
       "1     2.0  0.998613  0.999734\n",
       "2     3.0  0.993146  0.998611\n",
       "3     4.0  0.947868  0.993138\n",
       "4     5.0  0.267647  0.947868\n",
       "5     6.0  0.109586  0.267604\n",
       "6     7.0  0.066569  0.109556\n",
       "7     8.0  0.041096  0.066549\n",
       "8     9.0  0.021737  0.041095\n",
       "9    10.0  0.000111  0.021717"
      ]
     },
     "execution_count": 71,
     "metadata": {},
     "output_type": "execute_result"
    }
   ],
   "source": [
    "table_score"
   ]
  },
  {
   "cell_type": "markdown",
   "id": "b5ccf5d7",
   "metadata": {},
   "source": [
    "**Data Insight**\n",
    "\n",
    "DECILE with higher than 6 have litle probability to churn <1%. We can applied discount start from DECILE 5.\n",
    "\n",
    "categorize DECILE :\n",
    "\n",
    "    0-1 : Lost Customer\n",
    "    2-3 : Risk to Lost\n",
    "    4-5 : General Customer\n",
    "    6-9 : Loyal Customer"
   ]
  },
  {
   "cell_type": "code",
   "execution_count": 72,
   "id": "fb6605e4",
   "metadata": {},
   "outputs": [],
   "source": [
    "bins = sorted(np.array(table_score['max']))"
   ]
  },
  {
   "cell_type": "code",
   "execution_count": 73,
   "id": "efb13513",
   "metadata": {},
   "outputs": [],
   "source": [
    "array= np.array(X_test_business['pred_prob'])"
   ]
  },
  {
   "cell_type": "code",
   "execution_count": 74,
   "id": "59324399",
   "metadata": {},
   "outputs": [],
   "source": [
    "bin_indices  = np.digitize(array, bins)\n",
    "bin_indices = list(bin_indices)"
   ]
  },
  {
   "cell_type": "code",
   "execution_count": 75,
   "id": "6af0f105",
   "metadata": {},
   "outputs": [],
   "source": [
    "X_test_business['DECILE'] = bin_indices"
   ]
  },
  {
   "cell_type": "code",
   "execution_count": 76,
   "id": "f1f1b721",
   "metadata": {},
   "outputs": [],
   "source": [
    "discount_10 = round(X_test_business[(X_test_business['DECILE']<=5)&(X_test_business['DECILE']>=4)]['net_margin'].sum()*0.1)"
   ]
  },
  {
   "cell_type": "code",
   "execution_count": 77,
   "id": "2aa4ac59",
   "metadata": {},
   "outputs": [],
   "source": [
    "discount_20 = round(X_test_business[(X_test_business['DECILE']<=3)&(X_test_business['DECILE']>=2)]['net_margin'].sum()*0.2)"
   ]
  },
  {
   "cell_type": "code",
   "execution_count": 78,
   "id": "f6463e0c",
   "metadata": {},
   "outputs": [],
   "source": [
    "total_discount = discount_10 + discount_20"
   ]
  },
  {
   "cell_type": "code",
   "execution_count": 79,
   "id": "519fa87b",
   "metadata": {},
   "outputs": [],
   "source": [
    "total_margin_model = round(X_test_business[(X_test_business['DECILE']<=5)&(X_test_business['DECILE']>=2)|(X_test_business['label_test']==0)]['net_margin'].sum())"
   ]
  },
  {
   "cell_type": "code",
   "execution_count": 80,
   "id": "97c02d9c",
   "metadata": {},
   "outputs": [],
   "source": [
    "model_churn_customer = X_test_business[(X_test_business['DECILE']<=5)&(X_test_business['DECILE']>=2)&(X_test_business['label_test']==1)]['id'].count()"
   ]
  },
  {
   "cell_type": "code",
   "execution_count": 81,
   "id": "52c32cb5",
   "metadata": {
    "scrolled": false
   },
   "outputs": [
    {
     "name": "stdout",
     "output_type": "stream",
     "text": [
      "predicted margin with model $ 733296\n"
     ]
    }
   ],
   "source": [
    "print('predicted margin with model $',total_margin_model - total_discount)"
   ]
  },
  {
   "cell_type": "code",
   "execution_count": 126,
   "id": "718a9291",
   "metadata": {},
   "outputs": [
    {
     "name": "stdout",
     "output_type": "stream",
     "text": [
      "predicted customer acquisition cost $ 238.17994100294985\n"
     ]
    }
   ],
   "source": [
    "print('predicted customer acquisition cost $',total_discount/model_churn_customer)"
   ]
  },
  {
   "cell_type": "code",
   "execution_count": 82,
   "id": "7668bf1c",
   "metadata": {
    "scrolled": true
   },
   "outputs": [
    {
     "name": "stdout",
     "output_type": "stream",
     "text": [
      "predicted churn customer with model 339\n"
     ]
    }
   ],
   "source": [
    "print('predicted churn customer with model',model_churn_customer)"
   ]
  },
  {
   "cell_type": "code",
   "execution_count": 83,
   "id": "db018146",
   "metadata": {},
   "outputs": [
    {
     "data": {
      "text/plain": [
       "<AxesSubplot:xlabel='DECILE', ylabel='id'>"
      ]
     },
     "execution_count": 83,
     "metadata": {},
     "output_type": "execute_result"
    },
    {
     "data": {
      "image/png": "[encoded data removed]",
      "text/plain": [
       "<Figure size 432x288 with 1 Axes>"
      ]
     },
     "metadata": {
      "needs_background": "light"
     },
     "output_type": "display_data"
    }
   ],
   "source": [
    "customer_churn = X_test_business[X_test_business['label_test']==1]\n",
    "customer_churn = customer_churn.groupby('DECILE')['id'].count().reset_index()\n",
    "sns.barplot(x='DECILE',y='id',data=customer_churn)"
   ]
  },
  {
   "cell_type": "markdown",
   "id": "64c31d39",
   "metadata": {},
   "source": [
    "**Data Insight**\n",
    "\n",
    "We can choose deceiling scoring to reach more churn customer but we lost much in revenue because not all customer is profitable."
   ]
  },
  {
   "cell_type": "markdown",
   "id": "248e760f",
   "metadata": {},
   "source": [
    "## Feature Importance"
   ]
  },
  {
   "cell_type": "code",
   "execution_count": 84,
   "id": "fb319a3b",
   "metadata": {},
   "outputs": [
    {
     "data": {
      "text/html": [
       "<div>\n",
       "<style scoped>\n",
       "    .dataframe tbody tr th:only-of-type {\n",
       "        vertical-align: middle;\n",
       "    }\n",
       "\n",
       "    .dataframe tbody tr th {\n",
       "        vertical-align: top;\n",
       "    }\n",
       "\n",
       "    .dataframe thead th {\n",
       "        text-align: right;\n",
       "    }\n",
       "</style>\n",
       "<table border=\"1\" class=\"dataframe\">\n",
       "  <thead>\n",
       "    <tr style=\"text-align: right;\">\n",
       "      <th></th>\n",
       "      <th>accuracy_test</th>\n",
       "      <th>accuracy_train</th>\n",
       "      <th>precision_test</th>\n",
       "      <th>precision_train</th>\n",
       "      <th>recall_test</th>\n",
       "      <th>recall_train</th>\n",
       "      <th>f1_test</th>\n",
       "      <th>f1_train</th>\n",
       "      <th>auc_test</th>\n",
       "      <th>auc_train</th>\n",
       "    </tr>\n",
       "  </thead>\n",
       "  <tbody>\n",
       "    <tr>\n",
       "      <th>0</th>\n",
       "      <td>0.897535</td>\n",
       "      <td>0.972415</td>\n",
       "      <td>0.097387</td>\n",
       "      <td>0.946131</td>\n",
       "      <td>0.372727</td>\n",
       "      <td>0.998627</td>\n",
       "      <td>0.154426</td>\n",
       "      <td>0.97167</td>\n",
       "      <td>0.655758</td>\n",
       "      <td>0.996686</td>\n",
       "    </tr>\n",
       "  </tbody>\n",
       "</table>\n",
       "</div>"
      ],
      "text/plain": [
       "   accuracy_test  accuracy_train  precision_test  precision_train  \\\n",
       "0       0.897535        0.972415        0.097387         0.946131   \n",
       "\n",
       "   recall_test  recall_train   f1_test  f1_train  auc_test  auc_train  \n",
       "0     0.372727      0.998627  0.154426   0.97167  0.655758   0.996686  "
      ]
     },
     "execution_count": 84,
     "metadata": {},
     "output_type": "execute_result"
    }
   ],
   "source": [
    "import xgboost as xgb\n",
    "clf = xgb.XGBClassifier(colsample_bytree= 0.8, reg_alpha= 0.5,reg_lambda= 0.5)\n",
    "\n",
    "clf.fit(features_train,label_train)\n",
    "\n",
    "pred_train = clf.predict(features_train)\n",
    "pred_test = clf.predict(features_test)\n",
    "pred_proba = clf.predict_proba(features_test)[:,1]\n",
    "\n",
    "\n",
    "from sklearn.metrics import accuracy_score\n",
    "accuracy_train_xgb = accuracy_score(pred_train,label_train)\n",
    "accuracy_test_xgb = accuracy_score(pred_test,label_test)\n",
    "\n",
    "from sklearn.metrics import precision_score\n",
    "precision_train_xgb = precision_score(pred_train,label_train)\n",
    "precision_test_xgb = precision_score(pred_test,label_test)\n",
    "\n",
    "from sklearn.metrics import recall_score\n",
    "recall_train_xgb = recall_score(pred_train,label_train)\n",
    "recall_test_xgb = recall_score(pred_test,label_test)\n",
    "\n",
    "from sklearn.metrics import f1_score\n",
    "f1_train_xgb = f1_score(pred_train,label_train)\n",
    "f1_test_xgb = f1_score(pred_test,label_test)\n",
    "\n",
    "from sklearn import metrics\n",
    "fpr, tpr, _ = metrics.roc_curve(np.array(label_train), clf.predict_proba(features_train)[:,1])\n",
    "auc_train_xgb = metrics.auc(fpr,tpr)\n",
    "\n",
    "fpr, tpr, _ = metrics.roc_curve(np.array(label_test), clf.predict_proba(features_test)[:,1])\n",
    "auc_test_xgb = metrics.auc(fpr,tpr)\n",
    "auc_overfitting_xgb = auc_test_xgb-auc_train_xgb\n",
    "\n",
    "pd.DataFrame({'accuracy_test':[accuracy_test_xgb],'accuracy_train':[accuracy_train_xgb],\n",
    "             'precision_test':[precision_test_xgb],'precision_train':[precision_train_xgb],\n",
    "             'recall_test':[recall_test_xgb],'recall_train':[recall_train_xgb],\n",
    "             'f1_test':[f1_test_xgb],'f1_train':[f1_train_xgb],\n",
    "             'auc_test':[auc_test_xgb],'auc_train':[auc_train_xgb]})"
   ]
  },
  {
   "cell_type": "code",
   "execution_count": 85,
   "id": "3a71f9ed",
   "metadata": {
    "scrolled": true
   },
   "outputs": [
    {
     "data": {
      "image/png": "[encoded data removed]",
      "text/plain": [
       "<Figure size 720x720 with 1 Axes>"
      ]
     },
     "metadata": {
      "needs_background": "light"
     },
     "output_type": "display_data"
    }
   ],
   "source": [
    "X_train_col = X_train\n",
    "X_test_col = X_test\n",
    "features_important = pd.DataFrame({'Feature':X_train_col.columns.tolist(),\n",
    "                          'Value':list(clf.feature_importances_)})\n",
    "features_important = features_important.sort_values('Value',ascending=False)\n",
    "plt.figure(figsize=(10,10))\n",
    "sns.barplot(x='Value',y='Feature',data=features_important)\n",
    "plt.show()"
   ]
  },
  {
   "cell_type": "code",
   "execution_count": 86,
   "id": "f7445457",
   "metadata": {},
   "outputs": [],
   "source": [
    "column_important = features_important['Feature'].tolist()"
   ]
  },
  {
   "cell_type": "markdown",
   "id": "f32f01b9",
   "metadata": {},
   "source": [
    "### Length of Contract"
   ]
  },
  {
   "cell_type": "code",
   "execution_count": 87,
   "id": "ea908113",
   "metadata": {},
   "outputs": [],
   "source": [
    "model_table['id'] = client['id']"
   ]
  },
  {
   "cell_type": "code",
   "execution_count": 88,
   "id": "452c61d8",
   "metadata": {},
   "outputs": [],
   "source": [
    "length_contract = model_table.groupby(['length_contract','churn'])['id'].count().reset_index()"
   ]
  },
  {
   "cell_type": "code",
   "execution_count": 89,
   "id": "484d893b",
   "metadata": {},
   "outputs": [
    {
     "data": {
      "text/plain": [
       "<AxesSubplot:xlabel='length_contract', ylabel='id'>"
      ]
     },
     "execution_count": 89,
     "metadata": {},
     "output_type": "execute_result"
    },
    {
     "data": {
      "image/png": "[encoded data removed]",
      "text/plain": [
       "<Figure size 432x288 with 1 Axes>"
      ]
     },
     "metadata": {
      "needs_background": "light"
     },
     "output_type": "display_data"
    }
   ],
   "source": [
    "sns.barplot(x='length_contract',y='id',hue='churn',data=length_contract)"
   ]
  },
  {
   "cell_type": "markdown",
   "id": "06cd9d78",
   "metadata": {},
   "source": [
    "**Data Insight**\n",
    "\n",
    "length contract 3-7 years have higher churn customer"
   ]
  },
  {
   "cell_type": "code",
   "execution_count": 90,
   "id": "a7e252e4",
   "metadata": {},
   "outputs": [
    {
     "data": {
      "text/plain": [
       "<AxesSubplot:xlabel='length_contract', ylabel='%churn'>"
      ]
     },
     "execution_count": 90,
     "metadata": {},
     "output_type": "execute_result"
    },
    {
     "data": {
      "image/png": "[encoded data removed]",
      "text/plain": [
       "<Figure size 432x288 with 1 Axes>"
      ]
     },
     "metadata": {
      "needs_background": "light"
     },
     "output_type": "display_data"
    }
   ],
   "source": [
    "length_contract = model_table[model_table['churn']==1]\n",
    "total_churn = model_table.groupby(['length_contract'])['id'].count().reset_index()\n",
    "total_churn.columns = ['length_contract','total']\n",
    "length_contract = length_contract.groupby(['length_contract'])['id'].count().reset_index()\n",
    "length_contract = length_contract.merge(total_churn,how='left',on='length_contract')\n",
    "length_contract['%churn'] = (length_contract['id']/length_contract['total'])*100\n",
    "sns.barplot(x='length_contract',y='%churn',data=length_contract)"
   ]
  },
  {
   "cell_type": "markdown",
   "id": "8eb0ee5b",
   "metadata": {},
   "source": [
    "**Data Insight**\n",
    "\n",
    "length contract 3 years most high churn rate"
   ]
  },
  {
   "cell_type": "markdown",
   "id": "6ce64b5b",
   "metadata": {},
   "source": [
    "### offpeak_diff_dec_jan_power"
   ]
  },
  {
   "cell_type": "code",
   "execution_count": 91,
   "id": "41cb99cd",
   "metadata": {},
   "outputs": [
    {
     "data": {
      "text/plain": [
       "count    14606.000000\n",
       "mean         0.278495\n",
       "std          1.349231\n",
       "min        -44.266931\n",
       "25%          0.000004\n",
       "50%          0.162916\n",
       "75%          0.177779\n",
       "max         40.728885\n",
       "Name: offpeak_diff_dec_january_power, dtype: float64"
      ]
     },
     "execution_count": 91,
     "metadata": {},
     "output_type": "execute_result"
    }
   ],
   "source": [
    "model_table['offpeak_diff_dec_january_power'].describe()"
   ]
  },
  {
   "cell_type": "markdown",
   "id": "5929650d",
   "metadata": {},
   "source": [
    "**Data Insight**\n",
    "\n",
    "75% customer have diffirent offpeak dec-jan power less 1 and more -1"
   ]
  },
  {
   "cell_type": "code",
   "execution_count": 92,
   "id": "2fb23e35",
   "metadata": {},
   "outputs": [],
   "source": [
    "offpeak_total = model_table.groupby('offpeak_diff_dec_january_power')['id'].count().reset_index()\n",
    "offpeak_total.columns = ['offpeak_diff_dec_january_power','total']"
   ]
  },
  {
   "cell_type": "code",
   "execution_count": 93,
   "id": "2922599b",
   "metadata": {},
   "outputs": [
    {
     "data": {
      "text/html": [
       "<div>\n",
       "<style scoped>\n",
       "    .dataframe tbody tr th:only-of-type {\n",
       "        vertical-align: middle;\n",
       "    }\n",
       "\n",
       "    .dataframe tbody tr th {\n",
       "        vertical-align: top;\n",
       "    }\n",
       "\n",
       "    .dataframe thead th {\n",
       "        text-align: right;\n",
       "    }\n",
       "</style>\n",
       "<table border=\"1\" class=\"dataframe\">\n",
       "  <thead>\n",
       "    <tr style=\"text-align: right;\">\n",
       "      <th></th>\n",
       "      <th>offpeak_diff_dec_january_power</th>\n",
       "      <th>id</th>\n",
       "      <th>total</th>\n",
       "      <th>%churn</th>\n",
       "    </tr>\n",
       "  </thead>\n",
       "  <tbody>\n",
       "    <tr>\n",
       "      <th>17</th>\n",
       "      <td>0.177779</td>\n",
       "      <td>429</td>\n",
       "      <td>5221</td>\n",
       "      <td>8.216817</td>\n",
       "    </tr>\n",
       "    <tr>\n",
       "      <th>15</th>\n",
       "      <td>0.162916</td>\n",
       "      <td>352</td>\n",
       "      <td>3381</td>\n",
       "      <td>10.411121</td>\n",
       "    </tr>\n",
       "    <tr>\n",
       "      <th>11</th>\n",
       "      <td>0.000000</td>\n",
       "      <td>157</td>\n",
       "      <td>1462</td>\n",
       "      <td>10.738714</td>\n",
       "    </tr>\n",
       "    <tr>\n",
       "      <th>9</th>\n",
       "      <td>-0.000001</td>\n",
       "      <td>149</td>\n",
       "      <td>1761</td>\n",
       "      <td>8.461102</td>\n",
       "    </tr>\n",
       "    <tr>\n",
       "      <th>12</th>\n",
       "      <td>0.000004</td>\n",
       "      <td>89</td>\n",
       "      <td>677</td>\n",
       "      <td>13.146233</td>\n",
       "    </tr>\n",
       "    <tr>\n",
       "      <th>38</th>\n",
       "      <td>2.177779</td>\n",
       "      <td>43</td>\n",
       "      <td>359</td>\n",
       "      <td>11.977716</td>\n",
       "    </tr>\n",
       "    <tr>\n",
       "      <th>35</th>\n",
       "      <td>1.677779</td>\n",
       "      <td>36</td>\n",
       "      <td>357</td>\n",
       "      <td>10.084034</td>\n",
       "    </tr>\n",
       "    <tr>\n",
       "      <th>28</th>\n",
       "      <td>0.662916</td>\n",
       "      <td>22</td>\n",
       "      <td>160</td>\n",
       "      <td>13.750000</td>\n",
       "    </tr>\n",
       "    <tr>\n",
       "      <th>21</th>\n",
       "      <td>0.236694</td>\n",
       "      <td>18</td>\n",
       "      <td>68</td>\n",
       "      <td>26.470588</td>\n",
       "    </tr>\n",
       "    <tr>\n",
       "      <th>32</th>\n",
       "      <td>1.177778</td>\n",
       "      <td>15</td>\n",
       "      <td>217</td>\n",
       "      <td>6.912442</td>\n",
       "    </tr>\n",
       "  </tbody>\n",
       "</table>\n",
       "</div>"
      ],
      "text/plain": [
       "    offpeak_diff_dec_january_power   id  total     %churn\n",
       "17                        0.177779  429   5221   8.216817\n",
       "15                        0.162916  352   3381  10.411121\n",
       "11                        0.000000  157   1462  10.738714\n",
       "9                        -0.000001  149   1761   8.461102\n",
       "12                        0.000004   89    677  13.146233\n",
       "38                        2.177779   43    359  11.977716\n",
       "35                        1.677779   36    357  10.084034\n",
       "28                        0.662916   22    160  13.750000\n",
       "21                        0.236694   18     68  26.470588\n",
       "32                        1.177778   15    217   6.912442"
      ]
     },
     "execution_count": 93,
     "metadata": {},
     "output_type": "execute_result"
    }
   ],
   "source": [
    "offpeak_churn = model_table[model_table['churn']==1]\n",
    "offpeak_churn = offpeak_churn.groupby('offpeak_diff_dec_january_power')['id'].count().reset_index()\n",
    "offpeak_churn = offpeak_churn.merge(offpeak_total,how='left',on='offpeak_diff_dec_january_power')\n",
    "offpeak_churn['%churn'] = (offpeak_churn['id']/offpeak_churn['total'])*100\n",
    "offpeak_churn.sort_values('id',ascending=False)[:10]"
   ]
  },
  {
   "cell_type": "code",
   "execution_count": 94,
   "id": "eba81efc",
   "metadata": {},
   "outputs": [
    {
     "data": {
      "text/html": [
       "<div>\n",
       "<style scoped>\n",
       "    .dataframe tbody tr th:only-of-type {\n",
       "        vertical-align: middle;\n",
       "    }\n",
       "\n",
       "    .dataframe tbody tr th {\n",
       "        vertical-align: top;\n",
       "    }\n",
       "\n",
       "    .dataframe thead th {\n",
       "        text-align: right;\n",
       "    }\n",
       "</style>\n",
       "<table border=\"1\" class=\"dataframe\">\n",
       "  <thead>\n",
       "    <tr style=\"text-align: right;\">\n",
       "      <th></th>\n",
       "      <th>offpeak_diff_dec_january_power</th>\n",
       "      <th>id</th>\n",
       "      <th>total</th>\n",
       "      <th>%churn</th>\n",
       "    </tr>\n",
       "  </thead>\n",
       "  <tbody>\n",
       "    <tr>\n",
       "      <th>2</th>\n",
       "      <td>-14.669844</td>\n",
       "      <td>1</td>\n",
       "      <td>1</td>\n",
       "      <td>100.000000</td>\n",
       "    </tr>\n",
       "    <tr>\n",
       "      <th>47</th>\n",
       "      <td>9.177780</td>\n",
       "      <td>1</td>\n",
       "      <td>1</td>\n",
       "      <td>100.000000</td>\n",
       "    </tr>\n",
       "    <tr>\n",
       "      <th>45</th>\n",
       "      <td>4.466522</td>\n",
       "      <td>1</td>\n",
       "      <td>1</td>\n",
       "      <td>100.000000</td>\n",
       "    </tr>\n",
       "    <tr>\n",
       "      <th>44</th>\n",
       "      <td>3.893604</td>\n",
       "      <td>1</td>\n",
       "      <td>1</td>\n",
       "      <td>100.000000</td>\n",
       "    </tr>\n",
       "    <tr>\n",
       "      <th>40</th>\n",
       "      <td>2.837631</td>\n",
       "      <td>1</td>\n",
       "      <td>1</td>\n",
       "      <td>100.000000</td>\n",
       "    </tr>\n",
       "    <tr>\n",
       "      <th>42</th>\n",
       "      <td>3.715825</td>\n",
       "      <td>2</td>\n",
       "      <td>3</td>\n",
       "      <td>66.666667</td>\n",
       "    </tr>\n",
       "    <tr>\n",
       "      <th>6</th>\n",
       "      <td>-0.497997</td>\n",
       "      <td>2</td>\n",
       "      <td>3</td>\n",
       "      <td>66.666667</td>\n",
       "    </tr>\n",
       "    <tr>\n",
       "      <th>1</th>\n",
       "      <td>-14.762221</td>\n",
       "      <td>1</td>\n",
       "      <td>2</td>\n",
       "      <td>50.000000</td>\n",
       "    </tr>\n",
       "    <tr>\n",
       "      <th>24</th>\n",
       "      <td>0.468123</td>\n",
       "      <td>1</td>\n",
       "      <td>2</td>\n",
       "      <td>50.000000</td>\n",
       "    </tr>\n",
       "    <tr>\n",
       "      <th>39</th>\n",
       "      <td>2.177780</td>\n",
       "      <td>1</td>\n",
       "      <td>2</td>\n",
       "      <td>50.000000</td>\n",
       "    </tr>\n",
       "  </tbody>\n",
       "</table>\n",
       "</div>"
      ],
      "text/plain": [
       "    offpeak_diff_dec_january_power  id  total      %churn\n",
       "2                       -14.669844   1      1  100.000000\n",
       "47                        9.177780   1      1  100.000000\n",
       "45                        4.466522   1      1  100.000000\n",
       "44                        3.893604   1      1  100.000000\n",
       "40                        2.837631   1      1  100.000000\n",
       "42                        3.715825   2      3   66.666667\n",
       "6                        -0.497997   2      3   66.666667\n",
       "1                       -14.762221   1      2   50.000000\n",
       "24                        0.468123   1      2   50.000000\n",
       "39                        2.177780   1      2   50.000000"
      ]
     },
     "execution_count": 94,
     "metadata": {},
     "output_type": "execute_result"
    }
   ],
   "source": [
    "offpeak_churn.sort_values('%churn',ascending=False)[:10]"
   ]
  },
  {
   "cell_type": "code",
   "execution_count": 95,
   "id": "082694c4",
   "metadata": {},
   "outputs": [],
   "source": [
    "import shap\n",
    "explainer = shap.Explainer(clf)\n",
    "shap_values = explainer(features_train)"
   ]
  },
  {
   "cell_type": "code",
   "execution_count": 154,
   "id": "c79f082f",
   "metadata": {},
   "outputs": [
    {
     "data": {
      "image/png": "[encoded data removed]",
      "text/plain": [
       "<Figure size 576x396 with 2 Axes>"
      ]
     },
     "metadata": {
      "needs_background": "light"
     },
     "output_type": "display_data"
    }
   ],
   "source": [
    "shap.plots.beeswarm(shap_values)"
   ]
  },
  {
   "cell_type": "markdown",
   "id": "2c6ff68f",
   "metadata": {},
   "source": [
    "**Data Insight**\n",
    "\n",
    "higher different offpeak price can higher churn rate"
   ]
  },
  {
   "cell_type": "markdown",
   "id": "d9a25b26",
   "metadata": {},
   "source": [
    "### num_years_antig"
   ]
  },
  {
   "cell_type": "code",
   "execution_count": 97,
   "id": "09fd6d1e",
   "metadata": {},
   "outputs": [
    {
     "data": {
      "text/plain": [
       "count    14606.000000\n",
       "mean         4.997809\n",
       "std          1.611749\n",
       "min          1.000000\n",
       "25%          4.000000\n",
       "50%          5.000000\n",
       "75%          6.000000\n",
       "max         13.000000\n",
       "Name: num_years_antig, dtype: float64"
      ]
     },
     "execution_count": 97,
     "metadata": {},
     "output_type": "execute_result"
    }
   ],
   "source": [
    "model_table['num_years_antig'].describe()"
   ]
  },
  {
   "cell_type": "markdown",
   "id": "af2722a7",
   "metadata": {},
   "source": [
    "**Data Insight**\n",
    "\n",
    "50% customer have less 4 years membership"
   ]
  },
  {
   "cell_type": "code",
   "execution_count": 98,
   "id": "2f428d7d",
   "metadata": {
    "scrolled": true
   },
   "outputs": [
    {
     "data": {
      "text/plain": [
       "<AxesSubplot:xlabel='num_years_antig', ylabel='id'>"
      ]
     },
     "execution_count": 98,
     "metadata": {},
     "output_type": "execute_result"
    },
    {
     "data": {
      "image/png": "[encoded data removed]",
      "text/plain": [
       "<Figure size 432x288 with 1 Axes>"
      ]
     },
     "metadata": {
      "needs_background": "light"
     },
     "output_type": "display_data"
    }
   ],
   "source": [
    "churn_customer = model_table[model_table['churn']==1]\n",
    "churn_customer = churn_customer.groupby(['num_years_antig'])['id'].count().reset_index()\n",
    "sns.barplot(x='num_years_antig',y='id',data=churn_customer)"
   ]
  },
  {
   "cell_type": "code",
   "execution_count": 99,
   "id": "cbc68687",
   "metadata": {},
   "outputs": [],
   "source": [
    "total_customer = model_table.groupby(['num_years_antig'])['id'].count().reset_index()\n",
    "total_customer.columns = ['num_years_antig','total']"
   ]
  },
  {
   "cell_type": "code",
   "execution_count": 100,
   "id": "eded33d7",
   "metadata": {},
   "outputs": [],
   "source": [
    "churn_customer = churn_customer.merge(total_customer,how='left',on='num_years_antig')"
   ]
  },
  {
   "cell_type": "code",
   "execution_count": 101,
   "id": "b3a78bb1",
   "metadata": {},
   "outputs": [
    {
     "data": {
      "text/plain": [
       "<AxesSubplot:xlabel='num_years_antig', ylabel='%churn'>"
      ]
     },
     "execution_count": 101,
     "metadata": {},
     "output_type": "execute_result"
    },
    {
     "data": {
      "image/png": "[encoded data removed]",
      "text/plain": [
       "<Figure size 432x288 with 1 Axes>"
      ]
     },
     "metadata": {
      "needs_background": "light"
     },
     "output_type": "display_data"
    }
   ],
   "source": [
    "churn_customer['%churn'] = (churn_customer['id']/churn_customer['total'])*100\n",
    "sns.barplot(x='num_years_antig',y='%churn',data = churn_customer)"
   ]
  },
  {
   "cell_type": "markdown",
   "id": "5e6a181d",
   "metadata": {},
   "source": [
    "**Data Insight**\n",
    "\n",
    "younger membership customer tend to be churn"
   ]
  },
  {
   "cell_type": "markdown",
   "id": "01c4c94d",
   "metadata": {},
   "source": [
    "### Pow Max"
   ]
  },
  {
   "cell_type": "code",
   "execution_count": 102,
   "id": "b6885a2e",
   "metadata": {},
   "outputs": [
    {
     "data": {
      "text/plain": [
       "count    14606.000000\n",
       "mean        18.135136\n",
       "std         13.534743\n",
       "min          3.300000\n",
       "25%         12.500000\n",
       "50%         13.856000\n",
       "75%         19.172500\n",
       "max        320.000000\n",
       "Name: pow_max, dtype: float64"
      ]
     },
     "execution_count": 102,
     "metadata": {},
     "output_type": "execute_result"
    }
   ],
   "source": [
    "model_table['pow_max'].describe()"
   ]
  },
  {
   "cell_type": "code",
   "execution_count": 106,
   "id": "400e3849",
   "metadata": {},
   "outputs": [
    {
     "data": {
      "text/plain": [
       "<AxesSubplot:xlabel='pow_max', ylabel='Density'>"
      ]
     },
     "execution_count": 106,
     "metadata": {},
     "output_type": "execute_result"
    },
    {
     "data": {
      "image/png": "[encoded data removed]",
      "text/plain": [
       "<Figure size 432x288 with 1 Axes>"
      ]
     },
     "metadata": {
      "needs_background": "light"
     },
     "output_type": "display_data"
    }
   ],
   "source": [
    "sns.kdeplot(model_table['pow_max'],hue=model_table['churn'])"
   ]
  },
  {
   "cell_type": "code",
   "execution_count": 123,
   "id": "316ba452",
   "metadata": {},
   "outputs": [],
   "source": [
    "pow_max = model_table[model_table['pow_max']<19]"
   ]
  },
  {
   "cell_type": "code",
   "execution_count": 124,
   "id": "316d6cfe",
   "metadata": {},
   "outputs": [
    {
     "data": {
      "text/html": [
       "<div>\n",
       "<style scoped>\n",
       "    .dataframe tbody tr th:only-of-type {\n",
       "        vertical-align: middle;\n",
       "    }\n",
       "\n",
       "    .dataframe tbody tr th {\n",
       "        vertical-align: top;\n",
       "    }\n",
       "\n",
       "    .dataframe thead th {\n",
       "        text-align: right;\n",
       "    }\n",
       "</style>\n",
       "<table border=\"1\" class=\"dataframe\">\n",
       "  <thead>\n",
       "    <tr style=\"text-align: right;\">\n",
       "      <th></th>\n",
       "      <th>pow_max</th>\n",
       "      <th>id</th>\n",
       "      <th>total</th>\n",
       "      <th>%churn</th>\n",
       "    </tr>\n",
       "  </thead>\n",
       "  <tbody>\n",
       "    <tr>\n",
       "      <th>25</th>\n",
       "      <td>13.200</td>\n",
       "      <td>168</td>\n",
       "      <td>2124</td>\n",
       "      <td>7.909605</td>\n",
       "    </tr>\n",
       "    <tr>\n",
       "      <th>6</th>\n",
       "      <td>10.392</td>\n",
       "      <td>167</td>\n",
       "      <td>2000</td>\n",
       "      <td>8.350000</td>\n",
       "    </tr>\n",
       "    <tr>\n",
       "      <th>30</th>\n",
       "      <td>13.856</td>\n",
       "      <td>141</td>\n",
       "      <td>1504</td>\n",
       "      <td>9.375000</td>\n",
       "    </tr>\n",
       "    <tr>\n",
       "      <th>39</th>\n",
       "      <td>15.000</td>\n",
       "      <td>47</td>\n",
       "      <td>583</td>\n",
       "      <td>8.061750</td>\n",
       "    </tr>\n",
       "    <tr>\n",
       "      <th>60</th>\n",
       "      <td>16.500</td>\n",
       "      <td>39</td>\n",
       "      <td>405</td>\n",
       "      <td>9.629630</td>\n",
       "    </tr>\n",
       "    <tr>\n",
       "      <th>4</th>\n",
       "      <td>10.350</td>\n",
       "      <td>35</td>\n",
       "      <td>480</td>\n",
       "      <td>7.291667</td>\n",
       "    </tr>\n",
       "    <tr>\n",
       "      <th>5</th>\n",
       "      <td>10.390</td>\n",
       "      <td>34</td>\n",
       "      <td>224</td>\n",
       "      <td>15.178571</td>\n",
       "    </tr>\n",
       "    <tr>\n",
       "      <th>69</th>\n",
       "      <td>17.321</td>\n",
       "      <td>33</td>\n",
       "      <td>233</td>\n",
       "      <td>14.163090</td>\n",
       "    </tr>\n",
       "    <tr>\n",
       "      <th>23</th>\n",
       "      <td>13.150</td>\n",
       "      <td>31</td>\n",
       "      <td>234</td>\n",
       "      <td>13.247863</td>\n",
       "    </tr>\n",
       "    <tr>\n",
       "      <th>21</th>\n",
       "      <td>12.500</td>\n",
       "      <td>26</td>\n",
       "      <td>269</td>\n",
       "      <td>9.665428</td>\n",
       "    </tr>\n",
       "  </tbody>\n",
       "</table>\n",
       "</div>"
      ],
      "text/plain": [
       "    pow_max   id  total     %churn\n",
       "25   13.200  168   2124   7.909605\n",
       "6    10.392  167   2000   8.350000\n",
       "30   13.856  141   1504   9.375000\n",
       "39   15.000   47    583   8.061750\n",
       "60   16.500   39    405   9.629630\n",
       "4    10.350   35    480   7.291667\n",
       "5    10.390   34    224  15.178571\n",
       "69   17.321   33    233  14.163090\n",
       "23   13.150   31    234  13.247863\n",
       "21   12.500   26    269   9.665428"
      ]
     },
     "execution_count": 124,
     "metadata": {},
     "output_type": "execute_result"
    }
   ],
   "source": [
    "pow_max_total = pow_max.groupby('pow_max')['id'].count().reset_index()\n",
    "pow_max_total.columns = ['pow_max','total']\n",
    "pow_max_churn = pow_max[pow_max['churn']==1]\n",
    "pow_max_churn = pow_max_churn.groupby('pow_max')['id'].count().reset_index()\n",
    "pow_max_churn = pow_max_churn.merge(pow_max_total,how='left',on='pow_max')\n",
    "pow_max_churn['%churn'] = (pow_max_churn['id']/pow_max_churn['total'])*100\n",
    "pow_max_churn.sort_values('id',ascending=False)[:10]"
   ]
  },
  {
   "cell_type": "code",
   "execution_count": 125,
   "id": "3b42a7cf",
   "metadata": {},
   "outputs": [
    {
     "data": {
      "text/plain": [
       "<AxesSubplot:xlabel='pow_max', ylabel='%churn'>"
      ]
     },
     "execution_count": 125,
     "metadata": {},
     "output_type": "execute_result"
    },
    {
     "data": {
      "image/png": "[encoded data removed]",
      "text/plain": [
       "<Figure size 432x288 with 1 Axes>"
      ]
     },
     "metadata": {
      "needs_background": "light"
     },
     "output_type": "display_data"
    }
   ],
   "source": [
    "sns.lineplot(x='pow_max',y='%churn',data=pow_max_churn)"
   ]
  },
  {
   "cell_type": "code",
   "execution_count": 155,
   "id": "d4863df0",
   "metadata": {},
   "outputs": [
    {
     "data": {
      "image/png": "[encoded data removed]",
      "text/plain": [
       "<Figure size 576x396 with 2 Axes>"
      ]
     },
     "metadata": {
      "needs_background": "light"
     },
     "output_type": "display_data"
    }
   ],
   "source": [
    "shap.plots.beeswarm(shap_values)"
   ]
  },
  {
   "cell_type": "markdown",
   "id": "a6cf6146",
   "metadata": {},
   "source": [
    "**Data Insight**\n",
    "\n",
    "Lower power_max much churn consumer"
   ]
  },
  {
   "cell_type": "markdown",
   "id": "11c2c2c4",
   "metadata": {},
   "source": [
    "# Business Impact of Discount"
   ]
  },
  {
   "cell_type": "markdown",
   "id": "04198e80",
   "metadata": {},
   "source": [
    "We analyzed impact of recommendation discount of 20% from SME division. Our task is to calculate the forecast revenue for the set of customers :\n",
    "\n",
    "    1. When no discount offered\n",
    "    2. when discount offered who customer should receive the discount"
   ]
  },
  {
   "cell_type": "markdown",
   "id": "0293858b",
   "metadata": {},
   "source": [
    "## Baseline revenue"
   ]
  },
  {
   "cell_type": "markdown",
   "id": "d4b4cc27",
   "metadata": {},
   "source": [
    "calculate forecast revenue based on forecast consumption and forecast price. we calculate forecast revenue after churn with 91.9% chance of customer churn"
   ]
  },
  {
   "cell_type": "code",
   "execution_count": 163,
   "id": "7b7806a1",
   "metadata": {},
   "outputs": [
    {
     "data": {
      "text/plain": [
       "10992    243.922716\n",
       "13559    223.121771\n",
       "13402    189.656204\n",
       "9463     123.420547\n",
       "12748    314.182923\n",
       "            ...    \n",
       "6495     153.783665\n",
       "4465      85.267307\n",
       "5943     483.791249\n",
       "6173     255.595114\n",
       "10307     66.895355\n",
       "Name: baseline_revenue, Length: 4382, dtype: float64"
      ]
     },
     "execution_count": 163,
     "metadata": {},
     "output_type": "execute_result"
    }
   ],
   "source": [
    "X_test_business['baseline_revenue'] = X_test_business['forecast_cons_12m']*X_test_business['forecast_price_energy_off_peak']+X_test_business['forecast_meter_rent_12m']\n",
    "X_test_business['baseline_revenue']"
   ]
  },
  {
   "cell_type": "code",
   "execution_count": 166,
   "id": "2eae7675",
   "metadata": {},
   "outputs": [
    {
     "data": {
      "text/plain": [
       "10992    243.922716\n",
       "13559    223.121771\n",
       "13402    189.656204\n",
       "9463     123.420547\n",
       "12748    314.182923\n",
       "            ...    \n",
       "6495     153.783665\n",
       "4465      85.267307\n",
       "5943     483.791249\n",
       "6173     255.595114\n",
       "10307     66.895355\n",
       "Name: baseline_revenue_after_churn, Length: 4382, dtype: float64"
      ]
     },
     "execution_count": 166,
     "metadata": {},
     "output_type": "execute_result"
    }
   ],
   "source": [
    "X_test_business['baseline_revenue_after_churn'] = X_test_business['baseline_revenue']*(1-0.919*X_test_business['label_test'])\n",
    "X_test_business['baseline_revenue_after_churn']"
   ]
  },
  {
   "cell_type": "markdown",
   "id": "c857e95e",
   "metadata": {},
   "source": [
    "## Calculate the estimated benefit and cost"
   ]
  },
  {
   "cell_type": "code",
   "execution_count": 168,
   "id": "a167a3c8",
   "metadata": {},
   "outputs": [
    {
     "data": {
      "text/html": [
       "<div>\n",
       "<style scoped>\n",
       "    .dataframe tbody tr th:only-of-type {\n",
       "        vertical-align: middle;\n",
       "    }\n",
       "\n",
       "    .dataframe tbody tr th {\n",
       "        vertical-align: top;\n",
       "    }\n",
       "\n",
       "    .dataframe thead th {\n",
       "        text-align: right;\n",
       "    }\n",
       "</style>\n",
       "<table border=\"1\" class=\"dataframe\">\n",
       "  <thead>\n",
       "    <tr style=\"text-align: right;\">\n",
       "      <th></th>\n",
       "      <th>id</th>\n",
       "      <th>channel_sales</th>\n",
       "      <th>cons_12m</th>\n",
       "      <th>cons_gas_12m</th>\n",
       "      <th>cons_last_month</th>\n",
       "      <th>date_activ</th>\n",
       "      <th>date_end</th>\n",
       "      <th>date_modif_prod</th>\n",
       "      <th>date_renewal</th>\n",
       "      <th>forecast_cons_12m</th>\n",
       "      <th>...</th>\n",
       "      <th>nb_prod_act</th>\n",
       "      <th>net_margin</th>\n",
       "      <th>num_years_antig</th>\n",
       "      <th>origin_up</th>\n",
       "      <th>pow_max</th>\n",
       "      <th>label_test</th>\n",
       "      <th>label_pred</th>\n",
       "      <th>pred_prob</th>\n",
       "      <th>baseline_revenue</th>\n",
       "      <th>baseline_revenue_after_churn</th>\n",
       "    </tr>\n",
       "  </thead>\n",
       "  <tbody>\n",
       "    <tr>\n",
       "      <th>10992</th>\n",
       "      <td>cde7e58c25b60ee66df70b1fd26363d5</td>\n",
       "      <td>lmkebamcaaclubfxadlmueccxoimlema</td>\n",
       "      <td>2940360</td>\n",
       "      <td>155531</td>\n",
       "      <td>269980</td>\n",
       "      <td>2010-11-26</td>\n",
       "      <td>2016-11-26</td>\n",
       "      <td>2010-11-26</td>\n",
       "      <td>2015-11-27</td>\n",
       "      <td>1467.84</td>\n",
       "      <td>...</td>\n",
       "      <td>2</td>\n",
       "      <td>134.54</td>\n",
       "      <td>5</td>\n",
       "      <td>kamkkxfxxuwbdslkwifmmcsiusiuosws</td>\n",
       "      <td>10.350</td>\n",
       "      <td>0</td>\n",
       "      <td>0</td>\n",
       "      <td>0.001604</td>\n",
       "      <td>243.922716</td>\n",
       "      <td>243.922716</td>\n",
       "    </tr>\n",
       "    <tr>\n",
       "      <th>13559</th>\n",
       "      <td>1b998ba935afe9d61fa94177501efad7</td>\n",
       "      <td>MISSING</td>\n",
       "      <td>12752</td>\n",
       "      <td>0</td>\n",
       "      <td>0</td>\n",
       "      <td>2009-09-11</td>\n",
       "      <td>2016-09-03</td>\n",
       "      <td>2015-09-03</td>\n",
       "      <td>2014-09-12</td>\n",
       "      <td>1285.56</td>\n",
       "      <td>...</td>\n",
       "      <td>2</td>\n",
       "      <td>75.64</td>\n",
       "      <td>6</td>\n",
       "      <td>kamkkxfxxuwbdslkwifmmcsiusiuosws</td>\n",
       "      <td>13.856</td>\n",
       "      <td>0</td>\n",
       "      <td>0</td>\n",
       "      <td>0.056841</td>\n",
       "      <td>223.121771</td>\n",
       "      <td>223.121771</td>\n",
       "    </tr>\n",
       "    <tr>\n",
       "      <th>13402</th>\n",
       "      <td>073b1aefdf0d99049952cab892a4f274</td>\n",
       "      <td>foosdfpfkusacimwkcsosbicdxkicaua</td>\n",
       "      <td>983659</td>\n",
       "      <td>0</td>\n",
       "      <td>192253</td>\n",
       "      <td>2012-03-15</td>\n",
       "      <td>2016-03-15</td>\n",
       "      <td>2012-03-15</td>\n",
       "      <td>2015-03-16</td>\n",
       "      <td>917.26</td>\n",
       "      <td>...</td>\n",
       "      <td>1</td>\n",
       "      <td>103.59</td>\n",
       "      <td>4</td>\n",
       "      <td>lxidpiddsbxsbosboudacockeimpuepw</td>\n",
       "      <td>13.200</td>\n",
       "      <td>0</td>\n",
       "      <td>0</td>\n",
       "      <td>0.027869</td>\n",
       "      <td>189.656204</td>\n",
       "      <td>189.656204</td>\n",
       "    </tr>\n",
       "    <tr>\n",
       "      <th>9463</th>\n",
       "      <td>a82964ec7bcf43aab87191bbe4c91e25</td>\n",
       "      <td>MISSING</td>\n",
       "      <td>5055</td>\n",
       "      <td>2848</td>\n",
       "      <td>0</td>\n",
       "      <td>2009-12-17</td>\n",
       "      <td>2016-12-03</td>\n",
       "      <td>2015-11-01</td>\n",
       "      <td>2015-12-04</td>\n",
       "      <td>749.42</td>\n",
       "      <td>...</td>\n",
       "      <td>2</td>\n",
       "      <td>68.40</td>\n",
       "      <td>6</td>\n",
       "      <td>lxidpiddsbxsbosboudacockeimpuepw</td>\n",
       "      <td>10.392</td>\n",
       "      <td>0</td>\n",
       "      <td>0</td>\n",
       "      <td>0.024524</td>\n",
       "      <td>123.420547</td>\n",
       "      <td>123.420547</td>\n",
       "    </tr>\n",
       "    <tr>\n",
       "      <th>12748</th>\n",
       "      <td>7b4d57c7890d389b72fda5e2bdfe7509</td>\n",
       "      <td>usilxuppasemubllopkaafesmlibmsdf</td>\n",
       "      <td>3981</td>\n",
       "      <td>0</td>\n",
       "      <td>1169</td>\n",
       "      <td>2012-12-31</td>\n",
       "      <td>2016-12-31</td>\n",
       "      <td>2012-12-31</td>\n",
       "      <td>2016-01-01</td>\n",
       "      <td>1079.39</td>\n",
       "      <td>...</td>\n",
       "      <td>1</td>\n",
       "      <td>373.07</td>\n",
       "      <td>3</td>\n",
       "      <td>lxidpiddsbxsbosboudacockeimpuepw</td>\n",
       "      <td>15.000</td>\n",
       "      <td>0</td>\n",
       "      <td>0</td>\n",
       "      <td>0.022367</td>\n",
       "      <td>314.182923</td>\n",
       "      <td>314.182923</td>\n",
       "    </tr>\n",
       "    <tr>\n",
       "      <th>...</th>\n",
       "      <td>...</td>\n",
       "      <td>...</td>\n",
       "      <td>...</td>\n",
       "      <td>...</td>\n",
       "      <td>...</td>\n",
       "      <td>...</td>\n",
       "      <td>...</td>\n",
       "      <td>...</td>\n",
       "      <td>...</td>\n",
       "      <td>...</td>\n",
       "      <td>...</td>\n",
       "      <td>...</td>\n",
       "      <td>...</td>\n",
       "      <td>...</td>\n",
       "      <td>...</td>\n",
       "      <td>...</td>\n",
       "      <td>...</td>\n",
       "      <td>...</td>\n",
       "      <td>...</td>\n",
       "      <td>...</td>\n",
       "      <td>...</td>\n",
       "    </tr>\n",
       "    <tr>\n",
       "      <th>6495</th>\n",
       "      <td>b9e126f2a62cc9708311d4eaf3ec36b8</td>\n",
       "      <td>usilxuppasemubllopkaafesmlibmsdf</td>\n",
       "      <td>44551</td>\n",
       "      <td>0</td>\n",
       "      <td>3529</td>\n",
       "      <td>2011-08-26</td>\n",
       "      <td>2016-08-26</td>\n",
       "      <td>2015-07-11</td>\n",
       "      <td>2015-08-27</td>\n",
       "      <td>191.65</td>\n",
       "      <td>...</td>\n",
       "      <td>1</td>\n",
       "      <td>22.75</td>\n",
       "      <td>4</td>\n",
       "      <td>kamkkxfxxuwbdslkwifmmcsiusiuosws</td>\n",
       "      <td>21.000</td>\n",
       "      <td>0</td>\n",
       "      <td>0</td>\n",
       "      <td>0.053029</td>\n",
       "      <td>153.783665</td>\n",
       "      <td>153.783665</td>\n",
       "    </tr>\n",
       "    <tr>\n",
       "      <th>4465</th>\n",
       "      <td>f8a925b570b5094e3706add741536b39</td>\n",
       "      <td>foosdfpfkusacimwkcsosbicdxkicaua</td>\n",
       "      <td>3178</td>\n",
       "      <td>0</td>\n",
       "      <td>0</td>\n",
       "      <td>2009-08-21</td>\n",
       "      <td>2016-08-21</td>\n",
       "      <td>2015-06-17</td>\n",
       "      <td>2015-08-24</td>\n",
       "      <td>469.67</td>\n",
       "      <td>...</td>\n",
       "      <td>1</td>\n",
       "      <td>36.78</td>\n",
       "      <td>6</td>\n",
       "      <td>kamkkxfxxuwbdslkwifmmcsiusiuosws</td>\n",
       "      <td>13.800</td>\n",
       "      <td>0</td>\n",
       "      <td>0</td>\n",
       "      <td>0.162681</td>\n",
       "      <td>85.267307</td>\n",
       "      <td>85.267307</td>\n",
       "    </tr>\n",
       "    <tr>\n",
       "      <th>5943</th>\n",
       "      <td>dd256147f4c951bb49ae906bc483dbfe</td>\n",
       "      <td>foosdfpfkusacimwkcsosbicdxkicaua</td>\n",
       "      <td>29160</td>\n",
       "      <td>0</td>\n",
       "      <td>3552</td>\n",
       "      <td>2010-08-14</td>\n",
       "      <td>2016-08-14</td>\n",
       "      <td>2010-08-14</td>\n",
       "      <td>2015-08-16</td>\n",
       "      <td>3017.46</td>\n",
       "      <td>...</td>\n",
       "      <td>1</td>\n",
       "      <td>367.32</td>\n",
       "      <td>5</td>\n",
       "      <td>lxidpiddsbxsbosboudacockeimpuepw</td>\n",
       "      <td>19.700</td>\n",
       "      <td>0</td>\n",
       "      <td>0</td>\n",
       "      <td>0.350155</td>\n",
       "      <td>483.791249</td>\n",
       "      <td>483.791249</td>\n",
       "    </tr>\n",
       "    <tr>\n",
       "      <th>6173</th>\n",
       "      <td>009c4f0e98c8dc8bd69f318724b2f1d5</td>\n",
       "      <td>foosdfpfkusacimwkcsosbicdxkicaua</td>\n",
       "      <td>17285</td>\n",
       "      <td>0</td>\n",
       "      <td>3947</td>\n",
       "      <td>2011-11-01</td>\n",
       "      <td>2016-11-01</td>\n",
       "      <td>2011-11-01</td>\n",
       "      <td>2015-11-02</td>\n",
       "      <td>2193.78</td>\n",
       "      <td>...</td>\n",
       "      <td>1</td>\n",
       "      <td>230.58</td>\n",
       "      <td>4</td>\n",
       "      <td>lxidpiddsbxsbosboudacockeimpuepw</td>\n",
       "      <td>40.000</td>\n",
       "      <td>0</td>\n",
       "      <td>0</td>\n",
       "      <td>0.011229</td>\n",
       "      <td>255.595114</td>\n",
       "      <td>255.595114</td>\n",
       "    </tr>\n",
       "    <tr>\n",
       "      <th>10307</th>\n",
       "      <td>492dd49c9173ba0edcf5d4431f0e5ef4</td>\n",
       "      <td>MISSING</td>\n",
       "      <td>3030</td>\n",
       "      <td>0</td>\n",
       "      <td>0</td>\n",
       "      <td>2011-04-14</td>\n",
       "      <td>2016-04-14</td>\n",
       "      <td>2011-04-14</td>\n",
       "      <td>2015-04-15</td>\n",
       "      <td>451.08</td>\n",
       "      <td>...</td>\n",
       "      <td>2</td>\n",
       "      <td>39.44</td>\n",
       "      <td>5</td>\n",
       "      <td>kamkkxfxxuwbdslkwifmmcsiusiuosws</td>\n",
       "      <td>11.400</td>\n",
       "      <td>0</td>\n",
       "      <td>0</td>\n",
       "      <td>0.114349</td>\n",
       "      <td>66.895355</td>\n",
       "      <td>66.895355</td>\n",
       "    </tr>\n",
       "  </tbody>\n",
       "</table>\n",
       "<p>4382 rows × 30 columns</p>\n",
       "</div>"
      ],
      "text/plain": [
       "                                     id                     channel_sales  \\\n",
       "10992  cde7e58c25b60ee66df70b1fd26363d5  lmkebamcaaclubfxadlmueccxoimlema   \n",
       "13559  1b998ba935afe9d61fa94177501efad7                           MISSING   \n",
       "13402  073b1aefdf0d99049952cab892a4f274  foosdfpfkusacimwkcsosbicdxkicaua   \n",
       "9463   a82964ec7bcf43aab87191bbe4c91e25                           MISSING   \n",
       "12748  7b4d57c7890d389b72fda5e2bdfe7509  usilxuppasemubllopkaafesmlibmsdf   \n",
       "...                                 ...                               ...   \n",
       "6495   b9e126f2a62cc9708311d4eaf3ec36b8  usilxuppasemubllopkaafesmlibmsdf   \n",
       "4465   f8a925b570b5094e3706add741536b39  foosdfpfkusacimwkcsosbicdxkicaua   \n",
       "5943   dd256147f4c951bb49ae906bc483dbfe  foosdfpfkusacimwkcsosbicdxkicaua   \n",
       "6173   009c4f0e98c8dc8bd69f318724b2f1d5  foosdfpfkusacimwkcsosbicdxkicaua   \n",
       "10307  492dd49c9173ba0edcf5d4431f0e5ef4                           MISSING   \n",
       "\n",
       "       cons_12m  cons_gas_12m  cons_last_month  date_activ    date_end  \\\n",
       "10992   2940360        155531           269980  2010-11-26  2016-11-26   \n",
       "13559     12752             0                0  2009-09-11  2016-09-03   \n",
       "13402    983659             0           192253  2012-03-15  2016-03-15   \n",
       "9463       5055          2848                0  2009-12-17  2016-12-03   \n",
       "12748      3981             0             1169  2012-12-31  2016-12-31   \n",
       "...         ...           ...              ...         ...         ...   \n",
       "6495      44551             0             3529  2011-08-26  2016-08-26   \n",
       "4465       3178             0                0  2009-08-21  2016-08-21   \n",
       "5943      29160             0             3552  2010-08-14  2016-08-14   \n",
       "6173      17285             0             3947  2011-11-01  2016-11-01   \n",
       "10307      3030             0                0  2011-04-14  2016-04-14   \n",
       "\n",
       "      date_modif_prod date_renewal  forecast_cons_12m  ...  nb_prod_act  \\\n",
       "10992      2010-11-26   2015-11-27            1467.84  ...            2   \n",
       "13559      2015-09-03   2014-09-12            1285.56  ...            2   \n",
       "13402      2012-03-15   2015-03-16             917.26  ...            1   \n",
       "9463       2015-11-01   2015-12-04             749.42  ...            2   \n",
       "12748      2012-12-31   2016-01-01            1079.39  ...            1   \n",
       "...               ...          ...                ...  ...          ...   \n",
       "6495       2015-07-11   2015-08-27             191.65  ...            1   \n",
       "4465       2015-06-17   2015-08-24             469.67  ...            1   \n",
       "5943       2010-08-14   2015-08-16            3017.46  ...            1   \n",
       "6173       2011-11-01   2015-11-02            2193.78  ...            1   \n",
       "10307      2011-04-14   2015-04-15             451.08  ...            2   \n",
       "\n",
       "       net_margin  num_years_antig                         origin_up  pow_max  \\\n",
       "10992      134.54                5  kamkkxfxxuwbdslkwifmmcsiusiuosws   10.350   \n",
       "13559       75.64                6  kamkkxfxxuwbdslkwifmmcsiusiuosws   13.856   \n",
       "13402      103.59                4  lxidpiddsbxsbosboudacockeimpuepw   13.200   \n",
       "9463        68.40                6  lxidpiddsbxsbosboudacockeimpuepw   10.392   \n",
       "12748      373.07                3  lxidpiddsbxsbosboudacockeimpuepw   15.000   \n",
       "...           ...              ...                               ...      ...   \n",
       "6495        22.75                4  kamkkxfxxuwbdslkwifmmcsiusiuosws   21.000   \n",
       "4465        36.78                6  kamkkxfxxuwbdslkwifmmcsiusiuosws   13.800   \n",
       "5943       367.32                5  lxidpiddsbxsbosboudacockeimpuepw   19.700   \n",
       "6173       230.58                4  lxidpiddsbxsbosboudacockeimpuepw   40.000   \n",
       "10307       39.44                5  kamkkxfxxuwbdslkwifmmcsiusiuosws   11.400   \n",
       "\n",
       "       label_test label_pred  pred_prob  baseline_revenue  \\\n",
       "10992           0          0   0.001604        243.922716   \n",
       "13559           0          0   0.056841        223.121771   \n",
       "13402           0          0   0.027869        189.656204   \n",
       "9463            0          0   0.024524        123.420547   \n",
       "12748           0          0   0.022367        314.182923   \n",
       "...           ...        ...        ...               ...   \n",
       "6495            0          0   0.053029        153.783665   \n",
       "4465            0          0   0.162681         85.267307   \n",
       "5943            0          0   0.350155        483.791249   \n",
       "6173            0          0   0.011229        255.595114   \n",
       "10307           0          0   0.114349         66.895355   \n",
       "\n",
       "       baseline_revenue_after_churn  \n",
       "10992                    243.922716  \n",
       "13559                    223.121771  \n",
       "13402                    189.656204  \n",
       "9463                     123.420547  \n",
       "12748                    314.182923  \n",
       "...                             ...  \n",
       "6495                     153.783665  \n",
       "4465                      85.267307  \n",
       "5943                     483.791249  \n",
       "6173                     255.595114  \n",
       "10307                     66.895355  \n",
       "\n",
       "[4382 rows x 30 columns]"
      ]
     },
     "execution_count": 168,
     "metadata": {},
     "output_type": "execute_result"
    }
   ],
   "source": [
    "X_test_business"
   ]
  },
  {
   "cell_type": "markdown",
   "id": "18b1267a",
   "metadata": {},
   "source": [
    "pick cut-off probability of churn rate (>50%) :\n",
    "- customer with high churn rate will offered discount\n",
    "- customer below probability churn rate don't get discount\n",
    "\n",
    "assumption :\n",
    "- customer who are offered a discount accept it\n",
    "- customer don't received the discount don't churn\n",
    "\n",
    "Now, map out the revenue delta as a function of the cut-off probability in a graph. What cut-off probability approximately optimises the revenue outcome? Assume for these calculations that the customer does not consume more or less electricity because the price changes. In practice, we would expect that if the customer's cost goes down then their consumption might increase. We will see two counterbalancing effects at play:\n",
    "\n",
    "- For true positives we will see revenue retention vs the no-discount scenario\n",
    "- For false positives we will see reduced revenue from giving them a discount when they wouldn't in fact churn.\n",
    "\n",
    "(False negatives represent an opportunity cost but not an actual cost difference between the two scenarios.)\n",
    "\n",
    "The optimal cut-off point will balance the benefits from true positives against the costs of false positives. Our task is to approximately find the optimal cut-off point. We may need to make additional assumptions. If we feel the assumptions above aren't justified and that others are better then we should modify our assumptions."
   ]
  },
  {
   "cell_type": "code",
   "execution_count": 174,
   "id": "87cf5a52",
   "metadata": {},
   "outputs": [],
   "source": [
    "def get_rev_delta(pred: pd.DataFrame, cutoff: float=0.5, discount: float=0.2) -> float:\n",
    "    \"\"\"\n",
    "    Get the delta of revenues for offering discount for all customers with predicted churn risk >= cutoff\n",
    "    \"\"\"\n",
    "    pred['discount_revenue'] = pred['baseline_revenue_after_churn']\n",
    "    # Churn predicted => discount is given => customer stays for full year, independent of whether the prediction\n",
    "    # (false positive, \"free\"/unnecessary discount given) or correct\n",
    "    pred.loc[pred['pred_prob'] >= cutoff, 'discount_revenue'] = pred['baseline_revenue'] * (1 - discount)\n",
    "    # Save the revenue delta for each customer in a separate column\n",
    "    pred['revenue_delta'] = pred['discount_revenue'] - pred['baseline_revenue_after_churn']\n",
    "    return pred['revenue_delta'].sum()"
   ]
  },
  {
   "cell_type": "code",
   "execution_count": 175,
   "id": "5ba97f71",
   "metadata": {},
   "outputs": [
    {
     "data": {
      "image/png": "[encoded data removed]",
      "text/plain": [
       "<Figure size 432x288 with 1 Axes>"
      ]
     },
     "metadata": {
      "needs_background": "light"
     },
     "output_type": "display_data"
    },
    {
     "name": "stdout",
     "output_type": "stream",
     "text": [
      "Maximum benefit at cutoff 0.47000000000000003 with revenue delta of $4,103.39\n"
     ]
    }
   ],
   "source": [
    "# Generate a list of possible cutoffs and the corresponding overall revenue deltas\n",
    "rev_deltas = pd.Series({cutoff: get_rev_delta(X_test_business, cutoff=cutoff) for cutoff in np.arange(0, 1, 0.01)})\n",
    "\n",
    "def plot_tradeoff(rev_deltas: pd.Series):\n",
    "    # Plot the revenue deltas\n",
    "    rev_deltas.plot()\n",
    "    # Mark optimal point\n",
    "    max_pred = rev_deltas.idxmax()\n",
    "    plt.scatter(max_pred, rev_deltas.loc[max_pred], s=100, c='red')\n",
    "    # Reference line for break-even\n",
    "    plt.hlines(0, 0, 1)\n",
    "    plt.show()\n",
    "    print(f'Maximum benefit at cutoff {max_pred} with revenue delta of ${rev_deltas.loc[max_pred]:,.2f}')\n",
    "\n",
    "plot_tradeoff(rev_deltas)"
   ]
  },
  {
   "cell_type": "markdown",
   "id": "8bc51dff",
   "metadata": {},
   "source": [
    "## How to select prioritize customer"
   ]
  },
  {
   "cell_type": "markdown",
   "id": "8413fbe6",
   "metadata": {},
   "source": [
    " we determine the threshold the revenue the customer"
   ]
  },
  {
   "cell_type": "code",
   "execution_count": 178,
   "id": "816c5642",
   "metadata": {},
   "outputs": [
    {
     "data": {
      "text/plain": [
       "count    4382.000000\n",
       "mean      312.418446\n",
       "std       301.517569\n",
       "min         0.000000\n",
       "25%       116.915153\n",
       "50%       222.236316\n",
       "75%       411.896702\n",
       "max      4613.591603\n",
       "Name: baseline_revenue, dtype: float64"
      ]
     },
     "execution_count": 178,
     "metadata": {},
     "output_type": "execute_result"
    }
   ],
   "source": [
    "X_test_business['baseline_revenue'].describe()"
   ]
  },
  {
   "cell_type": "markdown",
   "id": "4ee8b53c",
   "metadata": {},
   "source": [
    "we will choose `$400` as threshold revenue because `25%`customer have `$411` "
   ]
  },
  {
   "cell_type": "code",
   "execution_count": 177,
   "id": "0c1b992e",
   "metadata": {},
   "outputs": [
    {
     "data": {
      "text/plain": [
       "<AxesSubplot:xlabel='baseline_revenue', ylabel='Density'>"
      ]
     },
     "execution_count": 177,
     "metadata": {},
     "output_type": "execute_result"
    },
    {
     "data": {
      "image/png": "[encoded data removed]",
      "text/plain": [
       "<Figure size 432x288 with 1 Axes>"
      ]
     },
     "metadata": {
      "needs_background": "light"
     },
     "output_type": "display_data"
    }
   ],
   "source": [
    "sns.kdeplot(X_test_business['baseline_revenue'])"
   ]
  },
  {
   "cell_type": "code",
   "execution_count": 186,
   "id": "685c615a",
   "metadata": {},
   "outputs": [],
   "source": [
    "def get_rev_delta_high_value(pred: pd.DataFrame, cutoff: float=0.5, discount: float=0.2, min_rev: float=400):\n",
    "    \"\"\"\n",
    "    Get the delta of revenues for offering discount for all customers with predicted churn risk >= cutoff and rev\n",
    "    \"\"\"\n",
    "    pred['discount_revenue'] = pred['baseline_revenue_after_churn']\n",
    "    # Churn predicted => discount is given for high-value customers => customer stays for full year, independent\n",
    "    # (false positive, \"free\"/unnecessary discount given) or correct\n",
    "    pred.loc[(pred['pred_prob'] >= cutoff) & (pred['baseline_revenue'] > min_rev),\n",
    "    'discount_revenue'] = pred['baseline_revenue'] * (1 - discount)\n",
    "    # Save the revenue delta for each customer in a separate column\n",
    "    pred['revenue_delta'] = pred['discount_revenue'] - pred['baseline_revenue_after_churn']\n",
    "    return pred['revenue_delta'].sum()"
   ]
  },
  {
   "cell_type": "code",
   "execution_count": 187,
   "id": "8dc094a5",
   "metadata": {},
   "outputs": [
    {
     "data": {
      "image/png": "[encoded data removed]",
      "text/plain": [
       "<Figure size 432x288 with 1 Axes>"
      ]
     },
     "metadata": {
      "needs_background": "light"
     },
     "output_type": "display_data"
    },
    {
     "name": "stdout",
     "output_type": "stream",
     "text": [
      "Maximum benefit at cutoff 0.91 with revenue delta of $934.07\n"
     ]
    }
   ],
   "source": [
    "## Generate a list of possible cutoffs and the corresponding overall revenue deltas\n",
    "rev_deltas_high_value = pd.Series({cutoff: get_rev_delta_high_value(X_test_business, cutoff=cutoff) for cutoff in np.arange(0, 1, 0.01)})\n",
    "# Generate a list of possible cutoffs and the corresponding overall revenue deltas\n",
    "plot_tradeoff(rev_deltas_high_value)"
   ]
  },
  {
   "cell_type": "code",
   "execution_count": 188,
   "id": "7e5e057d",
   "metadata": {
    "scrolled": true
   },
   "outputs": [
    {
     "data": {
      "image/png": "[encoded data removed]",
      "text/plain": [
       "<Figure size 720x720 with 2 Axes>"
      ]
     },
     "metadata": {
      "needs_background": "light"
     },
     "output_type": "display_data"
    }
   ],
   "source": [
    "# Check our calibration\n",
    "# (code copied from https://scikit-learn.org/stable/auto_examples/calibration/plot_calibration_curve.html)\n",
    "from sklearn.calibration import calibration_curve\n",
    "\n",
    "fig = plt.figure(figsize=(10, 10))\n",
    "ax1 = plt.subplot2grid((3, 1), (0, 0), rowspan=2)\n",
    "ax2 = plt.subplot2grid((3, 1), (2, 0))\n",
    "ax1.plot([0, 1], [0, 1], \"k:\", label=\"Perfectly calibrated\")\n",
    "fraction_of_positives, mean_predicted_value = calibration_curve(\n",
    "    y_true=X_test_business['label_test'],\n",
    "    y_prob=X_test_business['pred_prob'],\n",
    "    n_bins=10\n",
    ")\n",
    "ax1.plot(mean_predicted_value, fraction_of_positives, \"s-\", label=\"Our XGBoost classifier\")\n",
    "ax2.hist(X_test_business['pred_prob'], range=(0, 1), bins=10, histtype=\"step\", lw=2)\n",
    "ax1.set_ylabel(\"Fraction of positives\")\n",
    "ax1.set_ylim([-0.05, 1.05])\n",
    "ax1.legend(loc=\"lower right\")\n",
    "ax1.set_title('Calibration plots (reliability curve)')\n",
    "ax2.set_xlabel(\"Mean predicted value\")\n",
    "ax2.set_ylabel(\"Count\")\n",
    "plt.tight_layout()"
   ]
  },
  {
   "cell_type": "code",
   "execution_count": 191,
   "id": "58fc0af8",
   "metadata": {},
   "outputs": [],
   "source": [
    "X_test_business['baseline_revenue'] = X_test_business['forecast_cons_12m']*X_test_business['forecast_price_energy_off_peak']+X_test_business['forecast_meter_rent_12m']\n",
    "X_test_business['baseline_revenue_after_churn'] = X_test_business['baseline_revenue']*(1-0.919*X_test_business['pred_prob'])"
   ]
  },
  {
   "cell_type": "code",
   "execution_count": 192,
   "id": "e4103211",
   "metadata": {},
   "outputs": [
    {
     "data": {
      "image/png": "[encoded data removed]",
      "text/plain": [
       "<Figure size 432x288 with 1 Axes>"
      ]
     },
     "metadata": {
      "needs_background": "light"
     },
     "output_type": "display_data"
    },
    {
     "name": "stdout",
     "output_type": "stream",
     "text": [
      "Maximum benefit at cutoff 0.22 with revenue delta of $35,374.56\n"
     ]
    }
   ],
   "source": [
    "# Generate a list of possible cutoffs and the corresponding overall revenue deltas\n",
    "rev_deltas = pd.Series({cutoff: get_rev_delta(X_test_business, cutoff=cutoff) for cutoff in np.arange(0, 1, 0.01)})\n",
    "plot_tradeoff(rev_deltas)"
   ]
  }
 ],
 "metadata": {
  "kernelspec": {
   "display_name": "Python 3 (ipykernel)",
   "language": "python",
   "name": "python3"
  },
  "language_info": {
   "codemirror_mode": {
    "name": "ipython",
    "version": 3
   },
   "file_extension": ".py",
   "mimetype": "text/x-python",
   "name": "python",
   "nbconvert_exporter": "python",
   "pygments_lexer": "ipython3",
   "version": "3.9.12"
  }
 },
 "nbformat": 4,
 "nbformat_minor": 5
}
